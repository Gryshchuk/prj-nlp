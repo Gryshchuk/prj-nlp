{
 "cells": [
  {
   "cell_type": "code",
   "execution_count": 1,
   "metadata": {},
   "outputs": [],
   "source": [
    "%matplotlib inline\n",
    "\n",
    "import pandas as pd \n",
    "import numpy as np\n",
    "import itertools\n",
    "\n",
    "import tokenize_uk\n",
    "from stop_words import get_stop_words\n",
    "\n",
    "from sklearn.model_selection import StratifiedKFold, StratifiedShuffleSplit\n",
    "from sklearn.feature_extraction.text import CountVectorizer\n",
    "from sklearn.feature_extraction.text import TfidfVectorizer\n",
    "from sklearn.pipeline import Pipeline\n",
    "from sklearn.ensemble import RandomForestClassifier\n",
    "from sklearn.metrics import f1_score, classification_report, confusion_matrix\n",
    "\n",
    "from sklearn.utils import resample\n",
    "\n",
    "from common import *"
   ]
  },
  {
   "cell_type": "code",
   "execution_count": 12,
   "metadata": {},
   "outputs": [],
   "source": [
    "df = pd.read_json('reviews.json')"
   ]
  },
  {
   "cell_type": "code",
   "execution_count": 13,
   "metadata": {},
   "outputs": [
    {
     "name": "stdout",
     "output_type": "stream",
     "text": [
      "Class: 1 length: 2305\n",
      "Class: 2 length: 2304\n",
      "Class: 3 length: 4676\n",
      "Class: 4 length: 15051\n",
      "Class: 5 length: 42405\n"
     ]
    }
   ],
   "source": [
    "for n, g in df.groupby(['stars']):\n",
    "    print('Class:', n, 'length:', len(g))"
   ]
  },
  {
   "cell_type": "markdown",
   "metadata": {},
   "source": [
    "#### Preprocessing data \n",
    "- join paragraphs\n",
    "- lowercase everything "
   ]
  },
  {
   "cell_type": "code",
   "execution_count": 14,
   "metadata": {},
   "outputs": [],
   "source": [
    "df['text'] = df['text'].apply(lambda x: ' '.join(x).lower())"
   ]
  },
  {
   "cell_type": "code",
   "execution_count": 15,
   "metadata": {},
   "outputs": [
    {
     "data": {
      "text/html": [
       "<div>\n",
       "<style scoped>\n",
       "    .dataframe tbody tr th:only-of-type {\n",
       "        vertical-align: middle;\n",
       "    }\n",
       "\n",
       "    .dataframe tbody tr th {\n",
       "        vertical-align: top;\n",
       "    }\n",
       "\n",
       "    .dataframe thead th {\n",
       "        text-align: right;\n",
       "    }\n",
       "</style>\n",
       "<table border=\"1\" class=\"dataframe\">\n",
       "  <thead>\n",
       "    <tr style=\"text-align: right;\">\n",
       "      <th></th>\n",
       "      <th>stars</th>\n",
       "      <th>text</th>\n",
       "    </tr>\n",
       "  </thead>\n",
       "  <tbody>\n",
       "    <tr>\n",
       "      <th>0</th>\n",
       "      <td>5</td>\n",
       "      <td>компьютерная марка lenovo известна своими дост...</td>\n",
       "    </tr>\n",
       "    <tr>\n",
       "      <th>1</th>\n",
       "      <td>5</td>\n",
       "      <td>вопрос к представителю:. можно ли надеяться на...</td>\n",
       "    </tr>\n",
       "    <tr>\n",
       "      <th>2</th>\n",
       "      <td>5</td>\n",
       "      <td>очень хорошая рабочая шустрая лошадка с приятн...</td>\n",
       "    </tr>\n",
       "    <tr>\n",
       "      <th>3</th>\n",
       "      <td>5</td>\n",
       "      <td>сбалансированные характеристики у планшета. дл...</td>\n",
       "    </tr>\n",
       "    <tr>\n",
       "      <th>4</th>\n",
       "      <td>5</td>\n",
       "      <td>чудовий планшет, дружина використовує завжди з...</td>\n",
       "    </tr>\n",
       "    <tr>\n",
       "      <th>5</th>\n",
       "      <td>4</td>\n",
       "      <td>користуюсь більше місяця.  звичайно є недоліки...</td>\n",
       "    </tr>\n",
       "    <tr>\n",
       "      <th>6</th>\n",
       "      <td>3</td>\n",
       "      <td>планшет покупался для работы с текстами в доро...</td>\n",
       "    </tr>\n",
       "    <tr>\n",
       "      <th>7</th>\n",
       "      <td>5</td>\n",
       "      <td>майнкрафт на минимальных настройках графики по...</td>\n",
       "    </tr>\n",
       "    <tr>\n",
       "      <th>8</th>\n",
       "      <td>5</td>\n",
       "      <td>adobe p и adobe i как пойдут?</td>\n",
       "    </tr>\n",
       "    <tr>\n",
       "      <th>9</th>\n",
       "      <td>3</td>\n",
       "      <td>існують питання до якості картриджа недостатки...</td>\n",
       "    </tr>\n",
       "    <tr>\n",
       "      <th>10</th>\n",
       "      <td>5</td>\n",
       "      <td>брався принтер для офісного друку. вибрали mf2...</td>\n",
       "    </tr>\n",
       "    <tr>\n",
       "      <th>11</th>\n",
       "      <td>5</td>\n",
       "      <td>mf211 идеально решение для офиса, и повседневн...</td>\n",
       "    </tr>\n",
       "    <tr>\n",
       "      <th>12</th>\n",
       "      <td>5</td>\n",
       "      <td>отличная печать даже после 3-й перезаправки ка...</td>\n",
       "    </tr>\n",
       "    <tr>\n",
       "      <th>13</th>\n",
       "      <td>5</td>\n",
       "      <td>хорошая офисная лошадка, купили уже несколько ...</td>\n",
       "    </tr>\n",
       "    <tr>\n",
       "      <th>14</th>\n",
       "      <td>5</td>\n",
       "      <td>все устраивает, хороший принтер. только вот од...</td>\n",
       "    </tr>\n",
       "    <tr>\n",
       "      <th>15</th>\n",
       "      <td>4</td>\n",
       "      <td>здравствуйте! можно ли корректно скопировать a...</td>\n",
       "    </tr>\n",
       "    <tr>\n",
       "      <th>16</th>\n",
       "      <td>4</td>\n",
       "      <td>начал барахлить старый офисный ксерокс, цену р...</td>\n",
       "    </tr>\n",
       "    <tr>\n",
       "      <th>17</th>\n",
       "      <td>5</td>\n",
       "      <td>лучшее решение при данном наборе функций и с т...</td>\n",
       "    </tr>\n",
       "    <tr>\n",
       "      <th>18</th>\n",
       "      <td>4</td>\n",
       "      <td>пользуясь недавно, пока всем доволен достоинст...</td>\n",
       "    </tr>\n",
       "    <tr>\n",
       "      <th>19</th>\n",
       "      <td>5</td>\n",
       "      <td>нормальная, недорогая (для мфу) машинка для ма...</td>\n",
       "    </tr>\n",
       "  </tbody>\n",
       "</table>\n",
       "</div>"
      ],
      "text/plain": [
       "    stars                                               text\n",
       "0       5  компьютерная марка lenovo известна своими дост...\n",
       "1       5  вопрос к представителю:. можно ли надеяться на...\n",
       "2       5  очень хорошая рабочая шустрая лошадка с приятн...\n",
       "3       5  сбалансированные характеристики у планшета. дл...\n",
       "4       5  чудовий планшет, дружина використовує завжди з...\n",
       "5       4  користуюсь більше місяця.  звичайно є недоліки...\n",
       "6       3  планшет покупался для работы с текстами в доро...\n",
       "7       5  майнкрафт на минимальных настройках графики по...\n",
       "8       5                      adobe p и adobe i как пойдут?\n",
       "9       3  існують питання до якості картриджа недостатки...\n",
       "10      5  брався принтер для офісного друку. вибрали mf2...\n",
       "11      5  mf211 идеально решение для офиса, и повседневн...\n",
       "12      5  отличная печать даже после 3-й перезаправки ка...\n",
       "13      5  хорошая офисная лошадка, купили уже несколько ...\n",
       "14      5  все устраивает, хороший принтер. только вот од...\n",
       "15      4  здравствуйте! можно ли корректно скопировать a...\n",
       "16      4  начал барахлить старый офисный ксерокс, цену р...\n",
       "17      5  лучшее решение при данном наборе функций и с т...\n",
       "18      4  пользуясь недавно, пока всем доволен достоинст...\n",
       "19      5  нормальная, недорогая (для мфу) машинка для ма..."
      ]
     },
     "execution_count": 15,
     "metadata": {},
     "output_type": "execute_result"
    }
   ],
   "source": [
    "df.head(20)"
   ]
  },
  {
   "cell_type": "markdown",
   "metadata": {},
   "source": [
    "#### Partitioning data into train/validation\n",
    "Train is later used for cross-validation "
   ]
  },
  {
   "cell_type": "code",
   "execution_count": 16,
   "metadata": {},
   "outputs": [
    {
     "name": "stdout",
     "output_type": "stream",
     "text": [
      "Train Class 1: 1844 examples\n",
      "Validation Class 1: 461 examples\n",
      "Train Class 2: 1843 examples\n",
      "Validation Class 2: 461 examples\n",
      "Train Class 3: 3741 examples\n",
      "Validation Class 3: 935 examples\n",
      "Train Class 4: 12041 examples\n",
      "Validation Class 4: 3010 examples\n",
      "Train Class 5: 33923 examples\n",
      "Validation Class 5: 8482 examples\n"
     ]
    }
   ],
   "source": [
    "X, y = df['text'].values, df['stars'].values\n",
    "\n",
    "partitioner = StratifiedShuffleSplit(n_splits=1, test_size=0.2, random_state=1234)\n",
    "indexes = partitioner.split(X, y)\n",
    "train_indexes, val_indexes = list(indexes)[0]\n",
    "\n",
    "X, X_val, y, y_val = X[train_indexes], X[val_indexes], y[train_indexes], y[val_indexes]\n",
    "\n",
    "for cls in np.sort(np.unique(y)):\n",
    "    print('Train Class {}: {} examples'.format(cls, len(y[y == cls])))\n",
    "    print('Validation Class {}: {} examples'.format(cls, len(y_val[y_val == cls])))\n",
    "    \n",
    "skf = StratifiedKFold(n_splits=3, shuffle=True, random_state=1234)"
   ]
  },
  {
   "cell_type": "markdown",
   "metadata": {},
   "source": [
    "#### Creating learning pipeline with RandomForestClassifier and BOW without any text preprocessing"
   ]
  },
  {
   "cell_type": "code",
   "execution_count": 17,
   "metadata": {},
   "outputs": [
    {
     "name": "stdout",
     "output_type": "stream",
     "text": [
      "Train score:  0.9863348362163407\n",
      "Train score:  0.9860136804640774\n",
      "Train score:  0.9857571467944978\n",
      "Test CV score: 0.5741012342602527\n",
      "Validation score: 0.5791700082577242\n"
     ]
    }
   ],
   "source": [
    "cv_f1_scores = []\n",
    "for train_indexes, test_indexes in skf.split(X, y):\n",
    "    X_train, X_test, y_train, y_test = X[train_indexes], X[test_indexes], y[train_indexes], y[test_indexes]\n",
    "    \n",
    "    vectorizer = CountVectorizer(analyzer='word',\n",
    "                                 ngram_range=(1, 2),\n",
    "                                 max_df=1.0, min_df=0.01,\n",
    "                                 tokenizer=tokenize_uk.tokenize_words,\n",
    "                                 stop_words=None)\n",
    "    clf = RandomForestClassifier(n_estimators=10, n_jobs=8)\n",
    "    pipeline = Pipeline([('vect', vectorizer), ('clf', clf)])\n",
    "    \n",
    "    pipeline.fit(X_train, y_train)\n",
    "    \n",
    "    y_pred = pipeline.predict(X_train)\n",
    "    print('Train score: ', f1_score(y_train, y_pred, average='weighted'))\n",
    "    \n",
    "    y_pred = pipeline.predict(X_test)\n",
    "    cv_f1_scores.append(f1_score(y_test, y_pred, average='weighted')) \n",
    "\n",
    "print('Test CV score:', sum(cv_f1_scores) / float(len(cv_f1_scores)))\n",
    "\n",
    "vectorizer = CountVectorizer(analyzer='word',\n",
    "                                 ngram_range=(1, 2),\n",
    "                                 max_df=1.0, min_df=0.01,\n",
    "                                 tokenizer=tokenize_uk.tokenize_words,\n",
    "                                 stop_words=None)\n",
    "clf = RandomForestClassifier(n_estimators=10, n_jobs=8)\n",
    "pipeline = Pipeline([('vect', vectorizer), ('clf', clf)])\n",
    "\n",
    "pipeline.fit(X, y)\n",
    "y_pred = pipeline.predict(X_val)\n",
    "print('Validation score:', f1_score(y_val, y_pred, average='weighted'))"
   ]
  },
  {
   "cell_type": "markdown",
   "metadata": {},
   "source": [
    "#### Confusion matrix for RF with BOW"
   ]
  },
  {
   "cell_type": "code",
   "execution_count": 9,
   "metadata": {},
   "outputs": [
    {
     "name": "stdout",
     "output_type": "stream",
     "text": [
      "[[  46   13   29  105  268]\n",
      " [  25   16   42  138  240]\n",
      " [  26   15   63  320  511]\n",
      " [  20   18  102  828 2042]\n",
      " [  25   22   87  930 7418]]\n"
     ]
    },
    {
     "data": {
      "image/png": "[encoded data removed]",
      "text/plain": [
       "<matplotlib.figure.Figure at 0x1094d5358>"
      ]
     },
     "metadata": {},
     "output_type": "display_data"
    }
   ],
   "source": [
    "plot_confusion_matrix(confusion_matrix(y_val, y_pred), [1, 2, 3, 4, 5])"
   ]
  },
  {
   "cell_type": "code",
   "execution_count": 10,
   "metadata": {},
   "outputs": [
    {
     "name": "stdout",
     "output_type": "stream",
     "text": [
      "             precision    recall  f1-score   support\n",
      "\n",
      "          1       0.32      0.10      0.15       461\n",
      "          2       0.19      0.03      0.06       461\n",
      "          3       0.20      0.07      0.10       935\n",
      "          4       0.36      0.28      0.31      3010\n",
      "          5       0.71      0.87      0.78      8482\n",
      "\n",
      "avg / total       0.56      0.63      0.58     13349\n",
      "\n"
     ]
    }
   ],
   "source": [
    "print(classification_report(y_val, y_pred))"
   ]
  },
  {
   "cell_type": "markdown",
   "metadata": {},
   "source": [
    "As we can see from above reports, due to imbalanced classes (42k in 5th class vs 2k in 1th and 2nd classes), \n",
    "majority class is predicted with f1_score = 0.78, whereas f1_score for 1st and 2nd classes eq 0.11 and 0.08 respectively."
   ]
  },
  {
   "cell_type": "markdown",
   "metadata": {},
   "source": [
    "#### Creating learning pipeline with RandomForestClassifier and TF-IDF without any text preprocessing"
   ]
  },
  {
   "cell_type": "code",
   "execution_count": 11,
   "metadata": {},
   "outputs": [
    {
     "name": "stderr",
     "output_type": "stream",
     "text": [
      "/usr/local/lib/python3.6/site-packages/sklearn/feature_extraction/text.py:1059: FutureWarning: Conversion of the second argument of issubdtype from `float` to `np.floating` is deprecated. In future, it will be treated as `np.float64 == np.dtype(float).type`.\n",
      "  if hasattr(X, 'dtype') and np.issubdtype(X.dtype, np.float):\n",
      "/usr/local/lib/python3.6/site-packages/sklearn/feature_extraction/text.py:1059: FutureWarning: Conversion of the second argument of issubdtype from `float` to `np.floating` is deprecated. In future, it will be treated as `np.float64 == np.dtype(float).type`.\n",
      "  if hasattr(X, 'dtype') and np.issubdtype(X.dtype, np.float):\n"
     ]
    },
    {
     "name": "stdout",
     "output_type": "stream",
     "text": [
      "Train score:  0.9863686800901947\n"
     ]
    },
    {
     "name": "stderr",
     "output_type": "stream",
     "text": [
      "/usr/local/lib/python3.6/site-packages/sklearn/feature_extraction/text.py:1059: FutureWarning: Conversion of the second argument of issubdtype from `float` to `np.floating` is deprecated. In future, it will be treated as `np.float64 == np.dtype(float).type`.\n",
      "  if hasattr(X, 'dtype') and np.issubdtype(X.dtype, np.float):\n",
      "/usr/local/lib/python3.6/site-packages/sklearn/feature_extraction/text.py:1059: FutureWarning: Conversion of the second argument of issubdtype from `float` to `np.floating` is deprecated. In future, it will be treated as `np.float64 == np.dtype(float).type`.\n",
      "  if hasattr(X, 'dtype') and np.issubdtype(X.dtype, np.float):\n"
     ]
    },
    {
     "name": "stdout",
     "output_type": "stream",
     "text": [
      "Train score:  0.9860894245065137\n"
     ]
    },
    {
     "name": "stderr",
     "output_type": "stream",
     "text": [
      "/usr/local/lib/python3.6/site-packages/sklearn/feature_extraction/text.py:1059: FutureWarning: Conversion of the second argument of issubdtype from `float` to `np.floating` is deprecated. In future, it will be treated as `np.float64 == np.dtype(float).type`.\n",
      "  if hasattr(X, 'dtype') and np.issubdtype(X.dtype, np.float):\n",
      "/usr/local/lib/python3.6/site-packages/sklearn/feature_extraction/text.py:1059: FutureWarning: Conversion of the second argument of issubdtype from `float` to `np.floating` is deprecated. In future, it will be treated as `np.float64 == np.dtype(float).type`.\n",
      "  if hasattr(X, 'dtype') and np.issubdtype(X.dtype, np.float):\n"
     ]
    },
    {
     "name": "stdout",
     "output_type": "stream",
     "text": [
      "Train score:  0.9854121660963052\n",
      "Test CV score: 0.5541749800972161\n"
     ]
    },
    {
     "name": "stderr",
     "output_type": "stream",
     "text": [
      "/usr/local/lib/python3.6/site-packages/sklearn/feature_extraction/text.py:1059: FutureWarning: Conversion of the second argument of issubdtype from `float` to `np.floating` is deprecated. In future, it will be treated as `np.float64 == np.dtype(float).type`.\n",
      "  if hasattr(X, 'dtype') and np.issubdtype(X.dtype, np.float):\n"
     ]
    },
    {
     "name": "stdout",
     "output_type": "stream",
     "text": [
      "Validation score: 0.5589391907708006\n"
     ]
    },
    {
     "name": "stderr",
     "output_type": "stream",
     "text": [
      "/usr/local/lib/python3.6/site-packages/sklearn/feature_extraction/text.py:1059: FutureWarning: Conversion of the second argument of issubdtype from `float` to `np.floating` is deprecated. In future, it will be treated as `np.float64 == np.dtype(float).type`.\n",
      "  if hasattr(X, 'dtype') and np.issubdtype(X.dtype, np.float):\n"
     ]
    }
   ],
   "source": [
    "cv_f1_scores = []\n",
    "for train_indexes, test_indexes in skf.split(X, y):\n",
    "    X_train, X_test, y_train, y_test = X[train_indexes], X[test_indexes], y[train_indexes], y[test_indexes]\n",
    "    \n",
    "    vectorizer = TfidfVectorizer()\n",
    "    clf = RandomForestClassifier(n_estimators=10, n_jobs=8)\n",
    "    pipeline = Pipeline([('vect', vectorizer), ('clf', clf)])\n",
    "    \n",
    "    pipeline.fit(X_train, y_train)\n",
    "    \n",
    "    y_pred = pipeline.predict(X_train)\n",
    "    print('Train score: ', f1_score(y_train, y_pred, average='weighted'))\n",
    "    \n",
    "    y_pred = pipeline.predict(X_test)\n",
    "    cv_f1_scores.append(f1_score(y_test, y_pred, average='weighted')) \n",
    "\n",
    "print('Test CV score:', sum(cv_f1_scores) / float(len(cv_f1_scores)))\n",
    "\n",
    "vectorizer = TfidfVectorizer()\n",
    "clf = RandomForestClassifier(n_estimators=10, n_jobs=8)\n",
    "pipeline = Pipeline([('vect', vectorizer), ('clf', clf)])\n",
    "\n",
    "pipeline.fit(X, y)\n",
    "y_pred = pipeline.predict(X_val)\n",
    "print('Validation score:', f1_score(y_val, y_pred, average='weighted'))"
   ]
  },
  {
   "cell_type": "code",
   "execution_count": 12,
   "metadata": {},
   "outputs": [
    {
     "name": "stdout",
     "output_type": "stream",
     "text": [
      "[[  39   17   23   71  311]\n",
      " [  25   17   17   81  321]\n",
      " [  22   11   34  185  683]\n",
      " [  13   10   41  430 2516]\n",
      " [  11    7   30  413 8021]]\n"
     ]
    },
    {
     "data": {
      "image/png": "[encoded data removed]",
      "text/plain": [
       "<matplotlib.figure.Figure at 0x126d41cf8>"
      ]
     },
     "metadata": {},
     "output_type": "display_data"
    }
   ],
   "source": [
    "plot_confusion_matrix(confusion_matrix(y_val, y_pred), [1, 2, 3, 4, 5])"
   ]
  },
  {
   "cell_type": "code",
   "execution_count": 13,
   "metadata": {},
   "outputs": [
    {
     "name": "stdout",
     "output_type": "stream",
     "text": [
      "             precision    recall  f1-score   support\n",
      "\n",
      "          1       0.35      0.08      0.14       461\n",
      "          2       0.27      0.04      0.07       461\n",
      "          3       0.23      0.04      0.06       935\n",
      "          4       0.36      0.14      0.21      3010\n",
      "          5       0.68      0.95      0.79      8482\n",
      "\n",
      "avg / total       0.55      0.64      0.56     13349\n",
      "\n"
     ]
    }
   ],
   "source": [
    "print(classification_report(y_val, y_pred))"
   ]
  },
  {
   "cell_type": "markdown",
   "metadata": {},
   "source": [
    "Similar situation with TF-IDF, so the problem is in fact that classes are imbalanced, not feature extraction method (for now)"
   ]
  },
  {
   "cell_type": "markdown",
   "metadata": {},
   "source": [
    "### Resampling dataset to make it balanced\n",
    "\n",
    "Min class is `1` and `2` so downlsampling other to their length"
   ]
  },
  {
   "cell_type": "code",
   "execution_count": 14,
   "metadata": {},
   "outputs": [
    {
     "name": "stdout",
     "output_type": "stream",
     "text": [
      "Class: 1 length: 2305\n",
      "Class: 2 length: 2304\n",
      "Class: 3 length: 2305\n",
      "Class: 4 length: 2305\n",
      "Class: 5 length: 2305\n"
     ]
    }
   ],
   "source": [
    "df_minority = df[df['stars'] == 1]\n",
    "df_2 = df[df['stars'] == 2] # no downsampling here as it is small enough\n",
    "\n",
    "df_3 = df[df['stars'] == 3]\n",
    "df_4 = df[df['stars'] == 4]\n",
    "df_5 = df[df['stars'] == 5]\n",
    "\n",
    "df_3_downsampled = resample(df_3, replace=False, n_samples=len(df_minority), random_state=1234)\n",
    "df_4_downsampled = resample(df_4, replace=False, n_samples=len(df_minority), random_state=1234)\n",
    "df_5_downsampled = resample(df_5, replace=False, n_samples=len(df_minority), random_state=1234)\n",
    "\n",
    "df_downsampled = pd.concat([df_minority, df_2, df_3_downsampled, df_4_downsampled, df_5_downsampled])\n",
    "\n",
    "for n, g in df_downsampled.groupby(['stars']):\n",
    "    print('Class:', n, 'length:', len(g))"
   ]
  },
  {
   "cell_type": "code",
   "execution_count": 15,
   "metadata": {},
   "outputs": [],
   "source": [
    "X, y = df_downsampled['text'].values, df_downsampled['stars'].values\n",
    "\n",
    "partitioner = StratifiedShuffleSplit(n_splits=1, test_size=0.2, random_state=1234)\n",
    "indexes = partitioner.split(X, y)\n",
    "train_indexes, val_indexes = list(indexes)[0]\n",
    "\n",
    "X, X_val, y, y_val = X[train_indexes], X[val_indexes], y[train_indexes], y[val_indexes]"
   ]
  },
  {
   "cell_type": "markdown",
   "metadata": {},
   "source": [
    "#### Creating RF + BOW pipeline on downsampled data"
   ]
  },
  {
   "cell_type": "code",
   "execution_count": 16,
   "metadata": {},
   "outputs": [
    {
     "name": "stdout",
     "output_type": "stream",
     "text": [
      "Train score:  0.987303494751918\n",
      "Train score:  0.9907236704846046\n",
      "Train score:  0.986984301538252\n",
      "Test CV score: 0.344362826721434\n",
      "Validation score: 0.3561125560015682\n"
     ]
    }
   ],
   "source": [
    "cv_f1_scores = []\n",
    "for train_indexes, test_indexes in skf.split(X, y):\n",
    "    X_train, X_test, y_train, y_test = X[train_indexes], X[test_indexes], y[train_indexes], y[test_indexes]\n",
    "    \n",
    "    vectorizer = CountVectorizer(analyzer='word',\n",
    "                                 ngram_range=(1, 2),\n",
    "                                 max_df=1.0, min_df=0.01,\n",
    "                                 tokenizer=tokenize_uk.tokenize_words,\n",
    "                                 stop_words=None)\n",
    "    clf = RandomForestClassifier(n_estimators=10, n_jobs=8)\n",
    "    pipeline = Pipeline([('vect', vectorizer), ('clf', clf)])\n",
    "    \n",
    "    pipeline.fit(X_train, y_train)\n",
    "    \n",
    "    y_pred = pipeline.predict(X_train)\n",
    "    print('Train score: ', f1_score(y_train, y_pred, average='weighted'))\n",
    "    \n",
    "    y_pred = pipeline.predict(X_test)\n",
    "    cv_f1_scores.append(f1_score(y_test, y_pred, average='weighted')) \n",
    "\n",
    "print('Test CV score:', sum(cv_f1_scores) / float(len(cv_f1_scores)))\n",
    "\n",
    "vectorizer = CountVectorizer(analyzer='word',\n",
    "                                 ngram_range=(1, 2),\n",
    "                                 max_df=1.0, min_df=0.01,\n",
    "                                 tokenizer=tokenize_uk.tokenize_words,\n",
    "                                 stop_words=None)\n",
    "clf = RandomForestClassifier(n_estimators=10, n_jobs=8)\n",
    "pipeline = Pipeline([('vect', vectorizer), ('clf', clf)])\n",
    "\n",
    "pipeline.fit(X, y)\n",
    "y_pred = pipeline.predict(X_val)\n",
    "print('Validation score:', f1_score(y_val, y_pred, average='weighted'))"
   ]
  },
  {
   "cell_type": "code",
   "execution_count": 17,
   "metadata": {},
   "outputs": [
    {
     "name": "stdout",
     "output_type": "stream",
     "text": [
      "[[237 104  61  28  31]\n",
      " [179 118  91  53  20]\n",
      " [ 94 123 129  67  48]\n",
      " [ 47  79  94 130 111]\n",
      " [ 42  50  55 101 213]]\n"
     ]
    },
    {
     "data": {
      "image/png": "[encoded data removed]",
      "text/plain": [
       "<matplotlib.figure.Figure at 0x110828898>"
      ]
     },
     "metadata": {},
     "output_type": "display_data"
    }
   ],
   "source": [
    "plot_confusion_matrix(confusion_matrix(y_val, y_pred), [1, 2, 3, 4, 5])"
   ]
  },
  {
   "cell_type": "code",
   "execution_count": 18,
   "metadata": {},
   "outputs": [
    {
     "name": "stdout",
     "output_type": "stream",
     "text": [
      "             precision    recall  f1-score   support\n",
      "\n",
      "          1       0.40      0.51      0.45       461\n",
      "          2       0.25      0.26      0.25       461\n",
      "          3       0.30      0.28      0.29       461\n",
      "          4       0.34      0.28      0.31       461\n",
      "          5       0.50      0.46      0.48       461\n",
      "\n",
      "avg / total       0.36      0.36      0.36      2305\n",
      "\n"
     ]
    }
   ],
   "source": [
    "print(classification_report(y_val, y_pred))"
   ]
  },
  {
   "cell_type": "markdown",
   "metadata": {},
   "source": [
    "Overal validation score dropped drammatically to ~0.35\n",
    "Although, from confusion matrix that classes 1, 2 (and a bit less 3) are confused between each other very often. \n",
    "From classification report we can see that f1_scores/precision/recall became a bit more equally distributed. "
   ]
  },
  {
   "cell_type": "markdown",
   "metadata": {},
   "source": [
    "#### RF + TF-IDF on balanced classes"
   ]
  },
  {
   "cell_type": "code",
   "execution_count": 19,
   "metadata": {},
   "outputs": [
    {
     "name": "stderr",
     "output_type": "stream",
     "text": [
      "/usr/local/lib/python3.6/site-packages/sklearn/feature_extraction/text.py:1059: FutureWarning: Conversion of the second argument of issubdtype from `float` to `np.floating` is deprecated. In future, it will be treated as `np.float64 == np.dtype(float).type`.\n",
      "  if hasattr(X, 'dtype') and np.issubdtype(X.dtype, np.float):\n",
      "/usr/local/lib/python3.6/site-packages/sklearn/feature_extraction/text.py:1059: FutureWarning: Conversion of the second argument of issubdtype from `float` to `np.floating` is deprecated. In future, it will be treated as `np.float64 == np.dtype(float).type`.\n",
      "  if hasattr(X, 'dtype') and np.issubdtype(X.dtype, np.float):\n"
     ]
    },
    {
     "name": "stdout",
     "output_type": "stream",
     "text": [
      "Train score:  0.9900718288890465\n"
     ]
    },
    {
     "name": "stderr",
     "output_type": "stream",
     "text": [
      "/usr/local/lib/python3.6/site-packages/sklearn/feature_extraction/text.py:1059: FutureWarning: Conversion of the second argument of issubdtype from `float` to `np.floating` is deprecated. In future, it will be treated as `np.float64 == np.dtype(float).type`.\n",
      "  if hasattr(X, 'dtype') and np.issubdtype(X.dtype, np.float):\n",
      "/usr/local/lib/python3.6/site-packages/sklearn/feature_extraction/text.py:1059: FutureWarning: Conversion of the second argument of issubdtype from `float` to `np.floating` is deprecated. In future, it will be treated as `np.float64 == np.dtype(float).type`.\n",
      "  if hasattr(X, 'dtype') and np.issubdtype(X.dtype, np.float):\n"
     ]
    },
    {
     "name": "stdout",
     "output_type": "stream",
     "text": [
      "Train score:  0.9918654465835033\n"
     ]
    },
    {
     "name": "stderr",
     "output_type": "stream",
     "text": [
      "/usr/local/lib/python3.6/site-packages/sklearn/feature_extraction/text.py:1059: FutureWarning: Conversion of the second argument of issubdtype from `float` to `np.floating` is deprecated. In future, it will be treated as `np.float64 == np.dtype(float).type`.\n",
      "  if hasattr(X, 'dtype') and np.issubdtype(X.dtype, np.float):\n",
      "/usr/local/lib/python3.6/site-packages/sklearn/feature_extraction/text.py:1059: FutureWarning: Conversion of the second argument of issubdtype from `float` to `np.floating` is deprecated. In future, it will be treated as `np.float64 == np.dtype(float).type`.\n",
      "  if hasattr(X, 'dtype') and np.issubdtype(X.dtype, np.float):\n"
     ]
    },
    {
     "name": "stdout",
     "output_type": "stream",
     "text": [
      "Train score:  0.9908923032353193\n",
      "Test CV score: 0.32856161296237757\n"
     ]
    },
    {
     "name": "stderr",
     "output_type": "stream",
     "text": [
      "/usr/local/lib/python3.6/site-packages/sklearn/feature_extraction/text.py:1059: FutureWarning: Conversion of the second argument of issubdtype from `float` to `np.floating` is deprecated. In future, it will be treated as `np.float64 == np.dtype(float).type`.\n",
      "  if hasattr(X, 'dtype') and np.issubdtype(X.dtype, np.float):\n"
     ]
    },
    {
     "name": "stdout",
     "output_type": "stream",
     "text": [
      "Validation score: 0.33117612657648504\n"
     ]
    },
    {
     "name": "stderr",
     "output_type": "stream",
     "text": [
      "/usr/local/lib/python3.6/site-packages/sklearn/feature_extraction/text.py:1059: FutureWarning: Conversion of the second argument of issubdtype from `float` to `np.floating` is deprecated. In future, it will be treated as `np.float64 == np.dtype(float).type`.\n",
      "  if hasattr(X, 'dtype') and np.issubdtype(X.dtype, np.float):\n"
     ]
    }
   ],
   "source": [
    "cv_f1_scores = []\n",
    "for train_indexes, test_indexes in skf.split(X, y):\n",
    "    X_train, X_test, y_train, y_test = X[train_indexes], X[test_indexes], y[train_indexes], y[test_indexes]\n",
    "    \n",
    "    vectorizer = TfidfVectorizer()\n",
    "    clf = RandomForestClassifier(n_estimators=10, n_jobs=8)\n",
    "    pipeline = Pipeline([('vect', vectorizer), ('clf', clf)])\n",
    "    \n",
    "    pipeline.fit(X_train, y_train)\n",
    "    \n",
    "    y_pred = pipeline.predict(X_train)\n",
    "    print('Train score: ', f1_score(y_train, y_pred, average='weighted'))\n",
    "    \n",
    "    y_pred = pipeline.predict(X_test)\n",
    "    cv_f1_scores.append(f1_score(y_test, y_pred, average='weighted')) \n",
    "\n",
    "print('Test CV score:', sum(cv_f1_scores) / float(len(cv_f1_scores)))\n",
    "\n",
    "vectorizer = TfidfVectorizer()\n",
    "clf = RandomForestClassifier(n_estimators=10, n_jobs=8)\n",
    "pipeline = Pipeline([('vect', vectorizer), ('clf', clf)])\n",
    "\n",
    "pipeline.fit(X, y)\n",
    "y_pred = pipeline.predict(X_val)\n",
    "print('Validation score:', f1_score(y_val, y_pred, average='weighted'))"
   ]
  },
  {
   "cell_type": "code",
   "execution_count": 20,
   "metadata": {},
   "outputs": [
    {
     "name": "stdout",
     "output_type": "stream",
     "text": [
      "[[225 114  52  39  31]\n",
      " [164 128  86  56  27]\n",
      " [104 125 105  80  47]\n",
      " [ 78  58  87 126 112]\n",
      " [ 56  35  71 112 187]]\n"
     ]
    },
    {
     "data": {
      "image/png": "[encoded data removed]",
      "text/plain": [
       "<matplotlib.figure.Figure at 0x115fa6b00>"
      ]
     },
     "metadata": {},
     "output_type": "display_data"
    }
   ],
   "source": [
    "plot_confusion_matrix(confusion_matrix(y_val, y_pred), [1, 2, 3, 4, 5])"
   ]
  },
  {
   "cell_type": "code",
   "execution_count": 21,
   "metadata": {},
   "outputs": [
    {
     "name": "stdout",
     "output_type": "stream",
     "text": [
      "             precision    recall  f1-score   support\n",
      "\n",
      "          1       0.36      0.49      0.41       461\n",
      "          2       0.28      0.28      0.28       461\n",
      "          3       0.26      0.23      0.24       461\n",
      "          4       0.31      0.27      0.29       461\n",
      "          5       0.46      0.41      0.43       461\n",
      "\n",
      "avg / total       0.33      0.33      0.33      2305\n",
      "\n"
     ]
    }
   ],
   "source": [
    "print(classification_report(y_val, y_pred))"
   ]
  },
  {
   "cell_type": "markdown",
   "metadata": {},
   "source": [
    "Same here. It is obvious now - we need better feature extraction method. First line attack with ignoring language, numbers, stopwords and other didn't work out. \n",
    "\n",
    "Further investigations are in separate notebook. "
   ]
  }
 ],
 "metadata": {
  "kernelspec": {
   "display_name": "Python 3",
   "language": "python",
   "name": "python3"
  },
  "language_info": {
   "codemirror_mode": {
    "name": "ipython",
    "version": 3
   },
   "file_extension": ".py",
   "mimetype": "text/x-python",
   "name": "python",
   "nbconvert_exporter": "python",
   "pygments_lexer": "ipython3",
   "version": "3.6.4"
  }
 },
 "nbformat": 4,
 "nbformat_minor": 2
}
