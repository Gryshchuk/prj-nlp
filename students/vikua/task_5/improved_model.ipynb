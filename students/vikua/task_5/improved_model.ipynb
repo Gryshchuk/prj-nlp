{
 "cells": [
  {
   "cell_type": "code",
   "execution_count": 110,
   "metadata": {},
   "outputs": [
    {
     "name": "stdout",
     "output_type": "stream",
     "text": [
      "The autoreload extension is already loaded. To reload it, use:\n",
      "  %reload_ext autoreload\n"
     ]
    }
   ],
   "source": [
    "%matplotlib inline\n",
    "%load_ext autoreload\n",
    "%autoreload 2\n",
    "\n",
    "import itertools\n",
    "import os\n",
    "import multiprocessing as mp\n",
    "import json\n",
    "\n",
    "import pandas as pd \n",
    "import numpy as np\n",
    "import pymorphy2\n",
    "\n",
    "import tokenize_uk as tok\n",
    "import cld3\n",
    "import pymorphy2\n",
    "from stop_words import get_stop_words\n",
    "\n",
    "from sklearn.model_selection import StratifiedKFold, StratifiedShuffleSplit\n",
    "from sklearn.feature_extraction.text import CountVectorizer\n",
    "from sklearn.feature_extraction.text import TfidfVectorizer\n",
    "from sklearn.metrics import f1_score, classification_report, confusion_matrix\n",
    "from sklearn.pipeline import Pipeline\n",
    "from sklearn.ensemble import (RandomForestClassifier, AdaBoostClassifier, \n",
    "                              GradientBoostingClassifier, ExtraTreesClassifier)\n",
    "\n",
    "import lightgbm\n",
    "\n",
    "from gensim.models import Word2Vec\n",
    "\n",
    "from sklearn.utils import resample, shuffle\n",
    "\n",
    "import matplotlib.pyplot as plt\n",
    "\n",
    "from common import *\n",
    "\n",
    "import warnings\n",
    "warnings.filterwarnings('ignore')"
   ]
  },
  {
   "cell_type": "code",
   "execution_count": 49,
   "metadata": {},
   "outputs": [
    {
     "name": "stdout",
     "output_type": "stream",
     "text": [
      "CPU times: user 16.9 s, sys: 806 ms, total: 17.7 s\n",
      "Wall time: 17.7 s\n"
     ]
    }
   ],
   "source": [
    "%%time\n",
    "\n",
    "df = pd.read_json('reviews.json')\n",
    "\n",
    "df['text'] = df['text'].apply(lambda x: ' '.join(x))\n",
    "# df['text'] = df['text'].apply(lambda x: str(x[0]))\n",
    "df['lang'] = df['text'].apply(lambda x: cld3.get_language(x)[0])\n",
    "\n",
    "data = df.query('lang in (\"uk\", \"ru\")')\n",
    "\n",
    "def is_question(text): \n",
    "    return text.strip().endswith('?')        \n",
    "data['is_question'] = data['text'].apply(lambda x: is_question(x))\n",
    "\n",
    "data.groupby(['stars'])['text'].count()"
   ]
  },
  {
   "cell_type": "code",
   "execution_count": 50,
   "metadata": {},
   "outputs": [
    {
     "data": {
      "text/plain": [
       "stars\n",
       "1     2248\n",
       "2     2248\n",
       "3     4503\n",
       "4    14407\n",
       "5    40172\n",
       "Name: text, dtype: int64"
      ]
     },
     "execution_count": 50,
     "metadata": {},
     "output_type": "execute_result"
    }
   ],
   "source": [
    "data.groupby(['stars'])['text'].count()"
   ]
  },
  {
   "cell_type": "code",
   "execution_count": 51,
   "metadata": {},
   "outputs": [
    {
     "name": "stdout",
     "output_type": "stream",
     "text": [
      "CPU times: user 50 µs, sys: 59 µs, total: 109 µs\n",
      "Wall time: 114 µs\n"
     ]
    }
   ],
   "source": [
    "%%time\n",
    "\n",
    "reg_happy = re.compile('(:|=|:-)?(\\)+)')\n",
    "reg_unhappy = re.compile('(:|=|:-)?(\\(+)')\n",
    "\n",
    "pure_numbers = re.compile('^[0-9].*$')\n",
    "\n",
    "punct = \"\"\"\n",
    "\"#$%&*+,./:;<=>@^`~…\\\\(\\\\)⟨⟩{}\\[\\|\\]‒-–—―«»“”‘’'№\n",
    "\"\"\".strip()\n",
    "\n",
    "uk_sw = get_stop_words('uk')\n",
    "ru_sw = get_stop_words('ru')\n",
    "\n",
    "\n",
    "def replace_smiles(text): \n",
    "    new_text = re.sub(reg_happy, ' smile_happy ', text)\n",
    "    new_text = re.sub(reg_unhappy, ' smile_unhappy ', new_text)\n",
    "    return new_text\n",
    "\n",
    "\n",
    "def delete_punctuation(tokens):\n",
    "    return [t for t in tokens if t not in punct]\n",
    "\n",
    "\n",
    "def lemmatize(df):\n",
    "    uk_morph = pymorphy2.MorphAnalyzer(lang='uk')\n",
    "    ru_morph = pymorphy2.MorphAnalyzer(lang='ru')\n",
    "    \n",
    "    def _lemma(tokens, lang): \n",
    "        if lang == 'uk': \n",
    "            morph = [uk_morph.parse(t)[0] for t in tokens]\n",
    "        elif lang == 'ru': \n",
    "            morph = [ru_morph.parse(t)[0] for t in tokens]\n",
    "        return morph\n",
    "    \n",
    "    df['morph'] = df[['tokens', 'lang']].apply(lambda x: _lemma(x['tokens'], x['lang']), axis=1)\n",
    "    \n",
    "    df['details'] = df['morph'].apply(lambda m: [{'original': x.word,\n",
    "                                                  'lemma': x.normal_form, \n",
    "                                                  'pos_tag': str(x.tag.POS)} for x in m])\n",
    "    del df['morph']\n",
    "    return df\n",
    "\n",
    "\n",
    "def delete_stop_words(details, lang): \n",
    "    if lang == 'uk': \n",
    "        return [t for t in details if t['lemma'] not in uk_sw]\n",
    "    elif lang == 'ru': \n",
    "        return [t for t in details if t['lemma'] not in ru_sw]\n",
    "    \n",
    "    \n",
    "def delete_pure_numbers(details): \n",
    "    return [t for t in details if not re.match(pure_numbers, t['lemma'])]"
   ]
  },
  {
   "cell_type": "code",
   "execution_count": 52,
   "metadata": {},
   "outputs": [],
   "source": [
    "%%time\n",
    "\n",
    "data['text_norm'] = data['text'].apply(lambda x: x.lower())  # capslock may possibly be useful\n",
    "\n",
    "data['text_norm'] = data['text_norm'].apply(replace_smiles)\n",
    "data['tokens'] = data['text_norm'].apply(tok.tokenize_words)\n",
    "data['tokens'] = data['tokens'].apply(delete_punctuation)\n",
    "\n",
    "data = parallelize(data, lemmatize)"
   ]
  },
  {
   "cell_type": "markdown",
   "metadata": {},
   "source": [
    "#### Checkpoint dataset: "
   ]
  },
  {
   "cell_type": "code",
   "execution_count": 53,
   "metadata": {},
   "outputs": [],
   "source": [
    "data['details'] = data['details'].apply(json.dumps)\n",
    "data.to_csv('preprocessed.csv', index=False)"
   ]
  },
  {
   "cell_type": "markdown",
   "metadata": {},
   "source": [
    "#### Restore from checkpoint (this is done to make steps above faster):"
   ]
  },
  {
   "cell_type": "code",
   "execution_count": 85,
   "metadata": {},
   "outputs": [],
   "source": [
    "data = pd.read_csv('preprocessed.csv')\n",
    "data['details'] = data['details'].apply(json.loads)"
   ]
  },
  {
   "cell_type": "code",
   "execution_count": null,
   "metadata": {},
   "outputs": [],
   "source": [
    "data['details'] = data[['details', 'lang']].apply(lambda x: delete_stop_words(x['details'], x['lang']), axis=1)\n",
    "data['details'] = data['details'].apply(delete_pure_numbers)s"
   ]
  },
  {
   "cell_type": "markdown",
   "metadata": {},
   "source": [
    "#### Splitting data into train and validation (aka holdout). Train will be later used for futher resampling and train/test spliting and model \n",
    "### Train BOW model on lemmatized data "
   ]
  },
  {
   "cell_type": "code",
   "execution_count": 86,
   "metadata": {},
   "outputs": [
    {
     "data": {
      "text/plain": [
       "stars\n",
       "1     1953\n",
       "2     1953\n",
       "3     3946\n",
       "4    12639\n",
       "5    35373\n",
       "Name: text, dtype: int64"
      ]
     },
     "execution_count": 86,
     "metadata": {},
     "output_type": "execute_result"
    }
   ],
   "source": [
    "X, y = data['details'].values, data['stars'].values\n",
    "partitioner = StratifiedShuffleSplit(n_splits=1, test_size=0.15, random_state=1234)\n",
    "indexes = partitioner.split(X, y)\n",
    "train_indexes, val_indexes = list(indexes)[0]\n",
    "\n",
    "train_data, val_data = data.iloc[train_indexes], data.iloc[val_indexes]\n",
    "train_data.groupby(['stars'])['text'].count()"
   ]
  },
  {
   "cell_type": "code",
   "execution_count": 98,
   "metadata": {},
   "outputs": [
    {
     "data": {
      "text/plain": [
       "stars\n",
       "1     1953\n",
       "2     1953\n",
       "3     3946\n",
       "4    12639\n",
       "5    35373\n",
       "Name: text, dtype: int64"
      ]
     },
     "execution_count": 98,
     "metadata": {},
     "output_type": "execute_result"
    }
   ],
   "source": [
    "#train_data = downsample(train_data)\n",
    "# train_data = upsample(train_data)\n",
    "train_data.groupby(['stars'])['text'].count()"
   ]
  },
  {
   "cell_type": "code",
   "execution_count": 87,
   "metadata": {},
   "outputs": [],
   "source": [
    "X_val = val_data['details'].apply(lambda elems: [x['lemma'] for x in elems]).values\n",
    "y_val = val_data['stars'].values\n",
    "\n",
    "X = train_data['details'].apply(lambda elems: [x['lemma'] for x in elems]).values\n",
    "y = train_data['stars'].values"
   ]
  },
  {
   "cell_type": "code",
   "execution_count": 88,
   "metadata": {},
   "outputs": [],
   "source": [
    "vect = CountVectorizer(analyzer='word', ngram_range=(1, 2), max_df=0.99, min_df=0.001,\n",
    "                           stop_words=None, lowercase=False, tokenizer=lambda doc: doc)\n",
    "X_vec = vect.fit_transform(X)\n",
    "X_val_vec = vect.transform(X_val)"
   ]
  },
  {
   "cell_type": "markdown",
   "metadata": {},
   "source": [
    "##### Lets fit one model first to be able to compare with latest stacked model"
   ]
  },
  {
   "cell_type": "code",
   "execution_count": 89,
   "metadata": {},
   "outputs": [
    {
     "name": "stdout",
     "output_type": "stream",
     "text": [
      "Cross-Val score: 0.5847592708449263\n",
      "Single RF classifier F1 score 0.5864561978829382\n"
     ]
    }
   ],
   "source": [
    "rf_params = {\n",
    "    'n_jobs': -1,\n",
    "    'n_estimators': 500,\n",
    "    'warm_start': True,\n",
    "    'max_depth': 6,\n",
    "    'min_samples_leaf': 2,\n",
    "    'max_features' : 'sqrt',\n",
    "    'verbose': 0,\n",
    "    'class_weight': 'balanced'\n",
    "}\n",
    "\n",
    "skf = StratifiedKFold(n_splits=5, shuffle=True, random_state=1234)\n",
    "\n",
    "scores = []\n",
    "for train_idx, test_idx in skf.split(X, y): \n",
    "    X_train, X_test = X[train_idx], X[test_idx]\n",
    "    y_train, y_test = y[train_idx], y[test_idx]\n",
    "    \n",
    "    vect = CountVectorizer(analyzer='word', ngram_range=(1, 2), max_df=0.99, min_df=0.001,\n",
    "                           stop_words=None, lowercase=False, tokenizer=lambda doc: doc)\n",
    "    X_train = vect.fit_transform(X_train)\n",
    "    \n",
    "    clf = RandomForestClassifier(**rf_params)\n",
    "    clf.fit(X_train, y_train)\n",
    "    \n",
    "    y_pred = clf.predict(vect.transform(X_test).todense())\n",
    "    \n",
    "    scores.append(f1_score(y_test, y_pred, average='weighted'))\n",
    "print('Cross-Val score:', sum(scores) / float(len(scores)))\n",
    "\n",
    "clf = RandomForestClassifier(**rf_params)\n",
    "clf.fit(X_vec, y)\n",
    "y_pred =clf.predict(X_val_vec)\n",
    "print('Single RF classifier F1 score', f1_score(y_val, y_pred, average='weighted'))"
   ]
  },
  {
   "cell_type": "code",
   "execution_count": 111,
   "metadata": {},
   "outputs": [
    {
     "name": "stdout",
     "output_type": "stream",
     "text": [
      "CPU times: user 1.11 s, sys: 986 ms, total: 2.09 s\n",
      "Wall time: 6min 2s\n"
     ]
    }
   ],
   "source": [
    "%%time\n",
    "\n",
    "x_train_, x_test_ = train_stacked_oof(X_vec, X_val_vec, y, y_val)"
   ]
  },
  {
   "cell_type": "code",
   "execution_count": 112,
   "metadata": {},
   "outputs": [
    {
     "name": "stdout",
     "output_type": "stream",
     "text": [
      "Stacked model F1 score 0.6290031179528566\n"
     ]
    }
   ],
   "source": [
    "clf = lightgbm.LGBMClassifier(boosting_type='gbdt', objective='multiclass', class_weight='balanced', \n",
    "                              n_estimators=500) \n",
    "clf.fit(x_train_, y)\n",
    "y_pred = clf.predict(x_test_)\n",
    "\n",
    "print('Stacked model F1 score', f1_score(y_val, y_pred, average='weighted'))"
   ]
  },
  {
   "cell_type": "code",
   "execution_count": 113,
   "metadata": {},
   "outputs": [
    {
     "name": "stdout",
     "output_type": "stream",
     "text": [
      "             precision    recall  f1-score   support\n",
      "\n",
      "          1       0.32      0.49      0.39       345\n",
      "          2       0.17      0.22      0.19       344\n",
      "          3       0.21      0.31      0.25       696\n",
      "          4       0.40      0.35      0.37      2231\n",
      "          5       0.82      0.78      0.80      6243\n",
      "\n",
      "avg / total       0.64      0.62      0.63      9859\n",
      "\n"
     ]
    }
   ],
   "source": [
    "print(classification_report(y_val, y_pred))"
   ]
  },
  {
   "cell_type": "code",
   "execution_count": 114,
   "metadata": {},
   "outputs": [
    {
     "name": "stdout",
     "output_type": "stream",
     "text": [
      "[[ 170   65   48   27   35]\n",
      " [  84   75  108   51   26]\n",
      " [  79   88  215  198  116]\n",
      " [  84  115  344  778  910]\n",
      " [ 107   88  303  867 4878]]\n"
     ]
    },
    {
     "data": {
      "image/png": "[encoded data removed]",
      "text/plain": [
       "<matplotlib.figure.Figure at 0x167197e48>"
      ]
     },
     "metadata": {},
     "output_type": "display_data"
    }
   ],
   "source": [
    "plot_confusion_matrix(confusion_matrix(y_val, y_pred), [1, 2, 3, 4, 5])"
   ]
  },
  {
   "cell_type": "markdown",
   "metadata": {},
   "source": [
    "### Word vectors"
   ]
  },
  {
   "cell_type": "code",
   "execution_count": 115,
   "metadata": {},
   "outputs": [],
   "source": [
    "data['text_norm'] = data['text'].apply(lambda x: x.lower())  # capslock may possibly be useful\n",
    "data['text_norm'] = data['text_norm'].apply(replace_smiles)\n",
    "data['tokens'] = data['text_norm'].apply(tok.tokenize_words)\n",
    "data['tokens'] = data['tokens'].apply(delete_punctuation)"
   ]
  },
  {
   "cell_type": "code",
   "execution_count": 117,
   "metadata": {},
   "outputs": [],
   "source": [
    "model = Word2Vec(data.tokens.values, size=100, window=5, min_count=5, workers=4)"
   ]
  },
  {
   "cell_type": "code",
   "execution_count": 118,
   "metadata": {},
   "outputs": [
    {
     "data": {
      "text/plain": [
       "[('два', 0.9438003301620483),\n",
       " ('четыре', 0.9182473421096802),\n",
       " ('1,5', 0.8800559043884277),\n",
       " ('полтора', 0.8795656561851501),\n",
       " ('1-1.5', 0.867458164691925),\n",
       " ('1.5', 0.8638948798179626),\n",
       " ('3-4', 0.8538327217102051),\n",
       " ('пол', 0.8440496325492859),\n",
       " ('2-3', 0.83775395154953),\n",
       " ('3-и', 0.8372681736946106)]"
      ]
     },
     "execution_count": 118,
     "metadata": {},
     "output_type": "execute_result"
    }
   ],
   "source": [
    "model.wv.most_similar(positive=['три'])"
   ]
  },
  {
   "cell_type": "code",
   "execution_count": 119,
   "metadata": {},
   "outputs": [
    {
     "data": {
      "text/plain": [
       "[('отвратительный', 0.8773611783981323),\n",
       " ('ужасен', 0.8637514710426331),\n",
       " ('глухой', 0.8409662246704102),\n",
       " ('шикарен', 0.7988304495811462),\n",
       " ('слабый', 0.7516067028045654),\n",
       " ('отменный', 0.7466533184051514),\n",
       " ('плоский', 0.7453840970993042),\n",
       " ('посредственный', 0.7354903817176819),\n",
       " ('средний', 0.7326414585113525),\n",
       " ('встроенный', 0.7322560548782349)]"
      ]
     },
     "execution_count": 119,
     "metadata": {},
     "output_type": "execute_result"
    }
   ],
   "source": [
    "model.wv.most_similar(positive=['ужасный'])"
   ]
  },
  {
   "cell_type": "code",
   "execution_count": 120,
   "metadata": {},
   "outputs": [
    {
     "data": {
      "text/plain": [
       "[('гарно', 0.9548355340957642),\n",
       " ('чудово', 0.9451595544815063),\n",
       " ('якісно', 0.9214268922805786),\n",
       " ('швидко', 0.9114163517951965),\n",
       " ('чітко', 0.9100157022476196),\n",
       " ('відмінно', 0.9071762561798096),\n",
       " ('ідеально', 0.9043550491333008),\n",
       " ('подобається', 0.8931934833526611),\n",
       " ('тягне', 0.8880948424339294),\n",
       " ('робить', 0.8775618076324463)]"
      ]
     },
     "execution_count": 120,
     "metadata": {},
     "output_type": "execute_result"
    }
   ],
   "source": [
    "model.wv.most_similar(positive=['добре'])"
   ]
  },
  {
   "cell_type": "markdown",
   "metadata": {},
   "source": [
    "#### Word vectors give good results in terms of similarity, lets test it for classification!\n",
    "The only caveat is it doesn't seem to capture between similarity of russian and ukrainian language"
   ]
  },
  {
   "cell_type": "code",
   "execution_count": 127,
   "metadata": {},
   "outputs": [],
   "source": [
    "def get_vector(token): \n",
    "    try: \n",
    "        vec = model.wv[token]\n",
    "    except KeyError:\n",
    "        vec = np.zeros((100,))\n",
    "    return vec\n",
    "\n",
    "def get_vector_sum(tokens): \n",
    "    m = np.vstack([get_vector(t) for t in tokens])\n",
    "    return np.mean(m, axis=0)\n",
    "\n",
    "data['w2v'] = data['tokens'].apply(get_vector_sum)"
   ]
  },
  {
   "cell_type": "code",
   "execution_count": 128,
   "metadata": {},
   "outputs": [
    {
     "data": {
      "text/plain": [
       "stars\n",
       "1     1953\n",
       "2     1953\n",
       "3     3946\n",
       "4    12639\n",
       "5    35373\n",
       "Name: text, dtype: int64"
      ]
     },
     "execution_count": 128,
     "metadata": {},
     "output_type": "execute_result"
    }
   ],
   "source": [
    "X, y = data['w2v'], data['stars'].values\n",
    "partitioner = StratifiedShuffleSplit(n_splits=1, test_size=0.15, random_state=1234)\n",
    "indexes = partitioner.split(X, y)\n",
    "train_indexes, val_indexes = list(indexes)[0]\n",
    "\n",
    "train_data, val_data = data.iloc[train_indexes], data.iloc[val_indexes]\n",
    "train_data.groupby(['stars'])['text'].count()"
   ]
  },
  {
   "cell_type": "code",
   "execution_count": 129,
   "metadata": {},
   "outputs": [
    {
     "data": {
      "text/plain": [
       "stars\n",
       "1     1953\n",
       "2     1953\n",
       "3     3946\n",
       "4    12639\n",
       "5    35373\n",
       "Name: text, dtype: int64"
      ]
     },
     "execution_count": 129,
     "metadata": {},
     "output_type": "execute_result"
    }
   ],
   "source": [
    "#train_data = downsamples(train_data)\n",
    "train_data.groupby(['stars'])['text'].count()"
   ]
  },
  {
   "cell_type": "code",
   "execution_count": 130,
   "metadata": {},
   "outputs": [],
   "source": [
    "X_val = np.vstack(val_data['w2v'].values)\n",
    "y_val = val_data['stars'].values\n",
    "\n",
    "X = np.vstack(train_data['w2v'].values)\n",
    "y = train_data['stars'].values"
   ]
  },
  {
   "cell_type": "code",
   "execution_count": 131,
   "metadata": {},
   "outputs": [
    {
     "name": "stdout",
     "output_type": "stream",
     "text": [
      "Cross-Val score: 0.5236559638914627\n",
      "Single RF classifier F1 score 0.525355032210838\n"
     ]
    }
   ],
   "source": [
    "rf_params = {\n",
    "    'n_jobs': -1,\n",
    "    'n_estimators': 500,\n",
    "    'warm_start': True,\n",
    "    'max_depth': 6,\n",
    "    'min_samples_leaf': 2,\n",
    "    'max_features' : 'sqrt',\n",
    "    'verbose': 0,\n",
    "    'class_weight': 'balanced'\n",
    "}\n",
    "\n",
    "skf = StratifiedKFold(n_splits=5, shuffle=True, random_state=1234)\n",
    "\n",
    "scores = []\n",
    "for train_idx, test_idx in skf.split(X, y): \n",
    "    X_train, X_test = X[train_idx], X[test_idx]\n",
    "    y_train, y_test = y[train_idx], y[test_idx]\n",
    "    \n",
    "    clf = RandomForestClassifier(**rf_params)\n",
    "    clf.fit(X_train, y_train)\n",
    "    \n",
    "    y_pred = clf.predict(X_test)\n",
    "    \n",
    "    scores.append(f1_score(y_test, y_pred, average='weighted'))\n",
    "print('Cross-Val score:', sum(scores) / float(len(scores)))\n",
    "\n",
    "clf = RandomForestClassifier(**rf_params)\n",
    "clf.fit(X, y)\n",
    "y_pred =clf.predict(X_val)\n",
    "print('Single RF classifier F1 score', f1_score(y_val, y_pred, average='weighted'))"
   ]
  },
  {
   "cell_type": "code",
   "execution_count": null,
   "metadata": {},
   "outputs": [],
   "source": [
    "%%time\n",
    "\n",
    "x_train_, x_test_ = train_stacked_oof(X, X_val, y, y_val)"
   ]
  },
  {
   "cell_type": "code",
   "execution_count": null,
   "metadata": {},
   "outputs": [],
   "source": [
    "clf = lightgbm.LGBMClassifier(boosting_type='gbdt', objective='multiclass', class_weight='balanced', \n",
    "                              n_estimators=500) \n",
    "clf.fit(x_train_, y)\n",
    "y_pred = clf.predict(x_test_)\n",
    "\n",
    "print('Stacked model F1 score', f1_score(y_val, y_pred, average='weighted'))"
   ]
  },
  {
   "cell_type": "code",
   "execution_count": null,
   "metadata": {},
   "outputs": [],
   "source": [
    "print(classification_report(y_val, y_pred))"
   ]
  },
  {
   "cell_type": "code",
   "execution_count": null,
   "metadata": {},
   "outputs": [],
   "source": [
    "plot_confusion_matrix(confusion_matrix(y_val, y_pred), [1, 2, 3, 4, 5])"
   ]
  },
  {
   "cell_type": "code",
   "execution_count": null,
   "metadata": {},
   "outputs": [],
   "source": []
  }
 ],
 "metadata": {
  "kernelspec": {
   "display_name": "Python 3",
   "language": "python",
   "name": "python3"
  },
  "language_info": {
   "codemirror_mode": {
    "name": "ipython",
    "version": 3
   },
   "file_extension": ".py",
   "mimetype": "text/x-python",
   "name": "python",
   "nbconvert_exporter": "python",
   "pygments_lexer": "ipython3",
   "version": "3.6.4"
  }
 },
 "nbformat": 4,
 "nbformat_minor": 2
}
