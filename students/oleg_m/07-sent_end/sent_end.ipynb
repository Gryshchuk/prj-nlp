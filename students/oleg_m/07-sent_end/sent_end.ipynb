{
 "cells": [
  {
   "cell_type": "markdown",
   "metadata": {},
   "source": [
    "# End of sentence recognition"
   ]
  },
  {
   "cell_type": "markdown",
   "metadata": {},
   "source": [
    "read prepared file"
   ]
  },
  {
   "cell_type": "code",
   "execution_count": 50,
   "metadata": {},
   "outputs": [],
   "source": [
    "import pandas as pd\n",
    "from sklearn.feature_extraction.text import CountVectorizer\n",
    "\n",
    "df = pd.read_csv('lucene_corpus.csv')\n",
    "df.replace(['False', 'True'], [0, 1], inplace=True)"
   ]
  },
  {
   "cell_type": "code",
   "execution_count": 51,
   "metadata": {},
   "outputs": [],
   "source": [
    "counts = pd.read_csv('end_of_sents.tsv', header=None, sep='\\t')\n",
    "end_threegrams_count = counts[0].value_counts().to_dict()\n",
    "end_threegrams_lem_count = counts[1].value_counts().to_dict()\n",
    "threegrams_count = df['threegrams'].value_counts().to_dict()\n",
    "threegrams_lem_count = df['threegrams_lemma'].value_counts().to_dict()"
   ]
  },
  {
   "cell_type": "code",
   "execution_count": 52,
   "metadata": {},
   "outputs": [],
   "source": [
    "end_freq = {k: end_threegrams_count.get(k, 0.0)/v for k, v in threegrams_count.items()}\n",
    "end_freq_lem = {k: end_threegrams_lem_count.get(k, 0.0)/v for k, v in threegrams_lem_count.items()}"
   ]
  },
  {
   "cell_type": "code",
   "execution_count": 53,
   "metadata": {},
   "outputs": [],
   "source": [
    "df['end_freq'] = df['threegrams'].apply(lambda x: end_freq.get(x, 0.0))\n",
    "df['end_freq_lem'] = df['threegrams_lemma'].apply(lambda x: end_freq_lem.get(x, 0.0))"
   ]
  },
  {
   "cell_type": "code",
   "execution_count": 54,
   "metadata": {},
   "outputs": [],
   "source": [
    "pos_vect = CountVectorizer().fit(df['n_pos'])"
   ]
  },
  {
   "cell_type": "code",
   "execution_count": 55,
   "metadata": {},
   "outputs": [],
   "source": [
    "pos_n_df = pd.DataFrame(pos_vect.transform(df['n_pos']).todense(),\n",
    "                      columns=['n_{}'.format(x) for x in pos_vect.get_feature_names()], index=df.index)"
   ]
  },
  {
   "cell_type": "code",
   "execution_count": 56,
   "metadata": {},
   "outputs": [],
   "source": [
    "pos_na1_df = pd.DataFrame(pos_vect.transform(df['na1_pos'].fillna('')).todense(),\n",
    "                      columns=['na1_{}'.format(x) for x in pos_vect.get_feature_names()], index=df.index)"
   ]
  },
  {
   "cell_type": "code",
   "execution_count": 57,
   "metadata": {},
   "outputs": [],
   "source": [
    "pos_nb1_df = pd.DataFrame(pos_vect.transform(df['nb1_n_lemma'].fillna('')).todense(),\n",
    "                      columns=['nb1_{}'.format(x) for x in pos_vect.get_feature_names()], index=df.index)"
   ]
  },
  {
   "cell_type": "code",
   "execution_count": 58,
   "metadata": {},
   "outputs": [],
   "source": [
    "model_columns = ['n_is_aplpha', 'n_is_digit', 'n_is_lower', 'n_is_punct', 'n_is_title',\n",
    "                 'na1_is_aplpha', 'na1_is_digit', 'na1_is_lower', 'na1_is_punct', 'na1_is_title',\n",
    "                 'na2_is_aplpha', 'na2_is_digit', 'na2_is_lower', 'na2_is_punct', 'na2_is_title',\n",
    "                 'nb1_n_is_aplpha', 'nb1_n_is_digit', 'nb1_n_is_lower', 'nb1_n_is_punct', 'nb1_n_is_title',\n",
    "                 'nb2_n_is_aplpha', 'nb2_n_is_digit', 'nb2_n_is_lower', 'nb2_n_is_punct', 'nb2_n_is_title',\n",
    "                 'end_freq', 'end_freq_lem']"
   ]
  },
  {
   "cell_type": "code",
   "execution_count": 128,
   "metadata": {},
   "outputs": [],
   "source": [
    "df.drop((df.loc[~df['nb1_n_is_aplpha'].fillna(False).isin({False, True})].index), inplace=True)\n",
    "X_train = pd.concat([df[model_columns], pos_n_df, pos_na1_df, pos_nb1_df], axis=1, join=\"inner\")"
   ]
  },
  {
   "cell_type": "code",
   "execution_count": 142,
   "metadata": {},
   "outputs": [
    {
     "data": {
      "text/plain": [
       "(268135, 72)"
      ]
     },
     "execution_count": 142,
     "metadata": {},
     "output_type": "execute_result"
    }
   ],
   "source": [
    "X_train.shape"
   ]
  },
  {
   "cell_type": "code",
   "execution_count": 130,
   "metadata": {},
   "outputs": [],
   "source": [
    "for col in model_columns:\n",
    "    if 'is_aplpha' in col:\n",
    "        X_train[col].fillna(True, inplace=True)\n",
    "\n",
    "X_train.fillna(False, inplace=True)"
   ]
  },
  {
   "cell_type": "code",
   "execution_count": 134,
   "metadata": {},
   "outputs": [
    {
     "data": {
      "text/plain": [
       "LogisticRegressionCV(Cs=10, class_weight=None, cv=None, dual=False,\n",
       "           fit_intercept=True, intercept_scaling=1.0, max_iter=100,\n",
       "           multi_class='ovr', n_jobs=1, penalty='l2', random_state=None,\n",
       "           refit=True, scoring='roc_auc', solver='lbfgs', tol=0.0001,\n",
       "           verbose=0)"
      ]
     },
     "execution_count": 134,
     "metadata": {},
     "output_type": "execute_result"
    }
   ],
   "source": [
    "from sklearn.linear_model import LogisticRegressionCV\n",
    "from sklearn.metrics import roc_auc_score\n",
    "\n",
    "clf = LogisticRegressionCV(scoring='roc_auc')\n",
    "clf.fit(X_train, df['label'])"
   ]
  },
  {
   "cell_type": "code",
   "execution_count": 135,
   "metadata": {},
   "outputs": [
    {
     "data": {
      "text/plain": [
       "{True: array([[ 0.99917634,  0.9994749 ,  0.99967743,  0.99983718,  0.99986801,\n",
       "          0.99985754,  0.9998751 ,  0.99988539,  0.99988651,  0.99988665],\n",
       "        [ 0.99935213,  0.99950037,  0.99962607,  0.99977492,  0.99983657,\n",
       "          0.99983034,  0.99980193,  0.999781  ,  0.99977516,  0.99977612],\n",
       "        [ 0.99935521,  0.99949841,  0.99966205,  0.99984712,  0.99992987,\n",
       "          0.99993416,  0.99992141,  0.99990828,  0.99990689,  0.99990672]])}"
      ]
     },
     "execution_count": 135,
     "metadata": {},
     "output_type": "execute_result"
    }
   ],
   "source": [
    "clf.scores_"
   ]
  },
  {
   "cell_type": "code",
   "execution_count": 138,
   "metadata": {},
   "outputs": [],
   "source": [
    "import numpy as np\n",
    "\n",
    "def top_features(columns, clf, n):\n",
    "    \"\"\"Prints features with the highest coefficient values, per class\"\"\"\n",
    "    feature_names = columns\n",
    "    for i, class_label in enumerate(clf.classes_):\n",
    "        top = np.argsort(clf.coef_[i])\n",
    "        reversed_top = top[::-1]\n",
    "        print(\"%s: %s\" % (class_label,\n",
    "              \" \".join(feature_names[j] for j in reversed_top[:n])))"
   ]
  },
  {
   "cell_type": "code",
   "execution_count": 139,
   "metadata": {},
   "outputs": [
    {
     "name": "stdout",
     "output_type": "stream",
     "text": [
      "False: end_freq end_freq_lem na1_is_title nb1_n_is_punct n_noun n_intj na1_cconj nb1_pron n_num na1_det\n"
     ]
    },
    {
     "ename": "IndexError",
     "evalue": "index 1 is out of bounds for axis 0 with size 1",
     "output_type": "error",
     "traceback": [
      "\u001b[0;31m---------------------------------------------------------------------------\u001b[0m",
      "\u001b[0;31mIndexError\u001b[0m                                Traceback (most recent call last)",
      "\u001b[0;32m<ipython-input-139-2bf4a6c24052>\u001b[0m in \u001b[0;36m<module>\u001b[0;34m()\u001b[0m\n\u001b[0;32m----> 1\u001b[0;31m \u001b[0mtop_features\u001b[0m\u001b[0;34m(\u001b[0m\u001b[0mX_train\u001b[0m\u001b[0;34m.\u001b[0m\u001b[0mcolumns\u001b[0m\u001b[0;34m,\u001b[0m \u001b[0mclf\u001b[0m\u001b[0;34m,\u001b[0m \u001b[0;36m10\u001b[0m\u001b[0;34m)\u001b[0m\u001b[0;34m\u001b[0m\u001b[0m\n\u001b[0m",
      "\u001b[0;32m<ipython-input-138-37bc4139abd5>\u001b[0m in \u001b[0;36mtop_features\u001b[0;34m(columns, clf, n)\u001b[0m\n\u001b[1;32m      5\u001b[0m     \u001b[0mfeature_names\u001b[0m \u001b[0;34m=\u001b[0m \u001b[0mcolumns\u001b[0m\u001b[0;34m\u001b[0m\u001b[0m\n\u001b[1;32m      6\u001b[0m     \u001b[0;32mfor\u001b[0m \u001b[0mi\u001b[0m\u001b[0;34m,\u001b[0m \u001b[0mclass_label\u001b[0m \u001b[0;32min\u001b[0m \u001b[0menumerate\u001b[0m\u001b[0;34m(\u001b[0m\u001b[0mclf\u001b[0m\u001b[0;34m.\u001b[0m\u001b[0mclasses_\u001b[0m\u001b[0;34m)\u001b[0m\u001b[0;34m:\u001b[0m\u001b[0;34m\u001b[0m\u001b[0m\n\u001b[0;32m----> 7\u001b[0;31m         \u001b[0mtop\u001b[0m \u001b[0;34m=\u001b[0m \u001b[0mnp\u001b[0m\u001b[0;34m.\u001b[0m\u001b[0margsort\u001b[0m\u001b[0;34m(\u001b[0m\u001b[0mclf\u001b[0m\u001b[0;34m.\u001b[0m\u001b[0mcoef_\u001b[0m\u001b[0;34m[\u001b[0m\u001b[0mi\u001b[0m\u001b[0;34m]\u001b[0m\u001b[0;34m)\u001b[0m\u001b[0;34m\u001b[0m\u001b[0m\n\u001b[0m\u001b[1;32m      8\u001b[0m         \u001b[0mreversed_top\u001b[0m \u001b[0;34m=\u001b[0m \u001b[0mtop\u001b[0m\u001b[0;34m[\u001b[0m\u001b[0;34m:\u001b[0m\u001b[0;34m:\u001b[0m\u001b[0;34m-\u001b[0m\u001b[0;36m1\u001b[0m\u001b[0;34m]\u001b[0m\u001b[0;34m\u001b[0m\u001b[0m\n\u001b[1;32m      9\u001b[0m         print(\"%s: %s\" % (class_label,\n",
      "\u001b[0;31mIndexError\u001b[0m: index 1 is out of bounds for axis 0 with size 1"
     ]
    }
   ],
   "source": [
    "top_features(X_train.columns, clf, 10)"
   ]
  },
  {
   "cell_type": "code",
   "execution_count": 140,
   "metadata": {},
   "outputs": [
    {
     "data": {
      "text/plain": [
       "array([[  3.38604596e-01,   3.24394267e-01,   1.32963724e-01,\n",
       "          1.24591244e-01,  -6.17018383e-01,   4.27608916e-01,\n",
       "          2.65479227e-01,  -1.76745991e+00,  -6.92800232e-01,\n",
       "          1.86097201e+00,   2.25157860e-01,  -6.16602022e-02,\n",
       "         -4.70088046e-01,  -2.07597681e-01,   7.50614425e-02,\n",
       "         -3.36586872e-01,   6.93827485e-03,  -6.29054091e-01,\n",
       "          1.14840442e+00,  -3.52797906e-01,   8.60275479e-02,\n",
       "         -1.00310909e-01,   3.78065568e-01,   7.13395545e-02,\n",
       "         -3.06617747e-01,   8.37726258e+00,   5.19636752e+00,\n",
       "          1.18546941e-01,  -5.02568054e-01,   6.10242440e-01,\n",
       "         -7.48646859e-01,  -1.56801697e-01,   9.90591048e-01,\n",
       "          1.09153195e+00,   6.94066303e-01,  -7.44760723e-02,\n",
       "          6.27280459e-02,   2.75666133e-01,   1.07329121e-01,\n",
       "         -1.18037080e-03,  -4.10073914e-01,   1.72807148e-01,\n",
       "         -3.01938507e-01,   2.34222210e-01,   4.61072119e-01,\n",
       "          8.53603211e-01,   6.52293427e-01,   5.01215440e-01,\n",
       "         -2.92555705e-01,  -1.96418587e-01,   1.74758189e-01,\n",
       "         -6.88190610e-01,  -1.14795384e+00,  -1.10009817e-01,\n",
       "         -1.92830610e-04,  -7.23932296e-01,  -3.03254537e-02,\n",
       "          0.00000000e+00,   0.00000000e+00,   0.00000000e+00,\n",
       "          0.00000000e+00,   0.00000000e+00,   0.00000000e+00,\n",
       "         -5.70032210e-04,  -1.23092583e-04,  -4.87334217e-03,\n",
       "          6.96042802e-01,   0.00000000e+00,   0.00000000e+00,\n",
       "         -1.51957354e-03,   0.00000000e+00,  -8.32657423e-05]])"
      ]
     },
     "execution_count": 140,
     "metadata": {},
     "output_type": "execute_result"
    }
   ],
   "source": [
    "clf.coef_"
   ]
  },
  {
   "cell_type": "code",
   "execution_count": null,
   "metadata": {},
   "outputs": [],
   "source": []
  }
 ],
 "metadata": {
  "kernelspec": {
   "display_name": "Python 3",
   "language": "python",
   "name": "python3"
  },
  "language_info": {
   "codemirror_mode": {
    "name": "ipython",
    "version": 3
   },
   "file_extension": ".py",
   "mimetype": "text/x-python",
   "name": "python",
   "nbconvert_exporter": "python",
   "pygments_lexer": "ipython3",
   "version": "3.6.1"
  }
 },
 "nbformat": 4,
 "nbformat_minor": 2
}
