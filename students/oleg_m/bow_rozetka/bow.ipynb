{
 "cells": [
  {
   "cell_type": "markdown",
   "metadata": {},
   "source": [
    "# Data Preparation"
   ]
  },
  {
   "cell_type": "markdown",
   "metadata": {
    "collapsed": true
   },
   "source": [
    "First the Algorithm reads a file and make pre-processing"
   ]
  },
  {
   "cell_type": "code",
   "execution_count": 22,
   "metadata": {},
   "outputs": [],
   "source": [
    "import re\n",
    "import numpy as np\n",
    "import pandas as pd"
   ]
  },
  {
   "cell_type": "code",
   "execution_count": 23,
   "metadata": {},
   "outputs": [],
   "source": [
    "data = pd.read_csv('rozetka/products_comments.zip', header=0, compression='zip').fillna('')"
   ]
  },
  {
   "cell_type": "markdown",
   "metadata": {},
   "source": [
    "У файлі я розділив коменти на звичайний текст, переваги та недоліки. На разі, зліплюємо все в один текст"
   ]
  },
  {
   "cell_type": "code",
   "execution_count": 24,
   "metadata": {},
   "outputs": [],
   "source": [
    "data['total_comment'] = data['Normal_text'] + '. ' + data['Pro'] + '. ' + data['Con']"
   ]
  },
  {
   "cell_type": "code",
   "execution_count": 25,
   "metadata": {},
   "outputs": [],
   "source": [
    "def clean_text(text):\n",
    "    \"\"\"\n",
    "    prepare the text: to lowercase, remove links, \n",
    "    change numbers to ukr. word, channge endlish words to ukr. word\n",
    "    \"\"\"\n",
    "    text = text.lower()\n",
    "    text = re.sub(r'(?:https?://|www\\.)[^\\s]+', '', text)\n",
    "    text = re.sub(r'[0-9]+', ' інти ', text)\n",
    "    text = re.sub(r'[a-z]+', ' латина ', text)\n",
    "    text = re.sub(r'ґ', 'г', text)\n",
    "    text = re.sub(r'\\s+', ' ', text)\n",
    "    return text.strip(' .,')"
   ]
  },
  {
   "cell_type": "code",
   "execution_count": 26,
   "metadata": {},
   "outputs": [],
   "source": [
    "data['total_comment'] = data['total_comment'].apply(clean_text)"
   ]
  },
  {
   "cell_type": "code",
   "execution_count": 27,
   "metadata": {},
   "outputs": [
    {
     "data": {
      "text/plain": [
       "5    4031\n",
       "4    1429\n",
       "3     391\n",
       "2     214\n",
       "1     187\n",
       "Name: Stars, dtype: int64"
      ]
     },
     "execution_count": 27,
     "metadata": {},
     "output_type": "execute_result"
    }
   ],
   "source": [
    "data['Stars'].value_counts()"
   ]
  },
  {
   "cell_type": "markdown",
   "metadata": {},
   "source": [
    "Як ми бачимо, вибірка дуже не здалансована"
   ]
  },
  {
   "cell_type": "code",
   "execution_count": 28,
   "metadata": {},
   "outputs": [],
   "source": [
    "data['len_symols'] = data['total_comment'].str.len()"
   ]
  },
  {
   "cell_type": "code",
   "execution_count": 29,
   "metadata": {},
   "outputs": [],
   "source": [
    "data['len_words'] = data['total_comment'].str.split().str.len()"
   ]
  },
  {
   "cell_type": "code",
   "execution_count": 30,
   "metadata": {},
   "outputs": [
    {
     "data": {
      "text/html": [
       "<div>\n",
       "<style>\n",
       "    .dataframe thead tr:only-child th {\n",
       "        text-align: right;\n",
       "    }\n",
       "\n",
       "    .dataframe thead th {\n",
       "        text-align: left;\n",
       "    }\n",
       "\n",
       "    .dataframe tbody tr th {\n",
       "        vertical-align: top;\n",
       "    }\n",
       "</style>\n",
       "<table border=\"1\" class=\"dataframe\">\n",
       "  <thead>\n",
       "    <tr style=\"text-align: right;\">\n",
       "      <th></th>\n",
       "      <th>len_symols</th>\n",
       "      <th>len_words</th>\n",
       "    </tr>\n",
       "    <tr>\n",
       "      <th>Stars</th>\n",
       "      <th></th>\n",
       "      <th></th>\n",
       "    </tr>\n",
       "  </thead>\n",
       "  <tbody>\n",
       "    <tr>\n",
       "      <th>1</th>\n",
       "      <td>291.117647</td>\n",
       "      <td>44.508021</td>\n",
       "    </tr>\n",
       "    <tr>\n",
       "      <th>2</th>\n",
       "      <td>330.331776</td>\n",
       "      <td>50.682243</td>\n",
       "    </tr>\n",
       "    <tr>\n",
       "      <th>3</th>\n",
       "      <td>306.644501</td>\n",
       "      <td>46.774936</td>\n",
       "    </tr>\n",
       "    <tr>\n",
       "      <th>4</th>\n",
       "      <td>285.468859</td>\n",
       "      <td>43.776067</td>\n",
       "    </tr>\n",
       "    <tr>\n",
       "      <th>5</th>\n",
       "      <td>251.395932</td>\n",
       "      <td>38.701811</td>\n",
       "    </tr>\n",
       "  </tbody>\n",
       "</table>\n",
       "</div>"
      ],
      "text/plain": [
       "       len_symols  len_words\n",
       "Stars                       \n",
       "1      291.117647  44.508021\n",
       "2      330.331776  50.682243\n",
       "3      306.644501  46.774936\n",
       "4      285.468859  43.776067\n",
       "5      251.395932  38.701811"
      ]
     },
     "execution_count": 30,
     "metadata": {},
     "output_type": "execute_result"
    }
   ],
   "source": [
    "data.groupby(['Stars']).mean()"
   ]
  },
  {
   "cell_type": "markdown",
   "metadata": {},
   "source": [
    "з даного аналізу можна побачити, що чим довший файл, тим скоріш це буде негативний відгук"
   ]
  },
  {
   "cell_type": "markdown",
   "metadata": {},
   "source": [
    "Я вирішив розділити коментарі на 3 класи: exelent для 5*, normal для 4*, bad для 3, 2 та 1*"
   ]
  },
  {
   "cell_type": "code",
   "execution_count": 31,
   "metadata": {},
   "outputs": [],
   "source": [
    "data.replace(to_replace=[5, 4, 3, 2, 1], value=[2, 1, 1, 1, 0], inplace=True)\n",
    "data.rename(columns = {'Stars': 'label'}, inplace=True)"
   ]
  },
  {
   "cell_type": "code",
   "execution_count": 32,
   "metadata": {},
   "outputs": [
    {
     "data": {
      "text/plain": [
       "2    4031\n",
       "1    2034\n",
       "0     187\n",
       "Name: label, dtype: int64"
      ]
     },
     "execution_count": 32,
     "metadata": {},
     "output_type": "execute_result"
    }
   ],
   "source": [
    "# data.head()\n",
    "data['label'].value_counts()"
   ]
  },
  {
   "cell_type": "markdown",
   "metadata": {},
   "source": [
    "## Split to train and test datasets"
   ]
  },
  {
   "cell_type": "code",
   "execution_count": 33,
   "metadata": {},
   "outputs": [],
   "source": [
    "from sklearn.model_selection import train_test_split\n",
    "from sklearn.feature_extraction.text import CountVectorizer\n",
    "from sklearn.naive_bayes import MultinomialNB\n",
    "from sklearn.metrics import accuracy_score, precision_score, recall_score, confusion_matrix, precision_recall_fscore_support, f1_score, roc_auc_score, roc_curve, auc"
   ]
  },
  {
   "cell_type": "code",
   "execution_count": 34,
   "metadata": {},
   "outputs": [],
   "source": [
    "columns_to_drop = ['Response', 'Normal_text', 'Pro', 'Con']\n",
    "\n",
    "X_train, X_test, y_train, y_test = train_test_split(data['total_comment'],\n",
    "                                                    data['label'],\n",
    "                                                    test_size=0.2,\n",
    "                                                    random_state=100)"
   ]
  },
  {
   "cell_type": "markdown",
   "metadata": {},
   "source": [
    "## Baseline\n",
    "Для бейзлайну я обрав звичайний векторайзер та NaiveBayes класифікатор для декількох класів"
   ]
  },
  {
   "cell_type": "code",
   "execution_count": 35,
   "metadata": {},
   "outputs": [],
   "source": [
    "bow_transformer = CountVectorizer().fit(X_train)"
   ]
  },
  {
   "cell_type": "code",
   "execution_count": 36,
   "metadata": {},
   "outputs": [
    {
     "data": {
      "text/plain": [
       "22669"
      ]
     },
     "execution_count": 36,
     "metadata": {},
     "output_type": "execute_result"
    }
   ],
   "source": [
    "# how many unique words in the comments\n",
    "len(bow_transformer.vocabulary_)"
   ]
  },
  {
   "cell_type": "code",
   "execution_count": 37,
   "metadata": {},
   "outputs": [],
   "source": [
    "feature_mapping = bow_transformer.get_feature_names()"
   ]
  },
  {
   "cell_type": "code",
   "execution_count": 38,
   "metadata": {},
   "outputs": [
    {
     "data": {
      "text/plain": [
       "['______',\n",
       " 'аа',\n",
       " 'абгрейд',\n",
       " 'абгрейда',\n",
       " 'абгрейду',\n",
       " 'аби',\n",
       " 'або',\n",
       " 'абож',\n",
       " 'абонент',\n",
       " 'абощо',\n",
       " 'абслютно',\n",
       " 'абсолютна',\n",
       " 'абсолютно',\n",
       " 'абушери',\n",
       " 'абушури',\n",
       " 'аваль',\n",
       " 'аварійних',\n",
       " 'аварійно',\n",
       " 'аварійного',\n",
       " 'аварійному',\n",
       " 'аварійній',\n",
       " 'авжеж',\n",
       " 'авр',\n",
       " 'авт',\n",
       " 'авто',\n",
       " 'автобусом',\n",
       " 'автобусі',\n",
       " 'автовиключення',\n",
       " 'автовимикання',\n",
       " 'автовідключення']"
      ]
     },
     "execution_count": 38,
     "metadata": {},
     "output_type": "execute_result"
    }
   ],
   "source": [
    "feature_mapping[:30]"
   ]
  },
  {
   "cell_type": "markdown",
   "metadata": {},
   "source": [
    "Видно, що дуже багато невідомих слів та слів у різних відмінках"
   ]
  },
  {
   "cell_type": "code",
   "execution_count": 39,
   "metadata": {},
   "outputs": [],
   "source": [
    "X_train_vectorized = bow_transformer.transform(X_train)"
   ]
  },
  {
   "cell_type": "markdown",
   "metadata": {},
   "source": [
    "cross validation to choose the best alpha based on the accuracy and f1 score for the models:"
   ]
  },
  {
   "cell_type": "code",
   "execution_count": 40,
   "metadata": {},
   "outputs": [
    {
     "name": "stdout",
     "output_type": "stream",
     "text": [
      "alpha=0.001\n",
      "score: fit_time\t0.0055086612701416016\n",
      "score: score_time\t0.004562854766845703\n",
      "score: test_precision_macro\t0.5029913256056133\n",
      "score: test_recall_macro\t0.46670146179092575\n",
      "score: test_f1_macro\t0.4782578057641919\n",
      "score: test_accuracy\t0.6680611209351174\n",
      "\n",
      "alpha=0.01\n",
      "score: fit_time\t0.005814313888549805\n",
      "score: score_time\t0.004449248313903809\n",
      "score: test_precision_macro\t0.4990314892338483\n",
      "score: test_recall_macro\t0.507734615188812\n",
      "score: test_f1_macro\t0.5010559138689991\n",
      "score: test_accuracy\t0.6672600002944002\n",
      "\n",
      "alpha=0.1\n",
      "score: fit_time\t0.005565047264099121\n",
      "score: score_time\t0.004021704196929932\n",
      "score: test_precision_macro\t0.4994113038690956\n",
      "score: test_recall_macro\t0.5291386889925391\n",
      "score: test_f1_macro\t0.5084020423691845\n",
      "score: test_accuracy\t0.6726643227291665\n",
      "\n",
      "alpha=1.0\n",
      "score: fit_time\t0.005890488624572754\n",
      "score: score_time\t0.004757940769195557\n",
      "score: test_precision_macro\t0.47209588600812946\n",
      "score: test_recall_macro\t0.42003099292547014\n",
      "score: test_f1_macro\t0.41923469247846934\n",
      "score: test_accuracy\t0.7018648184734839\n",
      "\n",
      "alpha=10.0\n",
      "score: fit_time\t0.004994034767150879\n",
      "score: score_time\t0.004390537738800049\n",
      "score: test_precision_macro\t0.4051820059563372\n",
      "score: test_recall_macro\t0.3365550432054489\n",
      "score: test_f1_macro\t0.27015183485870214\n",
      "score: test_accuracy\t0.6512711928775634\n",
      "\n"
     ]
    },
    {
     "name": "stderr",
     "output_type": "stream",
     "text": [
      "/Library/Frameworks/Python.framework/Versions/3.6/lib/python3.6/site-packages/sklearn/metrics/classification.py:1135: UndefinedMetricWarning: Precision is ill-defined and being set to 0.0 in labels with no predicted samples.\n",
      "  'precision', 'predicted', average, warn_for)\n",
      "/Library/Frameworks/Python.framework/Versions/3.6/lib/python3.6/site-packages/sklearn/metrics/classification.py:1135: UndefinedMetricWarning: F-score is ill-defined and being set to 0.0 in labels with no predicted samples.\n",
      "  'precision', 'predicted', average, warn_for)\n",
      "/Library/Frameworks/Python.framework/Versions/3.6/lib/python3.6/site-packages/sklearn/metrics/classification.py:1135: UndefinedMetricWarning: Precision is ill-defined and being set to 0.0 in labels with no predicted samples.\n",
      "  'precision', 'predicted', average, warn_for)\n",
      "/Library/Frameworks/Python.framework/Versions/3.6/lib/python3.6/site-packages/sklearn/metrics/classification.py:1135: UndefinedMetricWarning: F-score is ill-defined and being set to 0.0 in labels with no predicted samples.\n",
      "  'precision', 'predicted', average, warn_for)\n",
      "/Library/Frameworks/Python.framework/Versions/3.6/lib/python3.6/site-packages/sklearn/metrics/classification.py:1135: UndefinedMetricWarning: Precision is ill-defined and being set to 0.0 in labels with no predicted samples.\n",
      "  'precision', 'predicted', average, warn_for)\n",
      "/Library/Frameworks/Python.framework/Versions/3.6/lib/python3.6/site-packages/sklearn/metrics/classification.py:1135: UndefinedMetricWarning: F-score is ill-defined and being set to 0.0 in labels with no predicted samples.\n",
      "  'precision', 'predicted', average, warn_for)\n",
      "/Library/Frameworks/Python.framework/Versions/3.6/lib/python3.6/site-packages/sklearn/metrics/classification.py:1135: UndefinedMetricWarning: Precision is ill-defined and being set to 0.0 in labels with no predicted samples.\n",
      "  'precision', 'predicted', average, warn_for)\n",
      "/Library/Frameworks/Python.framework/Versions/3.6/lib/python3.6/site-packages/sklearn/metrics/classification.py:1135: UndefinedMetricWarning: F-score is ill-defined and being set to 0.0 in labels with no predicted samples.\n",
      "  'precision', 'predicted', average, warn_for)\n"
     ]
    }
   ],
   "source": [
    "from sklearn.model_selection import cross_validate\n",
    "scoring = ['precision_macro', 'recall_macro', 'f1_macro', 'accuracy']\n",
    "\n",
    "alphas = (0.001, 0.01, 0.1, 1.0, 10.0)\n",
    "for a in alphas:\n",
    "    print('alpha={}'.format(a))\n",
    "    model_temp = MultinomialNB(alpha=a)\n",
    "    model_temp.fit(X_train_vectorized, y_train)\n",
    "    scores = cross_validate(model_temp, X_train_vectorized, y_train, cv=4, scoring=scoring, return_train_score=False)\n",
    "    for score, values in scores.items():\n",
    "        print('score: {}\\t{}'.format(score, values.mean()))\n",
    "    print()"
   ]
  },
  {
   "cell_type": "markdown",
   "metadata": {},
   "source": [
    "So let's choose alpha to 0.1 because  the F1 score is the better in this case"
   ]
  },
  {
   "cell_type": "code",
   "execution_count": 41,
   "metadata": {},
   "outputs": [],
   "source": [
    "model = MultinomialNB(alpha=0.1)\n",
    "model.fit(X_train_vectorized, y_train)\n",
    "predictions = model.predict(bow_transformer.transform(X_test))"
   ]
  },
  {
   "cell_type": "markdown",
   "metadata": {},
   "source": [
    "Get the most valuable words for the model"
   ]
  },
  {
   "cell_type": "code",
   "execution_count": 75,
   "metadata": {},
   "outputs": [
    {
     "name": "stdout",
     "output_type": "stream",
     "text": [
      "2: так, мені, кабель, роботи, раз, один, можна, гроші, було, він, ні, про, більше, користування, мене, тому, чи, коли, від, працювати, навіть, то, перестав, працює, тільки, рекомендую, немає, ціна, вже, якість, все, після, навушники, просто, для, це, по, за, до, через, при, як, дуже, але, звук, що, латина, на, інти, не\n",
      "\n",
      "1: таку, його, тільки, навіть, гроші, досить, мікрофон, просто, добре, вже, тому, без, немає, дизайн, він, коли, звуку, після, мене, чи, ще, ціну, можна, від, якщо, працює, хороший, то, так, по, через, навушники, все, при, якість, це, ціна, до, та, як, дуже, за, що, але, для, звук, на, латина, не, інти\n",
      "\n",
      "0: гроші, звучання, таку, монітор, купив, добре, звуку, чудовий, тому, вже, через, супер, то, рекомендую, поки, без, якщо, дизайн, задоволений, мене, так, ще, можна, просто, чи, ціну, хороший, працює, при, від, по, навушники, немає, це, ціна, все, до, якість, та, як, але, дуже, що, за, для, звук, на, не, латина, інти\n",
      "\n"
     ]
    }
   ],
   "source": [
    "feature_names = bow_transformer.get_feature_names()\n",
    "\n",
    "for i, class_label in enumerate([2, 1, 0]):\n",
    "    top30 = np.argsort(model.coef_[i])[-50:]\n",
    "    print(\"%s: %s\" % (class_label, \", \".join(feature_names[x] for x in top30 if x < len(feature_names))))\n",
    "    print()"
   ]
  },
  {
   "cell_type": "markdown",
   "metadata": {},
   "source": [
    "There are a lot of words that have no any valuable meaning in the most valuable features. Later, I'll try to put it to stop-words"
   ]
  },
  {
   "cell_type": "markdown",
   "metadata": {},
   "source": [
    "### Evalutaion\n",
    "\n",
    "To evaluate the model I used several metrics: Precision, Recall, F1 score and ROC AUC metrics.\n",
    "As the model is multilabel classification, I used option average 'weighted' and 'macro'. First option calculates metrics for each label, and find their average, weighted by support (the number of true instances for each label). Second one calculates metrics for each label, and find their unweighted mean"
   ]
  },
  {
   "cell_type": "code",
   "execution_count": 44,
   "metadata": {},
   "outputs": [
    {
     "name": "stdout",
     "output_type": "stream",
     "text": [
      "Accuracy: 0.656274980016\n",
      "\n",
      "Precision weighted: 0.63052670558\n",
      "Recall weighted: 0.656274980016\n",
      "F1 score weighted: 0.635631129692\n",
      "\n",
      "Precision macro: 0.487787913556\n",
      "Recall macro: 0.439210374699\n",
      "F1 score macro: 0.450151373777\n"
     ]
    }
   ],
   "source": [
    "print('Accuracy:', accuracy_score(y_test, predictions))\n",
    "print()\n",
    "print('Precision weighted:', precision_score(y_test, predictions, average='weighted'))\n",
    "print('Recall weighted:', recall_score(y_test, predictions, average='weighted'))\n",
    "print('F1 score weighted:', f1_score(y_test, predictions, average='weighted'))\n",
    "print()\n",
    "print('Precision macro:', precision_score(y_test, predictions, average='macro'))\n",
    "print('Recall macro:', recall_score(y_test, predictions, average='macro'))\n",
    "print('F1 score macro:', f1_score(y_test, predictions, average='macro'))"
   ]
  },
  {
   "cell_type": "markdown",
   "metadata": {},
   "source": [
    "This is a not a good result, because if we set all labels to 2 (excelent), we have Accuracy 0.63"
   ]
  },
  {
   "cell_type": "code",
   "execution_count": 45,
   "metadata": {},
   "outputs": [],
   "source": [
    "classes = ['excelent', 'good', 'bad']\n",
    "conf_matrix_temp = confusion_matrix(y_test, predictions, labels=[2, 1, 0])\n",
    "conf_matrix_baseline = pd.DataFrame(conf_matrix_temp, columns=classes, index=classes)"
   ]
  },
  {
   "cell_type": "code",
   "execution_count": 46,
   "metadata": {},
   "outputs": [
    {
     "data": {
      "text/html": [
       "<div>\n",
       "<style>\n",
       "    .dataframe thead tr:only-child th {\n",
       "        text-align: right;\n",
       "    }\n",
       "\n",
       "    .dataframe thead th {\n",
       "        text-align: left;\n",
       "    }\n",
       "\n",
       "    .dataframe tbody tr th {\n",
       "        vertical-align: top;\n",
       "    }\n",
       "</style>\n",
       "<table border=\"1\" class=\"dataframe\">\n",
       "  <thead>\n",
       "    <tr style=\"text-align: right;\">\n",
       "      <th></th>\n",
       "      <th>excelent</th>\n",
       "      <th>good</th>\n",
       "      <th>bad</th>\n",
       "    </tr>\n",
       "  </thead>\n",
       "  <tbody>\n",
       "    <tr>\n",
       "      <th>excelent</th>\n",
       "      <td>657</td>\n",
       "      <td>125</td>\n",
       "      <td>5</td>\n",
       "    </tr>\n",
       "    <tr>\n",
       "      <th>good</th>\n",
       "      <td>259</td>\n",
       "      <td>160</td>\n",
       "      <td>8</td>\n",
       "    </tr>\n",
       "    <tr>\n",
       "      <th>bad</th>\n",
       "      <td>9</td>\n",
       "      <td>24</td>\n",
       "      <td>4</td>\n",
       "    </tr>\n",
       "  </tbody>\n",
       "</table>\n",
       "</div>"
      ],
      "text/plain": [
       "          excelent  good  bad\n",
       "excelent       657   125    5\n",
       "good           259   160    8\n",
       "bad              9    24    4"
      ]
     },
     "execution_count": 46,
     "metadata": {},
     "output_type": "execute_result"
    }
   ],
   "source": [
    "conf_matrix_baseline"
   ]
  },
  {
   "cell_type": "code",
   "execution_count": 47,
   "metadata": {},
   "outputs": [],
   "source": [
    "supp_matrix_temp = [list(x) for x in precision_recall_fscore_support(y_test, predictions, labels=[2, 1, 0])]\n",
    "supp_matrix_baseline = pd.DataFrame(supp_matrix_temp, columns=classes, \n",
    "                                    index=['precision', 'recall', 'f1', 'total'])"
   ]
  },
  {
   "cell_type": "code",
   "execution_count": 48,
   "metadata": {},
   "outputs": [
    {
     "data": {
      "text/html": [
       "<div>\n",
       "<style>\n",
       "    .dataframe thead tr:only-child th {\n",
       "        text-align: right;\n",
       "    }\n",
       "\n",
       "    .dataframe thead th {\n",
       "        text-align: left;\n",
       "    }\n",
       "\n",
       "    .dataframe tbody tr th {\n",
       "        vertical-align: top;\n",
       "    }\n",
       "</style>\n",
       "<table border=\"1\" class=\"dataframe\">\n",
       "  <thead>\n",
       "    <tr style=\"text-align: right;\">\n",
       "      <th></th>\n",
       "      <th>excelent</th>\n",
       "      <th>good</th>\n",
       "      <th>bad</th>\n",
       "    </tr>\n",
       "  </thead>\n",
       "  <tbody>\n",
       "    <tr>\n",
       "      <th>precision</th>\n",
       "      <td>0.710270</td>\n",
       "      <td>0.517799</td>\n",
       "      <td>0.235294</td>\n",
       "    </tr>\n",
       "    <tr>\n",
       "      <th>recall</th>\n",
       "      <td>0.834816</td>\n",
       "      <td>0.374707</td>\n",
       "      <td>0.108108</td>\n",
       "    </tr>\n",
       "    <tr>\n",
       "      <th>f1</th>\n",
       "      <td>0.767523</td>\n",
       "      <td>0.434783</td>\n",
       "      <td>0.148148</td>\n",
       "    </tr>\n",
       "    <tr>\n",
       "      <th>total</th>\n",
       "      <td>787.000000</td>\n",
       "      <td>427.000000</td>\n",
       "      <td>37.000000</td>\n",
       "    </tr>\n",
       "  </tbody>\n",
       "</table>\n",
       "</div>"
      ],
      "text/plain": [
       "             excelent        good        bad\n",
       "precision    0.710270    0.517799   0.235294\n",
       "recall       0.834816    0.374707   0.108108\n",
       "f1           0.767523    0.434783   0.148148\n",
       "total      787.000000  427.000000  37.000000"
      ]
     },
     "execution_count": 48,
     "metadata": {},
     "output_type": "execute_result"
    }
   ],
   "source": [
    "supp_matrix_baseline"
   ]
  },
  {
   "cell_type": "markdown",
   "metadata": {},
   "source": [
    "As expected, we have good results of the class 'excelent' and bad results for others. This situation is happened because the classes are very unbalanced."
   ]
  },
  {
   "cell_type": "markdown",
   "metadata": {},
   "source": [
    "Let's calculate ROC AUC average for the classes and for the each class"
   ]
  },
  {
   "cell_type": "code",
   "execution_count": 49,
   "metadata": {},
   "outputs": [
    {
     "name": "stderr",
     "output_type": "stream",
     "text": [
      "/Library/Frameworks/Python.framework/Versions/3.6/lib/python3.6/site-packages/sklearn/metrics/ranking.py:571: UndefinedMetricWarning: No positive samples in y_true, true positive value should be meaningless\n",
      "  UndefinedMetricWarning)\n"
     ]
    }
   ],
   "source": [
    "from sklearn.preprocessing import label_binarize\n",
    "\n",
    "y_bin = label_binarize(y_test, classes=[0, 1, 2])\n",
    "y_pr_bin = label_binarize(predictions, classes=[0, 1, 2])\n",
    "\n",
    "\n",
    "# Compute ROC curve and ROC area for each class\n",
    "fpr = dict()\n",
    "tpr = dict()\n",
    "roc_auc = dict()\n",
    "for i in range(3):\n",
    "    fpr[i], tpr[i], _ = roc_curve(y_bin[:, i], y_pr_bin[:, i])\n",
    "    roc_auc[i] = auc(fpr[i], tpr[i])\n",
    "\n",
    "# Compute micro-average ROC curve and ROC area\n",
    "fpr[\"micro\"], tpr[\"micro\"], _ = roc_curve(y_bin.ravel(), y_pr_bin.ravel(), pos_label=2)\n",
    "roc_auc[\"micro\"] = auc(fpr[\"micro\"], tpr[\"micro\"])"
   ]
  },
  {
   "cell_type": "code",
   "execution_count": 51,
   "metadata": {},
   "outputs": [
    {
     "data": {
      "image/png": "[encoded data removed]",
      "text/plain": [
       "<Figure size 432x288 with 1 Axes>"
      ]
     },
     "metadata": {},
     "output_type": "display_data"
    }
   ],
   "source": [
    "import matplotlib.pyplot as plt\n",
    "\n",
    "plt.figure()\n",
    "lw = 2\n",
    "plt.plot(fpr[2], tpr[2], color='darkorange',\n",
    "         lw=lw, label='ROC curve (area = %0.2f)' % roc_auc[2])\n",
    "plt.plot([0, 1], [0, 1], color='navy', lw=lw, linestyle='--')\n",
    "plt.xlim([0.0, 1.0])\n",
    "plt.ylim([0.0, 1.05])\n",
    "plt.xlabel('False Positive Rate')\n",
    "plt.ylabel('True Positive Rate')\n",
    "plt.title('Receiver operating characteristic example')\n",
    "plt.legend(loc=\"lower right\")\n",
    "plt.show()"
   ]
  },
  {
   "cell_type": "code",
   "execution_count": 52,
   "metadata": {},
   "outputs": [
    {
     "data": {
      "image/png": "[encoded data removed]",
      "text/plain": [
       "<Figure size 432x288 with 1 Axes>"
      ]
     },
     "metadata": {},
     "output_type": "display_data"
    }
   ],
   "source": [
    "import numpy as np\n",
    "from scipy import interp\n",
    "from itertools import cycle\n",
    "\n",
    "n_classes = 3\n",
    "\n",
    "# Compute macro-average ROC curve and ROC area\n",
    "\n",
    "# First aggregate all false positive rates\n",
    "all_fpr = np.unique(np.concatenate([fpr[i] for i in range(n_classes)]))\n",
    "\n",
    "# Then interpolate all ROC curves at this points\n",
    "mean_tpr = np.zeros_like(all_fpr)\n",
    "for i in range(n_classes):\n",
    "    mean_tpr += interp(all_fpr, fpr[i], tpr[i])\n",
    "\n",
    "# Finally average it and compute AUC\n",
    "mean_tpr /= n_classes\n",
    "\n",
    "fpr[\"macro\"] = all_fpr\n",
    "tpr[\"macro\"] = mean_tpr\n",
    "roc_auc[\"macro\"] = auc(fpr[\"macro\"], tpr[\"macro\"])\n",
    "\n",
    "# Plot all ROC curves\n",
    "plt.figure()\n",
    "plt.plot(fpr[\"micro\"], tpr[\"micro\"],\n",
    "         label='micro-average ROC curve (area = {0:0.2f})'\n",
    "               ''.format(roc_auc[\"micro\"]),\n",
    "         color='deeppink', linestyle=':', linewidth=4)\n",
    "\n",
    "plt.plot(fpr[\"macro\"], tpr[\"macro\"],\n",
    "         label='macro-average ROC curve (area = {0:0.2f})'\n",
    "               ''.format(roc_auc[\"macro\"]),\n",
    "         color='navy', linestyle=':', linewidth=4)\n",
    "\n",
    "colors = cycle(['aqua', 'darkorange', 'cornflowerblue'])\n",
    "for i, color in zip(range(n_classes), colors):\n",
    "    plt.plot(fpr[i], tpr[i], color=color, lw=lw,\n",
    "             label='ROC curve of class {0} (area = {1:0.2f})'\n",
    "             ''.format(i, roc_auc[i]))\n",
    "\n",
    "plt.plot([0, 1], [0, 1], 'k--', lw=lw)\n",
    "plt.xlim([0.0, 1.0])\n",
    "plt.ylim([0.0, 1.05])\n",
    "plt.xlabel('False Positive Rate')\n",
    "plt.ylabel('True Positive Rate')\n",
    "plt.title('Some extension of Receiver operating characteristic to multi-class')\n",
    "plt.legend(loc=\"lower right\")\n",
    "plt.show()"
   ]
  },
  {
   "cell_type": "markdown",
   "metadata": {},
   "source": [
    "So, the results of the model don't satisfies us and the further improvement is needed"
   ]
  },
  {
   "cell_type": "markdown",
   "metadata": {},
   "source": [
    "# Add sentiment score"
   ]
  },
  {
   "cell_type": "markdown",
   "metadata": {},
   "source": [
    "Create sentiment dictionary from the file from https://github.com/lang-uk/tone-dict-uk"
   ]
  },
  {
   "cell_type": "code",
   "execution_count": 53,
   "metadata": {},
   "outputs": [],
   "source": [
    "import csv\n",
    "\n",
    "sentiment_dict = dict()\n",
    "\n",
    "with open('files/tone-dict-uk.tsv', newline='', ) as csvfile:\n",
    "    senti_reader = csv.reader(csvfile, delimiter='\\t')\n",
    "    for row in senti_reader:\n",
    "        sentiment_dict[row[0].lower()] = int(row[1])"
   ]
  },
  {
   "cell_type": "code",
   "execution_count": 54,
   "metadata": {},
   "outputs": [],
   "source": [
    "def calculate_text_sentiment(text):\n",
    "    pos = 0\n",
    "    neg = 0\n",
    "    tokens = [x.strip('.,/!#?:;\"_') for x in text.split()]\n",
    "    for t in tokens:\n",
    "        word_score = sentiment_dict.get(t, 0)\n",
    "        if word_score > 0:\n",
    "            pos += word_score\n",
    "        elif word_score < 0:\n",
    "            neg += word_score\n",
    "    return pos, abs(neg)"
   ]
  },
  {
   "cell_type": "markdown",
   "metadata": {},
   "source": [
    "Add 2 new columns of total possitive and total negative score"
   ]
  },
  {
   "cell_type": "code",
   "execution_count": 55,
   "metadata": {},
   "outputs": [],
   "source": [
    "data['pos'], data['neg'] = zip(*data['total_comment'].apply(calculate_text_sentiment))"
   ]
  },
  {
   "cell_type": "code",
   "execution_count": 56,
   "metadata": {},
   "outputs": [
    {
     "data": {
      "text/html": [
       "<div>\n",
       "<style>\n",
       "    .dataframe thead tr:only-child th {\n",
       "        text-align: right;\n",
       "    }\n",
       "\n",
       "    .dataframe thead th {\n",
       "        text-align: left;\n",
       "    }\n",
       "\n",
       "    .dataframe tbody tr th {\n",
       "        vertical-align: top;\n",
       "    }\n",
       "</style>\n",
       "<table border=\"1\" class=\"dataframe\">\n",
       "  <thead>\n",
       "    <tr style=\"text-align: right;\">\n",
       "      <th></th>\n",
       "      <th>len_symols</th>\n",
       "      <th>len_words</th>\n",
       "      <th>pos</th>\n",
       "      <th>neg</th>\n",
       "    </tr>\n",
       "    <tr>\n",
       "      <th>label</th>\n",
       "      <th></th>\n",
       "      <th></th>\n",
       "      <th></th>\n",
       "      <th></th>\n",
       "    </tr>\n",
       "  </thead>\n",
       "  <tbody>\n",
       "    <tr>\n",
       "      <th>0</th>\n",
       "      <td>291.117647</td>\n",
       "      <td>44.475936</td>\n",
       "      <td>0.433155</td>\n",
       "      <td>0.684492</td>\n",
       "    </tr>\n",
       "    <tr>\n",
       "      <th>1</th>\n",
       "      <td>294.258112</td>\n",
       "      <td>44.972468</td>\n",
       "      <td>1.052114</td>\n",
       "      <td>0.369715</td>\n",
       "    </tr>\n",
       "    <tr>\n",
       "      <th>2</th>\n",
       "      <td>251.393451</td>\n",
       "      <td>38.520714</td>\n",
       "      <td>1.242620</td>\n",
       "      <td>0.160754</td>\n",
       "    </tr>\n",
       "  </tbody>\n",
       "</table>\n",
       "</div>"
      ],
      "text/plain": [
       "       len_symols  len_words       pos       neg\n",
       "label                                           \n",
       "0      291.117647  44.475936  0.433155  0.684492\n",
       "1      294.258112  44.972468  1.052114  0.369715\n",
       "2      251.393451  38.520714  1.242620  0.160754"
      ]
     },
     "execution_count": 56,
     "metadata": {},
     "output_type": "execute_result"
    }
   ],
   "source": [
    "data.groupby(['label']).mean()"
   ]
  },
  {
   "cell_type": "markdown",
   "metadata": {},
   "source": [
    "Also, let's add length of text feature to classificatior"
   ]
  },
  {
   "cell_type": "code",
   "execution_count": 57,
   "metadata": {},
   "outputs": [],
   "source": [
    "X_train_senti, X_test_senti, y_train_senti, y_test_senti = train_test_split(\n",
    "                                                    data[['total_comment', 'pos', 'neg', 'len_words']],\n",
    "                                                    data['label'],\n",
    "                                                    test_size=0.2,\n",
    "                                                    random_state=100)"
   ]
  },
  {
   "cell_type": "code",
   "execution_count": 58,
   "metadata": {},
   "outputs": [
    {
     "data": {
      "text/html": [
       "<div>\n",
       "<style>\n",
       "    .dataframe thead tr:only-child th {\n",
       "        text-align: right;\n",
       "    }\n",
       "\n",
       "    .dataframe thead th {\n",
       "        text-align: left;\n",
       "    }\n",
       "\n",
       "    .dataframe tbody tr th {\n",
       "        vertical-align: top;\n",
       "    }\n",
       "</style>\n",
       "<table border=\"1\" class=\"dataframe\">\n",
       "  <thead>\n",
       "    <tr style=\"text-align: right;\">\n",
       "      <th></th>\n",
       "      <th>total_comment</th>\n",
       "      <th>pos</th>\n",
       "      <th>neg</th>\n",
       "      <th>len_words</th>\n",
       "    </tr>\n",
       "  </thead>\n",
       "  <tbody>\n",
       "    <tr>\n",
       "      <th>719</th>\n",
       "      <td>для звичайних повсякденних задач, та мультимед...</td>\n",
       "      <td>5</td>\n",
       "      <td>0</td>\n",
       "      <td>66</td>\n",
       "    </tr>\n",
       "    <tr>\n",
       "      <th>1017</th>\n",
       "      <td>повторювати всі попередні відгуки, типу компак...</td>\n",
       "      <td>0</td>\n",
       "      <td>2</td>\n",
       "      <td>254</td>\n",
       "    </tr>\n",
       "    <tr>\n",
       "      <th>4670</th>\n",
       "      <td>купив недавно ці наушники . дуже порадували . ...</td>\n",
       "      <td>4</td>\n",
       "      <td>3</td>\n",
       "      <td>80</td>\n",
       "    </tr>\n",
       "    <tr>\n",
       "      <th>2403</th>\n",
       "      <td>для своєї ціни це сепер колонка. але не вистач...</td>\n",
       "      <td>0</td>\n",
       "      <td>0</td>\n",
       "      <td>14</td>\n",
       "    </tr>\n",
       "    <tr>\n",
       "      <th>220</th>\n",
       "      <td>чи піде інти віндуза?</td>\n",
       "      <td>0</td>\n",
       "      <td>0</td>\n",
       "      <td>1</td>\n",
       "    </tr>\n",
       "  </tbody>\n",
       "</table>\n",
       "</div>"
      ],
      "text/plain": [
       "                                          total_comment  pos  neg  len_words\n",
       "719   для звичайних повсякденних задач, та мультимед...    5    0         66\n",
       "1017  повторювати всі попередні відгуки, типу компак...    0    2        254\n",
       "4670  купив недавно ці наушники . дуже порадували . ...    4    3         80\n",
       "2403  для своєї ціни це сепер колонка. але не вистач...    0    0         14\n",
       "220                               чи піде інти віндуза?    0    0          1"
      ]
     },
     "execution_count": 58,
     "metadata": {},
     "output_type": "execute_result"
    }
   ],
   "source": [
    "X_train_senti.head()"
   ]
  },
  {
   "cell_type": "code",
   "execution_count": 59,
   "metadata": {},
   "outputs": [
    {
     "name": "stdout",
     "output_type": "stream",
     "text": [
      "text shape: (5001, 22669)\n",
      "text and features shape: (5001, 22672)\n"
     ]
    }
   ],
   "source": [
    "bow_transformer = CountVectorizer().fit(X_train_senti['total_comment'])\n",
    "X_text = pd.DataFrame(bow_transformer.transform(X_train_senti['total_comment']).todense(),\n",
    "                      columns=bow_transformer.get_feature_names(), index=X_train_senti.index)\n",
    "print('text shape: {}'.format(X_text.shape))\n",
    "X_numbers = X_train_senti[['pos', 'neg', 'len_words']]\n",
    "X = pd.concat([X_text, X_numbers], axis=1, join=\"inner\")\n",
    "print('text and features shape: {}'.format(X.shape))"
   ]
  },
  {
   "cell_type": "markdown",
   "metadata": {},
   "source": [
    "To understand if the model is better with sentiment score let's make the same NaiveBayes model with the same alpha but  we can try to balance the feature \"pos\" and \"neg\" with the coeficient. Let's assume the possible coeficients: 0.5, 1, 2, 5, 10, 100"
   ]
  },
  {
   "cell_type": "code",
   "execution_count": 63,
   "metadata": {},
   "outputs": [
    {
     "data": {
      "text/html": [
       "<div>\n",
       "<style>\n",
       "    .dataframe thead tr:only-child th {\n",
       "        text-align: right;\n",
       "    }\n",
       "\n",
       "    .dataframe thead th {\n",
       "        text-align: left;\n",
       "    }\n",
       "\n",
       "    .dataframe tbody tr th {\n",
       "        vertical-align: top;\n",
       "    }\n",
       "</style>\n",
       "<table border=\"1\" class=\"dataframe\">\n",
       "  <thead>\n",
       "    <tr style=\"text-align: right;\">\n",
       "      <th></th>\n",
       "      <th>______</th>\n",
       "      <th>аа</th>\n",
       "      <th>абгрейд</th>\n",
       "      <th>абгрейда</th>\n",
       "      <th>абгрейду</th>\n",
       "      <th>аби</th>\n",
       "      <th>або</th>\n",
       "      <th>абож</th>\n",
       "      <th>абонент</th>\n",
       "      <th>абощо</th>\n",
       "      <th>...</th>\n",
       "      <th>їхня</th>\n",
       "      <th>їхні</th>\n",
       "      <th>їхній</th>\n",
       "      <th>їхніми</th>\n",
       "      <th>їхніх</th>\n",
       "      <th>їєднання</th>\n",
       "      <th>її</th>\n",
       "      <th>pos</th>\n",
       "      <th>neg</th>\n",
       "      <th>len_words</th>\n",
       "    </tr>\n",
       "  </thead>\n",
       "  <tbody>\n",
       "    <tr>\n",
       "      <th>719</th>\n",
       "      <td>0</td>\n",
       "      <td>0</td>\n",
       "      <td>0</td>\n",
       "      <td>0</td>\n",
       "      <td>0</td>\n",
       "      <td>0</td>\n",
       "      <td>0</td>\n",
       "      <td>0</td>\n",
       "      <td>0</td>\n",
       "      <td>0</td>\n",
       "      <td>...</td>\n",
       "      <td>0</td>\n",
       "      <td>0</td>\n",
       "      <td>0</td>\n",
       "      <td>0</td>\n",
       "      <td>0</td>\n",
       "      <td>0</td>\n",
       "      <td>0</td>\n",
       "      <td>5.0</td>\n",
       "      <td>0.0</td>\n",
       "      <td>66</td>\n",
       "    </tr>\n",
       "    <tr>\n",
       "      <th>1017</th>\n",
       "      <td>0</td>\n",
       "      <td>0</td>\n",
       "      <td>0</td>\n",
       "      <td>0</td>\n",
       "      <td>0</td>\n",
       "      <td>0</td>\n",
       "      <td>1</td>\n",
       "      <td>0</td>\n",
       "      <td>0</td>\n",
       "      <td>0</td>\n",
       "      <td>...</td>\n",
       "      <td>0</td>\n",
       "      <td>0</td>\n",
       "      <td>0</td>\n",
       "      <td>0</td>\n",
       "      <td>0</td>\n",
       "      <td>0</td>\n",
       "      <td>0</td>\n",
       "      <td>0.0</td>\n",
       "      <td>2.0</td>\n",
       "      <td>254</td>\n",
       "    </tr>\n",
       "    <tr>\n",
       "      <th>4670</th>\n",
       "      <td>1</td>\n",
       "      <td>0</td>\n",
       "      <td>0</td>\n",
       "      <td>0</td>\n",
       "      <td>0</td>\n",
       "      <td>0</td>\n",
       "      <td>0</td>\n",
       "      <td>0</td>\n",
       "      <td>0</td>\n",
       "      <td>0</td>\n",
       "      <td>...</td>\n",
       "      <td>0</td>\n",
       "      <td>0</td>\n",
       "      <td>0</td>\n",
       "      <td>0</td>\n",
       "      <td>0</td>\n",
       "      <td>0</td>\n",
       "      <td>0</td>\n",
       "      <td>4.0</td>\n",
       "      <td>3.0</td>\n",
       "      <td>80</td>\n",
       "    </tr>\n",
       "    <tr>\n",
       "      <th>2403</th>\n",
       "      <td>0</td>\n",
       "      <td>0</td>\n",
       "      <td>0</td>\n",
       "      <td>0</td>\n",
       "      <td>0</td>\n",
       "      <td>0</td>\n",
       "      <td>0</td>\n",
       "      <td>0</td>\n",
       "      <td>0</td>\n",
       "      <td>0</td>\n",
       "      <td>...</td>\n",
       "      <td>0</td>\n",
       "      <td>0</td>\n",
       "      <td>0</td>\n",
       "      <td>0</td>\n",
       "      <td>0</td>\n",
       "      <td>0</td>\n",
       "      <td>0</td>\n",
       "      <td>0.0</td>\n",
       "      <td>0.0</td>\n",
       "      <td>14</td>\n",
       "    </tr>\n",
       "    <tr>\n",
       "      <th>220</th>\n",
       "      <td>0</td>\n",
       "      <td>0</td>\n",
       "      <td>0</td>\n",
       "      <td>0</td>\n",
       "      <td>0</td>\n",
       "      <td>0</td>\n",
       "      <td>0</td>\n",
       "      <td>0</td>\n",
       "      <td>0</td>\n",
       "      <td>0</td>\n",
       "      <td>...</td>\n",
       "      <td>0</td>\n",
       "      <td>0</td>\n",
       "      <td>0</td>\n",
       "      <td>0</td>\n",
       "      <td>0</td>\n",
       "      <td>0</td>\n",
       "      <td>0</td>\n",
       "      <td>0.0</td>\n",
       "      <td>0.0</td>\n",
       "      <td>1</td>\n",
       "    </tr>\n",
       "  </tbody>\n",
       "</table>\n",
       "<p>5 rows × 22672 columns</p>\n",
       "</div>"
      ],
      "text/plain": [
       "      ______  аа  абгрейд  абгрейда  абгрейду  аби  або  абож  абонент  абощо  \\\n",
       "719        0   0        0         0         0    0    0     0        0      0   \n",
       "1017       0   0        0         0         0    0    1     0        0      0   \n",
       "4670       1   0        0         0         0    0    0     0        0      0   \n",
       "2403       0   0        0         0         0    0    0     0        0      0   \n",
       "220        0   0        0         0         0    0    0     0        0      0   \n",
       "\n",
       "        ...      їхня  їхні  їхній  їхніми  їхніх  їєднання  її  pos  neg  \\\n",
       "719     ...         0     0      0       0      0         0   0  5.0  0.0   \n",
       "1017    ...         0     0      0       0      0         0   0  0.0  2.0   \n",
       "4670    ...         0     0      0       0      0         0   0  4.0  3.0   \n",
       "2403    ...         0     0      0       0      0         0   0  0.0  0.0   \n",
       "220     ...         0     0      0       0      0         0   0  0.0  0.0   \n",
       "\n",
       "      len_words  \n",
       "719          66  \n",
       "1017        254  \n",
       "4670         80  \n",
       "2403         14  \n",
       "220           1  \n",
       "\n",
       "[5 rows x 22672 columns]"
      ]
     },
     "execution_count": 63,
     "metadata": {},
     "output_type": "execute_result"
    }
   ],
   "source": [
    "X.head()"
   ]
  },
  {
   "cell_type": "code",
   "execution_count": 61,
   "metadata": {},
   "outputs": [
    {
     "name": "stdout",
     "output_type": "stream",
     "text": [
      "k: 0.5\n",
      "\tscore: fit_time\t1.3630646467208862\n",
      "\tscore: score_time\t0.8601809144020081\n",
      "\tscore: test_precision_macro\t0.5042516784629102\n",
      "\tscore: test_recall_macro\t0.5223382272864466\n",
      "\tscore: test_f1_macro\t0.5102704268631646\n",
      "\tscore: test_accuracy\t0.6772632049044511\n",
      "\n",
      "k: 1\n",
      "\tscore: fit_time\t1.3635414838790894\n",
      "\tscore: score_time\t0.8693533539772034\n",
      "\tscore: test_precision_macro\t0.5074461323032615\n",
      "\tscore: test_recall_macro\t0.5271947155984634\n",
      "\tscore: test_f1_macro\t0.5141253144380659\n",
      "\tscore: test_accuracy\t0.6782620852877347\n",
      "\n",
      "k: 2\n",
      "\tscore: fit_time\t1.4793532490730286\n",
      "\tscore: score_time\t0.9502726793289185\n",
      "\tscore: test_precision_macro\t0.5126468891535115\n",
      "\tscore: test_recall_macro\t0.5342864745530486\n",
      "\tscore: test_f1_macro\t0.5198374376058603\n",
      "\tscore: test_accuracy\t0.6816624068239403\n",
      "\n",
      "k: 3\n",
      "\tscore: fit_time\t1.395893931388855\n",
      "\tscore: score_time\t0.8729512691497803\n",
      "\tscore: test_precision_macro\t0.5103827747099644\n",
      "\tscore: test_recall_macro\t0.5330393533639697\n",
      "\tscore: test_f1_macro\t0.5174962430669532\n",
      "\tscore: test_accuracy\t0.6806630460563495\n",
      "\n",
      "k: 4\n",
      "\tscore: fit_time\t1.4303046464920044\n",
      "\tscore: score_time\t0.9122433662414551\n",
      "\tscore: test_precision_macro\t0.5083747156231986\n",
      "\tscore: test_recall_macro\t0.5367129602481804\n",
      "\tscore: test_f1_macro\t0.5173538541536918\n",
      "\tscore: test_accuracy\t0.6790635259286566\n",
      "\n",
      "k: 5\n",
      "\tscore: fit_time\t1.4187679290771484\n",
      "\tscore: score_time\t0.8801563382148743\n",
      "\tscore: test_precision_macro\t0.5073037100683682\n",
      "\tscore: test_recall_macro\t0.5398180616955712\n",
      "\tscore: test_f1_macro\t0.517302915737232\n",
      "\tscore: test_accuracy\t0.6774659247781919\n",
      "\n"
     ]
    }
   ],
   "source": [
    "senti_k = (0.5, 1, 2, 3, 4, 5)\n",
    "curves_dict = {}\n",
    "\n",
    "for k in senti_k:\n",
    "    print('k:', k)\n",
    "    X[['pos', 'neg']] = X[['pos', 'neg']] * k\n",
    "    model_temp = MultinomialNB(alpha=0.1)\n",
    "    model_temp.fit(X, y_train_senti)\n",
    "    scores = cross_validate(model_temp, X, y_train, cv=4, scoring=scoring, return_train_score=False)\n",
    "    for score, values in scores.items():\n",
    "        curves_dict.setdefault(score, []).append(values.mean())\n",
    "        print('\\tscore: {}\\t{}'.format(score, values.mean()))\n",
    "    print()\n",
    "    X[['pos', 'neg']] = X[['pos', 'neg']] / k"
   ]
  },
  {
   "cell_type": "code",
   "execution_count": 62,
   "metadata": {},
   "outputs": [
    {
     "data": {
      "image/png": "[encoded data removed]",
      "text/plain": [
       "<Figure size 432x288 with 1 Axes>"
      ]
     },
     "metadata": {},
     "output_type": "display_data"
    }
   ],
   "source": [
    "x = [str(x) for x in senti_k]\n",
    "for name, values in curves_dict.items():\n",
    "    if 'time' not in name:\n",
    "        label = name.split('_')[1]\n",
    "        plt.plot(x, values, label=label)\n",
    "\n",
    "plt.ylabel('scores')\n",
    "plt.xlabel('k')\n",
    "plt.legend()\n",
    "plt.show()"
   ]
  },
  {
   "cell_type": "markdown",
   "metadata": {},
   "source": [
    "The difference in score not so big for k=1 and k=2, but 2 is sligthly better, so I'm going to multiply all for 2"
   ]
  },
  {
   "cell_type": "code",
   "execution_count": 64,
   "metadata": {},
   "outputs": [
    {
     "data": {
      "text/plain": [
       "MultinomialNB(alpha=0.1, class_prior=None, fit_prior=True)"
      ]
     },
     "execution_count": 64,
     "metadata": {},
     "output_type": "execute_result"
    }
   ],
   "source": [
    "k = 2\n",
    "X[['pos', 'neg']] = X[['pos', 'neg']] * k\n",
    "model_senti = MultinomialNB(alpha=0.1)\n",
    "model_senti.fit(X, y_train_senti)"
   ]
  },
  {
   "cell_type": "code",
   "execution_count": 65,
   "metadata": {},
   "outputs": [
    {
     "name": "stdout",
     "output_type": "stream",
     "text": [
      "text shape: (1251, 22669)\n"
     ]
    },
    {
     "name": "stderr",
     "output_type": "stream",
     "text": [
      "/Library/Frameworks/Python.framework/Versions/3.6/lib/python3.6/site-packages/pandas/core/frame.py:2450: SettingWithCopyWarning: \n",
      "A value is trying to be set on a copy of a slice from a DataFrame.\n",
      "Try using .loc[row_indexer,col_indexer] = value instead\n",
      "\n",
      "See the caveats in the documentation: http://pandas.pydata.org/pandas-docs/stable/indexing.html#indexing-view-versus-copy\n",
      "  self[k1] = value[k2]\n"
     ]
    },
    {
     "name": "stdout",
     "output_type": "stream",
     "text": [
      "text and features shape: (1251, 22672)\n"
     ]
    }
   ],
   "source": [
    "X_test_text = pd.DataFrame(bow_transformer.transform(X_test_senti['total_comment']).todense(),\n",
    "                           columns=bow_transformer.get_feature_names(), index=X_test_senti.index)\n",
    "print('text shape: {}'.format(X_test_text.shape))\n",
    "X_test_numbers = X_test_senti[['pos', 'neg', 'len_words']]\n",
    "X_test_numbers[['pos', 'neg']] = X_test_numbers[['pos', 'neg']] * k\n",
    "X_test_s = pd.concat([X_test_text, X_test_numbers], axis=1, join=\"inner\")\n",
    "print('text and features shape: {}'.format(X_test_s.shape))\n",
    "predictions_senti = model_senti.predict(X_test_s)"
   ]
  },
  {
   "cell_type": "markdown",
   "metadata": {},
   "source": [
    "### Evalutaion with sentiment score model"
   ]
  },
  {
   "cell_type": "markdown",
   "metadata": {},
   "source": [
    "Let's make the same model's evaluation pipline as it was for simple model"
   ]
  },
  {
   "cell_type": "code",
   "execution_count": 66,
   "metadata": {},
   "outputs": [
    {
     "name": "stdout",
     "output_type": "stream",
     "text": [
      "Accuracy: 0.673860911271\n",
      "\n",
      "Precision weighted: 0.6494182343\n",
      "Recall weighted: 0.673860911271\n",
      "F1 score weighted: 0.652320414407\n",
      "\n",
      "Precision macro: 0.52555633236\n",
      "Recall macro: 0.451385186507\n",
      "F1 score macro: 0.46635887432\n"
     ]
    }
   ],
   "source": [
    "print('Accuracy:', accuracy_score(y_test_senti, predictions_senti))\n",
    "print()\n",
    "print('Precision weighted:', precision_score(y_test_senti, predictions_senti, average='weighted'))\n",
    "print('Recall weighted:', recall_score(y_test_senti, predictions_senti, average='weighted'))\n",
    "print('F1 score weighted:', f1_score(y_test_senti, predictions_senti, average='weighted'))\n",
    "print()\n",
    "print('Precision macro:', precision_score(y_test_senti, predictions_senti, average='macro'))\n",
    "print('Recall macro:', recall_score(y_test_senti, predictions_senti, average='macro'))\n",
    "print('F1 score macro:', f1_score(y_test_senti, predictions_senti, average='macro'))"
   ]
  },
  {
   "cell_type": "markdown",
   "metadata": {},
   "source": [
    "<b>Previuous results:</b>\n",
    "<li>Accuracy: 0.656274980016\n",
    "<li>Precision weighted: 0.63052670558\n",
    "<li>Recall weighted: 0.656274980016\n",
    "<li>F1 score weighted: 0.635631129692"
   ]
  },
  {
   "cell_type": "markdown",
   "metadata": {},
   "source": [
    "After comparison, we can see that results with positive and negative sentiment score and length of comment is better but we have more ideas to improve it."
   ]
  },
  {
   "cell_type": "code",
   "execution_count": 67,
   "metadata": {},
   "outputs": [],
   "source": [
    "conf_matrix_temp = confusion_matrix(y_test_senti, predictions_senti, labels=[2, 1, 0])\n",
    "conf_matrix_baseline_senti = pd.DataFrame(conf_matrix_temp, columns=classes, index=classes)"
   ]
  },
  {
   "cell_type": "markdown",
   "metadata": {},
   "source": [
    "Previous confusion matrix"
   ]
  },
  {
   "cell_type": "code",
   "execution_count": 68,
   "metadata": {},
   "outputs": [
    {
     "data": {
      "text/html": [
       "<div>\n",
       "<style>\n",
       "    .dataframe thead tr:only-child th {\n",
       "        text-align: right;\n",
       "    }\n",
       "\n",
       "    .dataframe thead th {\n",
       "        text-align: left;\n",
       "    }\n",
       "\n",
       "    .dataframe tbody tr th {\n",
       "        vertical-align: top;\n",
       "    }\n",
       "</style>\n",
       "<table border=\"1\" class=\"dataframe\">\n",
       "  <thead>\n",
       "    <tr style=\"text-align: right;\">\n",
       "      <th></th>\n",
       "      <th>excelent</th>\n",
       "      <th>good</th>\n",
       "      <th>bad</th>\n",
       "    </tr>\n",
       "  </thead>\n",
       "  <tbody>\n",
       "    <tr>\n",
       "      <th>excelent</th>\n",
       "      <td>657</td>\n",
       "      <td>125</td>\n",
       "      <td>5</td>\n",
       "    </tr>\n",
       "    <tr>\n",
       "      <th>good</th>\n",
       "      <td>259</td>\n",
       "      <td>160</td>\n",
       "      <td>8</td>\n",
       "    </tr>\n",
       "    <tr>\n",
       "      <th>bad</th>\n",
       "      <td>9</td>\n",
       "      <td>24</td>\n",
       "      <td>4</td>\n",
       "    </tr>\n",
       "  </tbody>\n",
       "</table>\n",
       "</div>"
      ],
      "text/plain": [
       "          excelent  good  bad\n",
       "excelent       657   125    5\n",
       "good           259   160    8\n",
       "bad              9    24    4"
      ]
     },
     "execution_count": 68,
     "metadata": {},
     "output_type": "execute_result"
    }
   ],
   "source": [
    "conf_matrix_baseline"
   ]
  },
  {
   "cell_type": "code",
   "execution_count": 69,
   "metadata": {},
   "outputs": [
    {
     "data": {
      "text/html": [
       "<div>\n",
       "<style>\n",
       "    .dataframe thead tr:only-child th {\n",
       "        text-align: right;\n",
       "    }\n",
       "\n",
       "    .dataframe thead th {\n",
       "        text-align: left;\n",
       "    }\n",
       "\n",
       "    .dataframe tbody tr th {\n",
       "        vertical-align: top;\n",
       "    }\n",
       "</style>\n",
       "<table border=\"1\" class=\"dataframe\">\n",
       "  <thead>\n",
       "    <tr style=\"text-align: right;\">\n",
       "      <th></th>\n",
       "      <th>excelent</th>\n",
       "      <th>good</th>\n",
       "      <th>bad</th>\n",
       "    </tr>\n",
       "  </thead>\n",
       "  <tbody>\n",
       "    <tr>\n",
       "      <th>excelent</th>\n",
       "      <td>671</td>\n",
       "      <td>113</td>\n",
       "      <td>3</td>\n",
       "    </tr>\n",
       "    <tr>\n",
       "      <th>good</th>\n",
       "      <td>253</td>\n",
       "      <td>168</td>\n",
       "      <td>6</td>\n",
       "    </tr>\n",
       "    <tr>\n",
       "      <th>bad</th>\n",
       "      <td>8</td>\n",
       "      <td>25</td>\n",
       "      <td>4</td>\n",
       "    </tr>\n",
       "  </tbody>\n",
       "</table>\n",
       "</div>"
      ],
      "text/plain": [
       "          excelent  good  bad\n",
       "excelent       671   113    3\n",
       "good           253   168    6\n",
       "bad              8    25    4"
      ]
     },
     "execution_count": 69,
     "metadata": {},
     "output_type": "execute_result"
    }
   ],
   "source": [
    "conf_matrix_baseline_senti"
   ]
  },
  {
   "cell_type": "code",
   "execution_count": 70,
   "metadata": {},
   "outputs": [],
   "source": [
    "y_bin_senti = label_binarize(y_test_senti, classes=[0, 1, 2])\n",
    "y_pr_bin_senti = label_binarize(predictions_senti, classes=[0, 1, 2])\n",
    "\n",
    "\n",
    "# Compute ROC curve and ROC area for each class\n",
    "fpr = dict()\n",
    "tpr = dict()\n",
    "roc_auc = dict()\n",
    "for i in range(n_classes):\n",
    "    fpr[i], tpr[i], _ = roc_curve(y_bin_senti[:, i], y_pr_bin_senti[:, i])\n",
    "    roc_auc[i] = auc(fpr[i], tpr[i])\n",
    "\n",
    "# Compute micro-average ROC curve and ROC area\n",
    "fpr[\"micro\"], tpr[\"micro\"], _ = roc_curve(y_bin_senti.ravel(), y_pr_bin_senti.ravel())\n",
    "roc_auc[\"micro\"] = auc(fpr[\"micro\"], tpr[\"micro\"])"
   ]
  },
  {
   "cell_type": "code",
   "execution_count": 71,
   "metadata": {},
   "outputs": [
    {
     "data": {
      "image/png": "[encoded data removed]",
      "text/plain": [
       "<Figure size 432x288 with 1 Axes>"
      ]
     },
     "metadata": {},
     "output_type": "display_data"
    }
   ],
   "source": [
    "import matplotlib.pyplot as plt\n",
    "\n",
    "plt.figure()\n",
    "lw = 2\n",
    "plt.plot(fpr[2], tpr[2], color='darkorange',\n",
    "         lw=lw, label='ROC curve (area = %0.2f)' % roc_auc[2])\n",
    "plt.plot([0, 1], [0, 1], color='navy', lw=lw, linestyle='--')\n",
    "plt.xlim([0.0, 1.0])\n",
    "plt.ylim([0.0, 1.05])\n",
    "plt.xlabel('False Positive Rate')\n",
    "plt.ylabel('True Positive Rate')\n",
    "plt.title('Receiver operating characteristic example')\n",
    "plt.legend(loc=\"lower right\")\n",
    "plt.show()"
   ]
  },
  {
   "cell_type": "code",
   "execution_count": 72,
   "metadata": {},
   "outputs": [
    {
     "data": {
      "image/png": "[encoded data removed]",
      "text/plain": [
       "<Figure size 432x288 with 1 Axes>"
      ]
     },
     "metadata": {},
     "output_type": "display_data"
    }
   ],
   "source": [
    "n_classes = 3\n",
    "\n",
    "# Compute macro-average ROC curve and ROC area\n",
    "\n",
    "# First aggregate all false positive rates\n",
    "all_fpr = np.unique(np.concatenate([fpr[i] for i in range(n_classes)]))\n",
    "\n",
    "# Then interpolate all ROC curves at this points\n",
    "mean_tpr = np.zeros_like(all_fpr)\n",
    "for i in range(n_classes):\n",
    "    mean_tpr += interp(all_fpr, fpr[i], tpr[i])\n",
    "\n",
    "# Finally average it and compute AUC\n",
    "mean_tpr /= n_classes\n",
    "\n",
    "fpr[\"macro\"] = all_fpr\n",
    "tpr[\"macro\"] = mean_tpr\n",
    "roc_auc[\"macro\"] = auc(fpr[\"macro\"], tpr[\"macro\"])\n",
    "\n",
    "# Plot all ROC curves\n",
    "plt.figure()\n",
    "plt.plot(fpr[\"micro\"], tpr[\"micro\"],\n",
    "         label='micro-average ROC curve (area = {0:0.2f})'\n",
    "               ''.format(roc_auc[\"micro\"]),\n",
    "         color='deeppink', linestyle=':', linewidth=4)\n",
    "\n",
    "plt.plot(fpr[\"macro\"], tpr[\"macro\"],\n",
    "         label='macro-average ROC curve (area = {0:0.2f})'\n",
    "               ''.format(roc_auc[\"macro\"]),\n",
    "         color='navy', linestyle=':', linewidth=4)\n",
    "\n",
    "colors = cycle(['aqua', 'darkorange', 'cornflowerblue'])\n",
    "for i, color in zip(range(n_classes), colors):\n",
    "    plt.plot(fpr[i], tpr[i], color=color, lw=lw,\n",
    "             label='ROC curve of class {0} (area = {1:0.2f})'\n",
    "             ''.format(i, roc_auc[i]))\n",
    "\n",
    "plt.plot([0, 1], [0, 1], 'k--', lw=lw)\n",
    "plt.xlim([0.0, 1.0])\n",
    "plt.ylim([0.0, 1.05])\n",
    "plt.xlabel('False Positive Rate')\n",
    "plt.ylabel('True Positive Rate')\n",
    "plt.title('Some extension of Receiver operating characteristic to multi-class')\n",
    "plt.legend(loc=\"lower right\")\n",
    "plt.show()"
   ]
  },
  {
   "cell_type": "markdown",
   "metadata": {},
   "source": [
    "As previuos one, this result is not the goal, I am looking for."
   ]
  },
  {
   "cell_type": "markdown",
   "metadata": {},
   "source": [
    "## Additional improvements"
   ]
  },
  {
   "cell_type": "markdown",
   "metadata": {},
   "source": [
    "Check for possible stop words in Ukrainian. Let's calculate frequency of the words in our corpus"
   ]
  },
  {
   "cell_type": "code",
   "execution_count": 73,
   "metadata": {},
   "outputs": [
    {
     "name": "stdout",
     "output_type": "stream",
     "text": [
      "[('інти', 6912), ('латина', 6233), ('не', 5583), ('на', 4263), ('звук', 2040), ('для', 1874), ('що', 1814), ('за', 1699), ('дуже', 1611), ('але', 1565), ('як', 1280), ('та', 1151), ('до', 1084), ('якість', 1055), ('ціна', 1022), ('це', 995), ('все', 961), ('навушники', 823), ('немає', 781), ('по', 737), ('при', 726), ('від', 644), ('працює', 634), ('хороший', 631), ('так', 620), ('через', 601), ('ціну', 589), ('можна', 582), ('то', 569), ('чи', 567), ('ще', 557), ('якщо', 555), ('мене', 539), ('просто', 539), ('дизайн', 508), ('без', 491), ('вже', 462), ('задоволений', 446), ('тому', 434), ('звуку', 423), ('після', 410), ('поки', 406), ('рекомендую', 405), ('добре', 393), ('коли', 376), ('він', 375), ('гроші', 374), ('купив', 366), ('супер', 363), ('навіть', 359), ('їх', 357), ('таку', 355), ('звучання', 352), ('досить', 349), ('вони', 335), ('тільки', 335), ('більше', 333), ('його', 321), ('було', 311), ('монітор', 307), ('мікрофон', 307), ('вуха', 305), ('буде', 304), ('під', 304), ('мені', 303), ('чудовий', 295), ('цей', 293), ('роботи', 284), ('такі', 282), ('користуюсь', 277), ('щоб', 273), ('також', 271), ('якісний', 271), ('кабель', 270), ('колонки', 270), ('свою', 269), ('треба', 256), ('гарний', 254), ('про', 252), ('трохи', 251), ('всі', 247), ('час', 245), ('зручні', 242), ('нема', 240), ('них', 234), ('тут', 234), ('те', 233), ('ці', 233), ('який', 233), ('швидко', 228), ('екран', 227), ('навушників', 227), ('потрібно', 227), ('роутер', 227), ('гучності', 226), ('довго', 226), ('цього', 224), ('баси', 223), ('хороші', 223), ('шнур', 223), ('бо', 219), ('був', 218), ('або', 213), ('хороша', 213), ('краще', 211), ('проблем', 206), ('майже', 202), ('наушники', 201), ('багато', 200), ('зручно', 198), ('повністю', 193), ('швидкість', 192), ('виявив', 190), ('вигляд', 188), ('батарея', 187), ('покупкою', 187), ('бас', 186), ('один', 186), ('хоча', 186), ('які', 186), ('день', 185), ('має', 183), ('взагалі', 182), ('користування', 182), ('процесор', 182), ('може', 181), ('свої', 180), ('із', 178), ('саме', 176), ('два', 173), ('нормально', 171), ('відео', 170), ('налаштування', 170), ('чистий', 170), ('чудово', 170), ('ноутбук', 167), ('нічого', 164), ('собі', 162), ('хто', 162), ('дякую', 161), ('ніж', 161), ('сидять', 159), ('якості', 159), ('року', 158), ('знайшов', 157), ('лише', 157), ('можливо', 155), ('планшет', 155), ('працюють', 153), ('роки', 153), ('років', 153), ('товар', 152), ('комп', 150), ('музику', 150), ('раз', 150), ('брав', 149), ('тримає', 149), ('ну', 148), ('пк', 148), ('чути', 148), ('вистачає', 145), ('працювати', 144), ('всім', 143), ('рік', 143), ('пам', 138), ('розетці', 138), ('музики', 137), ('того', 137), ('використання', 136), ('щось', 136), ('ні', 135), ('будь', 134), ('корпус', 134), ('теж', 134), ('можу', 133), ('сигнал', 133), ('непоганий', 130), ('нього', 130), ('ігри', 130), ('достатньо', 129), ('слухати', 129), ('модель', 127), ('бути', 126), ('вона', 126), ('місяці', 126), ('ви', 125), ('нормальний', 125), ('були', 124), ('зображення', 123), ('виявлено', 121), ('комплекті', 120), ('місяців', 120), ('провід', 120), ('гарно', 119), ('раджу', 119), ('цьому', 119), ('яка', 119), ('класний', 118), ('можливість', 118), ('підключення', 118)]\n"
     ]
    }
   ],
   "source": [
    "import operator\n",
    "from collections import OrderedDict\n",
    "\n",
    "cv = CountVectorizer()\n",
    "cv_fit = cv.fit_transform(X_train_senti['total_comment'])\n",
    "\n",
    "features = cv.get_feature_names()\n",
    "tf = np.sum(cv_fit.toarray(), axis=0)\n",
    "word_count = {f: int(tf[i]) for i, f in enumerate(features)}\n",
    "wc = OrderedDict(sorted(word_count.items(), key=operator.itemgetter(1), reverse=True))\n",
    "print(list(wc.items())[:200])"
   ]
  },
  {
   "cell_type": "markdown",
   "metadata": {},
   "source": [
    "And the most valuable words for the model are:"
   ]
  },
  {
   "cell_type": "code",
   "execution_count": 78,
   "metadata": {},
   "outputs": [
    {
     "name": "stdout",
     "output_type": "stream",
     "text": [
      "2: монітор, купив, добре, звуку, чудовий, тому, вже, через, супер, то, рекомендую, поки, без, якщо, дизайн, задоволений, мене, так, ще, можна, просто, чи, ціну, хороший, працює, при, від, по, навушники, немає, це, ціна, все, до, якість, та, як, але, дуже, що, за, для, звук, на, не, латина, інти\n",
      "\n",
      "1: монітор, купив, добре, звуку, чудовий, тому, вже, через, супер, то, рекомендую, поки, без, якщо, дизайн, задоволений, мене, так, ще, можна, просто, чи, ціну, хороший, працює, при, від, по, навушники, немає, це, ціна, все, до, якість, та, як, але, дуже, що, за, для, звук, на, не, латина, інти\n",
      "\n",
      "0: монітор, купив, добре, звуку, чудовий, тому, вже, через, супер, то, рекомендую, поки, без, якщо, дизайн, задоволений, мене, так, ще, можна, просто, чи, ціну, хороший, працює, при, від, по, навушники, немає, це, ціна, все, до, якість, та, як, але, дуже, що, за, для, звук, на, не, латина, інти\n",
      "\n"
     ]
    }
   ],
   "source": [
    "feature_names = bow_transformer.get_feature_names()\n",
    "tops = []\n",
    "\n",
    "for i, class_label in enumerate([2, 1, 0]):\n",
    "    top100 = np.argsort(model_senti.coef_[i])[-100:]\n",
    "    tops.append(top100)\n",
    "    print(\"%s: %s\" % (class_label, \", \".join(feature_names[x] for x in top30 if x < len(feature_names))))\n",
    "    print()"
   ]
  },
  {
   "cell_type": "markdown",
   "metadata": {},
   "source": [
    "What are the words, that can be found in all classes?"
   ]
  },
  {
   "cell_type": "code",
   "execution_count": 81,
   "metadata": {},
   "outputs": [],
   "source": [
    "common_index = set(tops[0]).intersection(tops[1]).intersection(tops[2])\n",
    "common_words = [feature_names[x] for x in common_words if x < len(feature_names)]"
   ]
  },
  {
   "cell_type": "code",
   "execution_count": 82,
   "metadata": {},
   "outputs": [
    {
     "data": {
      "text/plain": [
       "['якщо',\n",
       " 'колонки',\n",
       " 'все',\n",
       " 'латина',\n",
       " 'можна',\n",
       " 'та',\n",
       " 'було',\n",
       " 'мені',\n",
       " 'вони',\n",
       " 'при',\n",
       " 'через',\n",
       " 'ціна',\n",
       " 'інти',\n",
       " 'якість',\n",
       " 'то',\n",
       " 'його',\n",
       " 'це',\n",
       " 'вже',\n",
       " 'так',\n",
       " 'від',\n",
       " 'цей',\n",
       " 'він',\n",
       " 'кабель',\n",
       " 'ще',\n",
       " 'на',\n",
       " 'після',\n",
       " 'чи',\n",
       " 'звук',\n",
       " 'немає',\n",
       " 'що',\n",
       " 'щоб',\n",
       " 'для',\n",
       " 'гроші',\n",
       " 'тільки',\n",
       " 'купив',\n",
       " 'навушники',\n",
       " 'по',\n",
       " 'до',\n",
       " 'просто',\n",
       " 'за',\n",
       " 'тому',\n",
       " 'але',\n",
       " 'працює',\n",
       " 'як',\n",
       " 'дизайн',\n",
       " 'рекомендую',\n",
       " 'навіть',\n",
       " 'роботи',\n",
       " 'дуже',\n",
       " 'ці',\n",
       " 'не',\n",
       " 'більше',\n",
       " 'коли',\n",
       " 'мікрофон',\n",
       " 'без',\n",
       " 'їх',\n",
       " 'мене']"
      ]
     },
     "execution_count": 82,
     "metadata": {},
     "output_type": "execute_result"
    }
   ],
   "source": [
    "common_words"
   ]
  },
  {
   "cell_type": "code",
   "execution_count": 83,
   "metadata": {},
   "outputs": [],
   "source": [
    "stop_words_ua = common_words"
   ]
  },
  {
   "cell_type": "markdown",
   "metadata": {},
   "source": [
    "Prepare the model with Stop words. The shape of new DF should me 57 columns less"
   ]
  },
  {
   "cell_type": "code",
   "execution_count": 85,
   "metadata": {},
   "outputs": [
    {
     "name": "stdout",
     "output_type": "stream",
     "text": [
      "text shape: (5001, 22612)\n"
     ]
    },
    {
     "name": "stderr",
     "output_type": "stream",
     "text": [
      "/Library/Frameworks/Python.framework/Versions/3.6/lib/python3.6/site-packages/pandas/core/frame.py:2450: SettingWithCopyWarning: \n",
      "A value is trying to be set on a copy of a slice from a DataFrame.\n",
      "Try using .loc[row_indexer,col_indexer] = value instead\n",
      "\n",
      "See the caveats in the documentation: http://pandas.pydata.org/pandas-docs/stable/indexing.html#indexing-view-versus-copy\n",
      "  self[k1] = value[k2]\n"
     ]
    },
    {
     "name": "stdout",
     "output_type": "stream",
     "text": [
      "text and features shape: (5001, 22615)\n"
     ]
    }
   ],
   "source": [
    "bow_stop = CountVectorizer(stop_words=stop_words_ua).fit(X_train_senti['total_comment'])\n",
    "X_text_stop = pd.DataFrame(bow_stop.transform(X_train_senti['total_comment']).todense(),\n",
    "                      columns=bow_stop.get_feature_names(), index=X_train_senti.index)\n",
    "print('text shape: {}'.format(X_text_stop.shape))\n",
    "X_numb_stop = X_train_senti[['pos', 'neg', 'len_words']]\n",
    "X_numb_stop[['pos', 'neg']] = X_numb_stop[['pos', 'neg']] * k\n",
    "X_stop = pd.concat([X_text_stop, X_numb_stop], axis=1, join=\"inner\")\n",
    "print('text and features shape: {}'.format(X_stop.shape))"
   ]
  },
  {
   "cell_type": "code",
   "execution_count": 86,
   "metadata": {},
   "outputs": [
    {
     "data": {
      "text/plain": [
       "MultinomialNB(alpha=0.1, class_prior=None, fit_prior=True)"
      ]
     },
     "execution_count": 86,
     "metadata": {},
     "output_type": "execute_result"
    }
   ],
   "source": [
    "model_stop = MultinomialNB(alpha=0.1)\n",
    "model_stop.fit(X_stop, y_train_senti)"
   ]
  },
  {
   "cell_type": "code",
   "execution_count": 87,
   "metadata": {},
   "outputs": [
    {
     "name": "stdout",
     "output_type": "stream",
     "text": [
      "text shape: (1251, 22612)\n"
     ]
    },
    {
     "name": "stderr",
     "output_type": "stream",
     "text": [
      "/Library/Frameworks/Python.framework/Versions/3.6/lib/python3.6/site-packages/pandas/core/frame.py:2450: SettingWithCopyWarning: \n",
      "A value is trying to be set on a copy of a slice from a DataFrame.\n",
      "Try using .loc[row_indexer,col_indexer] = value instead\n",
      "\n",
      "See the caveats in the documentation: http://pandas.pydata.org/pandas-docs/stable/indexing.html#indexing-view-versus-copy\n",
      "  self[k1] = value[k2]\n"
     ]
    },
    {
     "name": "stdout",
     "output_type": "stream",
     "text": [
      "text and features shape: (1251, 22615)\n"
     ]
    }
   ],
   "source": [
    "X_test_stop = pd.DataFrame(bow_stop.transform(X_test_senti['total_comment']).todense(),\n",
    "                           columns=bow_stop.get_feature_names(), index=X_test_senti.index)\n",
    "print('text shape: {}'.format(X_test_stop.shape))\n",
    "X_test_num_stop = X_test_senti[['pos', 'neg', 'len_words']]\n",
    "X_test_num_stop[['pos', 'neg']] = X_test_num_stop[['pos', 'neg']] * k\n",
    "X_test_stop = pd.concat([X_test_stop, X_test_num_stop], axis=1, join=\"inner\")\n",
    "print('text and features shape: {}'.format(X_test_stop.shape))\n",
    "predictions_stop = model_stop.predict(X_test_stop)"
   ]
  },
  {
   "cell_type": "code",
   "execution_count": 88,
   "metadata": {},
   "outputs": [
    {
     "name": "stdout",
     "output_type": "stream",
     "text": [
      "Accuracy: 0.665867306155\n",
      "\n",
      "Precision weighted: 0.639968001074\n",
      "Recall weighted: 0.665867306155\n",
      "F1 score weighted: 0.643918113294\n",
      "\n",
      "Precision macro: 0.51084235425\n",
      "Recall macro: 0.445007148384\n",
      "F1 score macro: 0.458506090999\n"
     ]
    }
   ],
   "source": [
    "print('Accuracy:', accuracy_score(y_test_senti, predictions_stop))\n",
    "print()\n",
    "print('Precision weighted:', precision_score(y_test_senti, predictions_stop, average='weighted'))\n",
    "print('Recall weighted:', recall_score(y_test_senti, predictions_stop, average='weighted'))\n",
    "print('F1 score weighted:', f1_score(y_test_senti, predictions_stop, average='weighted'))\n",
    "print()\n",
    "print('Precision macro:', precision_score(y_test_senti, predictions_stop, average='macro'))\n",
    "print('Recall macro:', recall_score(y_test_senti, predictions_stop, average='macro'))\n",
    "print('F1 score macro:', f1_score(y_test_senti, predictions_stop, average='macro'))"
   ]
  },
  {
   "cell_type": "markdown",
   "metadata": {},
   "source": [
    "<b>Previuos results:</b>\n",
    "<li>Accuracy: 0.673860911271\n",
    "<li>Precision weighted: 0.6494182343\n",
    "<li>Recall weighted: 0.673860911271\n",
    "<li>F1 score weighted: 0.652320414407"
   ]
  },
  {
   "cell_type": "markdown",
   "metadata": {},
   "source": [
    "Let me assume some other stop words based on my experience"
   ]
  },
  {
   "cell_type": "code",
   "execution_count": null,
   "metadata": {},
   "outputs": [],
   "source": [
    "['на', 'для', 'що', 'як', /'та'/, /'до'/, 'це', 'по', 'при', 'від', /'через'/, /'то'/, /'якщо'/, 'вже', 'тому', 'коли',\n",
    "                 'таку', 'вони', 'його', 'було', 'під', 'мені', 'цей', {'такі', 'щоб', 'свою', 'про', 'який', 'ці', 'те', 'них',\n",
    "                 'цього', 'бо', 'або', 'які', 'із', 'свої', 'хто', 'собі', 'того', 'теж', 'вона', 'яка', 'цьому', \n",
    "                 'латина', 'інти', 'аа', 'не', 'а', 'над', 'в', 'у', 'де', 'за', 'із']"
   ]
  },
  {
   "cell_type": "code",
   "execution_count": 251,
   "metadata": {},
   "outputs": [],
   "source": [
    "stop_words_my = ['на', 'для', 'що', 'як', 'це', 'по', 'при', 'від', 'вже', 'тому', 'коли', 'таку', 'вони', 'його', 'було',\n",
    "                 'під', 'мені', 'цей', 'такі', 'щоб', 'свою', 'про', 'який', 'ці', 'те', 'них',\n",
    "                 'цього', 'бо', 'або', 'які', 'із', 'свої', 'хто', 'собі', 'того', 'теж', 'вона', 'яка', 'цьому', \n",
    "                 'латина', 'інти', 'аа', 'не', 'а', 'над', 'в', 'у', 'де', 'за', 'із']"
   ]
  },
  {
   "cell_type": "code",
   "execution_count": 252,
   "metadata": {},
   "outputs": [
    {
     "name": "stdout",
     "output_type": "stream",
     "text": [
      "text shape: (5001, 22623)\n",
      "text and features shape: (5001, 22626)\n"
     ]
    }
   ],
   "source": [
    "bow_stop2 = CountVectorizer(stop_words=stop_words_my).fit(X_train_senti['total_comment'])\n",
    "X_text_stop2 = pd.DataFrame(bow_stop2.transform(X_train_senti['total_comment']).todense(),\n",
    "                      columns=bow_stop2.get_feature_names(), index=X_train_senti.index)\n",
    "print('text shape: {}'.format(X_text_stop2.shape))\n",
    "X_stop2 = pd.concat([X_text_stop2, X_numb_stop], axis=1, join=\"inner\")\n",
    "print('text and features shape: {}'.format(X_stop2.shape))"
   ]
  },
  {
   "cell_type": "code",
   "execution_count": 253,
   "metadata": {},
   "outputs": [
    {
     "data": {
      "text/plain": [
       "MultinomialNB(alpha=0.1, class_prior=None, fit_prior=True)"
      ]
     },
     "execution_count": 253,
     "metadata": {},
     "output_type": "execute_result"
    }
   ],
   "source": [
    "model_stop2 = MultinomialNB(alpha=0.1)\n",
    "model_stop2.fit(X_stop2, y_train_senti)"
   ]
  },
  {
   "cell_type": "code",
   "execution_count": 254,
   "metadata": {},
   "outputs": [
    {
     "name": "stdout",
     "output_type": "stream",
     "text": [
      "text shape: (1251, 22623)\n",
      "text and features shape: (1251, 22626)\n"
     ]
    }
   ],
   "source": [
    "X_test_stop2 = pd.DataFrame(bow_stop2.transform(X_test_senti['total_comment']).todense(),\n",
    "                           columns=bow_stop2.get_feature_names(), index=X_test_senti.index)\n",
    "print('text shape: {}'.format(X_test_stop2.shape))\n",
    "X_test_stop2 = pd.concat([X_test_stop2, X_test_num_stop], axis=1, join=\"inner\")\n",
    "print('text and features shape: {}'.format(X_test_stop2.shape))\n",
    "predictions_stop2 = model_stop2.predict(X_test_stop2)"
   ]
  },
  {
   "cell_type": "code",
   "execution_count": 255,
   "metadata": {},
   "outputs": [
    {
     "name": "stdout",
     "output_type": "stream",
     "text": [
      "Accuracy: 0.672262190248\n",
      "\n",
      "Precision weighted: 0.647822513476\n",
      "Recall weighted: 0.672262190248\n",
      "F1 score weighted: 0.651001174599\n",
      "\n",
      "Precision macro: 0.524167230619\n",
      "Recall macro: 0.45053808782\n",
      "F1 score macro: 0.465469673018\n"
     ]
    }
   ],
   "source": [
    "print('Accuracy:', accuracy_score(y_test_senti, predictions_stop2))\n",
    "print()\n",
    "print('Precision weighted:', precision_score(y_test_senti, predictions_stop2, average='weighted'))\n",
    "print('Recall weighted:', recall_score(y_test_senti, predictions_stop2, average='weighted'))\n",
    "print('F1 score weighted:', f1_score(y_test_senti, predictions_stop2, average='weighted'))\n",
    "print()\n",
    "print('Precision macro:', precision_score(y_test_senti, predictions_stop2, average='macro'))\n",
    "print('Recall macro:', recall_score(y_test_senti, predictions_stop2, average='macro'))\n",
    "print('F1 score macro:', f1_score(y_test_senti, predictions_stop2, average='macro'))"
   ]
  },
  {
   "cell_type": "markdown",
   "metadata": {},
   "source": [
    "The result is better than with previous stop words, but not better then without it."
   ]
  },
  {
   "cell_type": "markdown",
   "metadata": {},
   "source": [
    "#### Lemmatization of text"
   ]
  },
  {
   "cell_type": "markdown",
   "metadata": {},
   "source": [
    "Lemmatize the text using pymorphy2 for ukrainina language"
   ]
  },
  {
   "cell_type": "code",
   "execution_count": 259,
   "metadata": {},
   "outputs": [],
   "source": [
    "import pymorphy2\n",
    "morph = pymorphy2.MorphAnalyzer(lang='uk')"
   ]
  },
  {
   "cell_type": "code",
   "execution_count": 260,
   "metadata": {},
   "outputs": [],
   "source": [
    "def lemmatize_text(text):\n",
    "    tokens = [x.strip('.,/!#?:;\"_') for x in text.split()]\n",
    "    lem_sent = ''\n",
    "    for t in tokens:\n",
    "        word = morph.parse(t)[0].normal_form\n",
    "        lem_sent += '{} '.format(word)\n",
    "    return lem_sent.strip()"
   ]
  },
  {
   "cell_type": "code",
   "execution_count": 261,
   "metadata": {},
   "outputs": [],
   "source": [
    "data['lemma_comment'] = data['total_comment'].apply(lemmatize_text)"
   ]
  },
  {
   "cell_type": "code",
   "execution_count": 312,
   "metadata": {},
   "outputs": [],
   "source": [
    "X_train_lemma, X_test_lemma, y_train_lemma, y_test_lemma = train_test_split(\n",
    "                                                    data[['lemma_comment', 'pos', 'neg', 'len_words']],\n",
    "                                                    data['label'],\n",
    "                                                    test_size=0.2,\n",
    "                                                    random_state=100)"
   ]
  },
  {
   "cell_type": "code",
   "execution_count": 313,
   "metadata": {},
   "outputs": [
    {
     "name": "stdout",
     "output_type": "stream",
     "text": [
      "text shape: (5001, 14385)\n"
     ]
    },
    {
     "name": "stderr",
     "output_type": "stream",
     "text": [
      "/Library/Frameworks/Python.framework/Versions/3.6/lib/python3.6/site-packages/pandas/core/frame.py:2450: SettingWithCopyWarning: \n",
      "A value is trying to be set on a copy of a slice from a DataFrame.\n",
      "Try using .loc[row_indexer,col_indexer] = value instead\n",
      "\n",
      "See the caveats in the documentation: http://pandas.pydata.org/pandas-docs/stable/indexing.html#indexing-view-versus-copy\n",
      "  self[k1] = value[k2]\n"
     ]
    },
    {
     "name": "stdout",
     "output_type": "stream",
     "text": [
      "text and features shape: (5001, 14388)\n"
     ]
    }
   ],
   "source": [
    "bow_lemma = CountVectorizer(stop_words=stop_words_my).fit(X_train_lemma['lemma_comment'])\n",
    "X_text_lemma = pd.DataFrame(bow_lemma.transform(X_train_lemma['lemma_comment']).todense(),\n",
    "                            columns=bow_lemma.get_feature_names(), index=X_train_lemma.index)\n",
    "print('text shape: {}'.format(X_text_lemma.shape))\n",
    "X_numb_lemma = X_train_lemma[['pos', 'neg', 'len_words']]\n",
    "X_numb_lemma[['pos', 'neg']] = X_numb_lemma[['pos', 'neg']] * k\n",
    "X_lemma = pd.concat([X_text_lemma, X_numb_lemma], axis=1, join=\"inner\")\n",
    "print('text and features shape: {}'.format(X_lemma.shape))"
   ]
  },
  {
   "cell_type": "code",
   "execution_count": 314,
   "metadata": {},
   "outputs": [
    {
     "data": {
      "text/plain": [
       "MultinomialNB(alpha=0.1, class_prior=None, fit_prior=True)"
      ]
     },
     "execution_count": 314,
     "metadata": {},
     "output_type": "execute_result"
    }
   ],
   "source": [
    "model_lemma = MultinomialNB(alpha=0.1)\n",
    "model_lemma.fit(X_lemma, y_train_lemma)"
   ]
  },
  {
   "cell_type": "code",
   "execution_count": 315,
   "metadata": {},
   "outputs": [
    {
     "name": "stdout",
     "output_type": "stream",
     "text": [
      "2: наушник, слухати, радити, хотіти, поганий, якщо, лівий, дешевий, зламатися, розетка, телефон, планшет, краще, кнопка, пара, можливо, монітор, великий, взагалі, ремонт, ви, користуватися, ноут, жахливий, гарантія, вухо, дизайн, почати, йога, динамік, ні, той, без, погана, щось, самий, хороший, мій, роутерти, та, нема, музика, ще, жах, правий, батарея, ноутбук, два, кабель, так, час, придбати, мікрофон, гріш, можна, інший, користування, том, більше, даний, день, екран, навіть, товар, робот, то, повернути, чи, рекомендувати, тиждень, тільки, переставити, немає, раз, проблема, купити, після, він, колонка, ціна, якість, просто, один, мен, до, через, перти, такий, місяць, весь, навушник, дуже, працювати, бути, але, звук, інта\n",
      "\n",
      "1: провід, планшет, рекомендувати, мій, даний, чути, поки, краще, наушник, недолік, перший, покупка, могти, чудовий, тут, нормально, два, телефон, кнопка, користування, треба, погана, налаштування, потрібно, частота, самий, шнур, великий, грати, зручний, трохи, батарея, раз, більше, нормальний, мати, йога, гріш, ноутбук, навіть, гучність, монітор, тільки, інший, звучання, музика, якісний, досить, задоволений, просто, місяць, непоганий, том, добре, екран, користуватися, гарний, кабель, той, час, немає, купити, без, колонка, дизайн, робот, після, чи, мікрофон, проблема, бас, ще, вухо, можна, один, якщо, свій, то, так, він, через, мен, перти, до, та, такий, працювати, якість, весь, хороший, навушник, дуже, бути, але, ціна, звук, інта\n",
      "\n",
      "0: швидкість, треба, слухати, купувати, наушник, самий, батарея, ви, інший, день, модель, високий, перший, шнур, могти, нема, класний, гра, розетка, йога, також, два, тільки, екран, ноутбук, музика, раз, великий, процесор, більше, даний, гучність, знайти, досить, покупка, час, навіть, мікрофон, мій, рік, після, місяць, гріш, проблема, налаштування, кабель, добре, звучання, мати, том, один, виявити, робот, через, то, поки, рекомендувати, той, вухо, супер, зручний, гарний, без, якщо, колонка, так, дизайн, бас, купити, можна, ще, користуватися, просто, чи, він, перти, монітор, якісний, задоволений, чудовий, свій, мен, працювати, немає, до, хороший, такий, навушник, та, але, якість, дуже, бути, весь, ціна, звук, інта\n",
      "\n"
     ]
    }
   ],
   "source": [
    "feature_names = bow_lemma.get_feature_names()\n",
    "tops = []\n",
    "\n",
    "for i, class_label in enumerate([2, 1, 0]):\n",
    "    top100 = np.argsort(model_lemma.coef_[i])[-100:]\n",
    "    tops.append(top100)\n",
    "    print(\"%s: %s\" % (class_label, \", \".join(feature_names[x] for x in top100 if x < len(feature_names))))\n",
    "    print()"
   ]
  },
  {
   "cell_type": "code",
   "execution_count": 316,
   "metadata": {},
   "outputs": [
    {
     "name": "stdout",
     "output_type": "stream",
     "text": [
      "text shape: (1251, 14385)\n"
     ]
    },
    {
     "name": "stderr",
     "output_type": "stream",
     "text": [
      "/Library/Frameworks/Python.framework/Versions/3.6/lib/python3.6/site-packages/pandas/core/frame.py:2450: SettingWithCopyWarning: \n",
      "A value is trying to be set on a copy of a slice from a DataFrame.\n",
      "Try using .loc[row_indexer,col_indexer] = value instead\n",
      "\n",
      "See the caveats in the documentation: http://pandas.pydata.org/pandas-docs/stable/indexing.html#indexing-view-versus-copy\n",
      "  self[k1] = value[k2]\n"
     ]
    },
    {
     "name": "stdout",
     "output_type": "stream",
     "text": [
      "text and features shape: (1251, 14388)\n"
     ]
    }
   ],
   "source": [
    "X_test_text_lemma = pd.DataFrame(bow_lemma.transform(X_test_lemma['lemma_comment']).todense(),\n",
    "                                 columns=bow_lemma.get_feature_names(), index=X_test_lemma.index)\n",
    "print('text shape: {}'.format(X_test_text_lemma.shape))\n",
    "X_test_num_lemma = X_test_lemma[['pos', 'neg', 'len_words']]\n",
    "X_test_num_lemma[['pos', 'neg']] = X_test_num_lemma[['pos', 'neg']] * k\n",
    "X_test_lem = pd.concat([X_test_text_lemma, X_test_num_lemma], axis=1, join=\"inner\")\n",
    "print('text and features shape: {}'.format(X_test_lem.shape))\n",
    "predictions_lemma = model_lemma.predict(X_test_lem)"
   ]
  },
  {
   "cell_type": "code",
   "execution_count": 317,
   "metadata": {},
   "outputs": [
    {
     "name": "stdout",
     "output_type": "stream",
     "text": [
      "Accuracy: 0.684252597922\n",
      "\n",
      "Precision weighted: 0.6626855478\n",
      "Recall weighted: 0.684252597922\n",
      "F1 score weighted: 0.666199164228\n",
      "\n",
      "Precision macro: 0.505621135111\n",
      "Recall macro: 0.461533508131\n",
      "F1 score macro: 0.472762149416\n"
     ]
    }
   ],
   "source": [
    "print('Accuracy:', accuracy_score(y_test_lemma, predictions_lemma))\n",
    "print()\n",
    "print('Precision weighted:', precision_score(y_test_lemma, predictions_lemma, average='weighted'))\n",
    "print('Recall weighted:', recall_score(y_test_lemma, predictions_lemma, average='weighted'))\n",
    "print('F1 score weighted:', f1_score(y_test_lemma, predictions_lemma, average='weighted'))\n",
    "print()\n",
    "print('Precision macro:', precision_score(y_test_lemma, predictions_lemma, average='macro'))\n",
    "print('Recall macro:', recall_score(y_test_lemma, predictions_lemma, average='macro'))\n",
    "print('F1 score macro:', f1_score(y_test_lemma, predictions_lemma, average='macro'))"
   ]
  },
  {
   "cell_type": "markdown",
   "metadata": {},
   "source": [
    "<b>Previous results:</b>\n",
    "<li>Accuracy: 0.672262190248\n",
    "<li>Precision weighted: 0.647822513476\n",
    "<li>Recall weighted: 0.672262190248\n",
    "<li>F1 score weighted: 0.651001174599"
   ]
  },
  {
   "cell_type": "code",
   "execution_count": 318,
   "metadata": {},
   "outputs": [],
   "source": [
    "conf_matrix_lemma = confusion_matrix(y_test_lemma, predictions_lemma, labels=[2, 1, 0])\n",
    "conf_matrix_lemma = pd.DataFrame(conf_matrix_lemma, columns=classes, index=classes)"
   ]
  },
  {
   "cell_type": "code",
   "execution_count": 319,
   "metadata": {},
   "outputs": [
    {
     "data": {
      "text/html": [
       "<div>\n",
       "<style>\n",
       "    .dataframe thead tr:only-child th {\n",
       "        text-align: right;\n",
       "    }\n",
       "\n",
       "    .dataframe thead th {\n",
       "        text-align: left;\n",
       "    }\n",
       "\n",
       "    .dataframe tbody tr th {\n",
       "        vertical-align: top;\n",
       "    }\n",
       "</style>\n",
       "<table border=\"1\" class=\"dataframe\">\n",
       "  <thead>\n",
       "    <tr style=\"text-align: right;\">\n",
       "      <th></th>\n",
       "      <th>excelent</th>\n",
       "      <th>good</th>\n",
       "      <th>bad</th>\n",
       "    </tr>\n",
       "  </thead>\n",
       "  <tbody>\n",
       "    <tr>\n",
       "      <th>excelent</th>\n",
       "      <td>671</td>\n",
       "      <td>112</td>\n",
       "      <td>4</td>\n",
       "    </tr>\n",
       "    <tr>\n",
       "      <th>good</th>\n",
       "      <td>235</td>\n",
       "      <td>181</td>\n",
       "      <td>11</td>\n",
       "    </tr>\n",
       "    <tr>\n",
       "      <th>bad</th>\n",
       "      <td>11</td>\n",
       "      <td>22</td>\n",
       "      <td>4</td>\n",
       "    </tr>\n",
       "  </tbody>\n",
       "</table>\n",
       "</div>"
      ],
      "text/plain": [
       "          excelent  good  bad\n",
       "excelent       671   112    4\n",
       "good           235   181   11\n",
       "bad             11    22    4"
      ]
     },
     "execution_count": 319,
     "metadata": {},
     "output_type": "execute_result"
    }
   ],
   "source": [
    "conf_matrix_lemma"
   ]
  },
  {
   "cell_type": "code",
   "execution_count": 320,
   "metadata": {},
   "outputs": [
    {
     "data": {
      "text/html": [
       "<div>\n",
       "<style>\n",
       "    .dataframe thead tr:only-child th {\n",
       "        text-align: right;\n",
       "    }\n",
       "\n",
       "    .dataframe thead th {\n",
       "        text-align: left;\n",
       "    }\n",
       "\n",
       "    .dataframe tbody tr th {\n",
       "        vertical-align: top;\n",
       "    }\n",
       "</style>\n",
       "<table border=\"1\" class=\"dataframe\">\n",
       "  <thead>\n",
       "    <tr style=\"text-align: right;\">\n",
       "      <th></th>\n",
       "      <th>excelent</th>\n",
       "      <th>good</th>\n",
       "      <th>bad</th>\n",
       "    </tr>\n",
       "  </thead>\n",
       "  <tbody>\n",
       "    <tr>\n",
       "      <th>excelent</th>\n",
       "      <td>671</td>\n",
       "      <td>113</td>\n",
       "      <td>3</td>\n",
       "    </tr>\n",
       "    <tr>\n",
       "      <th>good</th>\n",
       "      <td>253</td>\n",
       "      <td>168</td>\n",
       "      <td>6</td>\n",
       "    </tr>\n",
       "    <tr>\n",
       "      <th>bad</th>\n",
       "      <td>8</td>\n",
       "      <td>25</td>\n",
       "      <td>4</td>\n",
       "    </tr>\n",
       "  </tbody>\n",
       "</table>\n",
       "</div>"
      ],
      "text/plain": [
       "          excelent  good  bad\n",
       "excelent       671   113    3\n",
       "good           253   168    6\n",
       "bad              8    25    4"
      ]
     },
     "execution_count": 320,
     "metadata": {},
     "output_type": "execute_result"
    }
   ],
   "source": [
    "# Previous results\n",
    "conf_matrix_baseline_senti"
   ]
  },
  {
   "cell_type": "markdown",
   "metadata": {},
   "source": [
    "The results are better, but let's try to inprove it more"
   ]
  },
  {
   "cell_type": "markdown",
   "metadata": {},
   "source": [
    "### Tf-idf vectorizer"
   ]
  },
  {
   "cell_type": "code",
   "execution_count": 404,
   "metadata": {},
   "outputs": [
    {
     "name": "stdout",
     "output_type": "stream",
     "text": [
      "text shape: (5001, 4345)\n",
      "text and features shape: (5001, 4348)\n"
     ]
    }
   ],
   "source": [
    "from sklearn.feature_extraction.text import TfidfVectorizer\n",
    "\n",
    "bow_tfidf = TfidfVectorizer(min_df=3).fit(X_train_lemma['lemma_comment'])\n",
    "X_text_tfidf = pd.DataFrame(bow_tfidf.transform(X_train_lemma['lemma_comment']).todense(),\n",
    "                            columns=bow_tfidf.get_feature_names(), index=X_train_lemma.index)\n",
    "print('text shape: {}'.format(X_text_tfidf.shape))\n",
    "X_tfidf = pd.concat([X_text_tfidf, X_numb_lemma], axis=1, join=\"inner\")\n",
    "print('text and features shape: {}'.format(X_tfidf.shape))"
   ]
  },
  {
   "cell_type": "code",
   "execution_count": 405,
   "metadata": {},
   "outputs": [
    {
     "data": {
      "text/plain": [
       "MultinomialNB(alpha=0.1, class_prior=None, fit_prior=True)"
      ]
     },
     "execution_count": 405,
     "metadata": {},
     "output_type": "execute_result"
    }
   ],
   "source": [
    "model_tfidf = MultinomialNB(alpha=0.1)\n",
    "model_tfidf.fit(X_tfidf, y_train_lemma)"
   ]
  },
  {
   "cell_type": "code",
   "execution_count": 406,
   "metadata": {},
   "outputs": [
    {
     "name": "stdout",
     "output_type": "stream",
     "text": [
      "text shape: (1251, 4345)\n",
      "text and features shape: (1251, 4348)\n"
     ]
    }
   ],
   "source": [
    "X_test_text_tfidf = pd.DataFrame(bow_tfidf.transform(X_test_lemma['lemma_comment']).todense(),\n",
    "                                 columns=bow_tfidf.get_feature_names(), index=X_test_lemma.index)\n",
    "print('text shape: {}'.format(X_test_text_tfidf.shape))\n",
    "X_test_tfidf = pd.concat([X_test_text_tfidf, X_test_num_lemma], axis=1, join=\"inner\")\n",
    "print('text and features shape: {}'.format(X_test_tfidf.shape))\n",
    "predictions_tfidf = model_tfidf.predict(X_test_tfidf)"
   ]
  },
  {
   "cell_type": "code",
   "execution_count": 407,
   "metadata": {},
   "outputs": [
    {
     "name": "stdout",
     "output_type": "stream",
     "text": [
      "Accuracy: 0.682653876898\n",
      "\n",
      "Precision weighted: 0.66132998117\n",
      "Recall weighted: 0.682653876898\n",
      "F1 score weighted: 0.655384522447\n",
      "\n",
      "Precision macro: 0.597579285071\n",
      "Recall macro: 0.460701690356\n",
      "F1 score macro: 0.483443002853\n"
     ]
    }
   ],
   "source": [
    "print('Accuracy:', accuracy_score(y_test_lemma, predictions_tfidf))\n",
    "print()\n",
    "print('Precision weighted:', precision_score(y_test_lemma, predictions_tfidf, average='weighted'))\n",
    "print('Recall weighted:', recall_score(y_test_lemma, predictions_tfidf, average='weighted'))\n",
    "print('F1 score weighted:', f1_score(y_test_lemma, predictions_tfidf, average='weighted'))\n",
    "print()\n",
    "print('Precision macro:', precision_score(y_test_lemma, predictions_tfidf, average='macro'))\n",
    "print('Recall macro:', recall_score(y_test_lemma, predictions_tfidf, average='macro'))\n",
    "print('F1 score macro:', f1_score(y_test_lemma, predictions_tfidf, average='macro'))"
   ]
  },
  {
   "cell_type": "markdown",
   "metadata": {},
   "source": [
    "### Use other models"
   ]
  },
  {
   "cell_type": "markdown",
   "metadata": {},
   "source": [
    "#### SVM"
   ]
  },
  {
   "cell_type": "code",
   "execution_count": 410,
   "metadata": {},
   "outputs": [
    {
     "name": "stdout",
     "output_type": "stream",
     "text": [
      "C:  0.1\n"
     ]
    },
    {
     "name": "stderr",
     "output_type": "stream",
     "text": [
      "/Library/Frameworks/Python.framework/Versions/3.6/lib/python3.6/site-packages/sklearn/metrics/classification.py:1135: UndefinedMetricWarning: Precision is ill-defined and being set to 0.0 in labels with no predicted samples.\n",
      "  'precision', 'predicted', average, warn_for)\n",
      "/Library/Frameworks/Python.framework/Versions/3.6/lib/python3.6/site-packages/sklearn/metrics/classification.py:1135: UndefinedMetricWarning: F-score is ill-defined and being set to 0.0 in labels with no predicted samples.\n",
      "  'precision', 'predicted', average, warn_for)\n",
      "/Library/Frameworks/Python.framework/Versions/3.6/lib/python3.6/site-packages/sklearn/metrics/classification.py:1135: UndefinedMetricWarning: Precision is ill-defined and being set to 0.0 in labels with no predicted samples.\n",
      "  'precision', 'predicted', average, warn_for)\n",
      "/Library/Frameworks/Python.framework/Versions/3.6/lib/python3.6/site-packages/sklearn/metrics/classification.py:1135: UndefinedMetricWarning: F-score is ill-defined and being set to 0.0 in labels with no predicted samples.\n",
      "  'precision', 'predicted', average, warn_for)\n",
      "/Library/Frameworks/Python.framework/Versions/3.6/lib/python3.6/site-packages/sklearn/metrics/classification.py:1135: UndefinedMetricWarning: Precision is ill-defined and being set to 0.0 in labels with no predicted samples.\n",
      "  'precision', 'predicted', average, warn_for)\n",
      "/Library/Frameworks/Python.framework/Versions/3.6/lib/python3.6/site-packages/sklearn/metrics/classification.py:1135: UndefinedMetricWarning: F-score is ill-defined and being set to 0.0 in labels with no predicted samples.\n",
      "  'precision', 'predicted', average, warn_for)\n",
      "/Library/Frameworks/Python.framework/Versions/3.6/lib/python3.6/site-packages/sklearn/metrics/classification.py:1135: UndefinedMetricWarning: Precision is ill-defined and being set to 0.0 in labels with no predicted samples.\n",
      "  'precision', 'predicted', average, warn_for)\n",
      "/Library/Frameworks/Python.framework/Versions/3.6/lib/python3.6/site-packages/sklearn/metrics/classification.py:1135: UndefinedMetricWarning: F-score is ill-defined and being set to 0.0 in labels with no predicted samples.\n",
      "  'precision', 'predicted', average, warn_for)\n"
     ]
    },
    {
     "name": "stdout",
     "output_type": "stream",
     "text": [
      "\tscore: fit_time\t51.207332611083984\n",
      "\tscore: score_time\t61.01500642299652\n",
      "\tscore: test_precision_macro\t0.21622351711371762\n",
      "\tscore: test_recall_macro\t0.3333333333333333\n",
      "\tscore: test_f1_macro\t0.2623004265230013\n",
      "\tscore: test_accuracy\t0.6486705513411529\n",
      "\n",
      "C:  1.0\n"
     ]
    },
    {
     "name": "stderr",
     "output_type": "stream",
     "text": [
      "/Library/Frameworks/Python.framework/Versions/3.6/lib/python3.6/site-packages/sklearn/metrics/classification.py:1135: UndefinedMetricWarning: Precision is ill-defined and being set to 0.0 in labels with no predicted samples.\n",
      "  'precision', 'predicted', average, warn_for)\n",
      "/Library/Frameworks/Python.framework/Versions/3.6/lib/python3.6/site-packages/sklearn/metrics/classification.py:1135: UndefinedMetricWarning: F-score is ill-defined and being set to 0.0 in labels with no predicted samples.\n",
      "  'precision', 'predicted', average, warn_for)\n",
      "/Library/Frameworks/Python.framework/Versions/3.6/lib/python3.6/site-packages/sklearn/metrics/classification.py:1135: UndefinedMetricWarning: Precision is ill-defined and being set to 0.0 in labels with no predicted samples.\n",
      "  'precision', 'predicted', average, warn_for)\n",
      "/Library/Frameworks/Python.framework/Versions/3.6/lib/python3.6/site-packages/sklearn/metrics/classification.py:1135: UndefinedMetricWarning: F-score is ill-defined and being set to 0.0 in labels with no predicted samples.\n",
      "  'precision', 'predicted', average, warn_for)\n",
      "/Library/Frameworks/Python.framework/Versions/3.6/lib/python3.6/site-packages/sklearn/metrics/classification.py:1135: UndefinedMetricWarning: Precision is ill-defined and being set to 0.0 in labels with no predicted samples.\n",
      "  'precision', 'predicted', average, warn_for)\n",
      "/Library/Frameworks/Python.framework/Versions/3.6/lib/python3.6/site-packages/sklearn/metrics/classification.py:1135: UndefinedMetricWarning: F-score is ill-defined and being set to 0.0 in labels with no predicted samples.\n",
      "  'precision', 'predicted', average, warn_for)\n",
      "/Library/Frameworks/Python.framework/Versions/3.6/lib/python3.6/site-packages/sklearn/metrics/classification.py:1135: UndefinedMetricWarning: Precision is ill-defined and being set to 0.0 in labels with no predicted samples.\n",
      "  'precision', 'predicted', average, warn_for)\n",
      "/Library/Frameworks/Python.framework/Versions/3.6/lib/python3.6/site-packages/sklearn/metrics/classification.py:1135: UndefinedMetricWarning: F-score is ill-defined and being set to 0.0 in labels with no predicted samples.\n",
      "  'precision', 'predicted', average, warn_for)\n"
     ]
    },
    {
     "name": "stdout",
     "output_type": "stream",
     "text": [
      "\tscore: fit_time\t61.46523720026016\n",
      "\tscore: score_time\t122.8961398601532\n",
      "\tscore: test_precision_macro\t0.21622351711371762\n",
      "\tscore: test_recall_macro\t0.3333333333333333\n",
      "\tscore: test_f1_macro\t0.2623004265230013\n",
      "\tscore: test_accuracy\t0.6486705513411529\n",
      "\n",
      "C:  10\n"
     ]
    },
    {
     "name": "stderr",
     "output_type": "stream",
     "text": [
      "/Library/Frameworks/Python.framework/Versions/3.6/lib/python3.6/site-packages/sklearn/metrics/classification.py:1135: UndefinedMetricWarning: Precision is ill-defined and being set to 0.0 in labels with no predicted samples.\n",
      "  'precision', 'predicted', average, warn_for)\n",
      "/Library/Frameworks/Python.framework/Versions/3.6/lib/python3.6/site-packages/sklearn/metrics/classification.py:1135: UndefinedMetricWarning: F-score is ill-defined and being set to 0.0 in labels with no predicted samples.\n",
      "  'precision', 'predicted', average, warn_for)\n",
      "/Library/Frameworks/Python.framework/Versions/3.6/lib/python3.6/site-packages/sklearn/metrics/classification.py:1135: UndefinedMetricWarning: Precision is ill-defined and being set to 0.0 in labels with no predicted samples.\n",
      "  'precision', 'predicted', average, warn_for)\n",
      "/Library/Frameworks/Python.framework/Versions/3.6/lib/python3.6/site-packages/sklearn/metrics/classification.py:1135: UndefinedMetricWarning: F-score is ill-defined and being set to 0.0 in labels with no predicted samples.\n",
      "  'precision', 'predicted', average, warn_for)\n"
     ]
    },
    {
     "name": "stdout",
     "output_type": "stream",
     "text": [
      "\tscore: fit_time\t68.38112848997116\n",
      "\tscore: score_time\t69.75559556484222\n",
      "\tscore: test_precision_macro\t0.39873228094025737\n",
      "\tscore: test_recall_macro\t0.34146554504047893\n",
      "\tscore: test_f1_macro\t0.2859874707583033\n",
      "\tscore: test_accuracy\t0.6520686328759251\n",
      "\n",
      "C:  100\n"
     ]
    },
    {
     "name": "stderr",
     "output_type": "stream",
     "text": [
      "/Library/Frameworks/Python.framework/Versions/3.6/lib/python3.6/site-packages/sklearn/metrics/classification.py:1135: UndefinedMetricWarning: Precision is ill-defined and being set to 0.0 in labels with no predicted samples.\n",
      "  'precision', 'predicted', average, warn_for)\n",
      "/Library/Frameworks/Python.framework/Versions/3.6/lib/python3.6/site-packages/sklearn/metrics/classification.py:1135: UndefinedMetricWarning: F-score is ill-defined and being set to 0.0 in labels with no predicted samples.\n",
      "  'precision', 'predicted', average, warn_for)\n",
      "/Library/Frameworks/Python.framework/Versions/3.6/lib/python3.6/site-packages/sklearn/metrics/classification.py:1135: UndefinedMetricWarning: Precision is ill-defined and being set to 0.0 in labels with no predicted samples.\n",
      "  'precision', 'predicted', average, warn_for)\n",
      "/Library/Frameworks/Python.framework/Versions/3.6/lib/python3.6/site-packages/sklearn/metrics/classification.py:1135: UndefinedMetricWarning: F-score is ill-defined and being set to 0.0 in labels with no predicted samples.\n",
      "  'precision', 'predicted', average, warn_for)\n"
     ]
    },
    {
     "name": "stdout",
     "output_type": "stream",
     "text": [
      "\tscore: fit_time\t67.64508378505707\n",
      "\tscore: score_time\t67.5543224811554\n",
      "\tscore: test_precision_macro\t0.39559302717203565\n",
      "\tscore: test_recall_macro\t0.34636785599478614\n",
      "\tscore: test_f1_macro\t0.29941245801716765\n",
      "\tscore: test_accuracy\t0.6536679938995161\n",
      "\n",
      "C:  1000\n"
     ]
    },
    {
     "name": "stderr",
     "output_type": "stream",
     "text": [
      "/Library/Frameworks/Python.framework/Versions/3.6/lib/python3.6/site-packages/sklearn/metrics/classification.py:1135: UndefinedMetricWarning: Precision is ill-defined and being set to 0.0 in labels with no predicted samples.\n",
      "  'precision', 'predicted', average, warn_for)\n",
      "/Library/Frameworks/Python.framework/Versions/3.6/lib/python3.6/site-packages/sklearn/metrics/classification.py:1135: UndefinedMetricWarning: F-score is ill-defined and being set to 0.0 in labels with no predicted samples.\n",
      "  'precision', 'predicted', average, warn_for)\n"
     ]
    },
    {
     "name": "stdout",
     "output_type": "stream",
     "text": [
      "\tscore: fit_time\t62.69153702259064\n",
      "\tscore: score_time\t70.54643732309341\n",
      "\tscore: test_precision_macro\t0.4562695502975759\n",
      "\tscore: test_recall_macro\t0.4046141286162713\n",
      "\tscore: test_f1_macro\t0.39487148047480136\n",
      "\tscore: test_accuracy\t0.7032598588543097\n",
      "\n",
      "C:  10000\n",
      "\tscore: fit_time\t85.13555026054382\n",
      "\tscore: score_time\t63.7987260222435\n",
      "\tscore: test_precision_macro\t0.5717813239488678\n",
      "\tscore: test_recall_macro\t0.48106996210858943\n",
      "\tscore: test_f1_macro\t0.5032184798632247\n",
      "\tscore: test_accuracy\t0.6882616092554299\n",
      "\n"
     ]
    }
   ],
   "source": [
    "from sklearn.svm import SVC\n",
    "\n",
    "coefs = [0.1, 1.0, 10, 100, 1000, 10000]\n",
    "curves_dict = {}\n",
    "\n",
    "for c in coefs:\n",
    "    print('C: ', c)\n",
    "    svm_temp = SVC(C=c)\n",
    "    svm_temp.fit(X_tfidf, y_train_lemma)\n",
    "    scores = cross_validate(svm_temp, X_tfidf, y_train_lemma, cv=4, scoring=scoring, return_train_score=False)\n",
    "    for score, values in scores.items():\n",
    "        curves_dict.setdefault(score, []).append(values.mean())\n",
    "        print('\\tscore: {}\\t{}'.format(score, values.mean()))\n",
    "    print()"
   ]
  },
  {
   "cell_type": "code",
   "execution_count": 421,
   "metadata": {},
   "outputs": [
    {
     "name": "stdout",
     "output_type": "stream",
     "text": [
      "GridSearchCV(cv=None, error_score='raise',\n",
      "       estimator=SVC(C=1.0, cache_size=200, class_weight=None, coef0=0.0,\n",
      "  decision_function_shape='ovr', degree=3, gamma='auto', kernel='linear',\n",
      "  max_iter=-1, probability=False, random_state=None, shrinking=True,\n",
      "  tol=0.001, verbose=False),\n",
      "       fit_params=None, iid=True, n_jobs=4,\n",
      "       param_grid={'C': [1000, 10000, 50000, 100000]},\n",
      "       pre_dispatch='2*n_jobs', refit=False, return_train_score=False,\n",
      "       scoring=['precision_macro', 'recall_macro', 'f1_macro', 'accuracy'],\n",
      "       verbose=0)\n"
     ]
    }
   ],
   "source": [
    "from sklearn.model_selection import KFold, GridSearchCV\n",
    "\n",
    "parameters = {'C': [1000, 10000, 50000, 100000]} # , 1000, 10000, 100000]}\n",
    "# parameters = {'kernel': ('linear', 'rbf')}\n",
    "# parameters = {'C': [10, 100]} # , 1000, 10000, 100000]}\n",
    "svc = SVC(kernel='linear')\n",
    "clf = GridSearchCV(svc, parameters, return_train_score=False, n_jobs=4, scoring=scoring, refit=False)\n",
    "clf.fit(X_tfidf, y_train_lemma)\n",
    "print(clf)"
   ]
  },
  {
   "cell_type": "code",
   "execution_count": null,
   "metadata": {},
   "outputs": [],
   "source": [
    "parameters_svm = {'C': [1, 10, 100]} # , 1000, 10000, 100000]}\n",
    "# parameters = {'kernel': ('linear', 'rbf')}\n",
    "# parameters = {'C': [10, 100]} # , 1000, 10000, 100000]}\n",
    "svc = SVC(kernel='linear')\n",
    "clf_svm = GridSearchCV(svc, parameters, return_train_score=False, n_jobs=4, scoring=scoring, refit=False)\n",
    "clf_svm.fit(X_tfidf, y_train_lemma)\n",
    "print(clf_svm)"
   ]
  },
  {
   "cell_type": "code",
   "execution_count": 423,
   "metadata": {},
   "outputs": [
    {
     "data": {
      "text/plain": [
       "{'mean_fit_time': array([ 653.929461  ,  638.22114412,  545.68150934,  558.01784134]),\n",
       " 'mean_score_time': array([ 59.25568851,  56.63951842,  53.03321385,  53.12905272]),\n",
       " 'mean_test_accuracy': array([ 0.62427514,  0.62427514,  0.62647471,  0.62647471]),\n",
       " 'mean_test_f1_macro': array([ 0.48141029,  0.47952094,  0.47933555,  0.47933555]),\n",
       " 'mean_test_precision_macro': array([ 0.50697313,  0.50720615,  0.50769299,  0.50769299]),\n",
       " 'mean_test_recall_macro': array([ 0.46884969,  0.46693712,  0.46659938,  0.46659938]),\n",
       " 'param_C': masked_array(data = [1000 10000 50000 100000],\n",
       "              mask = [False False False False],\n",
       "        fill_value = ?),\n",
       " 'params': [{'C': 1000}, {'C': 10000}, {'C': 50000}, {'C': 100000}],\n",
       " 'rank_test_accuracy': array([3, 3, 1, 1], dtype=int32),\n",
       " 'rank_test_f1_macro': array([1, 2, 3, 3], dtype=int32),\n",
       " 'rank_test_precision_macro': array([4, 3, 1, 1], dtype=int32),\n",
       " 'rank_test_recall_macro': array([1, 2, 3, 3], dtype=int32),\n",
       " 'split0_test_accuracy': array([ 0.62709832,  0.617506  ,  0.617506  ,  0.617506  ]),\n",
       " 'split0_test_f1_macro': array([ 0.47151225,  0.47096705,  0.47096705,  0.47096705]),\n",
       " 'split0_test_precision_macro': array([ 0.4812062 ,  0.48085017,  0.48085017,  0.48085017]),\n",
       " 'split0_test_recall_macro': array([ 0.46405188,  0.46383002,  0.46383002,  0.46383002]),\n",
       " 'split1_test_accuracy': array([ 0.62807439,  0.63287343,  0.63287343,  0.63287343]),\n",
       " 'split1_test_f1_macro': array([ 0.49477796,  0.49867752,  0.49867752,  0.49867752]),\n",
       " 'split1_test_precision_macro': array([ 0.50646296,  0.51026592,  0.51026592,  0.51026592]),\n",
       " 'split1_test_recall_macro': array([ 0.48671257,  0.4907471 ,  0.4907471 ,  0.4907471 ]),\n",
       " 'split2_test_accuracy': array([ 0.61764706,  0.62244898,  0.62905162,  0.62905162]),\n",
       " 'split2_test_f1_macro': array([ 0.47794454,  0.46891702,  0.46836052,  0.46836052]),\n",
       " 'split2_test_precision_macro': array([ 0.53328149,  0.53053216,  0.53199357,  0.53199357]),\n",
       " 'split2_test_recall_macro': array([ 0.45577967,  0.44622367,  0.44520984,  0.44520984]),\n",
       " 'std_fit_time': array([ 114.74181747,   52.99182232,  134.3321931 ,   70.62450747]),\n",
       " 'std_score_time': array([ 3.22389316,  3.87430783,  2.96086653,  2.27527362]),\n",
       " 'std_test_accuracy': array([ 0.00470158,  0.00640604,  0.00653366,  0.00653366]),\n",
       " 'std_test_f1_macro': array([ 0.00981035,  0.01357158,  0.01371817,  0.01371817]),\n",
       " 'std_test_precision_macro': array([ 0.0212627 ,  0.02039766,  0.02095832,  0.02095832]),\n",
       " 'std_test_recall_macro': array([ 0.01307464,  0.01830632,  0.01869068,  0.01869068])}"
      ]
     },
     "execution_count": 423,
     "metadata": {},
     "output_type": "execute_result"
    }
   ],
   "source": [
    "clf.cv_results_"
   ]
  },
  {
   "cell_type": "code",
   "execution_count": 418,
   "metadata": {},
   "outputs": [
    {
     "name": "stderr",
     "output_type": "stream",
     "text": [
      "/Library/Frameworks/Python.framework/Versions/3.6/lib/python3.6/site-packages/sklearn/metrics/classification.py:1135: UndefinedMetricWarning: Precision is ill-defined and being set to 0.0 in labels with no predicted samples.\n",
      "  'precision', 'predicted', average, warn_for)\n",
      "/Library/Frameworks/Python.framework/Versions/3.6/lib/python3.6/site-packages/sklearn/metrics/classification.py:1135: UndefinedMetricWarning: F-score is ill-defined and being set to 0.0 in labels with no predicted samples.\n",
      "  'precision', 'predicted', average, warn_for)\n",
      "/Library/Frameworks/Python.framework/Versions/3.6/lib/python3.6/site-packages/sklearn/metrics/classification.py:1135: UndefinedMetricWarning: Precision is ill-defined and being set to 0.0 in labels with no predicted samples.\n",
      "  'precision', 'predicted', average, warn_for)\n",
      "/Library/Frameworks/Python.framework/Versions/3.6/lib/python3.6/site-packages/sklearn/metrics/classification.py:1135: UndefinedMetricWarning: F-score is ill-defined and being set to 0.0 in labels with no predicted samples.\n",
      "  'precision', 'predicted', average, warn_for)\n",
      "/Library/Frameworks/Python.framework/Versions/3.6/lib/python3.6/site-packages/sklearn/metrics/classification.py:1135: UndefinedMetricWarning: Precision is ill-defined and being set to 0.0 in labels with no predicted samples.\n",
      "  'precision', 'predicted', average, warn_for)\n",
      "/Library/Frameworks/Python.framework/Versions/3.6/lib/python3.6/site-packages/sklearn/metrics/classification.py:1135: UndefinedMetricWarning: F-score is ill-defined and being set to 0.0 in labels with no predicted samples.\n",
      "  'precision', 'predicted', average, warn_for)\n"
     ]
    },
    {
     "name": "stdout",
     "output_type": "stream",
     "text": [
      "GridSearchCV(cv=None, error_score='raise',\n",
      "       estimator=SVC(C=1.0, cache_size=200, class_weight=None, coef0=0.0,\n",
      "  decision_function_shape='ovr', degree=3, gamma='auto', kernel='rbf',\n",
      "  max_iter=-1, probability=False, random_state=None, shrinking=True,\n",
      "  tol=0.001, verbose=False),\n",
      "       fit_params=None, iid=True, n_jobs=4,\n",
      "       param_grid={'kernel': ('linear', 'rbf')}, pre_dispatch='2*n_jobs',\n",
      "       refit=False, return_train_score=False,\n",
      "       scoring=['precision_macro', 'recall_macro', 'f1_macro', 'accuracy'],\n",
      "       verbose=0)\n"
     ]
    }
   ],
   "source": [
    "# parameters = {'kernel': ('linear', 'rbf'), 'C': [10, 100]} # , 1000, 10000, 100000]}\n",
    "parameters = {'kernel': ('linear', 'rbf')}\n",
    "# parameters = {'C': [10, 100]} # , 1000, 10000, 100000]}\n",
    "svc = SVC()\n",
    "clf = GridSearchCV(svc, parameters, return_train_score=False, n_jobs=4, scoring=scoring, refit=False)\n",
    "clf.fit(X_tfidf, y_train_lemma)\n",
    "print(clf)"
   ]
  },
  {
   "cell_type": "code",
   "execution_count": 419,
   "metadata": {},
   "outputs": [
    {
     "data": {
      "text/plain": [
       "{'mean_fit_time': array([ 191.0926195 ,   68.40724643]),\n",
       " 'mean_score_time': array([ 105.35945058,   92.48735778]),\n",
       " 'mean_test_accuracy': array([ 0.71525695,  0.64867027]),\n",
       " 'mean_test_f1_macro': array([ 0.4447344 ,  0.26230038]),\n",
       " 'mean_test_precision_macro': array([ 0.6418401 ,  0.21622342]),\n",
       " 'mean_test_recall_macro': array([ 0.44006183,  0.33333333]),\n",
       " 'param_kernel': masked_array(data = ['linear' 'rbf'],\n",
       "              mask = [False False],\n",
       "        fill_value = ?),\n",
       " 'params': [{'kernel': 'linear'}, {'kernel': 'rbf'}],\n",
       " 'rank_test_accuracy': array([1, 2], dtype=int32),\n",
       " 'rank_test_f1_macro': array([1, 2], dtype=int32),\n",
       " 'rank_test_precision_macro': array([1, 2], dtype=int32),\n",
       " 'rank_test_recall_macro': array([1, 2], dtype=int32),\n",
       " 'split0_test_accuracy': array([ 0.7146283 ,  0.64868106]),\n",
       " 'split0_test_f1_macro': array([ 0.44617318,  0.26230303]),\n",
       " 'split0_test_precision_macro': array([ 0.51863864,  0.21622702]),\n",
       " 'split0_test_recall_macro': array([ 0.44167853,  0.33333333]),\n",
       " 'split1_test_accuracy': array([ 0.71685663,  0.64847031]),\n",
       " 'split1_test_f1_macro': array([ 0.44438332,  0.26225133]),\n",
       " 'split1_test_precision_macro': array([ 0.62130969,  0.21615677]),\n",
       " 'split1_test_recall_macro': array([ 0.43974584,  0.33333333]),\n",
       " 'split2_test_accuracy': array([ 0.71428571,  0.64885954]),\n",
       " 'split2_test_f1_macro': array([ 0.44364517,  0.2623468 ]),\n",
       " 'split2_test_precision_macro': array([ 0.7857322 ,  0.21628651]),\n",
       " 'split2_test_recall_macro': array([ 0.43875937,  0.33333333]),\n",
       " 'std_fit_time': array([ 28.44792012,   9.2934225 ]),\n",
       " 'std_score_time': array([  8.63028583,  16.83531903]),\n",
       " 'std_test_accuracy': array([ 0.00113976,  0.00015907]),\n",
       " 'std_test_f1_macro': array([  1.06149345e-03,   3.90139766e-05]),\n",
       " 'std_test_precision_macro': array([  1.10002604e-01,   5.30216946e-05]),\n",
       " 'std_test_recall_macro': array([ 0.00121251,  0.        ])}"
      ]
     },
     "execution_count": 419,
     "metadata": {},
     "output_type": "execute_result"
    }
   ],
   "source": [
    "clf.cv_results_"
   ]
  },
  {
   "cell_type": "code",
   "execution_count": 424,
   "metadata": {},
   "outputs": [],
   "source": [
    "c_new = clf.cv_results_"
   ]
  },
  {
   "cell_type": "code",
   "execution_count": 425,
   "metadata": {},
   "outputs": [
    {
     "data": {
      "text/plain": [
       "dict"
      ]
     },
     "execution_count": 425,
     "metadata": {},
     "output_type": "execute_result"
    }
   ],
   "source": [
    "type(c_new)"
   ]
  },
  {
   "cell_type": "code",
   "execution_count": null,
   "metadata": {},
   "outputs": [],
   "source": []
  }
 ],
 "metadata": {
  "kernelspec": {
   "display_name": "Python 3",
   "language": "python",
   "name": "python3"
  },
  "language_info": {
   "codemirror_mode": {
    "name": "ipython",
    "version": 3
   },
   "file_extension": ".py",
   "mimetype": "text/x-python",
   "name": "python",
   "nbconvert_exporter": "python",
   "pygments_lexer": "ipython3",
   "version": "3.6.1"
  }
 },
 "nbformat": 4,
 "nbformat_minor": 1
}
