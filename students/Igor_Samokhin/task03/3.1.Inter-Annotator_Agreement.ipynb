{
 "cells": [
  {
   "cell_type": "markdown",
   "metadata": {},
   "source": [
    "## Inter-annotator agreement in CoNLL-2014 Test Data"
   ]
  },
  {
   "cell_type": "code",
   "execution_count": 1,
   "metadata": {},
   "outputs": [],
   "source": [
    "from lxml import html\n",
    "import pandas as pd\n",
    "import numpy as np\n",
    "import re\n",
    "from collections import OrderedDict"
   ]
  },
  {
   "cell_type": "markdown",
   "metadata": {},
   "source": [
    "sgml files of CoNLL-2014 Test Data provide structured, easy-to-parse data. We begin with extracting data for each correction and putting it into a pandas DataFrame for further analysis."
   ]
  },
  {
   "cell_type": "code",
   "execution_count": 2,
   "metadata": {},
   "outputs": [],
   "source": [
    "def extract_docs(filename):\n",
    "    with open(filename) as f:\n",
    "        anns = f.read()\n",
    "    # method fromstring() provides a list of elements and allows xml parsing without a single root\n",
    "    docs = html.fromstring(anns).xpath('doc')\n",
    "    return docs"
   ]
  },
  {
   "cell_type": "code",
   "execution_count": 3,
   "metadata": {},
   "outputs": [],
   "source": [
    "def parse_corrections(filename):\n",
    "    \"\"\"\n",
    "    A function to parse corrections from sgml file and\n",
    "    turn them into a pandas DataFrame (for further processing)\n",
    "    \"\"\"\n",
    "    docs = extract_docs(filename)\n",
    "    df = pd.DataFrame()\n",
    "    for doc in docs:\n",
    "        doc_id = doc.xpath('@nid')\n",
    "        teacher_id = doc.xpath('annotation/@teacher_id')[0]\n",
    "        for mistake in doc.xpath('annotation/mistake'):\n",
    "            row_dic = OrderedDict()\n",
    "            row_dic['doc_id'] = doc_id\n",
    "            row_dic['teacher_id'] = teacher_id\n",
    "            row_dic['start_par'] = mistake.xpath('@start_par')[0]\n",
    "            row_dic['start_off'] = mistake.xpath('@start_off')[0]\n",
    "            row_dic['end_par'] = mistake.xpath('@end_par')[0]\n",
    "            row_dic['end_off'] = mistake.xpath('@end_off')[0]\n",
    "            row_dic['type'] = mistake.xpath('type/text()')[0]\n",
    "            if len(mistake.xpath('correction/text()')) == 0:\n",
    "                row_dic['correction'] = ''\n",
    "            else:\n",
    "                row_dic['correction'] = mistake.xpath('correction/text()')[0]\n",
    "            row_df = pd.DataFrame(row_dic)\n",
    "            df = pd.concat([df, row_df])\n",
    "    return df"
   ]
  },
  {
   "cell_type": "markdown",
   "metadata": {},
   "source": [
    "Let's create two pandas DataFrames with corrections for each teacher"
   ]
  },
  {
   "cell_type": "code",
   "execution_count": 4,
   "metadata": {},
   "outputs": [],
   "source": [
    "corr_0 = parse_corrections('conll14st-test-data/noalt/official-2014.0.sgml')\n",
    "corr_1 = parse_corrections('conll14st-test-data/noalt/official-2014.1.sgml')\n",
    "\n",
    "# make sure that data types are numeric where possible\n",
    "corr_0 = corr_0.apply(pd.to_numeric, errors='ignore')\n",
    "corr_1 = corr_1.apply(pd.to_numeric, errors='ignore')"
   ]
  },
  {
   "cell_type": "markdown",
   "metadata": {},
   "source": [
    "How does our DataFrame look like?"
   ]
  },
  {
   "cell_type": "code",
   "execution_count": 5,
   "metadata": {},
   "outputs": [
    {
     "data": {
      "text/html": [
       "<div>\n",
       "<style scoped>\n",
       "    .dataframe tbody tr th:only-of-type {\n",
       "        vertical-align: middle;\n",
       "    }\n",
       "\n",
       "    .dataframe tbody tr th {\n",
       "        vertical-align: top;\n",
       "    }\n",
       "\n",
       "    .dataframe thead th {\n",
       "        text-align: right;\n",
       "    }\n",
       "</style>\n",
       "<table border=\"1\" class=\"dataframe\">\n",
       "  <thead>\n",
       "    <tr style=\"text-align: right;\">\n",
       "      <th></th>\n",
       "      <th>doc_id</th>\n",
       "      <th>teacher_id</th>\n",
       "      <th>start_par</th>\n",
       "      <th>start_off</th>\n",
       "      <th>end_par</th>\n",
       "      <th>end_off</th>\n",
       "      <th>type</th>\n",
       "      <th>correction</th>\n",
       "    </tr>\n",
       "  </thead>\n",
       "  <tbody>\n",
       "    <tr>\n",
       "      <th>0</th>\n",
       "      <td>1</td>\n",
       "      <td>8</td>\n",
       "      <td>1</td>\n",
       "      <td>42</td>\n",
       "      <td>1</td>\n",
       "      <td>46</td>\n",
       "      <td>ArtOrDet</td>\n",
       "      <td></td>\n",
       "    </tr>\n",
       "    <tr>\n",
       "      <th>0</th>\n",
       "      <td>1</td>\n",
       "      <td>8</td>\n",
       "      <td>1</td>\n",
       "      <td>118</td>\n",
       "      <td>1</td>\n",
       "      <td>125</td>\n",
       "      <td>Nn</td>\n",
       "      <td>diseases</td>\n",
       "    </tr>\n",
       "    <tr>\n",
       "      <th>0</th>\n",
       "      <td>1</td>\n",
       "      <td>8</td>\n",
       "      <td>1</td>\n",
       "      <td>620</td>\n",
       "      <td>1</td>\n",
       "      <td>627</td>\n",
       "      <td>Trans</td>\n",
       "      <td>However,</td>\n",
       "    </tr>\n",
       "    <tr>\n",
       "      <th>0</th>\n",
       "      <td>1</td>\n",
       "      <td>8</td>\n",
       "      <td>1</td>\n",
       "      <td>740</td>\n",
       "      <td>1</td>\n",
       "      <td>751</td>\n",
       "      <td>Mec</td>\n",
       "      <td>diagnosed</td>\n",
       "    </tr>\n",
       "    <tr>\n",
       "      <th>0</th>\n",
       "      <td>1</td>\n",
       "      <td>8</td>\n",
       "      <td>1</td>\n",
       "      <td>751</td>\n",
       "      <td>1</td>\n",
       "      <td>754</td>\n",
       "      <td>Prep</td>\n",
       "      <td></td>\n",
       "    </tr>\n",
       "  </tbody>\n",
       "</table>\n",
       "</div>"
      ],
      "text/plain": [
       "   doc_id  teacher_id  start_par  start_off  end_par  end_off      type  \\\n",
       "0       1           8          1         42        1       46  ArtOrDet   \n",
       "0       1           8          1        118        1      125        Nn   \n",
       "0       1           8          1        620        1      627     Trans   \n",
       "0       1           8          1        740        1      751       Mec   \n",
       "0       1           8          1        751        1      754      Prep   \n",
       "\n",
       "  correction  \n",
       "0             \n",
       "0   diseases  \n",
       "0   However,  \n",
       "0  diagnosed  \n",
       "0             "
      ]
     },
     "execution_count": 5,
     "metadata": {},
     "output_type": "execute_result"
    }
   ],
   "source": [
    "corr_0.head()"
   ]
  },
  {
   "cell_type": "markdown",
   "metadata": {},
   "source": [
    "How many corrections each of the teachers has made?"
   ]
  },
  {
   "cell_type": "code",
   "execution_count": 6,
   "metadata": {},
   "outputs": [
    {
     "name": "stdout",
     "output_type": "stream",
     "text": [
      "Teacher 8 has made 2397 corrections, while teacher 9 has made 3331\n"
     ]
    }
   ],
   "source": [
    "n_0 = len(corr_0)\n",
    "n_1 = len(corr_1)\n",
    "print('Teacher 8 has made {n_0} corrections, while teacher 9 has made {n_1}'\n",
    "      .format(n_0=n_0, n_1=n_1))"
   ]
  },
  {
   "cell_type": "markdown",
   "metadata": {},
   "source": [
    "Difference is pretty big! Why so?\n",
    "\n",
    "We can check how long is typical mistake and typical correction for each of the teachers."
   ]
  },
  {
   "cell_type": "code",
   "execution_count": 7,
   "metadata": {},
   "outputs": [],
   "source": [
    "corr_0['len_mistake'] = corr_0['end_off'] - corr_0['start_off']\n",
    "corr_1['len_mistake'] = corr_1['end_off'] - corr_1['start_off']\n",
    "\n",
    "corr_0['len_corr'] = corr_0['correction'].apply(len)\n",
    "corr_1['len_corr'] = corr_1['correction'].apply(len)"
   ]
  },
  {
   "cell_type": "code",
   "execution_count": 8,
   "metadata": {},
   "outputs": [
    {
     "name": "stdout",
     "output_type": "stream",
     "text": [
      "For first teacher, mean values are:\n",
      "len_mistake    6.513141\n",
      "len_corr       6.125156\n",
      "dtype: float64\n",
      "For second teacher:\n",
      "len_mistake    6.646653\n",
      "len_corr       6.388172\n",
      "dtype: float64\n"
     ]
    }
   ],
   "source": [
    "print('For first teacher, mean values are:\\n', corr_0[['len_mistake', 'len_corr']].mean(), sep='')\n",
    "print('For second teacher:\\n', corr_1[['len_mistake', 'len_corr']].mean(), sep='')"
   ]
  },
  {
   "cell_type": "markdown",
   "metadata": {},
   "source": [
    "From this data it looks like second teacher was more thorough: (s)he noticed mistakes more often, covered a bit more characters in each mistake and proposed correspondingly longer corrections. By contrast, first teacher was more laconic."
   ]
  },
  {
   "cell_type": "markdown",
   "metadata": {},
   "source": [
    "***\n",
    "Let's analyze inter-annotator agreement on several dimensions - type of mistake, span of mistake (for now we overlook misaligned spans), and the content of correction (what is substituted). "
   ]
  },
  {
   "cell_type": "code",
   "execution_count": 9,
   "metadata": {},
   "outputs": [
    {
     "name": "stdout",
     "output_type": "stream",
     "text": [
      "In 662 cases both teachers agreed on type, span and content of correction, which is 27.62% of all for first teacher and 19.87% for second\n"
     ]
    }
   ],
   "source": [
    "# full agreement on type, span and content of correction\n",
    "agr1 = len(corr_0.merge(corr_1[['doc_id', 'start_par', 'start_off', 'end_par', 'end_off',\n",
    "       'type', 'correction']], how='inner'))\n",
    "print('In {n} cases both teachers agreed on type, span and content of correction, \\\n",
    "which is {p1:.2%} of all for first teacher and {p2:.2%} for second'\n",
    "      .format(n=agr1, p1=agr1/n_0, p2=agr1/n_1))"
   ]
  },
  {
   "cell_type": "code",
   "execution_count": 10,
   "metadata": {},
   "outputs": [
    {
     "name": "stdout",
     "output_type": "stream",
     "text": [
      "In 813 cases both teachers agreed on type and span of correction, which is 33.92% of all for first teacher and 24.41% for second\n"
     ]
    }
   ],
   "source": [
    "# agreement on type and span\n",
    "agr2 = len(corr_0.merge(corr_1[['doc_id', 'start_par', 'start_off', 'end_par', 'end_off',\n",
    "       'type']], how='inner'))\n",
    "print('In {n} cases both teachers agreed on type and span of correction, \\\n",
    "which is {p1:.2%} of all for first teacher and {p2:.2%} for second'\n",
    "      .format(n=agr2, p1=agr2/n_0, p2=agr2/n_1))"
   ]
  },
  {
   "cell_type": "code",
   "execution_count": 11,
   "metadata": {},
   "outputs": [
    {
     "name": "stdout",
     "output_type": "stream",
     "text": [
      "In 822 cases both teachers agreed on span and content of correction, which is 34.29% of all for first teacher and 24.68% for second\n"
     ]
    }
   ],
   "source": [
    "# agreement on span and correction\n",
    "agr3 = len(corr_0.merge(corr_1[['doc_id', 'start_par', 'start_off', 'end_par', 'end_off',\n",
    "       'correction']], how='inner'))\n",
    "print('In {n} cases both teachers agreed on span and content of correction, \\\n",
    "which is {p1:.2%} of all for first teacher and {p2:.2%} for second'\n",
    "      .format(n=agr3, p1=agr3/n_0, p2=agr3/n_1))"
   ]
  },
  {
   "cell_type": "code",
   "execution_count": 12,
   "metadata": {},
   "outputs": [
    {
     "name": "stdout",
     "output_type": "stream",
     "text": [
      "In 1162 cases both teachers agreed that in a specific span there is a mistake, which is 48.48% of all for first teacher and 34.88% for second\n"
     ]
    }
   ],
   "source": [
    "# agreement on span only\n",
    "agr4 = len(corr_0.merge(corr_1[['doc_id', 'start_par', 'start_off', 'end_par', 'end_off']], \n",
    "                 how='inner'))\n",
    "print('In {n} cases both teachers agreed that in a specific span there is a mistake, \\\n",
    "which is {p1:.2%} of all for first teacher and {p2:.2%} for second'\n",
    "      .format(n=agr4, p1=agr4/n_0, p2=agr4/n_1))"
   ]
  },
  {
   "cell_type": "markdown",
   "metadata": {},
   "source": [
    "***\n",
    "What is the distribution of types of mistakes in work of each teacher?"
   ]
  },
  {
   "cell_type": "code",
   "execution_count": 13,
   "metadata": {},
   "outputs": [
    {
     "data": {
      "text/html": [
       "<div>\n",
       "<style scoped>\n",
       "    .dataframe tbody tr th:only-of-type {\n",
       "        vertical-align: middle;\n",
       "    }\n",
       "\n",
       "    .dataframe tbody tr th {\n",
       "        vertical-align: top;\n",
       "    }\n",
       "\n",
       "    .dataframe thead th {\n",
       "        text-align: right;\n",
       "    }\n",
       "</style>\n",
       "<table border=\"1\" class=\"dataframe\">\n",
       "  <thead>\n",
       "    <tr style=\"text-align: right;\">\n",
       "      <th></th>\n",
       "      <th>teacher_0</th>\n",
       "      <th>teacher_1</th>\n",
       "    </tr>\n",
       "  </thead>\n",
       "  <tbody>\n",
       "    <tr>\n",
       "      <th>Mec</th>\n",
       "      <td>231.0</td>\n",
       "      <td>496</td>\n",
       "    </tr>\n",
       "    <tr>\n",
       "      <th>Wci</th>\n",
       "      <td>340.0</td>\n",
       "      <td>479</td>\n",
       "    </tr>\n",
       "    <tr>\n",
       "      <th>ArtOrDet</th>\n",
       "      <td>332.0</td>\n",
       "      <td>444</td>\n",
       "    </tr>\n",
       "    <tr>\n",
       "      <th>Prep</th>\n",
       "      <td>211.0</td>\n",
       "      <td>390</td>\n",
       "    </tr>\n",
       "    <tr>\n",
       "      <th>Nn</th>\n",
       "      <td>215.0</td>\n",
       "      <td>228</td>\n",
       "    </tr>\n",
       "    <tr>\n",
       "      <th>Rloc-</th>\n",
       "      <td>95.0</td>\n",
       "      <td>199</td>\n",
       "    </tr>\n",
       "    <tr>\n",
       "      <th>SVA</th>\n",
       "      <td>105.0</td>\n",
       "      <td>154</td>\n",
       "    </tr>\n",
       "    <tr>\n",
       "      <th>Pref</th>\n",
       "      <td>96.0</td>\n",
       "      <td>153</td>\n",
       "    </tr>\n",
       "    <tr>\n",
       "      <th>Vt</th>\n",
       "      <td>133.0</td>\n",
       "      <td>150</td>\n",
       "    </tr>\n",
       "    <tr>\n",
       "      <th>Wform</th>\n",
       "      <td>77.0</td>\n",
       "      <td>103</td>\n",
       "    </tr>\n",
       "  </tbody>\n",
       "</table>\n",
       "</div>"
      ],
      "text/plain": [
       "          teacher_0  teacher_1\n",
       "Mec           231.0        496\n",
       "Wci           340.0        479\n",
       "ArtOrDet      332.0        444\n",
       "Prep          211.0        390\n",
       "Nn            215.0        228\n",
       "Rloc-          95.0        199\n",
       "SVA           105.0        154\n",
       "Pref           96.0        153\n",
       "Vt            133.0        150\n",
       "Wform          77.0        103"
      ]
     },
     "execution_count": 13,
     "metadata": {},
     "output_type": "execute_result"
    }
   ],
   "source": [
    "type_counts = (pd.concat([corr_0['type'].value_counts().rename('teacher_0'), \n",
    "            corr_1['type'].value_counts().rename('teacher_1')], axis=1)\n",
    "            .sort_values(by='teacher_1', ascending=False))\n",
    "type_counts.head(10)"
   ]
  },
  {
   "cell_type": "markdown",
   "metadata": {},
   "source": [
    "Data like this is better viewed in a graph. Let's make a crude barplot of types of corrections in Seaborn."
   ]
  },
  {
   "cell_type": "code",
   "execution_count": 14,
   "metadata": {},
   "outputs": [],
   "source": [
    "import seaborn as sns\n",
    "sns.set(rc={'figure.figsize':(11, 8)})\n",
    "sns.set_style('whitegrid')"
   ]
  },
  {
   "cell_type": "code",
   "execution_count": 15,
   "metadata": {},
   "outputs": [],
   "source": [
    "# reshape data for seaborn\n",
    "types_df = (type_counts.reset_index()\n",
    " .rename(columns={'teacher_0': 'First', 'teacher_1': 'Second', 'index': 'Type'})\n",
    " .melt(id_vars=['Type'], value_name='Type Count', var_name='Teacher'))"
   ]
  },
  {
   "cell_type": "code",
   "execution_count": 16,
   "metadata": {},
   "outputs": [
    {
     "data": {
      "image/png": "[encoded data removed]",
      "text/plain": [
       "<Figure size 432x288 with 1 Axes>"
      ]
     },
     "metadata": {},
     "output_type": "display_data"
    }
   ],
   "source": [
    "sns.barplot(x='Type Count', y='Type', hue='Teacher', data=types_df)\n",
    "sns.despine(bottom=True, left=True)"
   ]
  },
  {
   "cell_type": "markdown",
   "metadata": {},
   "source": [
    "***\n",
    "It is not easy to align corrections of two teachers, since one corrected more than the other, but we can iterate over mistake spans and look for places corrected by both or only one teacher"
   ]
  },
  {
   "cell_type": "markdown",
   "metadata": {},
   "source": [
    "Let's start with combining dfs for each teacher and sorting by the order of mistakes in documents: start with the first mistake in first paragraph in first document, and go on."
   ]
  },
  {
   "cell_type": "code",
   "execution_count": 17,
   "metadata": {},
   "outputs": [
    {
     "data": {
      "text/html": [
       "<div>\n",
       "<style scoped>\n",
       "    .dataframe tbody tr th:only-of-type {\n",
       "        vertical-align: middle;\n",
       "    }\n",
       "\n",
       "    .dataframe tbody tr th {\n",
       "        vertical-align: top;\n",
       "    }\n",
       "\n",
       "    .dataframe thead th {\n",
       "        text-align: right;\n",
       "    }\n",
       "</style>\n",
       "<table border=\"1\" class=\"dataframe\">\n",
       "  <thead>\n",
       "    <tr style=\"text-align: right;\">\n",
       "      <th></th>\n",
       "      <th>index</th>\n",
       "      <th>doc_id</th>\n",
       "      <th>teacher_id</th>\n",
       "      <th>start_par</th>\n",
       "      <th>start_off</th>\n",
       "      <th>end_par</th>\n",
       "      <th>end_off</th>\n",
       "      <th>type</th>\n",
       "      <th>correction</th>\n",
       "      <th>len_mistake</th>\n",
       "      <th>len_corr</th>\n",
       "    </tr>\n",
       "  </thead>\n",
       "  <tbody>\n",
       "    <tr>\n",
       "      <th>0</th>\n",
       "      <td>0</td>\n",
       "      <td>1</td>\n",
       "      <td>8</td>\n",
       "      <td>1</td>\n",
       "      <td>42</td>\n",
       "      <td>1</td>\n",
       "      <td>46</td>\n",
       "      <td>ArtOrDet</td>\n",
       "      <td></td>\n",
       "      <td>4</td>\n",
       "      <td>0</td>\n",
       "    </tr>\n",
       "    <tr>\n",
       "      <th>1</th>\n",
       "      <td>0</td>\n",
       "      <td>1</td>\n",
       "      <td>9</td>\n",
       "      <td>1</td>\n",
       "      <td>42</td>\n",
       "      <td>1</td>\n",
       "      <td>46</td>\n",
       "      <td>Rloc-</td>\n",
       "      <td></td>\n",
       "      <td>4</td>\n",
       "      <td>0</td>\n",
       "    </tr>\n",
       "    <tr>\n",
       "      <th>2</th>\n",
       "      <td>0</td>\n",
       "      <td>1</td>\n",
       "      <td>8</td>\n",
       "      <td>1</td>\n",
       "      <td>118</td>\n",
       "      <td>1</td>\n",
       "      <td>125</td>\n",
       "      <td>Nn</td>\n",
       "      <td>diseases</td>\n",
       "      <td>7</td>\n",
       "      <td>8</td>\n",
       "    </tr>\n",
       "    <tr>\n",
       "      <th>3</th>\n",
       "      <td>0</td>\n",
       "      <td>1</td>\n",
       "      <td>9</td>\n",
       "      <td>1</td>\n",
       "      <td>118</td>\n",
       "      <td>1</td>\n",
       "      <td>125</td>\n",
       "      <td>Nn</td>\n",
       "      <td>diseases</td>\n",
       "      <td>7</td>\n",
       "      <td>8</td>\n",
       "    </tr>\n",
       "    <tr>\n",
       "      <th>4</th>\n",
       "      <td>0</td>\n",
       "      <td>1</td>\n",
       "      <td>9</td>\n",
       "      <td>1</td>\n",
       "      <td>597</td>\n",
       "      <td>1</td>\n",
       "      <td>604</td>\n",
       "      <td>Vt</td>\n",
       "      <td>will develop</td>\n",
       "      <td>7</td>\n",
       "      <td>12</td>\n",
       "    </tr>\n",
       "  </tbody>\n",
       "</table>\n",
       "</div>"
      ],
      "text/plain": [
       "   index  doc_id  teacher_id  start_par  start_off  end_par  end_off  \\\n",
       "0      0       1           8          1         42        1       46   \n",
       "1      0       1           9          1         42        1       46   \n",
       "2      0       1           8          1        118        1      125   \n",
       "3      0       1           9          1        118        1      125   \n",
       "4      0       1           9          1        597        1      604   \n",
       "\n",
       "       type    correction  len_mistake  len_corr  \n",
       "0  ArtOrDet                          4         0  \n",
       "1     Rloc-                          4         0  \n",
       "2        Nn      diseases            7         8  \n",
       "3        Nn      diseases            7         8  \n",
       "4        Vt  will develop            7        12  "
      ]
     },
     "execution_count": 17,
     "metadata": {},
     "output_type": "execute_result"
    }
   ],
   "source": [
    "comb_corr = (corr_0.append(corr_1)\n",
    " .sort_values(by=['doc_id', 'start_par', 'start_off', 'teacher_id'])\n",
    " .reset_index())\n",
    "comb_corr.head()"
   ]
  },
  {
   "cell_type": "code",
   "execution_count": 18,
   "metadata": {},
   "outputs": [],
   "source": [
    "# there are no cases when mistake is carried to the next paragraph, so we don't worry about end_par\n",
    "if len(comb_corr[comb_corr['start_par'] != comb_corr['end_par']]) > 0: print('!!!')"
   ]
  },
  {
   "cell_type": "markdown",
   "metadata": {},
   "source": [
    "We write a simple program to check for each pair of correction spans if they are overlapping fully, partially or not at all. To make sure that we don't double count, we use flag *previous*. We also collect partial overlaps in a separate array."
   ]
  },
  {
   "cell_type": "code",
   "execution_count": 19,
   "metadata": {},
   "outputs": [],
   "source": [
    "full = 0\n",
    "partial = 0\n",
    "partial_list = []\n",
    "not_intersect = 0\n",
    "\n",
    "previous = True\n",
    "for i, j in zip(comb_corr.index, comb_corr.index[1:]):\n",
    "    if previous:\n",
    "        previous = False\n",
    "        continue\n",
    "    if ((comb_corr.iloc[i]['doc_id'] == comb_corr.iloc[j]['doc_id']) and \n",
    "        (comb_corr.iloc[i]['start_par'] == comb_corr.iloc[j]['start_par']) and\n",
    "        (comb_corr.iloc[i]['teacher_id'] != comb_corr.iloc[j]['teacher_id'])):\n",
    "        istart, iend = comb_corr.iloc[i]['start_off'], comb_corr.iloc[i]['end_off']+1\n",
    "        jstart, jend = comb_corr.iloc[j]['start_off'], comb_corr.iloc[j]['end_off']+1\n",
    "        iarr = np.array(range(istart, iend))\n",
    "        jarr = np.array(range(jstart, jend))\n",
    "        intersect = np.intersect1d(iarr, jarr)\n",
    "        if len(intersect) == 0:\n",
    "            not_intersect += 1\n",
    "        elif len(intersect) == max(len(iarr), len(jarr)):\n",
    "            full += 1\n",
    "            previous = True\n",
    "        elif len(intersect) < max(len(iarr), len(jarr)):\n",
    "            partial += 1\n",
    "            part_overlap = (comb_corr.iloc[i]['doc_id'], comb_corr.iloc[i]['start_par'], iarr, jarr)\n",
    "            partial_list.append(part_overlap)\n",
    "            previous = True"
   ]
  },
  {
   "cell_type": "code",
   "execution_count": 20,
   "metadata": {},
   "outputs": [
    {
     "name": "stdout",
     "output_type": "stream",
     "text": [
      "There are 1144 full overlaps, 390 partial ones, and 1079 cases where neighboring mistake spans of two teachers are not overlapping\n"
     ]
    }
   ],
   "source": [
    "print('There are {f} full overlaps, {p} partial ones,\\\n",
    " and {n} cases where neighboring mistake spans of two teachers are not overlapping'\n",
    "     .format(f=full, p=partial, n=not_intersect))"
   ]
  },
  {
   "cell_type": "markdown",
   "metadata": {},
   "source": [
    "How big are differences between overlapping spans of different teachers? Well, they can be pretty big."
   ]
  },
  {
   "cell_type": "code",
   "execution_count": 21,
   "metadata": {},
   "outputs": [
    {
     "name": "stdout",
     "output_type": "stream",
     "text": [
      "Maximal difference is 90, median is 7.0, and average is 10.53\n"
     ]
    }
   ],
   "source": [
    "diffs = [abs(len(array1)-len(array2)) for d, p, array1, array2 in partial_list]\n",
    "print('Maximal difference is {mx}, median is {md}, and average is {mn:.2f}'\n",
    "      .format(mx=max(diffs), md=np.median(diffs), mn=np.mean(diffs)))"
   ]
  },
  {
   "cell_type": "markdown",
   "metadata": {},
   "source": [
    "***\n",
    "One more way to look at the inter-annotator agreement - just apply their corrections to each paragraph and compare similarity between corrected paragraphs (i.e., minimum edit distance). "
   ]
  },
  {
   "cell_type": "code",
   "execution_count": 22,
   "metadata": {},
   "outputs": [],
   "source": [
    "def correct_paragraph(paragraph, span_list):\n",
    "    \"\"\"\n",
    "    This function uses cursor to reconstruct corrected paragraphs \n",
    "    by adding slices of original paragraph one by one and only making\n",
    "    corrections where span_list (consisting of indices and correction itself)\n",
    "    indicates.\n",
    "    \"\"\"\n",
    "    res_par = ''\n",
    "    cursor = 0\n",
    "    for start, end, correction in span_list:\n",
    "        res_par += paragraph[cursor:start] + correction\n",
    "        cursor = end\n",
    "    res_par += paragraph[cursor:]\n",
    "    res_par = re.sub(r' +', ' ', res_par)\n",
    "    return res_par"
   ]
  },
  {
   "cell_type": "code",
   "execution_count": 23,
   "metadata": {},
   "outputs": [],
   "source": [
    "def provide_corrections(docs, doc_num, par_num):\n",
    "    \"\"\"\n",
    "    Given list of doc elements, correct specific paragraph\n",
    "    in a specific doc\n",
    "    \"\"\"\n",
    "    p_text = get_paragraph_text(docs[doc_num], par_num)\n",
    "    mistakes = (docs[doc_num].xpath('annotation')[0]\n",
    "                .xpath('mistake[@start_par=\"{par_num}\"]'.format(par_num=par_num)))\n",
    "    starts = [int(m.xpath('@start_off')[0]) for m in mistakes]\n",
    "    ends = [int(m.xpath('@end_off')[0]) for m in mistakes]\n",
    "    corrs = [m.xpath('correction/text()')[0] \n",
    "             if not (m.xpath('correction/text()') == []) else ''\n",
    "            for m in mistakes]\n",
    "    span_list = zip(starts, ends, corrs)\n",
    "    return correct_paragraph(p_text, span_list)"
   ]
  },
  {
   "cell_type": "code",
   "execution_count": 24,
   "metadata": {},
   "outputs": [],
   "source": [
    "def get_paragraph_text(doc, par_num):\n",
    "    # one more helper function\n",
    "    return doc.xpath('text/p/text()')[par_num].replace('\\n', '')"
   ]
  },
  {
   "cell_type": "markdown",
   "metadata": {},
   "source": [
    "Since paragraphs are identical for both sgml files, we iterate only over texts from the first one, but take corrections from both, correct paragraphs, and count edit distances for each paragraph. Since our file is not big, we also add uncorrected and corrected texts to our dictionary containing distances - to be able to have a look with our own eyes."
   ]
  },
  {
   "cell_type": "code",
   "execution_count": 25,
   "metadata": {},
   "outputs": [],
   "source": [
    "from nltk.metrics.distance import edit_distance\n",
    "\n",
    "docs_0 = extract_docs('conll14st-test-data/noalt/official-2014.0.sgml')\n",
    "docs_1 = extract_docs('conll14st-test-data/noalt/official-2014.1.sgml')\n",
    "\n",
    "distances = OrderedDict()\n",
    "for doc_num, doc in enumerate(docs_0):\n",
    "    for par_num in range(len(doc.xpath('text/p'))):\n",
    "        p_text = get_paragraph_text(doc, par_num)\n",
    "        par_by0 = provide_corrections(docs_0, doc_num, par_num)\n",
    "        par_by1 = provide_corrections(docs_1, doc_num, par_num)\n",
    "        dist = edit_distance(par_by0, par_by1)\n",
    "        distances[f'{doc_num}_{par_num}'] = [dist, p_text, par_by0, par_by1]"
   ]
  },
  {
   "cell_type": "code",
   "execution_count": 26,
   "metadata": {},
   "outputs": [
    {
     "name": "stdout",
     "output_type": "stream",
     "text": [
      "Average distance between paragraphs correctedby two teachers is 68.23,\n",
      "with 646.19 character on average in a paragraph.\n"
     ]
    }
   ],
   "source": [
    "mean_distance = np.mean([distances[d][0] for d in distances.keys()])\n",
    "mean_par_length = np.mean([len(distances[d][1]) for d in distances.keys()])\n",
    "print('Average distance between paragraphs correctedby two teachers is {m:.2f},\\nwith {l:.2f} \\\n",
    "character on average in a paragraph.'.format(m=mean_distance, l=mean_par_length))"
   ]
  },
  {
   "cell_type": "markdown",
   "metadata": {},
   "source": [
    "We can look at a random paragraph to see the differences. Like, here we have one teacher who corrected 'are' for 'have been' in the first sentence, and one who didn't; one corrected 'they should be responsible to tell their relatives', and other didn't. Here we see how second teacher is more thorough."
   ]
  },
  {
   "cell_type": "code",
   "execution_count": 27,
   "metadata": {},
   "outputs": [
    {
     "data": {
      "text/plain": [
       "[60,\n",
       " 'More and more illness are discovered to be related to some genes with the development of the medical technology. People will know about whether they carry a disease on their genes after they have done the genetic test. If there is no problem, that will be wonderful. However, not everybody is so lucky that they can make sure they do not carry any disease genes. Therefore, once people find they have carried the disease genes, they should be responsible to tell their relatives, at least their family members.',\n",
       " 'More and more illnesses are discovered to be related to genes with the development of the medical technology. People will know about whether they carry a disease in their genes after they have done the genetic test. If there is no problem, that will be wonderful. However, not everybody is so lucky that they can make sure they do not carry any diseased genes. Therefore, once people find they carry the diseased genes, they should be responsible to tell their relatives, at least their family members.',\n",
       " 'More and more illnesses have been discovered to be related to genes through the development of medical technology. People will know about whether they carry a disease in their genes after they have undergone the genetic test. If there is no problem, that will be wonderful. However, not everybody is so lucky that they can make sure they do not carry any disease genes. Therefore, once people find out they are carrying the disease genes, it is their responsibility to tell their relatives, or at least their close family members.']"
      ]
     },
     "execution_count": 27,
     "metadata": {},
     "output_type": "execute_result"
    }
   ],
   "source": [
    "distances['23_1']"
   ]
  }
 ],
 "metadata": {
  "kernelspec": {
   "display_name": "Python 3",
   "language": "python",
   "name": "python3"
  },
  "language_info": {
   "codemirror_mode": {
    "name": "ipython",
    "version": 3
   },
   "file_extension": ".py",
   "mimetype": "text/x-python",
   "name": "python",
   "nbconvert_exporter": "python",
   "pygments_lexer": "ipython3",
   "version": "3.6.4"
  }
 },
 "nbformat": 4,
 "nbformat_minor": 2
}
