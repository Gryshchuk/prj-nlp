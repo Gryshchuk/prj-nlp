{
 "cells": [
  {
   "cell_type": "markdown",
   "metadata": {},
   "source": [
    "## Exploration of CommonCrawl dumps"
   ]
  },
  {
   "cell_type": "markdown",
   "metadata": {},
   "source": [
    "URL to download the file I used:\n",
    "\n",
    "https://commoncrawl.s3.amazonaws.com/crawl-data/CC-MAIN-2018-09/segments/1518891807660.32/wet/CC-MAIN-20180217185905-20180217205905-00004.warc.wet.gz"
   ]
  },
  {
   "cell_type": "code",
   "execution_count": 1,
   "metadata": {},
   "outputs": [],
   "source": [
    "import re\n",
    "from collections import Counter\n",
    "import numpy as np\n",
    "import pandas as pd\n",
    "import seaborn as sns"
   ]
  },
  {
   "cell_type": "code",
   "execution_count": 2,
   "metadata": {},
   "outputs": [],
   "source": [
    "fname = '/mnt/hdd/Data/CommonCrawl/CC-MAIN-20180217185905-20180217205905-00004.warc.wet'\n",
    "wet = open(fname, 'r').read()"
   ]
  },
  {
   "cell_type": "code",
   "execution_count": 3,
   "metadata": {},
   "outputs": [],
   "source": [
    "parts = re.findall(r'(WARC/1.0.*?)WARC/1.0', wet, re.S)"
   ]
  },
  {
   "cell_type": "markdown",
   "metadata": {},
   "source": [
    "This WET-file from CommonCrawl contains scraped content from thousands of web-pages in different languages. At the head of the file is metadata for the whole file:"
   ]
  },
  {
   "cell_type": "code",
   "execution_count": 4,
   "metadata": {},
   "outputs": [
    {
     "name": "stdout",
     "output_type": "stream",
     "text": [
      "WARC/1.0\n",
      "WARC-Type: warcinfo\n",
      "WARC-Date: 2018-02-18T16:46:36Z\n",
      "WARC-Filename: CC-MAIN-20180217185905-20180217205905-00004.warc.wet.gz\n",
      "WARC-Record-ID: <urn:uuid:7e9adda2-bbe1-4d92-96ce-2f469a6263d5>\n",
      "Content-Type: application/warc-fields\n",
      "Content-Length: 263\n",
      "\n",
      "Software-Info: ia-web-commons.1.1.9-SNAPSHOT-20180106080755\n",
      "Extracted-Date: Sun, 18 Feb 2018 16:46:36 GMT\n",
      "robots: classic\n",
      "isPartOf: CC-MAIN-2018-09\n",
      "operator: Common Crawl Admin\n",
      "description: Wide crawl of the web for February 2018\n",
      "publisher: Common Crawl\n"
     ]
    }
   ],
   "source": [
    "print(parts[0].strip())"
   ]
  },
  {
   "cell_type": "markdown",
   "metadata": {},
   "source": [
    "Next are web-page contents, each preceded by metadata of its own:"
   ]
  },
  {
   "cell_type": "code",
   "execution_count": 5,
   "metadata": {},
   "outputs": [
    {
     "name": "stdout",
     "output_type": "stream",
     "text": [
      "WARC/1.0\n",
      "WARC-Type: conversion\n",
      "WARC-Target-URI: http://0000hotdreams.sexeclips.com/live-cam-chat/SophiaCollins\n",
      "WARC-Date: 2018-02-17T19:43:57Z\n",
      "WARC-Record-ID: <urn:uuid:7d9da6d5-a871-4368-adc9-9b54a06288c6>\n",
      "WARC-Refers-To: <urn:uuid:10684606-ca57-4801-9d61-e20f851d8ada>\n",
      "WARC-Block-Digest: sha1:26ETBV5D5QSIF7LNK5ZSSLJD5LZH2MBD\n",
      "Content-Type: text/plain\n",
      "Content-Length: 1963\n",
      "\n",
      "﻿ SophiaCollins live cam chat naked\n",
      "Sexeclips\n",
      "Home\n",
      "Services\n",
      "About\n",
      "Contact\n",
      "☰\n",
      "SophiaCollins\n",
      "Free Chat Cam\n",
      "SophiaCollins live cam chat room\n",
      "SophiaCollins personal details: Here You are! My romantic, lonely boy - I must tell, You\n"
     ]
    }
   ],
   "source": [
    "print(parts[1].strip()[:600])"
   ]
  },
  {
   "cell_type": "markdown",
   "metadata": {},
   "source": [
    "Overall there are more than twenty thousand pages in a file:"
   ]
  },
  {
   "cell_type": "code",
   "execution_count": 6,
   "metadata": {},
   "outputs": [
    {
     "name": "stdout",
     "output_type": "stream",
     "text": [
      "21034\n"
     ]
    }
   ],
   "source": [
    "print(len(parts))"
   ]
  },
  {
   "cell_type": "markdown",
   "metadata": {},
   "source": [
    "From page metadata most interesting information is URI and content-length."
   ]
  },
  {
   "cell_type": "code",
   "execution_count": 7,
   "metadata": {},
   "outputs": [
    {
     "name": "stdout",
     "output_type": "stream",
     "text": [
      "We got 15281 URIs for web-pages\n"
     ]
    }
   ],
   "source": [
    "uri_pat = r'WARC-Target-URI: (http://.*)\\n'\n",
    "uris = []\n",
    "for p in parts[1:]:\n",
    "    uri = re.search(uri_pat, p)\n",
    "    if not uri:\n",
    "        continue\n",
    "    uris.append(uri.group(1).strip())\n",
    "    \n",
    "print('We got {l} URIs for web-pages'.format(l=len(uris)))"
   ]
  },
  {
   "cell_type": "code",
   "execution_count": 8,
   "metadata": {},
   "outputs": [
    {
     "name": "stdout",
     "output_type": "stream",
     "text": [
      "We got 21033 values of content-length for web-pages\n"
     ]
    }
   ],
   "source": [
    "cont_len_pat = r'Content-Length: ([0-9]+)'\n",
    "cont_lens = []\n",
    "for p in parts[1:]:\n",
    "    cl = re.search(cont_len_pat, p)\n",
    "    if not cl:\n",
    "        continue\n",
    "    cont_lens.append(int(cl.group(1).strip()))\n",
    "    \n",
    "print('We got {cl} values of content-length for web-pages'.format(cl=len(cont_lens)))"
   ]
  },
  {
   "cell_type": "markdown",
   "metadata": {},
   "source": [
    "Finally, we extract separately textual content of each page for further analysis."
   ]
  },
  {
   "cell_type": "code",
   "execution_count": 9,
   "metadata": {},
   "outputs": [
    {
     "name": "stdout",
     "output_type": "stream",
     "text": [
      "We got 21033 web-page texts\n"
     ]
    }
   ],
   "source": [
    "cont_pat = r'Content-Length: [0-9]+\\n(.*)'\n",
    "pages = []\n",
    "for p in parts[1:]:\n",
    "    page = re.search(cont_pat, p, re.S)\n",
    "    if not page:\n",
    "        continue\n",
    "    pages.append(page.group(1).strip())\n",
    "    \n",
    "print('We got {pl} web-page texts'.format(pl=len(pages)))"
   ]
  },
  {
   "cell_type": "markdown",
   "metadata": {},
   "source": [
    "Start with analysis of URIs."
   ]
  },
  {
   "cell_type": "code",
   "execution_count": 10,
   "metadata": {},
   "outputs": [],
   "source": [
    "def get_domain(uri):\n",
    "    return re.search(r'http://(.*?)(/|\\?)', uri).group(1)\n",
    "\n",
    "def get_tld(domain):\n",
    "    return domain.split('.')[-1]\n",
    "\n",
    "domains = [get_domain(uri) for uri in uris]\n",
    "tlds = [get_tld(domain) for domain in domains]"
   ]
  },
  {
   "cell_type": "code",
   "execution_count": 11,
   "metadata": {},
   "outputs": [],
   "source": [
    "dom_count = Counter(domains)\n",
    "tld_count = Counter(tlds)"
   ]
  },
  {
   "cell_type": "code",
   "execution_count": 12,
   "metadata": {},
   "outputs": [
    {
     "name": "stdout",
     "output_type": "stream",
     "text": [
      "The most frequent domains are:\n",
      "[('www.planetsteelers.com', 27), ('iowagravestones.org', 18), ('www.drivethrurpg.com', 18), ('animeonly.org', 16), ('articles.courant.com', 15), ('mail-archives.apache.org', 15), ('puja.istationbd.com', 14), ('www.bostonglobe.com', 14), ('steamcommunity.com', 13), ('www.thewarpath.net', 13)]\n"
     ]
    }
   ],
   "source": [
    "print('The most frequent domains are:')\n",
    "print(dom_count.most_common(10))"
   ]
  },
  {
   "cell_type": "code",
   "execution_count": 13,
   "metadata": {},
   "outputs": [
    {
     "name": "stdout",
     "output_type": "stream",
     "text": [
      "The most common top-level domains are:\n",
      "[('com', 7972), ('ru', 943), ('org', 861), ('net', 779), ('de', 442), ('jp', 312), ('uk', 303), ('info', 200), ('fr', 199), ('it', 192)]\n"
     ]
    }
   ],
   "source": [
    "print('The most common top-level domains are:')\n",
    "print(tld_count.most_common(10))"
   ]
  },
  {
   "cell_type": "code",
   "execution_count": 14,
   "metadata": {},
   "outputs": [
    {
     "name": "stdout",
     "output_type": "stream",
     "text": [
      "Average content has length of 7508.981315076308 and median of 4195.0\n",
      "Content of the page has at least 2 and at most 596877 symbols\n"
     ]
    }
   ],
   "source": [
    "avg_cl = np.mean(cont_lens)\n",
    "med_cl = np.median(cont_lens)\n",
    "print('Average content has length of {avg} and median of {md}'.format(avg=avg_cl, md=med_cl))\n",
    "print('Content of the page has at least {mn} and at most {mx} symbols'\n",
    "      .format(mn=min(cont_lens), mx=max(cont_lens)))"
   ]
  },
  {
   "cell_type": "code",
   "execution_count": 15,
   "metadata": {},
   "outputs": [
    {
     "data": {
      "image/png": "[encoded data removed]",
      "text/plain": [
       "<Figure size 792x576 with 1 Axes>"
      ]
     },
     "metadata": {},
     "output_type": "display_data"
    }
   ],
   "source": [
    "sns.set(rc={'figure.figsize':(11, 8)})\n",
    "sns.set_style('whitegrid')\n",
    "dom_df = pd.DataFrame.from_dict(dom_count, orient='index').reset_index()\n",
    "dom_df = dom_df.rename(columns={'index': 'website', 0: 'count'})\n",
    "sns.barplot(x='count', y='website', color='green',\n",
    "            data=dom_df.sort_values(by='count', ascending=False)[:15])\n",
    "sns.despine(bottom=True, left=True)"
   ]
  },
  {
   "cell_type": "code",
   "execution_count": 16,
   "metadata": {},
   "outputs": [
    {
     "data": {
      "image/png": "[encoded data removed]",
      "text/plain": [
       "<Figure size 792x576 with 1 Axes>"
      ]
     },
     "metadata": {},
     "output_type": "display_data"
    }
   ],
   "source": [
    "tld_df = pd.DataFrame.from_dict(tld_count, orient='index').reset_index()\n",
    "tld_df = tld_df.rename(columns={'index': 'tld', 0: 'count'})\n",
    "sns.barplot(x='count', y='tld', color='green',\n",
    "            data=tld_df.sort_values(by='count', ascending=False)[:15])\n",
    "sns.despine(bottom=True, left=True)"
   ]
  },
  {
   "cell_type": "code",
   "execution_count": 17,
   "metadata": {},
   "outputs": [
    {
     "name": "stdout",
     "output_type": "stream",
     "text": [
      "The longest webpage name is www.posicionamiento-paginas-web-sitios-web-buscadores.paginadigital.com.ar\n",
      "The shortest are ['1a.by', 'io.no', 'w6.ru', 'zp.pl']\n"
     ]
    }
   ],
   "source": [
    "long_doms = sorted(domains, key=len)\n",
    "print('The longest webpage name is {long}'.format(long=long_doms[-1]))\n",
    "print('The shortest are {short}'.format(short=long_doms[:4]))"
   ]
  },
  {
   "cell_type": "code",
   "execution_count": 18,
   "metadata": {},
   "outputs": [],
   "source": [
    "from nltk.tokenize import sent_tokenize, word_tokenize\n",
    "from nltk import ngrams, FreqDist"
   ]
  },
  {
   "cell_type": "code",
   "execution_count": 19,
   "metadata": {},
   "outputs": [],
   "source": [
    "def tokenize_page(webpage):\n",
    "    try:\n",
    "        sents = sent_tokenize(webpage)\n",
    "        sent_toks = [word_tokenize(sent) for sent in sents]\n",
    "        sent_toks = [[w.strip() for w in toks] for toks in sent_toks]\n",
    "        return sent_toks\n",
    "    except:\n",
    "        return None"
   ]
  },
  {
   "cell_type": "markdown",
   "metadata": {},
   "source": [
    "Tokenization takes some time."
   ]
  },
  {
   "cell_type": "code",
   "execution_count": 20,
   "metadata": {},
   "outputs": [],
   "source": [
    "tokenized = [tokenize_page(page) for page in pages]"
   ]
  },
  {
   "cell_type": "code",
   "execution_count": 21,
   "metadata": {},
   "outputs": [],
   "source": [
    "# flatten the lists of lists of tokens\n",
    "tokens = [t for toks in tokenized for t in toks]\n",
    "tokens = [t for toks in tokens for t in toks]"
   ]
  },
  {
   "cell_type": "code",
   "execution_count": 22,
   "metadata": {},
   "outputs": [
    {
     "name": "stdout",
     "output_type": "stream",
     "text": [
      "In all, we got 24582073 tokens\n"
     ]
    }
   ],
   "source": [
    "print('In all, we got {l} tokens'.format(l=len(tokens)))"
   ]
  },
  {
   "cell_type": "markdown",
   "metadata": {},
   "source": [
    "What about word frequencies? First, we'd better get rid of punctuation and too short words."
   ]
  },
  {
   "cell_type": "code",
   "execution_count": 23,
   "metadata": {},
   "outputs": [],
   "source": [
    "tokens = [t for t in tokens if len(t) > 4]\n",
    "fdist = Counter(tokens)"
   ]
  },
  {
   "cell_type": "code",
   "execution_count": 24,
   "metadata": {},
   "outputs": [
    {
     "data": {
      "text/plain": [
       "[('February', 12357),\n",
       " ('function', 12331),\n",
       " ('about', 12125),\n",
       " ('Contact', 10966),\n",
       " ('November', 10596),\n",
       " ('Search', 10493),\n",
       " ('January', 10474),\n",
       " ('September', 10387),\n",
       " ('About', 10236),\n",
       " ('August', 10176),\n",
       " ('April', 10085),\n",
       " ('October', 10078),\n",
       " ('March', 9427),\n",
       " ('December', 9425),\n",
       " ('their', 9202),\n",
       " ('return', 8496),\n",
       " ('Facebook', 8390),\n",
       " ('which', 8090),\n",
       " ('other', 7806),\n",
       " ('Email', 7666)]"
      ]
     },
     "execution_count": 24,
     "metadata": {},
     "output_type": "execute_result"
    }
   ],
   "source": [
    "fdist.most_common(20)"
   ]
  },
  {
   "cell_type": "markdown",
   "metadata": {},
   "source": [
    "Word \"February\" is one of the most common tokens, probably because dump is dated from February. "
   ]
  },
  {
   "cell_type": "markdown",
   "metadata": {},
   "source": [
    "To find what languages are most common, we use library langdetect."
   ]
  },
  {
   "cell_type": "code",
   "execution_count": 25,
   "metadata": {},
   "outputs": [
    {
     "name": "stdout",
     "output_type": "stream",
     "text": [
      "We have 21028 pages with detected languages\n"
     ]
    }
   ],
   "source": [
    "from langdetect import detect\n",
    "\n",
    "langs = []\n",
    "for p in pages:\n",
    "    try:\n",
    "        lang = detect(p)\n",
    "        langs.append(lang)\n",
    "    except:\n",
    "        continue\n",
    "\n",
    "print('We have {l} pages with detected languages'.format(l=len(langs)))"
   ]
  },
  {
   "cell_type": "markdown",
   "metadata": {},
   "source": [
    "English is the most common language by far."
   ]
  },
  {
   "cell_type": "code",
   "execution_count": 26,
   "metadata": {},
   "outputs": [
    {
     "data": {
      "image/png": "[encoded data removed]",
      "text/plain": [
       "<Figure size 792x576 with 1 Axes>"
      ]
     },
     "metadata": {},
     "output_type": "display_data"
    }
   ],
   "source": [
    "lang_count = Counter(langs)\n",
    "\n",
    "lang_df = pd.DataFrame.from_dict(lang_count, orient='index').reset_index()\n",
    "lang_df = lang_df.rename(columns={'index': 'lang', 0: 'count'})\n",
    "sns.barplot(x='count', y='lang', color='green',\n",
    "            data=lang_df.sort_values(by='count', ascending=False)[:15])\n",
    "sns.despine(bottom=True, left=True)"
   ]
  },
  {
   "cell_type": "code",
   "execution_count": null,
   "metadata": {},
   "outputs": [],
   "source": []
  }
 ],
 "metadata": {
  "kernelspec": {
   "display_name": "Python 3",
   "language": "python",
   "name": "python3"
  },
  "language_info": {
   "codemirror_mode": {
    "name": "ipython",
    "version": 3
   },
   "file_extension": ".py",
   "mimetype": "text/x-python",
   "name": "python",
   "nbconvert_exporter": "python",
   "pygments_lexer": "ipython3",
   "version": "3.6.4"
  }
 },
 "nbformat": 4,
 "nbformat_minor": 2
}
