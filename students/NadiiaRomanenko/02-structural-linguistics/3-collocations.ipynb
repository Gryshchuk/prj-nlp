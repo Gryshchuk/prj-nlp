{
 "cells": [
  {
   "cell_type": "markdown",
   "metadata": {},
   "source": [
    "## Колокації\n",
    "\n",
    "Окрім граматики, на аналіз мови також впливає сполучуваність слів. В англійській мові поняття сполучуваності дуже відчутне і присутнє у всіх мовних структурах: ми кажемо \"make a mistake\", але \"do a favour\"; ми кажемо \"big surprise\", але \"great anger\"; ми кажемо \"highly unlikely\", але \"seriously wrong\".\n",
    "\n",
    "У цьому завданні вам потрібно дослідити сполучуваність дієслів одного синонімного ряду з прислівниками. Наприклад, ми частіше кажемо \"love somebody dearly\", \"honor somebody highly\", але \"admire somebody greatly\".\n",
    "\n",
    "Завдання:\n",
    "1. продовжте синонімний ряд дієслів: \"say\", \"tell\", \"speak\", \"claim\", \"communicate\"\n",
    "2. напишіть функцію, яка знаходить у реченні дієслово (за складеним раніше синонімним рядом) і витягає усі можливі прислівники на \"-ly\", якими це дієслово керує\n",
    "3. напишіть програму, яка знайде усі можливі прислівники для наших дієслів у [корпусі блогів](\"blog2008.txt\")\n",
    "4. на виході програма повинна видати десять найчастотніших прислівників для кожного дієслова\n",
    "\n",
    "Приклад виводу:\n",
    "say: (loudly, 51), (silently, 45), (quietly, 10)\n",
    "tell: (quietly, 100), (loudly, 61), (seriously, 5)\n",
    "\n",
    "Збережіть програму та результати аналізу на корпусі (вивід) у директорії з Вашим іменем.\n",
    "\n",
    "Синоніми можна знайти у тезаурусах (http://www.thesaurus.com/, https://www.merriam-webster.com/thesaurus) чи [WordNet](http://wordnetweb.princeton.edu/perl/webwn)\n",
    "\n",
    "Корпус блогів взятий з [Political Blog Corpora](http://www.cs.cmu.edu/~ark/blog-data/).\n"
   ]
  },
  {
   "cell_type": "code",
   "execution_count": 1,
   "metadata": {},
   "outputs": [],
   "source": [
    "import spacy, re, requests, pdb\n",
    "from spacy import displacy\n",
    "from nltk.corpus import wordnet\n",
    "from collections import Counter\n",
    "from tqdm import tqdm\n",
    "nlp = spacy.load('en_core_web_md')"
   ]
  },
  {
   "cell_type": "code",
   "execution_count": 2,
   "metadata": {},
   "outputs": [],
   "source": [
    "blogs_url = 'https://raw.githubusercontent.com/vseloved/prj-nlp/master/tasks/02-structural-linguistics/blog2008.txt'\n",
    "blogs = requests.get(blogs_url).text.strip().split('\\n')"
   ]
  },
  {
   "cell_type": "code",
   "execution_count": 3,
   "metadata": {},
   "outputs": [
    {
     "data": {
      "text/plain": [
       "[['state', 'say', 'tell'],\n",
       " ['allege', 'aver', 'say'],\n",
       " ['suppose', 'say'],\n",
       " ['read', 'say'],\n",
       " ['order', 'tell', 'enjoin', 'say'],\n",
       " ['pronounce', 'articulate', 'enounce', 'sound_out', 'enunciate', 'say'],\n",
       " ['say'],\n",
       " ['say'],\n",
       " ['say'],\n",
       " ['say'],\n",
       " ['say']]"
      ]
     },
     "execution_count": 3,
     "metadata": {},
     "output_type": "execute_result"
    }
   ],
   "source": [
    "[ss.lemma_names() for ss in wordnet.synsets('say', pos=wordnet.VERB)]"
   ]
  },
  {
   "cell_type": "code",
   "execution_count": 4,
   "metadata": {},
   "outputs": [],
   "source": [
    "words = {\n",
    "    'say': Counter(),\n",
    "    'tell': Counter(),\n",
    "    'speak': Counter(),\n",
    "    'claim': Counter(),\n",
    "    'communicate': Counter(),\n",
    "    'state': Counter(),\n",
    "    'aver': Counter(),\n",
    "    'allege': Counter(),\n",
    "    'enjoin': Counter(),\n",
    "    'pronounce': Counter(),\n",
    "    'articulate': Counter(),\n",
    "    'enounce': Counter(),\n",
    "    'enunciate': Counter(),\n",
    "}"
   ]
  },
  {
   "cell_type": "code",
   "execution_count": 5,
   "metadata": {},
   "outputs": [],
   "source": [
    "def count_advs(match):\n",
    "    words[match.lemma_].update(\n",
    "        [child.lemma_ for child in match.children\n",
    "         if child.tag_ in ['RB', 'RBR', 'RBS'] and child.text not in ['n\\'t', 'not']]\n",
    "    )\n",
    "            \n",
    "def process_blogs(blog):\n",
    "    matched = list(filter(lambda t: t.lemma_ in words and t.pos_ == 'VERB', nlp(blog)))\n",
    "    if len(matched) == 0:\n",
    "        return\n",
    "    for match in matched:\n",
    "        count_advs(match)"
   ]
  },
  {
   "cell_type": "code",
   "execution_count": null,
   "metadata": {},
   "outputs": [],
   "source": [
    "for blog in tqdm(blogs):\n",
    "# for blog in blogs:\n",
    "    process_blogs(blog)\n",
    "    \n",
    "# import pickle\n",
    "# with open('adv_count_dict_counters.pkl', 'wb') as f:\n",
    "#     pickle.dump(words, f)"
   ]
  },
  {
   "cell_type": "code",
   "execution_count": 14,
   "metadata": {},
   "outputs": [
    {
     "name": "stdout",
     "output_type": "stream",
     "text": [
      "say :  [('also', 317), ('now', 213), ('just', 168), ('so', 140), ('then', 123), ('recently', 78), ('even', 78), ('ago', 75), ('actually', 74), ('never', 72)] \n",
      "\n",
      "tell :  [('also', 58), ('now', 53), ('so', 52), ('just', 43), ('then', 43), ('ago', 30), ('again', 27), ('recently', 26), ('later', 25), ('even', 17)] \n",
      "\n",
      "speak :  [('directly', 32), ('now', 22), ('well', 22), ('also', 19), ('publicly', 15), ('just', 15), ('even', 15), ('never', 15), ('louder', 14), ('only', 12)] \n",
      "\n",
      "claim :  [('falsely', 65), ('now', 62), ('also', 57), ('then', 31), ('however', 14), ('later', 12), ('still', 11), ('even', 11), ('previously', 9), ('first', 8)] \n",
      "\n",
      "communicate :  [('effectively', 3), ('directly', 3), ('sure', 1), ('freely', 1), ('really', 1), ('often', 1), ('instead', 1), ('that', 1), ('apparently', 1), ('of', 1)] \n",
      "\n",
      "state :  [('publicly', 22), ('also', 21), ('clearly', 19), ('explicitly', 13), ('unequivocally', 12), ('bluntly', 7), ('simply', 7), ('oft', 6), ('previously', 6), ('recently', 6)] \n",
      "\n",
      "aver :  [('still', 1)] \n",
      "\n",
      "allege :  [('also', 8), ('long', 2), ('directly', 2), ('credibly', 1), ('nevertheless', 1), ('officially', 1), ('even', 1), ('somehow', 1), ('earlier', 1), ('hypocritically', 1)] \n",
      "\n",
      "enjoin :  [('actually', 1)] \n",
      "\n",
      "pronounce :  [('so', 3), ('more', 3), ('as', 2), ('less', 2), ('then', 1), ('away', 1), ('already', 1), ('thereof', 1), ('officially', 1), ('suddenly', 1)] \n",
      "\n",
      "articulate :  [('clearly', 4), ('better', 2), ('well', 1), ('proactively', 1), ('best', 1), ('fully', 1), ('astutely', 1), ('certainly', 1), ('overseas', 1), ('now', 1)] \n",
      "\n",
      "enounce :  [] \n",
      "\n",
      "enunciate :  [('simply', 1), ('thus', 1)] \n",
      "\n"
     ]
    }
   ],
   "source": [
    "for say_syn in words.keys():\n",
    "    print(say_syn, ': ', words[say_syn].most_common(10), '\\n')"
   ]
  },
  {
   "cell_type": "code",
   "execution_count": null,
   "metadata": {},
   "outputs": [],
   "source": []
  }
 ],
 "metadata": {
  "kernelspec": {
   "display_name": "Python 3",
   "language": "python",
   "name": "python3"
  },
  "language_info": {
   "codemirror_mode": {
    "name": "ipython",
    "version": 3
   },
   "file_extension": ".py",
   "mimetype": "text/x-python",
   "name": "python",
   "nbconvert_exporter": "python",
   "pygments_lexer": "ipython3",
   "version": "3.6.3"
  },
  "toc": {
   "nav_menu": {},
   "number_sections": true,
   "sideBar": true,
   "skip_h1_title": false,
   "title_cell": "Table of Contents",
   "title_sidebar": "Contents",
   "toc_cell": false,
   "toc_position": {},
   "toc_section_display": true,
   "toc_window_display": false
  },
  "varInspector": {
   "cols": {
    "lenName": 16,
    "lenType": 16,
    "lenVar": 40
   },
   "kernels_config": {
    "python": {
     "delete_cmd_postfix": "",
     "delete_cmd_prefix": "del ",
     "library": "var_list.py",
     "varRefreshCmd": "print(var_dic_list())"
    },
    "r": {
     "delete_cmd_postfix": ") ",
     "delete_cmd_prefix": "rm(",
     "library": "var_list.r",
     "varRefreshCmd": "cat(var_dic_list()) "
    }
   },
   "types_to_exclude": [
    "module",
    "function",
    "builtin_function_or_method",
    "instance",
    "_Feature"
   ],
   "window_display": false
  }
 },
 "nbformat": 4,
 "nbformat_minor": 2
}
