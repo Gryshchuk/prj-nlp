{
 "cells": [
  {
   "cell_type": "markdown",
   "metadata": {},
   "source": [
    "# Структурна лінгвістика"
   ]
  },
  {
   "cell_type": "markdown",
   "metadata": {},
   "source": [
    "## Побудуйте ланцюжок походження слів за зразком:\n",
    "\n",
    "оженитися: (о + (женити + ся))\n",
    "\n",
    "1. несприйнятливість: (не + (сприйнят + лив + ість))\n",
    "2. атиповий: (а + ((тип + ов) + ий)\n",
    "3. безвідповідально: (без + (відповід + альн + о))\n",
    "4. мореплавання: (море + плав + ання)\n",
    "5. оподаткувати: (о + податк + ува + ти)\n",
    "6. перевтілитися: (пере + ((в + тіл + ити) + ся))\n",
    "7. схилившись: ((((с + хил) + ив) + ши) + сь)\n",
    "8. трьохярусний: ((тр + ьох) + (ярус + ний))\n",
    "9. підсніжник: (під + сніж + ник)\n",
    "10. зужиткований: (з ((ужитк + ова) + н + ий))"
   ]
  },
  {
   "cell_type": "markdown",
   "metadata": {},
   "source": [
    "## Перевірте роботу [SnowballStem](http://snowballstem.org/) для спільнокореневих слів. Напишіть ваші спостереження.\n",
    "\n",
    "1. truth, truthful, truthfulness, countertruth, untruthful, truthology\n",
    "2. flaw, flaws, flawed, flawless, flawlessness, flawlessly, \n",
    "2. лес, лесной, лесник, лесничий, лесничество, пролесье\n",
    "3. окно, окошко, подоконник, оконный, окнище"
   ]
  },
  {
   "cell_type": "code",
   "execution_count": 4,
   "metadata": {},
   "outputs": [
    {
     "name": "stdout",
     "output_type": "stream",
     "text": [
      "truth, truth, truth, countertruth, untruth, trutholog\n",
      "flaw, flaw, flaw, flawless, flawless, flawless\n",
      "лес, лесн, лесник, леснич, лесничеств, пролес\n",
      "окн, окошк, подоконник, окон, окнищ\n"
     ]
    }
   ],
   "source": [
    "from nltk.stem.snowball import SnowballStemmer\n",
    "\n",
    "stemmer_en = SnowballStemmer('english')\n",
    "stemmer_ru = SnowballStemmer('russian')\n",
    "\n",
    "wordlists = [\n",
    "    {'lang': 'en', 'words': ['truth', 'truthful', 'truthfulness', 'countertruth', 'untruthful', 'truthology']},\n",
    "    {'lang': 'en', 'words': ['flaw', 'flaws', 'flawed', 'flawless', 'flawlessness', 'flawlessly']},\n",
    "    {'lang': 'ru', 'words': ['лес', 'лесной', 'лесник', 'лесничий', 'лесничество', 'пролесье']},\n",
    "    {'lang': 'ru', 'words': ['окно', 'окошко', 'подоконник', 'оконный', 'окнище']},\n",
    "]\n",
    "\n",
    "for wlist in wordlists:\n",
    "    stemmer = stemmer_en if wlist['lang'] == 'en' else stemmer_ru\n",
    "    print(', '.join([stemmer.stem(w) for w in wlist['words']]))"
   ]
  },
  {
   "cell_type": "markdown",
   "metadata": {},
   "source": [
    "**Коментарі:**\n",
    "Стемер фактично ігнорує префікси, і часто прибирає лише перший суфікс, лишаючи інші. Схоже, в англійській мові стемер розрізняє формотворчі суфікси, і прибирає лиш їх - \"flawless\" незмінне. У російській мові в результаті ми не отримали одного кореня для слів, у випадку \"окно\" ще бачимо, що чергування в корені слова теж ускладнюють стемінг. Чи має ця процедура сенс для російської, української мови і їм подібних взагалі?"
   ]
  },
  {
   "cell_type": "markdown",
   "metadata": {},
   "source": [
    "## Визначте частину мови виділеного слова і зв'язок до його батька (за зразком):\n",
    "\n",
    "{I} like turtles.: pronoun, nsubj(like, I)  \n",
    "I {like} turtles.: verb, root(ROOT, like)  \n",
    "I like {turtles}.: noun, dobj(like, turtles)"
   ]
  },
  {
   "cell_type": "code",
   "execution_count": 1,
   "metadata": {},
   "outputs": [],
   "source": [
    "import spacy, re\n",
    "from spacy import displacy\n",
    "nlp = spacy.load('en_core_web_md')"
   ]
  },
  {
   "cell_type": "code",
   "execution_count": 74,
   "metadata": {},
   "outputs": [],
   "source": [
    "sentences = [\n",
    "    {\"sent\": \"We can {but} hope that everything will be fine.\", \"target\": 2},\n",
    "    {\"sent\": \"It's sad {but} true.\", \"target\": 3},\n",
    "    {\"sent\": \"Jack brings nothing {but} trouble.\", \"target\": 3},\n",
    "    {\"sent\": \"{As} we were talking, I realised how to solve the issue.\", \"target\": 0},\n",
    "    {\"sent\": \"This hot dog isn't {as} big as usual.\", \"target\": 5},\n",
    "    {\"sent\": \"This hot dog isn't as big {as} usual.\", \"target\": 7},\n",
    "    {\"sent\": \"This hot dog isn't as big {as} I expected.\", \"target\": 7},\n",
    "    {\"sent\": \"I work {as} a teacher.\", \"target\": 2},\n",
    "    {\"sent\": \"Let's do it this {way}!\", \"target\": 5},\n",
    "    {\"sent\": \"This is {way} too much!\", \"target\": 2},\n",
    "    {\"sent\": \"The prices are going {down}.\", \"target\": 4},\n",
    "    {\"sent\": \"Someone pushed him and he fell {down} the stairs.\", \"target\": 6},\n",
    "    {\"sent\": \"I’ve been feeling rather {down} lately.\", \"target\": 5},\n",
    "    {\"sent\": \"It's not easy to {down} a cup of coffee in one gulp.\", \"target\": 5},\n",
    "    {\"sent\": \"Bring a {down} jacket and a pair of gloves, and you'll be fine.\", \"target\": 2},\n",
    "]"
   ]
  },
  {
   "cell_type": "code",
   "execution_count": null,
   "metadata": {
    "scrolled": true
   },
   "outputs": [],
   "source": [
    "for sent in sentences:\n",
    "    doc = nlp(re.sub('[{}]', '', sent['sent']))\n",
    "    for i, token in enumerate(doc):\n",
    "        if i == sent['target']:\n",
    "            print(f'{sent[\"sent\"]}\\n\\t{token.pos_}, {token.dep_}({token.head.text}, {token.text})\\n')"
   ]
  },
  {
   "cell_type": "markdown",
   "metadata": {},
   "source": [
    "1. We can {but} hope that everything will be fine.<br/>\n",
    "\tCCONJ, cc(can, but)<br/>\n",
    "\n",
    "2. It's sad {but} true.<br/>\n",
    "\tADP, mark(sad, but) ~~CCONJ, cc(sad, but)~~ * but is like \"despite\": is is sad despite it is true\n",
    "\n",
    "3. Jack brings nothing {but} trouble.<br/>\n",
    "\tADP, cc(nothing, but)\n",
    "    \n",
    "4. {As} we were talking, I realised how to solve the issue.<br/>\n",
    "\tADP, mark(talking, As)\n",
    "\n",
    "5. This hot dog isn't {as} big as usual.<br/>\n",
    "\tADV, advmod(big, as)\n",
    "\n",
    "6. This hot dog isn't as big {as} usual.<br/>\n",
    "\tADP, prep(big, as)\n",
    "\n",
    "7. This hot dog isn't as big {as} I expected.<br/>\n",
    "\tADP, mark(expected, as)\n",
    "\n",
    "8. I work {as} a teacher.<br/>\n",
    "\tADP, prep(work, as)\n",
    "\n",
    "9. Let's do it this {way}!<br/>\n",
    "\tNOUN, npadvmod(do, way)\n",
    "\n",
    "10. This is {way} too much!<br/>\n",
    "\tADV, **npadvmod**(much, way) ~~ADV, advmod(much, way)~~<br/>\n",
    "    *because \"way\" is not adverb*\n",
    "\n",
    "11. The prices are going {down}.<br/>\n",
    "\tADV, prt(going, down)\n",
    "\n",
    "12. Someone pushed him and he fell {down} the stairs.<br/>\n",
    "\tADP, prep(fell, down)\n",
    "\n",
    "13. I’ve been feeling rather {down} lately.<br/>\n",
    "\tADV, advmod(feeling, down)\n",
    "\n",
    "14. It's not easy to {down} a cup of coffee in one gulp.<br/>\n",
    "\tADV, xcomp('s, down)\n",
    "\n",
    "15. Bring a {down} jacket and a pair of gloves, and you'll be fine.<br/>\n",
    "\tPART, amod(jacket, down)"
   ]
  },
  {
   "cell_type": "markdown",
   "metadata": {},
   "source": [
    "## Визначте частину мови виділеного слова, його лему і зв'язок до його батька (за зразком):\n",
    "\n",
    "\n",
    "1. Рада міністрів Європейського союзу затвердила угоду про спрощений порядок видачі {віз} для України.<br/>\n",
    "   іменник, віза, nn(видачі, віз)\n",
    "\n",
    "2. Батько Себастьяна {віз} на санях їх театральний гурт до Львова.<br/>\n",
    "    дієслово, везти, root(ROOT, віз)\n",
    "\n",
    "3. А ще дивний елемент інтер’єру – {віз} із продукцією одного з херсонських виробників.<br/>\n",
    "    іменник, віз, appos(елемент , віз)\n",
    "\n",
    "4. У цю мить {повз} Євгена пролетів останній вагон товарняка.<br/>\n",
    "    прийменник, повз, pcomp(пролетів, повз)\n",
    "\n",
    "5. Кліпнув очима і побачив малого песика, який саме пробігав {повз} у бік села.<br/>\n",
    "    прийменник, повз, advmod(пробігав, повз)\n",
    "\n",
    "6. Степанко перестав кричати, тільки ламкий стогін {повз} йому із грудей.<br/>\n",
    "    дієслово, повзти, mark(тільки, повз)\n",
    "\n",
    "7. Часу не {гай} – декларацію подай!<br/>\n",
    "    дієслово, гаяти, root(ROOT, гай)\n",
    "\n",
    "8. І коляд заспівали, і {гай} врятували.<br/>\n",
    "    іменник, гай, dobj(врятували, гай)\n",
    "\n",
    "9. {Гай}, чи ви забулися, братове?<br/>\n",
    "    вигук, гай, vocative(забулися, Гай) *як вигуки позначаються в стенфордській типології?*\n",
    "\n",
    "10. Ось присіла на {край} ліжка.<br/>\n",
    "    іменник, край, pobj(на, край)\n",
    "\n",
    "11. Поставив ту кузню не {край} дороги, як було заведено, а на Красній горі, біля Прадуба.<br/>\n",
    "    прийменник, край, prep(Поставив, край)\n",
    "\n",
    "12. Розповідаючи про передній {край} лінґвістики, фон Лібіх, як завжди, мислив широко і глобально.<br/>\n",
    "    іменник, край, pobj(про, край)\n",
    "\n",
    "13. Не {край} мені серце.<br/>\n",
    "    дієслово, краяти, root(ROOT, край)\n",
    "\n",
    "14. І {щойно} тоді додаємо до борщу смажену цибулю.<br/>\n",
    "    частка, щойно, advmod(тоді, щойно) *advmod тому, що виконує функцію прислівника - посилює значення*\n",
    "\n",
    "15. Бо {щойно} я задрімав, віддавши тіло подушці з периною, як мене розбудив поштовх у бік.<br/>\n",
    "    прислівник, щойно, advmod(задрімав, щойно)"
   ]
  },
  {
   "cell_type": "markdown",
   "metadata": {},
   "source": [
    "## Побудуйте синтаксичну структуру речень за зразком:\n",
    "\n",
    "Я люблю черепашок.  \n",
    "nsubj(люблю, Я)  \n",
    "root(ROOT, люблю)  \n",
    "dobj(люблю, черепашок)\n",
    "\n",
    "1. Пригадую, уже згодом, коли я відбував свій термін у таборі № 36 у Кучино Пермської області, я отримав від Михасі листівку з жартівливим описом того, як Київ готується до святкування свого 1500-ліття.<br/>\n",
    "    * root(ROOT, Пригадую)<br/>\n",
    "    advmod(Пригадую, згодом)<br/>\n",
    "    advmod(згодом, уже)<br/>\n",
    "    ccomp(Пригадую, отримав)<br/>\n",
    "    nsubj(отримав, я\\[1\\])<br/>\n",
    "    dobj(отримав, листівку)<br/>\n",
    "    prep(отримав, від)<br/>\n",
    "    pobj(від, Михасі)<br/>\n",
    "    prep(листівку, з)<br/>\n",
    "    pobj(з, описом)<br/>\n",
    "    amod(описом, жартівливим)<br/>\n",
    "    prep(описом, того)<br/>\n",
    "    mark(готується, як)<br/>\n",
    "    pcomp(того, готується)<br/>\n",
    "    nsubj(готується, Київ)<br/>\n",
    "    prep(готується, до)<br/>\n",
    "    pobj(до, святкування)<br/>\n",
    "    dobj(святкування, 1500-ліття) *як розбити 1500-ліття, і чи потрібно це?* <br/>\n",
    "    poss(1500-ліття, свого)<br/>\n",
    "    advcl(отримав, відбував)<br/>\n",
    "    mark(коли, відбував)<br/>\n",
    "    nsubj(відбував, я\\[0\\])<br/>\n",
    "    dobj(відбував, термін)<br/>\n",
    "    poss(термін, свій)<br/>\n",
    "    prep(термін, у\\[0\\])<br/>\n",
    "    pobj(у, таборі) *це як npadvmod з прислівником, але як провести зв'язки і назвати?*<br/>\n",
    "    nummod(таборі, № 36)<br/>\n",
    "    prep(термін, у\\[1\\])<br/>\n",
    "    pobj(у, Кучино)<br/>\n",
    "    npadvmod(Кучино, області)<br/>\n",
    "    amod(області, Пермської)<br/><br/>\n",
    "\n",
    "2. 6C приземляється на плече, перекочуючись, пролітає метрів п’ятдесят і витягується на снігу за кілька кроків від забризканої палаючими уламками посадкової смуги.\n",
    "    * root(ROOT, приземляється)\n",
    "    nsubj(приземляється, 6C)<br/>\n",
    "    prep(приземляється, на)<br/>\n",
    "    pobj(на, плече)<br/>\n",
    "    advcl(приземляється, перекочуючись)<br/>\n",
    "    conj(приземляється, пролітає)<br/>\n",
    "    dobj(пролітає, метрів)br/>\n",
    "    nummod(метрів, п’ятдесят)<br/>\n",
    "    conj(пролітає, витягується)<br/>\n",
    "    cc(витягується, і)<br/>\n",
    "    prep(витягується, на)<br/>\n",
    "    pobj(на, снігу)<br/>\n",
    "    prep(витягується, за)<br/>\n",
    "    pobj(за, кроків)<br/>\n",
    "    nummod(кроків, кілька)<br/>\n",
    "    prep(кроків, від)<br/>\n",
    "    pobj(від, смуги)<br/>\n",
    "    amod(смуги, посадкової)\n",
    "    advcl(смуги, забризканої)<br/>\n",
    "    dobj(забризканої, уламками)<br/>\n",
    "    amod(уламками, палаючими)<br/><br/>\n",
    "\n",
    "3. Дівчина стояла там, де й була, і намагалася привести до ладу скуйовджене волосся, вкрай розлючена тим, що це побачили водії, які чекали на переїзді.\n",
    "    * root(ROOT, стояла)<br/>\n",
    "    nsubj(стояла, Дівчина)<br/>\n",
    "    advcl(стояла, була)<br/>\n",
    "    mark(була, де)<br/>\n",
    "    mark(була, там)<br/>\n",
    "    prep(була, й)<br/>\n",
    "    conj(стояла, намагалася)<br/>\n",
    "    cc(стояла, і)<br/>\n",
    "    xcomp(намагалася, привести)<br/>\n",
    "    dobj(привести, волосся)<br/>\n",
    "    amod(волосся, скуйовджене)<br/>\n",
    "    prep(волосся, до)<br/>\n",
    "    pobj(до, ладу)<br/>\n",
    "    amod(Дівчина, розлючена)<br/>\n",
    "    advmod(розлючена, вкрай)<br/>\n",
    "    ccomp(розлючена, побачили)<br/>\n",
    "    mark(побачили, що)<br/>\n",
    "    dobj(побачили, це)<br/>\n",
    "    nsubj(побачили, водії)<br/>\n",
    "    rcmod(водії, чекали)<br/>\n",
    "    ref(водії, які)<br/>\n",
    "    prep(чекали, на)<br/>\n",
    "    pobj(на, переїзді)<br/>"
   ]
  },
  {
   "cell_type": "markdown",
   "metadata": {},
   "source": [
    "## Виберіть одне cлово зі списку та побудуйте лексико-семантичні зв'язки до трьох різних значень цього слова. Фактично, потрібно побудувати WordNet-подібні вузли. Значення слів можна перевірити у [СУМі](http://sum.in.ua/) та [Словниках України](http://lcorp.ulif.org.ua/dictua/).\n",
    "Слова на вибір: вік, стіна, добро, серце, центр, куля, міст, ланцюг, бік, дух."
   ]
  },
  {
   "cell_type": "markdown",
   "metadata": {},
   "source": [
    "#### Серце - центральний орган кровоносної системи \n",
    "* **Гіпероніми:** \n",
    "Орган, кардіологія, біологія, анатомія, організм\n",
    "* **Сестринські терміни:** \n",
    "Печінка, нирка, шлунок, мозок\n",
    "* **Гіпоніми:** \n",
    "Клапан, міокард, перикард\n",
    "* **Холоніми:**\n",
    "Кровотік, орган, людина\n",
    "\n",
    "#### Серце - орган людини як символ зосередження почуттів, настроїв, переживань\n",
    "* **Гіпероніми:**\n",
    "Почуття, емоція, інтуїція\n",
    "\n",
    "* **Сестринські терміни:** \n",
    "Зад (жаргонне \"задом відчуваю\")\n",
    "\n",
    "* **Гіпоніми:** \n",
    "Неспокій, радість, сум, тривога\n",
    "\n",
    "* **Синоніми:**\n",
    "Відчуття, (перед-)чуття\n",
    "\n",
    "#### Серце - медуза\n",
    "* **Гіпероніми:** \n",
    "Кнідарії, море, тварина, безхребетне\n",
    "* **Сестринські терміни:** \n",
    "Поліпи, корали, актинії\n",
    "* **Гіпоніми:** \n",
    "Помацки, шапка\n",
    "* **Синонніми:**\n",
    "Медуза\n",
    "* **Холоніми:**\n",
    "Планктон\n",
    "* **Мероніми:**\n",
    "Гідроїдні, Кубомедуза, Ставромедуза, Сцифоїдні"
   ]
  },
  {
   "cell_type": "code",
   "execution_count": null,
   "metadata": {},
   "outputs": [],
   "source": []
  }
 ],
 "metadata": {
  "kernelspec": {
   "display_name": "Python 3",
   "language": "python",
   "name": "python3"
  },
  "language_info": {
   "codemirror_mode": {
    "name": "ipython",
    "version": 3
   },
   "file_extension": ".py",
   "mimetype": "text/x-python",
   "name": "python",
   "nbconvert_exporter": "python",
   "pygments_lexer": "ipython3",
   "version": "3.6.3"
  },
  "toc": {
   "nav_menu": {},
   "number_sections": true,
   "sideBar": false,
   "skip_h1_title": false,
   "title_cell": "Table of Contents",
   "title_sidebar": "Contents",
   "toc_cell": false,
   "toc_position": {
    "height": "141px",
    "left": "1028px",
    "top": "111.133px",
    "width": "262px"
   },
   "toc_section_display": false,
   "toc_window_display": true
  },
  "varInspector": {
   "cols": {
    "lenName": 16,
    "lenType": 16,
    "lenVar": 40
   },
   "kernels_config": {
    "python": {
     "delete_cmd_postfix": "",
     "delete_cmd_prefix": "del ",
     "library": "var_list.py",
     "varRefreshCmd": "print(var_dic_list())"
    },
    "r": {
     "delete_cmd_postfix": ") ",
     "delete_cmd_prefix": "rm(",
     "library": "var_list.r",
     "varRefreshCmd": "cat(var_dic_list()) "
    }
   },
   "types_to_exclude": [
    "module",
    "function",
    "builtin_function_or_method",
    "instance",
    "_Feature"
   ],
   "window_display": false
  }
 },
 "nbformat": 4,
 "nbformat_minor": 2
}
