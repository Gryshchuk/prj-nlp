{
 "cells": [
  {
   "cell_type": "code",
   "execution_count": 1,
   "metadata": {},
   "outputs": [],
   "source": [
    "import pandas as pd\n",
    "\n",
    "pd.set_option('display.max_colwidth', 300)"
   ]
  },
  {
   "cell_type": "markdown",
   "metadata": {},
   "source": [
    "* there is spelling errors. Probably it's an opportunity to create more examples. Just use grammarly to fix errors and add fixed examples into dataset\n",
    "* Some notes on phrases\n",
    "  * ambigous `who rated my page`\n",
    "  * Post is negative, not reply. Probably in future we will add sentiments for replies `'Find all Marjories that replied to post negatively and downloaded exhibitor file'`\n",
    "  * Poll -> Post `Find everyone who answered 'Yes' in a poll and wrote positive poll and clicked ablitech ad`\n",
    "  * \"Downloaded something\" not realistic `Search all people with last name White who liked at least one post by Shawna Potter and downloaded something from 'sponsor' type page`\n",
    "  * For now we don't have search for negative or neutral enjoyment `wasn't impressed by the event.`\n",
    "  * bio -> big `Search for profiles with \"bio\" who liked post on biplane and replied to Cooper`\n",
    "  * looks not realistic `Search attendees: ` ` x9 times `\n",
    "  * looks not realistic `*3`\n",
    "  * look not realistic `Find attendees:`\n",
    "  * wrong ` who created a post on page with word 'easy' in text`\n",
    "  * Super cool `either .. or ..` `neither .. nor ..`\n",
    "  * interesting idea `name = 'Lavern'`\n",
    "  * not realistic `Find the biplane people`\n",
    "  * cool, but too hard; maybe need to postpone `post that can be said to be a positive one`\n",
    "  * kinda cool, postpone `If there exists a post with a positive sentiment which was liked by a user who attended a single event and has a bio containing a \"biplane\" word -- present such users to me!`\n",
    "  * not sure this is valid sentence `93 Find attendees where reply to Stacy Vaughn and phone number 7699165982 and post has \"rare\"`\n",
    "  * ambigous `Find attendees who liked a page nine time and the page contains 'gargoyle'`\n",
    "  * extra end `and and`\n",
    "  * duplicate `find everyone with deviantart.com as their website`\n",
    "  * what page? `saw this page`\n",
    "  * too complex for users to come up `someone else's post`\n",
    "  * We can't search by the note content `note that contains` `note containing the word 'concussion'` `note with the word 'concussion'` `created a note containing 'concussion'`\n",
    "  * There is no such filter now `profile info contains (290) 448-8241`\n",
    "  * spelling exhibotr\n",
    "  * duplicate `positive positive`\n",
    "  * missed closed quote `'coastal`"
   ]
  },
  {
   "cell_type": "code",
   "execution_count": 16,
   "metadata": {},
   "outputs": [],
   "source": [
    "df = pd.read_csv('dataset/phrases_cleaned_1522422847595.csv')\n",
    "df = df.assign(splitted_gs = None)"
   ]
  },
  {
   "cell_type": "code",
   "execution_count": null,
   "metadata": {},
   "outputs": [],
   "source": []
  }
 ],
 "metadata": {
  "kernelspec": {
   "display_name": "Python 3",
   "language": "python",
   "name": "python3"
  },
  "language_info": {
   "codemirror_mode": {
    "name": "ipython",
    "version": 3
   },
   "file_extension": ".py",
   "mimetype": "text/x-python",
   "name": "python",
   "nbconvert_exporter": "python",
   "pygments_lexer": "ipython3",
   "version": "3.6.0"
  }
 },
 "nbformat": 4,
 "nbformat_minor": 2
}
