{
 "cells": [
  {
   "cell_type": "code",
   "execution_count": 4,
   "metadata": {},
   "outputs": [],
   "source": [
    "%matplotlib inline\n",
    "import matplotlib.pyplot as plt\n",
    "import pandas as pd\n",
    "import spacy\n",
    "import en_core_web_lg\n",
    "import corenlp\n",
    "from stanfordcorenlp import StanfordCoreNLP\n",
    "from nltk.tree import Tree\n",
    "import json\n",
    "import re\n",
    "import string\n",
    "import time\n",
    "from sklearn.model_selection import train_test_split\n",
    "\n",
    "pd.set_option('display.max_colwidth', 300)"
   ]
  },
  {
   "cell_type": "code",
   "execution_count": 15,
   "metadata": {},
   "outputs": [],
   "source": [
    "nlp = en_core_web_lg.load()"
   ]
  },
  {
   "cell_type": "code",
   "execution_count": null,
   "metadata": {},
   "outputs": [],
   "source": [
    "df = pd.read_csv('dataset/phrases_cleaned_1522422847595.csv')"
   ]
  },
  {
   "cell_type": "markdown",
   "metadata": {},
   "source": [
    "* there is spelling errors. Probably it's an opportunity to create more examples. Just use grammarly to fix errors and add fixed examples into dataset\n",
    "* Some notes on phrases\n",
    "  * ambigous `who rated my page`\n",
    "  * Post is negative, not reply. Probably in future we will add sentiments for replies `'Find all Marjories that replied to post negatively and downloaded exhibitor file'`\n",
    "  * Poll -> Post `Find everyone who answered 'Yes' in a poll and wrote positive poll and clicked ablitech ad`\n",
    "  * \"Downloaded something\" not realistic `Search all people with last name White who liked at least one post by Shawna Potter and downloaded something from 'sponsor' type page`\n",
    "  * For now we don't have search for negative or neutral enjoyment `wasn't impressed by the event.`\n",
    "  * bio -> big `Search for profiles with \"bio\" who liked post on biplane and replied to Cooper`\n",
    "  * looks not realistic `Search attendees: ` ` x9 times `\n",
    "  * looks not realistic `*3`\n",
    "  * look not realistic `Find attendees:`\n",
    "  * wrong ` who created a post on page with word 'easy' in text`\n",
    "  * Super cool `either .. or ..` `neither .. nor ..`\n",
    "  * interesting idea `name = 'Lavern'`\n",
    "  * not realistic `Find the biplane people`\n",
    "  * cool, but too hard; maybe need to postpone `post that can be said to be a positive one`\n",
    "  * kinda cool, postpone `If there exists a post with a positive sentiment which was liked by a user who attended a single event and has a bio containing a \"biplane\" word -- present such users to me!`\n",
    "  * not sure this is valid sentence `93 Find attendees where reply to Stacy Vaughn and phone number 7699165982 and post has \"rare\"`\n",
    "  * ambigous `Find attendees who liked a page nine time and the page contains 'gargoyle'`\n",
    "  * extra end `and and`\n",
    "  * duplicate `find everyone with deviantart.com as their website`\n",
    "  * what page? `saw this page`\n",
    "  * too complex for users to come up `someone else's post`\n",
    "  * We can't search by the note content `note that contains` `note containing the word 'concussion'` `note with the word 'concussion'` `created a note containing 'concussion'`\n",
    "  * There is no such filter now `profile info contains (290) 448-8241`\n",
    "  * spelling exhibotr\n",
    "  * duplicate `positive positive`\n",
    "  * missed closed quote `'coastal`"
   ]
  },
  {
   "cell_type": "markdown",
   "metadata": {},
   "source": [
    "### Points on how to split:\n",
    "* we can split on `,?and`, `,?as well as`, `,?or`, `,`,`but`,`also`, \n",
    "  * but not here: `Find attendees who rated any page four times and participated in poll and answered yes to any question as well as downloaded a file from page with 'exhibitor' type`\n",
    "* we can split on `who`, `that`:\n",
    "  * `Find attendees with name Marjorie who replied to`\n",
    "  * `Find all Marjories that replied to negative post and downloaded exhibitor file`\n",
    "* leave only `n't` from `don't`,`isn't`, etc\n",
    "* remove punctuation\n",
    "* will need to do this automaticaly"
   ]
  },
  {
   "cell_type": "code",
   "execution_count": null,
   "metadata": {},
   "outputs": [],
   "source": [
    "df_splitted = df.assign(splitted_phrase = df.phrase.str.split(r\" and |, ?\").apply(json.dumps))\n",
    "df_splitted[['id', 'splitted_phrase']].to_csv('dataset/phrases_splitted', index=False)"
   ]
  },
  {
   "cell_type": "markdown",
   "metadata": {},
   "source": [
    "### Points on how to prepare data for classification\n",
    "* Replace all substrings with special values"
   ]
  },
  {
   "cell_type": "code",
   "execution_count": null,
   "metadata": {},
   "outputs": [],
   "source": [
    "INTERP_VALUES = {'first-name':     [\"Altagracia\", \"Valarie\", \"Maya\", \"Lavern\", \"Chante\", \"Milly\", \"Erinn\", \"Stephenie\", \"Nancie\", \"Saran\", \"Emery\", \"Kate\", \"Tarah\", \"Vida\", \"Rosana\", \"Petra\", \"Carisa\", \"Vashti\", \"Marjorie\", \"Madonna\"],\n",
    "   'last-name':      [\"Smith\", \"Johnson\", \"Williams\", \"Jones\", \"Brown\", \"Davis\", \"Miller\", \"Wilson\", \"Moore\", \"Taylor\", \"Anderson\", \"Thomas\", \"Jackson\", \"White\", \"Harris\", \"Martin\", \"Thompson\", \"Garcia\", \"Martinez\", \"Robinson\", \"Clark\", \"Rodriguez\", \"Lewis\", \"Lee\", \"Walker\"],\n",
    "   'company':        [\"A. O. Smith\", \"A. Schulman\", \"A&W Restaurants\", \"a21, Inc.\", \"Aaron's, Inc.\", \"Abbott Laboratories\", \"AbbVie\", \"Abercrombie & Fitch\", \"Ablitech, Inc.\", \"ABM Industries\", \"ABS Capital Partners\", \"ABX Air\", \"AC Lens\", \"Academi\", \"Accenture Plc\", \"Access Systems Americas, Inc.\", \"ACCO Brands\", \"Accuquote\", \"Accuride Corporation\", \"Ace Hardware\", \"Acme Fresh Market\", \"ACN Inc.\", \"Acsis Inc.\", \"Activision Blizzard\", \"Activision\", \"Blizzard\", \"Acuity Brands\", \"Acuity Insurance\"],\n",
    "   'position':       [\"Accountant\", \"Accountant Systems\", \"Acquisition Management Intern\", \"Actuarial Analyst\", \"Actuary\", \"Administrative Generalist/Specialist\", \"Affordable Housing Specialist\", \"Analyst\", \"Appraiser\", \"Archaeologist\", \"Area Systems Coordinator\", \"Asylum or Immigration Officer\", \"Attorney/Law Clerk\", \"Audience Analyst\", \"Audit Resolution Follow Up\", \"Auditor\", \"Behavioral Scientist\", \"Biologist, Fishery\", \"Biologist, Marine\", \"Biologist, Wildlife\", \"Budget Analyst\", \"Budget Specialist\", \"Business Administration Officer\", \"Chemical Engineer\", \"Chemist\", \"Citizen Services Specialis\"],\n",
    "   'location':       [\"Afghanistan\", \"Albania\", \"Algeria\", \"Andorra\", \"Angola\", \"Antigua & Deps\", \"Argentina\", \"Armenia\", \"Australia\", \"Austria\", \"Azerbaijan\", \"Bahamas\", \"Bahrain\", \"Bangladesh\", \"Barbados\", \"Belarus\", \"Belgium\", \"Belize\", \"Benin\", \"Bhutan\", \"Bolivia\", \"Bosnia Herzegovina\", \"Botswana\", \"Brazil\", \"Brunei\", \"Bulgaria\", \"Burkina\", \"Burundi\", \"Cambodia\", \"Cameroon\", \"Canada\", \"Cape Verde\", \"Central African Rep\", \"Chad\", \"Chile\", \"China\", \"Colombia\", \"Comoros\", \"Congo\", \"Congo {Democratic Rep}\", \"Costa Rica\", \"Croatia\", \"Cuba\", \"Cyprus\", \"Czech Republic\", \"Denmark\", \"Djibouti\", \"Dominica\", \"Dominican Republic\", \"East Timor\", \"Ecuador\", \"Egypt\", \"El Salvador\", \"Equatorial Guinea\", \"Eritrea\", \"Estonia\", \"Ethiopia\", \"Fiji\", \"Finland\", \"France\", \"Gabon\", \"Gambia\", \"Georgia\", \"Germany\", \"Ghana\", \"Greece\", \"Grenada\", \"Guatemala\", \"Guinea\", \"Guinea-Bissau\", \"Guyana\", \"Haiti\", \"Honduras\", \"Hungary\", \"Iceland\", \"India\", \"Indonesia\", \"Iran\", \"Iraq\", \"Ireland {Republic}\", \"Israel\", \"Italy\", \"Ivory Coast\", \"Jamaica\", \"Japan\", \"Jordan\", \"Kazakhstan\", \"Kenya\", \"Kiribati\", \"Korea North\", \"Korea South\", \"Kosovo\", \"Kuwait\", \"Kyrgyzstan\", \"Laos\", \"Latvia\", \"Lebanon\", \"Lesotho\", \"Liberia\", \"Libya\", \"Liechtenstein\", \"Lithuania\", \"Luxembourg\", \"Macedonia\", \"Madagascar\", \"Malawi\", \"Malaysia\", \"Maldives\", \"Mali\", \"Malta\", \"Marshall Islands\", \"Mauritania\", \"Mauritius\", \"Mexico\", \"Micronesia\", \"Moldova\", \"Monaco\", \"Mongolia\", \"Montenegro\", \"Morocco\", \"Mozambique\", \"Myanmar, {Burma}\", \"Namibia\", \"Nauru\", \"Nepal\", \"Netherlands\", \"New Zealand\", \"Nicaragua\", \"Niger\", \"Nigeria\", \"Norway\", \"Oman\", \"Pakistan\", \"Palau\", \"Panama\", \"Papua New Guinea\", \"Paraguay\", \"Peru\", \"Philippines\", \"Poland\", \"Portugal\", \"Qatar\", \"Romania\", \"Russian Federation\", \"Rwanda\", \"St Kitts & Nevis\", \"St Lucia\", \"Saint Vincent & the Grenadines\", \"Samoa\", \"San Marino\", \"Sao Tome & Principe\", \"Saudi Arabia\", \"Senegal\", \"Serbia\", \"Seychelles\", \"Sierra Leone\", \"Singapore\", \"Slovakia\", \"Slovenia\", \"Solomon Islands\", \"Somalia\", \"South Africa\", \"South Sudan\", \"Spain\", \"Sri Lanka\", \"Sudan\", \"Suriname\", \"Swaziland\", \"Sweden\", \"Switzerland\", \"Syria\", \"Taiwan\", \"Tajikistan\", \"Tanzania\", \"Thailand\", \"Togo\", \"Tonga\", \"Trinidad & Tobago\", \"Tunisia\", \"Turkey\", \"Turkmenistan\", \"Tuvalu\", \"Uganda\", \"Ukraine\", \"United Arab Emirates\", \"United Kingdom\", \"United States\", \"Uruguay\", \"Uzbekistan\", \"Vanuatu\", \"Vatican City\", \"Venezuela\", \"Vietnam\", \"Yemen\", \"Zambia\", \"Zimbabwe\"],\n",
    "   'enjoyment':      [\"enjoyed\", \"not enjoyed\"],\n",
    "   'sentiment':      [\"positive\", \"negative\"],\n",
    "   'email':          [\"mthurn@live.com\", \"fangorn@hotmail.com\", \"euice@outlook.com\", \"rgarcia@optonline.net\", \"mxiao@yahoo.com\", \"firstpr@att.net\", \"webdragon@comcast.net\", \"jguyer@aol.com\", \"sakusha@yahoo.ca\", \"crandall@sbcglobal.net\", \"drezet@me.com\", \"miyop@icloud.com\"],\n",
    "   'phone':          [\"(290) 448-8241\", \"(447) 865-0513\", \"(895) 592-8974\", \"(101) 892-2757\", \"(506) 934-8645\", \"(728) 690-5585\", \"(726) 292-2944\", \"(331) 408-2679\", \"(939) 771-3645\", \"(454) 726-1205\", \"(769) 916-5982\", \"(747) 180-7744\", \"(633) 561-7544\", \"(771) 171-3243\", \"(344) 842-7718\"],\n",
    "   'website':        [\"mapy.cz\", \"ow.ly\", \"bbb.org\", \"mayoclinic.com\", \"soundcloud.com\", \"free.fr\", \"stumbleupon.com\", \"hugedomains.com\", \"apache.org\", \"wikia.com\", \"privacy.gov.au\", \"bandcamp.com\", \"sphinn.com\", \"deviantart.com\", \"berkeley.edu\"],\n",
    "   'social-network': [\"google plus\", \"twitter\", \"google+\", \"facebook\", \"linkedin\", \"linked in\"],\n",
    "   'post-text':      [\"My creativity is funky, and I want to run a marathon. You've got sick encounters, forever. #elbowism #randomtweet\", \"My job is debt free, and I want to pluck a cactus. Ridiculously good dinner dates, again.\", \"My cooking is being a jerk, and I want to go swimming. A hint of stellar banjo music, IMHO.\", \"My life is a pain, and I want to be heard. We need clammy candy, for the love of God.\", \"My boss is a joy, and I want to study holistic medicine. We need insane lies, really.\", \"My cat is debt free, and I want to level up. A clear case of better glitter, please.\", \"My job is so robust, and I want to go swimming. A hint of specific make-up, I say.\", \"My honesty is a pain, and I want to play hacky sack. A path towards creepy costumes, again.\"],\n",
    "   'post-word':      [\"mix\", \"finite\", \"phonograph\", \"fatal\", \"liver\", \"blizzard\", \"rare\", \"conqueror\", \"crawling\", \"accommodation\", \"gargoyle\", \"blackout\", \"coastal\", \"convulsion\", \"pragmatic\", \"beyond\", \"concussion\", \"free\", \"easy\", \"honey\", \"abomination\", \"eight\", \"captive\", \"big\", \"adsorbable\", \"airtight\", \"escapist\", \"feeling\", \"biplane\"],\n",
    "   'number':         [str(n) for n in list(range(10))],\n",
    "   'mention':        [\"Clay Arnold\", \"Sheryl Bradley\", \"Steven Owens\", \"Kristin Hansen\", \"Stephanie Jenkins\", \"Michelle Neal\", \"Lindsey Holt\", \"Philip Stephens\", \"Delia Flores\", \"Caleb Ramirez\", \"Lynn Boyd\", \"Andy Chandler\", \"Estelle Jimenez\", \"Stacy Vaughn\", \"Dorothy Larson\", \"Shawna Potter\", \"Sherman Cooper\", \"Hope Griffith\", \"Connie Mitchell\", \"Dolores Cummings\"],\n",
    "   'poll-answer':    [\"Yes\", \"No\", \"Maybe\"],\n",
    "   'poll-question':  [\"Do you sleep with your closet doors open?\", \"Do you take the shampoos and conditioner bottles from hotel?\", \"Do you sleep with your sheets tucked in?\", \"Have you ever stolen a street sign before?\", \"Do you like to use post-it notes?\", \"Do you cut out coupons but then never use them?\", \"Do you have freckles?\", \"Do you always smile for pictures?\", \"Do you ever count your steps when you walk?\", \"Have you ever peed in the woods?\", \"Do you ever dance even if there's no music playing?\", \"Do you chew your pens and pencils?\", \"Is it ok for guys to wear pink ?\", \"Do you still watch cartoons?\"],\n",
    "   'event':          [\"Fluffy Bison'17\", \"Tired Kangaroos'18\", \"Clear Nightingales'12\", \"Swanky Elks'01\", \"Tall Frogs'12\", \"Present Larks'05\", \"Luxuriant Apes'04\", \"Deeply Seals'15\", \"Many Worms'13\", \"Ill Guineapigs'10\", \"Vagabond Panthers'12\", \"Happy Hippopotamuss'17\"],\n",
    "   'page-type':      [\"session\", \"sponsor\", \"speaker\", \"exhibitor\"],\n",
    "   'file-name':      [\"talk.pdf\", \"presentation.pptx\", \"workshop.doc\"]}\n",
    "\n",
    "INV_MAP = {v: k for k,vs in INTERP_VALUES.items() for v in vs}"
   ]
  },
  {
   "cell_type": "code",
   "execution_count": null,
   "metadata": {},
   "outputs": [],
   "source": [
    "df = pd.read_csv('dataset/phrases_splitted_1522422847595.csv')\n",
    "df.splitted_phrase = df.splitted_phrase.apply(json.loads)\n",
    "mapcatted = pd.DataFrame([(row.id, phrase) for i,row in df.iterrows() for phrase in row.splitted_phrase],\n",
    "                        columns=['id', 'phrase'])\n",
    "mapcatted.phrase.unique()\n",
    "#mapcatted.to_csv('dataset/phrases_unique_splitted_1522902786972.csv')"
   ]
  },
  {
   "cell_type": "code",
   "execution_count": null,
   "metadata": {},
   "outputs": [],
   "source": [
    "mapcatted = pd.read_csv('dataset/phrases_unique_splitted_1522422847595.csv', index_col=None)"
   ]
  },
  {
   "cell_type": "code",
   "execution_count": null,
   "metadata": {
    "scrolled": true
   },
   "outputs": [],
   "source": [
    "# Replaces known named entities and search strings\n",
    "mapcatted = mapcatted.drop_duplicates(subset=['phrase'])\n",
    "vals = []\n",
    "phrases = []\n",
    "\n",
    "for _, row in mapcatted.iterrows():\n",
    "    values = {}\n",
    "    s = row['phrase']\n",
    "    for p,k in INV_MAP.items():\n",
    "        pt = re.compile(\"'?\" + p + \"'?\")\n",
    "        match = re.search(pt, s)\n",
    "        if match:\n",
    "            span = match.span()\n",
    "            value = s[span[0]:span[1]]\n",
    "            values[k] = value\n",
    "            s = s[:span[0]] + '<' + k + '>' + s[span[1]:]\n",
    "    vals.append(json.dumps(values))\n",
    "    phrases.append(s)\n",
    "\n",
    "mapcatted = mapcatted.assign(phrase = phrases, replacements = vals)\n",
    "mapcatted.to_csv('dataset/ready_for_classification_1522902786972.csv', index=False)"
   ]
  },
  {
   "cell_type": "code",
   "execution_count": 44,
   "metadata": {},
   "outputs": [
    {
     "data": {
      "text/plain": [
       "[post, like, ad, rate, poll, ..., reply, view, note, event, session]\n",
       "Length: 12\n",
       "Categories (12, object): [post, like, ad, rate, ..., view, note, event, session]"
      ]
     },
     "execution_count": 44,
     "metadata": {},
     "output_type": "execute_result"
    }
   ],
   "source": [
    "wl = pd.read_csv('dataset/with_labels_1522902786972.csv', \n",
    "                 index_col=[0],\n",
    "                 names=['id','phrase','replacements','label'],\n",
    "                 skiprows=1)\n",
    "wl['label'] = wl['label'].astype('category')\n",
    "wl['label'].unique()"
   ]
  },
  {
   "cell_type": "code",
   "execution_count": 45,
   "metadata": {
    "scrolled": true
   },
   "outputs": [
    {
     "data": {
      "text/plain": [
       "<matplotlib.axes._subplots.AxesSubplot at 0x1826de550>"
      ]
     },
     "execution_count": 45,
     "metadata": {},
     "output_type": "execute_result"
    },
    {
     "data": {
      "image/png": "[encoded data removed]",
      "text/plain": [
       "<Figure size 432x288 with 1 Axes>"
      ]
     },
     "metadata": {},
     "output_type": "display_data"
    }
   ],
   "source": [
    "wl['label'].value_counts().plot(kind='bar')"
   ]
  },
  {
   "cell_type": "markdown",
   "metadata": {},
   "source": [
    "Probably we need to upsample `note`,`event`,`session`. But for now try to train classifier on what we have to get some baseline"
   ]
  },
  {
   "cell_type": "code",
   "execution_count": 50,
   "metadata": {},
   "outputs": [],
   "source": [
    "train, test = train_test_split(wl, test_size=0.3, stratify=wl['label'])"
   ]
  },
  {
   "cell_type": "code",
   "execution_count": 55,
   "metadata": {},
   "outputs": [
    {
     "data": {
      "text/plain": [
       "Pipeline(memory=None,\n",
       "     steps=[('vectorizer', CountVectorizer(analyzer='word', binary=False, decode_error='strict',\n",
       "        dtype=<class 'numpy.int64'>, encoding='utf-8', input='content',\n",
       "        lowercase=True, max_df=1.0, max_features=None, min_df=1,\n",
       "        ngram_range=(1, 1), preprocessor=None, stop_words=None,\n",
       "       ...620>, vocabulary=None)), ('classifier', MultinomialNB(alpha=1.0, class_prior=None, fit_prior=True))])"
      ]
     },
     "execution_count": 55,
     "metadata": {},
     "output_type": "execute_result"
    }
   ],
   "source": [
    "from sklearn.naive_bayes import MultinomialNB\n",
    "from sklearn.feature_extraction.text import CountVectorizer\n",
    "from sklearn.pipeline import Pipeline\n",
    "from sklearn.metrics import confusion_matrix\n",
    "\n",
    "p = Pipeline([('vectorizer', CountVectorizer(tokenizer=lambda x: list(nlp(x)))),\n",
    "              ('classifier', MultinomialNB())])\n",
    "\n",
    "p.fit(train['phrase'], train['label'])"
   ]
  },
  {
   "cell_type": "code",
   "execution_count": 56,
   "metadata": {},
   "outputs": [],
   "source": [
    "pred = p.predict(train['phrase'])"
   ]
  },
  {
   "cell_type": "code",
   "execution_count": 57,
   "metadata": {},
   "outputs": [
    {
     "data": {
      "text/html": [
       "<div>\n",
       "<style scoped>\n",
       "    .dataframe tbody tr th:only-of-type {\n",
       "        vertical-align: middle;\n",
       "    }\n",
       "\n",
       "    .dataframe tbody tr th {\n",
       "        vertical-align: top;\n",
       "    }\n",
       "\n",
       "    .dataframe thead th {\n",
       "        text-align: right;\n",
       "    }\n",
       "</style>\n",
       "<table border=\"1\" class=\"dataframe\">\n",
       "  <thead>\n",
       "    <tr style=\"text-align: right;\">\n",
       "      <th></th>\n",
       "      <th>ad</th>\n",
       "      <th>event</th>\n",
       "      <th>file</th>\n",
       "      <th>like</th>\n",
       "      <th>note</th>\n",
       "      <th>poll</th>\n",
       "      <th>post</th>\n",
       "      <th>profile</th>\n",
       "      <th>rate</th>\n",
       "      <th>reply</th>\n",
       "      <th>session</th>\n",
       "      <th>view</th>\n",
       "    </tr>\n",
       "  </thead>\n",
       "  <tbody>\n",
       "    <tr>\n",
       "      <th>ad</th>\n",
       "      <td>0</td>\n",
       "      <td>0</td>\n",
       "      <td>0</td>\n",
       "      <td>0</td>\n",
       "      <td>0</td>\n",
       "      <td>0</td>\n",
       "      <td>0</td>\n",
       "      <td>26</td>\n",
       "      <td>0</td>\n",
       "      <td>0</td>\n",
       "      <td>0</td>\n",
       "      <td>0</td>\n",
       "    </tr>\n",
       "    <tr>\n",
       "      <th>event</th>\n",
       "      <td>0</td>\n",
       "      <td>0</td>\n",
       "      <td>0</td>\n",
       "      <td>0</td>\n",
       "      <td>0</td>\n",
       "      <td>0</td>\n",
       "      <td>0</td>\n",
       "      <td>11</td>\n",
       "      <td>0</td>\n",
       "      <td>0</td>\n",
       "      <td>0</td>\n",
       "      <td>0</td>\n",
       "    </tr>\n",
       "    <tr>\n",
       "      <th>file</th>\n",
       "      <td>0</td>\n",
       "      <td>0</td>\n",
       "      <td>0</td>\n",
       "      <td>0</td>\n",
       "      <td>0</td>\n",
       "      <td>0</td>\n",
       "      <td>0</td>\n",
       "      <td>21</td>\n",
       "      <td>0</td>\n",
       "      <td>0</td>\n",
       "      <td>0</td>\n",
       "      <td>0</td>\n",
       "    </tr>\n",
       "    <tr>\n",
       "      <th>like</th>\n",
       "      <td>0</td>\n",
       "      <td>0</td>\n",
       "      <td>0</td>\n",
       "      <td>0</td>\n",
       "      <td>0</td>\n",
       "      <td>0</td>\n",
       "      <td>0</td>\n",
       "      <td>38</td>\n",
       "      <td>0</td>\n",
       "      <td>0</td>\n",
       "      <td>0</td>\n",
       "      <td>0</td>\n",
       "    </tr>\n",
       "    <tr>\n",
       "      <th>note</th>\n",
       "      <td>0</td>\n",
       "      <td>0</td>\n",
       "      <td>0</td>\n",
       "      <td>0</td>\n",
       "      <td>0</td>\n",
       "      <td>0</td>\n",
       "      <td>0</td>\n",
       "      <td>15</td>\n",
       "      <td>0</td>\n",
       "      <td>0</td>\n",
       "      <td>0</td>\n",
       "      <td>0</td>\n",
       "    </tr>\n",
       "    <tr>\n",
       "      <th>poll</th>\n",
       "      <td>0</td>\n",
       "      <td>0</td>\n",
       "      <td>0</td>\n",
       "      <td>0</td>\n",
       "      <td>0</td>\n",
       "      <td>0</td>\n",
       "      <td>0</td>\n",
       "      <td>39</td>\n",
       "      <td>0</td>\n",
       "      <td>0</td>\n",
       "      <td>0</td>\n",
       "      <td>0</td>\n",
       "    </tr>\n",
       "    <tr>\n",
       "      <th>post</th>\n",
       "      <td>0</td>\n",
       "      <td>0</td>\n",
       "      <td>0</td>\n",
       "      <td>0</td>\n",
       "      <td>0</td>\n",
       "      <td>0</td>\n",
       "      <td>0</td>\n",
       "      <td>50</td>\n",
       "      <td>0</td>\n",
       "      <td>0</td>\n",
       "      <td>0</td>\n",
       "      <td>0</td>\n",
       "    </tr>\n",
       "    <tr>\n",
       "      <th>profile</th>\n",
       "      <td>0</td>\n",
       "      <td>0</td>\n",
       "      <td>0</td>\n",
       "      <td>0</td>\n",
       "      <td>0</td>\n",
       "      <td>0</td>\n",
       "      <td>0</td>\n",
       "      <td>87</td>\n",
       "      <td>0</td>\n",
       "      <td>0</td>\n",
       "      <td>0</td>\n",
       "      <td>0</td>\n",
       "    </tr>\n",
       "    <tr>\n",
       "      <th>rate</th>\n",
       "      <td>0</td>\n",
       "      <td>0</td>\n",
       "      <td>0</td>\n",
       "      <td>0</td>\n",
       "      <td>0</td>\n",
       "      <td>0</td>\n",
       "      <td>0</td>\n",
       "      <td>28</td>\n",
       "      <td>0</td>\n",
       "      <td>0</td>\n",
       "      <td>0</td>\n",
       "      <td>0</td>\n",
       "    </tr>\n",
       "    <tr>\n",
       "      <th>reply</th>\n",
       "      <td>0</td>\n",
       "      <td>0</td>\n",
       "      <td>0</td>\n",
       "      <td>0</td>\n",
       "      <td>0</td>\n",
       "      <td>0</td>\n",
       "      <td>0</td>\n",
       "      <td>30</td>\n",
       "      <td>0</td>\n",
       "      <td>0</td>\n",
       "      <td>0</td>\n",
       "      <td>0</td>\n",
       "    </tr>\n",
       "    <tr>\n",
       "      <th>session</th>\n",
       "      <td>0</td>\n",
       "      <td>0</td>\n",
       "      <td>0</td>\n",
       "      <td>0</td>\n",
       "      <td>0</td>\n",
       "      <td>0</td>\n",
       "      <td>0</td>\n",
       "      <td>2</td>\n",
       "      <td>0</td>\n",
       "      <td>0</td>\n",
       "      <td>0</td>\n",
       "      <td>0</td>\n",
       "    </tr>\n",
       "    <tr>\n",
       "      <th>view</th>\n",
       "      <td>0</td>\n",
       "      <td>0</td>\n",
       "      <td>0</td>\n",
       "      <td>0</td>\n",
       "      <td>0</td>\n",
       "      <td>0</td>\n",
       "      <td>0</td>\n",
       "      <td>24</td>\n",
       "      <td>0</td>\n",
       "      <td>0</td>\n",
       "      <td>0</td>\n",
       "      <td>0</td>\n",
       "    </tr>\n",
       "  </tbody>\n",
       "</table>\n",
       "</div>"
      ],
      "text/plain": [
       "         ad  event  file  like  note  poll  post  profile  rate  reply  \\\n",
       "ad        0      0     0     0     0     0     0       26     0      0   \n",
       "event     0      0     0     0     0     0     0       11     0      0   \n",
       "file      0      0     0     0     0     0     0       21     0      0   \n",
       "like      0      0     0     0     0     0     0       38     0      0   \n",
       "note      0      0     0     0     0     0     0       15     0      0   \n",
       "poll      0      0     0     0     0     0     0       39     0      0   \n",
       "post      0      0     0     0     0     0     0       50     0      0   \n",
       "profile   0      0     0     0     0     0     0       87     0      0   \n",
       "rate      0      0     0     0     0     0     0       28     0      0   \n",
       "reply     0      0     0     0     0     0     0       30     0      0   \n",
       "session   0      0     0     0     0     0     0        2     0      0   \n",
       "view      0      0     0     0     0     0     0       24     0      0   \n",
       "\n",
       "         session  view  \n",
       "ad             0     0  \n",
       "event          0     0  \n",
       "file           0     0  \n",
       "like           0     0  \n",
       "note           0     0  \n",
       "poll           0     0  \n",
       "post           0     0  \n",
       "profile        0     0  \n",
       "rate           0     0  \n",
       "reply          0     0  \n",
       "session        0     0  \n",
       "view           0     0  "
      ]
     },
     "execution_count": 57,
     "metadata": {},
     "output_type": "execute_result"
    }
   ],
   "source": [
    "pd.DataFrame(confusion_matrix(train['label'], pred), columns=train['label'].dtype.categories, index=train['label'].dtype.categories)"
   ]
  },
  {
   "cell_type": "code",
   "execution_count": null,
   "metadata": {},
   "outputs": [],
   "source": []
  }
 ],
 "metadata": {
  "kernelspec": {
   "display_name": "Python 3",
   "language": "python",
   "name": "python3"
  },
  "language_info": {
   "codemirror_mode": {
    "name": "ipython",
    "version": 3
   },
   "file_extension": ".py",
   "mimetype": "text/x-python",
   "name": "python",
   "nbconvert_exporter": "python",
   "pygments_lexer": "ipython3",
   "version": "3.6.1"
  }
 },
 "nbformat": 4,
 "nbformat_minor": 2
}
