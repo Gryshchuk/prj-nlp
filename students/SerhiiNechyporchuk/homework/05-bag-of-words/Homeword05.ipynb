{
 "cells": [
  {
   "cell_type": "code",
   "execution_count": 641,
   "metadata": {},
   "outputs": [],
   "source": [
    "%matplotlib inline\n",
    "import pandas as pd\n",
    "import numpy as np\n",
    "import matplotlib.pyplot as plt\n",
    "import json\n",
    "from langdetect import detect\n",
    "import langdetect\n",
    "from sklearn.model_selection import train_test_split\n",
    "from sklearn.pipeline import Pipeline\n",
    "from sklearn.feature_extraction.text import CountVectorizer, TfidfVectorizer\n",
    "from sklearn.metrics import accuracy_score, precision_score, recall_score, f1_score, confusion_matrix\n",
    "from sklearn.naive_bayes import MultinomialNB\n",
    "from sklearn.base import BaseEstimator, ClassifierMixin\n",
    "from sklearn.preprocessing import FunctionTransformer\n",
    "import en_core_web_lg\n",
    "from tqdm import tqdm_pandas, tqdm_notebook\n",
    "import tokenize_uk\n",
    "\n",
    "pd.set_option('display.max_colwidth', 100)"
   ]
  },
  {
   "cell_type": "code",
   "execution_count": 169,
   "metadata": {},
   "outputs": [
    {
     "data": {
      "application/vnd.jupyter.widget-view+json": {
       "model_id": "ee2e7fe1a4ef47cba2e851ba10c0e182",
       "version_major": 2,
       "version_minor": 0
      },
      "text/plain": [
       "HBox(children=(IntProgress(value=1, bar_style='info', max=1), HTML(value='')))"
      ]
     },
     "metadata": {},
     "output_type": "display_data"
    },
    {
     "name": "stdout",
     "output_type": "stream",
     "text": [
      "\n"
     ]
    }
   ],
   "source": [
    "tqdm_notebook().pandas()"
   ]
  },
  {
   "cell_type": "code",
   "execution_count": 137,
   "metadata": {},
   "outputs": [],
   "source": [
    "nlp = en_core_web_lg.load()"
   ]
  },
  {
   "cell_type": "code",
   "execution_count": 313,
   "metadata": {
    "scrolled": false
   },
   "outputs": [
    {
     "name": "stdout",
     "output_type": "stream",
     "text": [
      "Rows:  49890\n"
     ]
    },
    {
     "data": {
      "text/html": [
       "<div>\n",
       "<style scoped>\n",
       "    .dataframe tbody tr th:only-of-type {\n",
       "        vertical-align: middle;\n",
       "    }\n",
       "\n",
       "    .dataframe tbody tr th {\n",
       "        vertical-align: top;\n",
       "    }\n",
       "\n",
       "    .dataframe thead th {\n",
       "        text-align: right;\n",
       "    }\n",
       "</style>\n",
       "<table border=\"1\" class=\"dataframe\">\n",
       "  <thead>\n",
       "    <tr style=\"text-align: right;\">\n",
       "      <th></th>\n",
       "      <th>review</th>\n",
       "      <th>id</th>\n",
       "      <th>scores</th>\n",
       "    </tr>\n",
       "  </thead>\n",
       "  <tbody>\n",
       "    <tr>\n",
       "      <th>0</th>\n",
       "      <td>{'_': 'Пришел не рабочий телефон. Самостоятельно выключается. При включении на экране белая поло...</td>\n",
       "      <td>18896982</td>\n",
       "      <td>NaN</td>\n",
       "    </tr>\n",
       "    <tr>\n",
       "      <th>1</th>\n",
       "      <td>{'_': 'Не розумію..... це підробка??? Адже якщо мені не зраджує пам*ять iPhone6 випускався лише ...</td>\n",
       "      <td>18840918</td>\n",
       "      <td>NaN</td>\n",
       "    </tr>\n",
       "    <tr>\n",
       "      <th>2</th>\n",
       "      <td>{'_': 'Чудовий телефон , приємні знижки та якісне обслуговування', 'Переваги:': 'Легкий,швидкий,...</td>\n",
       "      <td>18780426</td>\n",
       "      <td>5.0</td>\n",
       "    </tr>\n",
       "    <tr>\n",
       "      <th>3</th>\n",
       "      <td>{'_': 'Он полностю новий?'}</td>\n",
       "      <td>18736812</td>\n",
       "      <td>5.0</td>\n",
       "    </tr>\n",
       "    <tr>\n",
       "      <th>4</th>\n",
       "      <td>{'_': 'Телефон и правда ещё очень актуальный сам пользуюсь и рад производительности,второй 5s та...</td>\n",
       "      <td>18534645</td>\n",
       "      <td>4.0</td>\n",
       "    </tr>\n",
       "  </tbody>\n",
       "</table>\n",
       "</div>"
      ],
      "text/plain": [
       "                                                                                                review  \\\n",
       "0  {'_': 'Пришел не рабочий телефон. Самостоятельно выключается. При включении на экране белая поло...   \n",
       "1  {'_': 'Не розумію..... це підробка??? Адже якщо мені не зраджує пам*ять iPhone6 випускався лише ...   \n",
       "2  {'_': 'Чудовий телефон , приємні знижки та якісне обслуговування', 'Переваги:': 'Легкий,швидкий,...   \n",
       "3                                                                          {'_': 'Он полностю новий?'}   \n",
       "4  {'_': 'Телефон и правда ещё очень актуальный сам пользуюсь и рад производительности,второй 5s та...   \n",
       "\n",
       "         id  scores  \n",
       "0  18896982     NaN  \n",
       "1  18840918     NaN  \n",
       "2  18780426     5.0  \n",
       "3  18736812     5.0  \n",
       "4  18534645     4.0  "
      ]
     },
     "execution_count": 313,
     "metadata": {},
     "output_type": "execute_result"
    }
   ],
   "source": [
    "df = pd.read_csv('scraper/data-phones.csv')\n",
    "df['review'] = df['review'].apply(json.loads)\n",
    "#df['scores'] = df['scores'].apply(json.loads)\n",
    "print(\"Rows: \", len(df))\n",
    "df.head()"
   ]
  },
  {
   "cell_type": "markdown",
   "metadata": {},
   "source": [
    "For now just stick with main part of review"
   ]
  },
  {
   "cell_type": "code",
   "execution_count": 314,
   "metadata": {
    "scrolled": true
   },
   "outputs": [
    {
     "data": {
      "text/html": [
       "<div>\n",
       "<style scoped>\n",
       "    .dataframe tbody tr th:only-of-type {\n",
       "        vertical-align: middle;\n",
       "    }\n",
       "\n",
       "    .dataframe tbody tr th {\n",
       "        vertical-align: top;\n",
       "    }\n",
       "\n",
       "    .dataframe thead th {\n",
       "        text-align: right;\n",
       "    }\n",
       "</style>\n",
       "<table border=\"1\" class=\"dataframe\">\n",
       "  <thead>\n",
       "    <tr style=\"text-align: right;\">\n",
       "      <th></th>\n",
       "      <th>review</th>\n",
       "      <th>id</th>\n",
       "      <th>scores</th>\n",
       "      <th>main_review</th>\n",
       "    </tr>\n",
       "  </thead>\n",
       "  <tbody>\n",
       "    <tr>\n",
       "      <th>0</th>\n",
       "      <td>{'_': 'Пришел не рабочий телефон. Самостоятельно выключается. При включении на экране белая поло...</td>\n",
       "      <td>18896982</td>\n",
       "      <td>NaN</td>\n",
       "      <td>Пришел не рабочий телефон. Самостоятельно выключается. При включении на экране белая полоска и з...</td>\n",
       "    </tr>\n",
       "    <tr>\n",
       "      <th>1</th>\n",
       "      <td>{'_': 'Не розумію..... це підробка??? Адже якщо мені не зраджує пам*ять iPhone6 випускався лише ...</td>\n",
       "      <td>18840918</td>\n",
       "      <td>NaN</td>\n",
       "      <td>Не розумію..... це підробка??? Адже якщо мені не зраджує пам*ять iPhone6 випускався лише в трьох...</td>\n",
       "    </tr>\n",
       "    <tr>\n",
       "      <th>2</th>\n",
       "      <td>{'_': 'Чудовий телефон , приємні знижки та якісне обслуговування', 'Переваги:': 'Легкий,швидкий,...</td>\n",
       "      <td>18780426</td>\n",
       "      <td>5.0</td>\n",
       "      <td>Чудовий телефон , приємні знижки та якісне обслуговування</td>\n",
       "    </tr>\n",
       "    <tr>\n",
       "      <th>3</th>\n",
       "      <td>{'_': 'Он полностю новий?'}</td>\n",
       "      <td>18736812</td>\n",
       "      <td>5.0</td>\n",
       "      <td>Он полностю новий?</td>\n",
       "    </tr>\n",
       "    <tr>\n",
       "      <th>4</th>\n",
       "      <td>{'_': 'Телефон и правда ещё очень актуальный сам пользуюсь и рад производительности,второй 5s та...</td>\n",
       "      <td>18534645</td>\n",
       "      <td>4.0</td>\n",
       "      <td>Телефон и правда ещё очень актуальный сам пользуюсь и рад производительности,второй 5s так же пр...</td>\n",
       "    </tr>\n",
       "  </tbody>\n",
       "</table>\n",
       "</div>"
      ],
      "text/plain": [
       "                                                                                                review  \\\n",
       "0  {'_': 'Пришел не рабочий телефон. Самостоятельно выключается. При включении на экране белая поло...   \n",
       "1  {'_': 'Не розумію..... це підробка??? Адже якщо мені не зраджує пам*ять iPhone6 випускався лише ...   \n",
       "2  {'_': 'Чудовий телефон , приємні знижки та якісне обслуговування', 'Переваги:': 'Легкий,швидкий,...   \n",
       "3                                                                          {'_': 'Он полностю новий?'}   \n",
       "4  {'_': 'Телефон и правда ещё очень актуальный сам пользуюсь и рад производительности,второй 5s та...   \n",
       "\n",
       "         id  scores  \\\n",
       "0  18896982     NaN   \n",
       "1  18840918     NaN   \n",
       "2  18780426     5.0   \n",
       "3  18736812     5.0   \n",
       "4  18534645     4.0   \n",
       "\n",
       "                                                                                           main_review  \n",
       "0  Пришел не рабочий телефон. Самостоятельно выключается. При включении на экране белая полоска и з...  \n",
       "1  Не розумію..... це підробка??? Адже якщо мені не зраджує пам*ять iPhone6 випускався лише в трьох...  \n",
       "2                                            Чудовий телефон , приємні знижки та якісне обслуговування  \n",
       "3                                                                                   Он полностю новий?  \n",
       "4  Телефон и правда ещё очень актуальный сам пользуюсь и рад производительности,второй 5s так же пр...  "
      ]
     },
     "execution_count": 314,
     "metadata": {},
     "output_type": "execute_result"
    }
   ],
   "source": [
    "df['main_review'] = df['review'].apply(lambda x: x['_'])\n",
    "df.head()"
   ]
  },
  {
   "cell_type": "markdown",
   "metadata": {},
   "source": [
    "Filter those written in ukrainian"
   ]
  },
  {
   "cell_type": "code",
   "execution_count": 315,
   "metadata": {
    "scrolled": false
   },
   "outputs": [
    {
     "data": {
      "application/vnd.jupyter.widget-view+json": {
       "model_id": "cbcb2c5297dd4db09393c41c8b1e23dc",
       "version_major": 2,
       "version_minor": 0
      },
      "text/plain": [
       "HBox(children=(IntProgress(value=0, max=49890), HTML(value='')))"
      ]
     },
     "metadata": {},
     "output_type": "display_data"
    },
    {
     "name": "stdout",
     "output_type": "stream",
     "text": [
      "\n",
      "Rows:  10231\n"
     ]
    },
    {
     "data": {
      "text/html": [
       "<div>\n",
       "<style scoped>\n",
       "    .dataframe tbody tr th:only-of-type {\n",
       "        vertical-align: middle;\n",
       "    }\n",
       "\n",
       "    .dataframe tbody tr th {\n",
       "        vertical-align: top;\n",
       "    }\n",
       "\n",
       "    .dataframe thead th {\n",
       "        text-align: right;\n",
       "    }\n",
       "</style>\n",
       "<table border=\"1\" class=\"dataframe\">\n",
       "  <thead>\n",
       "    <tr style=\"text-align: right;\">\n",
       "      <th></th>\n",
       "      <th>review</th>\n",
       "      <th>id</th>\n",
       "      <th>scores</th>\n",
       "      <th>main_review</th>\n",
       "    </tr>\n",
       "  </thead>\n",
       "  <tbody>\n",
       "    <tr>\n",
       "      <th>0</th>\n",
       "      <td>{'_': 'Пришел не рабочий телефон. Самостоятельно выключается. При включении на экране белая поло...</td>\n",
       "      <td>18896982</td>\n",
       "      <td>NaN</td>\n",
       "      <td>Пришел не рабочий телефон. Самостоятельно выключается. При включении на экране белая полоска и з...</td>\n",
       "    </tr>\n",
       "    <tr>\n",
       "      <th>1</th>\n",
       "      <td>{'_': 'Не розумію..... це підробка??? Адже якщо мені не зраджує пам*ять iPhone6 випускався лише ...</td>\n",
       "      <td>18840918</td>\n",
       "      <td>NaN</td>\n",
       "      <td>Не розумію..... це підробка??? Адже якщо мені не зраджує пам*ять iPhone6 випускався лише в трьох...</td>\n",
       "    </tr>\n",
       "    <tr>\n",
       "      <th>2</th>\n",
       "      <td>{'_': 'Чудовий телефон , приємні знижки та якісне обслуговування', 'Переваги:': 'Легкий,швидкий,...</td>\n",
       "      <td>18780426</td>\n",
       "      <td>5.0</td>\n",
       "      <td>Чудовий телефон , приємні знижки та якісне обслуговування</td>\n",
       "    </tr>\n",
       "    <tr>\n",
       "      <th>3</th>\n",
       "      <td>{'_': 'Он полностю новий?'}</td>\n",
       "      <td>18736812</td>\n",
       "      <td>5.0</td>\n",
       "      <td>Он полностю новий?</td>\n",
       "    </tr>\n",
       "    <tr>\n",
       "      <th>4</th>\n",
       "      <td>{'_': 'Телефон и правда ещё очень актуальный сам пользуюсь и рад производительности,второй 5s та...</td>\n",
       "      <td>18534645</td>\n",
       "      <td>4.0</td>\n",
       "      <td>Телефон и правда ещё очень актуальный сам пользуюсь и рад производительности,второй 5s так же пр...</td>\n",
       "    </tr>\n",
       "  </tbody>\n",
       "</table>\n",
       "</div>"
      ],
      "text/plain": [
       "                                                                                                review  \\\n",
       "0  {'_': 'Пришел не рабочий телефон. Самостоятельно выключается. При включении на экране белая поло...   \n",
       "1  {'_': 'Не розумію..... це підробка??? Адже якщо мені не зраджує пам*ять iPhone6 випускався лише ...   \n",
       "2  {'_': 'Чудовий телефон , приємні знижки та якісне обслуговування', 'Переваги:': 'Легкий,швидкий,...   \n",
       "3                                                                          {'_': 'Он полностю новий?'}   \n",
       "4  {'_': 'Телефон и правда ещё очень актуальный сам пользуюсь и рад производительности,второй 5s та...   \n",
       "\n",
       "         id  scores  \\\n",
       "0  18896982     NaN   \n",
       "1  18840918     NaN   \n",
       "2  18780426     5.0   \n",
       "3  18736812     5.0   \n",
       "4  18534645     4.0   \n",
       "\n",
       "                                                                                           main_review  \n",
       "0  Пришел не рабочий телефон. Самостоятельно выключается. При включении на экране белая полоска и з...  \n",
       "1  Не розумію..... це підробка??? Адже якщо мені не зраджує пам*ять iPhone6 випускався лише в трьох...  \n",
       "2                                            Чудовий телефон , приємні знижки та якісне обслуговування  \n",
       "3                                                                                   Он полностю новий?  \n",
       "4  Телефон и правда ещё очень актуальный сам пользуюсь и рад производительности,второй 5s так же пр...  "
      ]
     },
     "execution_count": 315,
     "metadata": {},
     "output_type": "execute_result"
    }
   ],
   "source": [
    "def detect_lang(x):\n",
    "    try:\n",
    "        return detect(x)\n",
    "    except langdetect.lang_detect_exception.LangDetectException:\n",
    "        pass\n",
    "        \n",
    "df_uk = df[df['main_review'].progress_apply(detect_lang) == 'uk'].copy()\n",
    "print(\"Rows: \", len(df_uk))\n",
    "df_uk.head()"
   ]
  },
  {
   "cell_type": "markdown",
   "metadata": {},
   "source": [
    "Leave only those with scores"
   ]
  },
  {
   "cell_type": "code",
   "execution_count": 318,
   "metadata": {},
   "outputs": [
    {
     "name": "stdout",
     "output_type": "stream",
     "text": [
      "Rows:  4317\n"
     ]
    },
    {
     "data": {
      "text/html": [
       "<div>\n",
       "<style scoped>\n",
       "    .dataframe tbody tr th:only-of-type {\n",
       "        vertical-align: middle;\n",
       "    }\n",
       "\n",
       "    .dataframe tbody tr th {\n",
       "        vertical-align: top;\n",
       "    }\n",
       "\n",
       "    .dataframe thead th {\n",
       "        text-align: right;\n",
       "    }\n",
       "</style>\n",
       "<table border=\"1\" class=\"dataframe\">\n",
       "  <thead>\n",
       "    <tr style=\"text-align: right;\">\n",
       "      <th></th>\n",
       "      <th>review</th>\n",
       "      <th>id</th>\n",
       "      <th>scores</th>\n",
       "      <th>main_review</th>\n",
       "      <th>score_raw</th>\n",
       "    </tr>\n",
       "  </thead>\n",
       "  <tbody>\n",
       "    <tr>\n",
       "      <th>2</th>\n",
       "      <td>{'_': 'Чудовий телефон , приємні знижки та якісне обслуговування', 'Переваги:': 'Легкий,швидкий,...</td>\n",
       "      <td>18780426</td>\n",
       "      <td>5.0</td>\n",
       "      <td>Чудовий телефон , приємні знижки та якісне обслуговування</td>\n",
       "      <td>5.0</td>\n",
       "    </tr>\n",
       "    <tr>\n",
       "      <th>12</th>\n",
       "      <td>{'_': 'Запитання: чи є в ньому функцію запису телефонної розмови?'}</td>\n",
       "      <td>19373305</td>\n",
       "      <td>4.0</td>\n",
       "      <td>Запитання: чи є в ньому функцію запису телефонної розмови?</td>\n",
       "      <td>4.0</td>\n",
       "    </tr>\n",
       "    <tr>\n",
       "      <th>15</th>\n",
       "      <td>{'_': 'Користуюсь два тижні. Достойний телефон. Працює швидкоі і злагоджено. Дуже зручно зі скан...</td>\n",
       "      <td>21074865</td>\n",
       "      <td>5.0</td>\n",
       "      <td>Користуюсь два тижні. Достойний телефон. Працює швидкоі і злагоджено. Дуже зручно зі сканером, х...</td>\n",
       "      <td>5.0</td>\n",
       "    </tr>\n",
       "    <tr>\n",
       "      <th>22</th>\n",
       "      <td>{'_': 'Підскажи який стоїть Андроїд? І чи є до нього захисне скло і чохол?', 'Недоліки:': '-'}</td>\n",
       "      <td>20476907</td>\n",
       "      <td>5.0</td>\n",
       "      <td>Підскажи який стоїть Андроїд? І чи є до нього захисне скло і чохол?</td>\n",
       "      <td>5.0</td>\n",
       "    </tr>\n",
       "    <tr>\n",
       "      <th>60</th>\n",
       "      <td>{'_': 'Користуюсь вже два місяці, телефон крутий, тільки одна порада не купляйте джет блек, а пр...</td>\n",
       "      <td>16161182</td>\n",
       "      <td>5.0</td>\n",
       "      <td>Користуюсь вже два місяці, телефон крутий, тільки одна порада не купляйте джет блек, а простий ч...</td>\n",
       "      <td>5.0</td>\n",
       "    </tr>\n",
       "  </tbody>\n",
       "</table>\n",
       "</div>"
      ],
      "text/plain": [
       "                                                                                                 review  \\\n",
       "2   {'_': 'Чудовий телефон , приємні знижки та якісне обслуговування', 'Переваги:': 'Легкий,швидкий,...   \n",
       "12                                  {'_': 'Запитання: чи є в ньому функцію запису телефонної розмови?'}   \n",
       "15  {'_': 'Користуюсь два тижні. Достойний телефон. Працює швидкоі і злагоджено. Дуже зручно зі скан...   \n",
       "22       {'_': 'Підскажи який стоїть Андроїд? І чи є до нього захисне скло і чохол?', 'Недоліки:': '-'}   \n",
       "60  {'_': 'Користуюсь вже два місяці, телефон крутий, тільки одна порада не купляйте джет блек, а пр...   \n",
       "\n",
       "          id  scores  \\\n",
       "2   18780426     5.0   \n",
       "12  19373305     4.0   \n",
       "15  21074865     5.0   \n",
       "22  20476907     5.0   \n",
       "60  16161182     5.0   \n",
       "\n",
       "                                                                                            main_review  \\\n",
       "2                                             Чудовий телефон , приємні знижки та якісне обслуговування   \n",
       "12                                           Запитання: чи є в ньому функцію запису телефонної розмови?   \n",
       "15  Користуюсь два тижні. Достойний телефон. Працює швидкоі і злагоджено. Дуже зручно зі сканером, х...   \n",
       "22                                  Підскажи який стоїть Андроїд? І чи є до нього захисне скло і чохол?   \n",
       "60  Користуюсь вже два місяці, телефон крутий, тільки одна порада не купляйте джет блек, а простий ч...   \n",
       "\n",
       "    score_raw  \n",
       "2         5.0  \n",
       "12        4.0  \n",
       "15        5.0  \n",
       "22        5.0  \n",
       "60        5.0  "
      ]
     },
     "execution_count": 318,
     "metadata": {},
     "output_type": "execute_result"
    }
   ],
   "source": [
    "main_key = 'Общее впечатление'\n",
    "taste_key = 'Соответствие вкуса'\n",
    "aroma_key = 'Соответствие аромата'\n",
    "def combine_scores(scores):\n",
    "    if main_key in scores:\n",
    "        main = scores.get(main_key)\n",
    "        taste = scores.get(taste_key)\n",
    "        aroma = scores.get(aroma_key)\n",
    "        raws = list(filter(lambda x: x, [main, taste, aroma]))\n",
    "        return np.mean(raws)\n",
    "df_uk = df_uk.assign(score_raw=df_uk['scores'])\n",
    "df_ws = df_uk[pd.notna(df_uk['score_raw'])].copy()\n",
    "print(\"Rows: \", len(df_ws))\n",
    "df_ws.head()"
   ]
  },
  {
   "cell_type": "code",
   "execution_count": 340,
   "metadata": {},
   "outputs": [
    {
     "data": {
      "text/plain": [
       "(2.333333333333333, 3.666666666666666, 4.999999999999999)"
      ]
     },
     "execution_count": 340,
     "metadata": {},
     "output_type": "execute_result"
    }
   ],
   "source": [
    "1+4/3,1+4/3+4/3,1+4/3+4/3+4/3"
   ]
  },
  {
   "cell_type": "markdown",
   "metadata": {},
   "source": [
    "Digitize scores"
   ]
  },
  {
   "cell_type": "code",
   "execution_count": 349,
   "metadata": {
    "scrolled": true
   },
   "outputs": [
    {
     "data": {
      "text/html": [
       "<div>\n",
       "<style scoped>\n",
       "    .dataframe tbody tr th:only-of-type {\n",
       "        vertical-align: middle;\n",
       "    }\n",
       "\n",
       "    .dataframe tbody tr th {\n",
       "        vertical-align: top;\n",
       "    }\n",
       "\n",
       "    .dataframe thead th {\n",
       "        text-align: right;\n",
       "    }\n",
       "</style>\n",
       "<table border=\"1\" class=\"dataframe\">\n",
       "  <thead>\n",
       "    <tr style=\"text-align: right;\">\n",
       "      <th></th>\n",
       "      <th>review</th>\n",
       "      <th>id</th>\n",
       "      <th>scores</th>\n",
       "      <th>main_review</th>\n",
       "      <th>score_raw</th>\n",
       "      <th>score</th>\n",
       "    </tr>\n",
       "  </thead>\n",
       "  <tbody>\n",
       "    <tr>\n",
       "      <th>2</th>\n",
       "      <td>{'_': 'Чудовий телефон , приємні знижки та якісне обслуговування', 'Переваги:': 'Легкий,швидкий,...</td>\n",
       "      <td>18780426</td>\n",
       "      <td>5.0</td>\n",
       "      <td>Чудовий телефон , приємні знижки та якісне обслуговування</td>\n",
       "      <td>5.0</td>\n",
       "      <td>2</td>\n",
       "    </tr>\n",
       "    <tr>\n",
       "      <th>12</th>\n",
       "      <td>{'_': 'Запитання: чи є в ньому функцію запису телефонної розмови?'}</td>\n",
       "      <td>19373305</td>\n",
       "      <td>4.0</td>\n",
       "      <td>Запитання: чи є в ньому функцію запису телефонної розмови?</td>\n",
       "      <td>4.0</td>\n",
       "      <td>2</td>\n",
       "    </tr>\n",
       "    <tr>\n",
       "      <th>15</th>\n",
       "      <td>{'_': 'Користуюсь два тижні. Достойний телефон. Працює швидкоі і злагоджено. Дуже зручно зі скан...</td>\n",
       "      <td>21074865</td>\n",
       "      <td>5.0</td>\n",
       "      <td>Користуюсь два тижні. Достойний телефон. Працює швидкоі і злагоджено. Дуже зручно зі сканером, х...</td>\n",
       "      <td>5.0</td>\n",
       "      <td>2</td>\n",
       "    </tr>\n",
       "    <tr>\n",
       "      <th>22</th>\n",
       "      <td>{'_': 'Підскажи який стоїть Андроїд? І чи є до нього захисне скло і чохол?', 'Недоліки:': '-'}</td>\n",
       "      <td>20476907</td>\n",
       "      <td>5.0</td>\n",
       "      <td>Підскажи який стоїть Андроїд? І чи є до нього захисне скло і чохол?</td>\n",
       "      <td>5.0</td>\n",
       "      <td>2</td>\n",
       "    </tr>\n",
       "    <tr>\n",
       "      <th>60</th>\n",
       "      <td>{'_': 'Користуюсь вже два місяці, телефон крутий, тільки одна порада не купляйте джет блек, а пр...</td>\n",
       "      <td>16161182</td>\n",
       "      <td>5.0</td>\n",
       "      <td>Користуюсь вже два місяці, телефон крутий, тільки одна порада не купляйте джет блек, а простий ч...</td>\n",
       "      <td>5.0</td>\n",
       "      <td>2</td>\n",
       "    </tr>\n",
       "  </tbody>\n",
       "</table>\n",
       "</div>"
      ],
      "text/plain": [
       "                                                                                                 review  \\\n",
       "2   {'_': 'Чудовий телефон , приємні знижки та якісне обслуговування', 'Переваги:': 'Легкий,швидкий,...   \n",
       "12                                  {'_': 'Запитання: чи є в ньому функцію запису телефонної розмови?'}   \n",
       "15  {'_': 'Користуюсь два тижні. Достойний телефон. Працює швидкоі і злагоджено. Дуже зручно зі скан...   \n",
       "22       {'_': 'Підскажи який стоїть Андроїд? І чи є до нього захисне скло і чохол?', 'Недоліки:': '-'}   \n",
       "60  {'_': 'Користуюсь вже два місяці, телефон крутий, тільки одна порада не купляйте джет блек, а пр...   \n",
       "\n",
       "          id  scores  \\\n",
       "2   18780426     5.0   \n",
       "12  19373305     4.0   \n",
       "15  21074865     5.0   \n",
       "22  20476907     5.0   \n",
       "60  16161182     5.0   \n",
       "\n",
       "                                                                                            main_review  \\\n",
       "2                                             Чудовий телефон , приємні знижки та якісне обслуговування   \n",
       "12                                           Запитання: чи є в ньому функцію запису телефонної розмови?   \n",
       "15  Користуюсь два тижні. Достойний телефон. Працює швидкоі і злагоджено. Дуже зручно зі сканером, х...   \n",
       "22                                  Підскажи який стоїть Андроїд? І чи є до нього захисне скло і чохол?   \n",
       "60  Користуюсь вже два місяці, телефон крутий, тільки одна порада не купляйте джет блек, а простий ч...   \n",
       "\n",
       "    score_raw  score  \n",
       "2         5.0      2  \n",
       "12        4.0      2  \n",
       "15        5.0      2  \n",
       "22        5.0      2  \n",
       "60        5.0      2  "
      ]
     },
     "execution_count": 349,
     "metadata": {},
     "output_type": "execute_result"
    }
   ],
   "source": [
    "def digitize(n):\n",
    "    if (1 <= n) and (n < 3):\n",
    "        return 0\n",
    "    elif (3 <= n) and (n < 4):\n",
    "        return 1\n",
    "    elif (4 <= n) and (n <= 5):\n",
    "        return 2\n",
    "    else:\n",
    "        return None\n",
    "bins = 1+np.array([4/3,2*4/3])\n",
    "df_ws['score'] = np.digitize(df_ws['score_raw'], bins)\n",
    "df_ws.head()"
   ]
  },
  {
   "cell_type": "code",
   "execution_count": 350,
   "metadata": {
    "scrolled": false
   },
   "outputs": [],
   "source": [
    "train,test = train_test_split(df_ws, test_size=0.3)\n",
    "train.to_csv('train.phones.csv', index=False)\n",
    "test.to_csv('test.phones.csv', index=False)\n",
    "train = pd.read_csv('train.phones.csv')\n",
    "test = pd.read_csv('test.phones.csv')"
   ]
  },
  {
   "cell_type": "markdown",
   "metadata": {},
   "source": [
    "Load ukranian stemmer (borrowed from https://github.com/Amice13/ukr_stemmer)"
   ]
  },
  {
   "cell_type": "code",
   "execution_count": 294,
   "metadata": {},
   "outputs": [],
   "source": [
    "%run -n ukr_stemmer3.py"
   ]
  },
  {
   "cell_type": "code",
   "execution_count": 477,
   "metadata": {},
   "outputs": [],
   "source": [
    "def stem(xs):\n",
    "    return np.array([UkrainianStemmer(x).stem_word() for x in xs])\n",
    "\n",
    "def stem_all(X):\n",
    "    stem_vec = np.vectorize(stem)\n",
    "    return stem_vec(X)"
   ]
  },
  {
   "cell_type": "code",
   "execution_count": 478,
   "metadata": {},
   "outputs": [],
   "source": [
    "def tokenize(x, lowercase=False):\n",
    "    tokens = tokenize_uk.tokenize_words(x)\n",
    "    if lowercase==True:\n",
    "        return [tok.lower() for tok in tokens]\n",
    "    else:\n",
    "        return tokens"
   ]
  },
  {
   "cell_type": "code",
   "execution_count": 479,
   "metadata": {},
   "outputs": [],
   "source": [
    "train = train.assign(review_doc = train['main_review'].apply(lambda x: tokenize(x, lowercase=True)))\n",
    "test = test.assign(review_doc = test['main_review'].apply(lambda x: tokenize(x, lowercase=True)))"
   ]
  },
  {
   "cell_type": "code",
   "execution_count": 624,
   "metadata": {},
   "outputs": [],
   "source": [
    "vocab = CountVectorizer(tokenizer=lambda x: stem(x), lowercase=False).fit(train['review_doc'], train['score']).vocabulary_\n",
    "idxs, ivocab = zip(*sorted(zip(vocab.values(),vocab.keys())))\n",
    "ivocab = np.array(ivocab)"
   ]
  },
  {
   "cell_type": "code",
   "execution_count": 394,
   "metadata": {
    "scrolled": false
   },
   "outputs": [
    {
     "data": {
      "text/plain": [
       "<matplotlib.axes._subplots.AxesSubplot at 0x131030a20>"
      ]
     },
     "execution_count": 394,
     "metadata": {},
     "output_type": "execute_result"
    },
    {
     "data": {
      "image/png": "[encoded data removed]",
      "text/plain": [
       "<Figure size 432x288 with 1 Axes>"
      ]
     },
     "metadata": {},
     "output_type": "display_data"
    }
   ],
   "source": [
    "train['score'].value_counts().plot(kind='bar')"
   ]
  },
  {
   "cell_type": "code",
   "execution_count": 524,
   "metadata": {
    "scrolled": true
   },
   "outputs": [
    {
     "name": "stdout",
     "output_type": "stream",
     "text": [
      "Baseline score: 0.8680555555555556\n"
     ]
    }
   ],
   "source": [
    "print(\"Baseline score:\", accuracy_score(test['score'], np.full(test['score'].shape, 2)))"
   ]
  },
  {
   "cell_type": "code",
   "execution_count": 666,
   "metadata": {},
   "outputs": [],
   "source": [
    "def print_metrics(cls, train, test):   \n",
    "    print(\"Train score: \", cls.score(train['review_doc'], train['score']))\n",
    "    print(\"Test score: \", cls.score(test['review_doc'], test['score']))\n",
    "    pred = cls.predict(test['review_doc'])\n",
    "    print(\"Test precision: \", precision_score(test['score'], pred, average=None))\n",
    "    print(\"Test recall:\", recall_score(test['score'], pred, average=None))\n",
    "    print(\"F1:\", f1_score(test['score'],pred, average=None))\n",
    "    print(\"F1-macro:\", f1_score(test['score'],pred,average='macro'))\n",
    "    return confusion_matrix(test['score'], pred)"
   ]
  },
  {
   "cell_type": "markdown",
   "metadata": {},
   "source": [
    "### Classification v1 (Naive Bayes)"
   ]
  },
  {
   "cell_type": "code",
   "execution_count": 667,
   "metadata": {
    "scrolled": true
   },
   "outputs": [
    {
     "name": "stdout",
     "output_type": "stream",
     "text": [
      "Train score:  0.9139357828533599\n",
      "Test score:  0.8680555555555556\n",
      "Test precision:  [0.25       0.         0.86996904]\n",
      "Test recall: [0.01086957 0.         0.99911111]\n",
      "F1: [0.02083333 0.         0.93007861]\n",
      "F1-macro: 0.3169706477267504\n"
     ]
    },
    {
     "name": "stderr",
     "output_type": "stream",
     "text": [
      "/Users/serhiinechyporhuk/.local/share/virtualenvs/SerhiiNechyporchuk-Ib9yWLjX/lib/python3.6/site-packages/sklearn/metrics/classification.py:1135: UndefinedMetricWarning: Precision is ill-defined and being set to 0.0 in labels with no predicted samples.\n",
      "  'precision', 'predicted', average, warn_for)\n",
      "/Users/serhiinechyporhuk/.local/share/virtualenvs/SerhiiNechyporchuk-Ib9yWLjX/lib/python3.6/site-packages/sklearn/metrics/classification.py:1135: UndefinedMetricWarning: F-score is ill-defined and being set to 0.0 in labels with no predicted samples.\n",
      "  'precision', 'predicted', average, warn_for)\n"
     ]
    },
    {
     "data": {
      "text/plain": [
       "array([[   1,    0,   91],\n",
       "       [   2,    0,   77],\n",
       "       [   1,    0, 1124]])"
      ]
     },
     "execution_count": 667,
     "metadata": {},
     "output_type": "execute_result"
    }
   ],
   "source": [
    "p1 = Pipeline([('vectorizer', CountVectorizer(lowercase=False, tokenizer=lambda x: stem(x), vocabulary=vocab)),\n",
    "               ('classifier', MultinomialNB())])\n",
    "p1.fit(train['review_doc'], train['score'])\n",
    "print_metrics(p1, train, test)"
   ]
  },
  {
   "cell_type": "code",
   "execution_count": 668,
   "metadata": {
    "scrolled": true
   },
   "outputs": [
    {
     "name": "stdout",
     "output_type": "stream",
     "text": [
      "Train score:  0.874875868917577\n",
      "Test score:  0.8680555555555556\n",
      "Test precision:  [0.         0.         0.86805556]\n",
      "Test recall: [0. 0. 1.]\n",
      "F1: [0.         0.         0.92936803]\n",
      "F1-macro: 0.3097893432465923\n"
     ]
    },
    {
     "name": "stderr",
     "output_type": "stream",
     "text": [
      "/Users/serhiinechyporhuk/.local/share/virtualenvs/SerhiiNechyporchuk-Ib9yWLjX/lib/python3.6/site-packages/sklearn/metrics/classification.py:1135: UndefinedMetricWarning: Precision is ill-defined and being set to 0.0 in labels with no predicted samples.\n",
      "  'precision', 'predicted', average, warn_for)\n",
      "/Users/serhiinechyporhuk/.local/share/virtualenvs/SerhiiNechyporchuk-Ib9yWLjX/lib/python3.6/site-packages/sklearn/metrics/classification.py:1135: UndefinedMetricWarning: F-score is ill-defined and being set to 0.0 in labels with no predicted samples.\n",
      "  'precision', 'predicted', average, warn_for)\n"
     ]
    },
    {
     "data": {
      "text/plain": [
       "array([[   0,    0,   92],\n",
       "       [   0,    0,   79],\n",
       "       [   0,    0, 1125]])"
      ]
     },
     "execution_count": 668,
     "metadata": {},
     "output_type": "execute_result"
    }
   ],
   "source": [
    "nb_p = Pipeline([('vectorizer', TfidfVectorizer(lowercase=False, tokenizer=lambda x: stem(x), vocabulary=vocab)),\n",
    "               ('classifier', MultinomialNB())])\n",
    "nb_p.fit(train['review_doc'], train['score'])\n",
    "print_metrics(nb_p, train, test)"
   ]
  },
  {
   "cell_type": "markdown",
   "metadata": {},
   "source": [
    "### Classification v1 (Logistic Regression)"
   ]
  },
  {
   "cell_type": "code",
   "execution_count": 669,
   "metadata": {},
   "outputs": [
    {
     "name": "stdout",
     "output_type": "stream",
     "text": [
      "Train score:  0.9778219132737505\n",
      "Test score:  0.8734567901234568\n",
      "Test precision:  [0.5        0.26315789 0.89812551]\n",
      "Test recall: [0.27173913 0.06329114 0.97955556]\n",
      "F1: [0.35211268 0.10204082 0.93707483]\n",
      "F1-macro: 0.46374277410494713\n"
     ]
    },
    {
     "data": {
      "text/plain": [
       "array([[  25,    3,   64],\n",
       "       [  13,    5,   61],\n",
       "       [  12,   11, 1102]])"
      ]
     },
     "execution_count": 669,
     "metadata": {},
     "output_type": "execute_result"
    }
   ],
   "source": [
    "from sklearn.linear_model import LogisticRegression\n",
    "\n",
    "lr_p = Pipeline([('vectorizer', CountVectorizer(lowercase=False, tokenizer=lambda x: stem(x), vocabulary=vocab)),\n",
    "                 ('classifier', LogisticRegression())])\n",
    "lr_p.fit(train['review_doc'], train['score'])\n",
    "print_metrics(lr_p, train, test)"
   ]
  },
  {
   "cell_type": "markdown",
   "metadata": {},
   "source": [
    "## with tonal dictionary"
   ]
  },
  {
   "cell_type": "markdown",
   "metadata": {},
   "source": [
    "loading tonal dict"
   ]
  },
  {
   "cell_type": "code",
   "execution_count": 398,
   "metadata": {},
   "outputs": [],
   "source": [
    "tonal_dict = {}\n",
    "with open('tone-dict-uk.tsv') as f:\n",
    "    for line in f.readlines():\n",
    "        word, ts = line.strip().split('\\t')\n",
    "        tonal_dict[UkrainianStemmer(word.lower()).stem_word()] = int(ts)"
   ]
  },
  {
   "cell_type": "code",
   "execution_count": 616,
   "metadata": {},
   "outputs": [],
   "source": [
    "class TonalClassifier(BaseEstimator, ClassifierMixin):\n",
    "    \n",
    "    def __init__(self, vocab, tonal_dict):\n",
    "        self.vocab = vocab\n",
    "        self.tonal_dict = tonal_dict\n",
    "        self.ivocab = np.zeros((len(vocab),))\n",
    "        for w,i in vocab.items():\n",
    "            self.ivocab[i] = tonal_dict.get(w, np.nan)\n",
    "            \n",
    "    def get_params(self, deep):\n",
    "        return {'vocab': vocab, 'tonal_dict': tonal_dict}\n",
    "    \n",
    "    def set_params(self, **params):\n",
    "        self.vocab = params['vocab']\n",
    "        self.tonal_dict = params['tonal_dict']\n",
    "        \n",
    "    def fit(self, X, y=None):\n",
    "        return self\n",
    "    \n",
    "    def predict(self, X):\n",
    "        res = np.zeros((X.shape[0],))\n",
    "        for i in range(res.shape[0]):\n",
    "            Xi = X[i, :]\n",
    "            scores = self.ivocab[Xi.nonzero()[1]]\n",
    "            if all(np.isnan(scores)):\n",
    "                res[i] = 0\n",
    "            else:\n",
    "                res[i] = np.nanmean(scores)\n",
    "        return np.digitize(res, [-2+4/3,-2+2*4/3])\n",
    "    \n",
    "    def score(self, X, y):\n",
    "        pred = self.predict(X)\n",
    "        matches = pred == y\n",
    "        return np.sum(matches)/len(pred)"
   ]
  },
  {
   "cell_type": "code",
   "execution_count": 670,
   "metadata": {
    "scrolled": true
   },
   "outputs": [
    {
     "name": "stdout",
     "output_type": "stream",
     "text": [
      "Train score:  0.4468718967229394\n",
      "Test score:  0.44521604938271603\n",
      "Test precision:  [0.23478261 0.074883   0.92962963]\n",
      "Test recall: [0.29347826 0.60759494 0.44622222]\n",
      "F1: [0.26086957 0.13333333 0.603003  ]\n",
      "F1-macro: 0.3324019671845759\n"
     ]
    },
    {
     "data": {
      "text/plain": [
       "array([[ 27,  47,  18],\n",
       "       [ 11,  48,  20],\n",
       "       [ 77, 546, 502]])"
      ]
     },
     "execution_count": 670,
     "metadata": {},
     "output_type": "execute_result"
    }
   ],
   "source": [
    "tonal_p = Pipeline([('vectorizer', CountVectorizer(lowercase=False, tokenizer=lambda x: stem(x), vocabulary=vocab)),\n",
    "              ('classifier', TonalClassifier(vocab, tonal_dict))])\n",
    "tonal_p.fit(train['review_doc'], train['score'])\n",
    "print_metrics(tonal_p, train, test)"
   ]
  },
  {
   "cell_type": "markdown",
   "metadata": {},
   "source": [
    "We see that classifier that uses only tonal date is pretty low behind the baseline. Let's try an ensemble of this two classifiers"
   ]
  },
  {
   "cell_type": "markdown",
   "metadata": {},
   "source": [
    "### Ensemble"
   ]
  },
  {
   "cell_type": "code",
   "execution_count": 671,
   "metadata": {
    "scrolled": false
   },
   "outputs": [
    {
     "name": "stdout",
     "output_type": "stream",
     "text": [
      "Train score:  0.9778219132737505\n",
      "Test score:  0.8734567901234568\n",
      "Test precision:  [0.5        0.26315789 0.89812551]\n",
      "Test recall: [0.27173913 0.06329114 0.97955556]\n",
      "F1: [0.35211268 0.10204082 0.93707483]\n",
      "F1-macro: 0.46374277410494713\n"
     ]
    },
    {
     "data": {
      "text/plain": [
       "array([[  25,    3,   64],\n",
       "       [  13,    5,   61],\n",
       "       [  12,   11, 1102]])"
      ]
     },
     "execution_count": 671,
     "metadata": {},
     "output_type": "execute_result"
    }
   ],
   "source": [
    "from sklearn.ensemble import VotingClassifier\n",
    "\n",
    "vcl = VotingClassifier([('nb', nb_p),('tonal', tonal_p), ('lr', lr_p)], weights=[2, 4, 7])\n",
    "vcl.fit(train['review_doc'], train['score'])\n",
    "print_metrics(vcl, train, test)"
   ]
  },
  {
   "cell_type": "markdown",
   "metadata": {},
   "source": [
    "### Sidenote 1\n",
    "We see that it's really hard to beat the baseline with such skewed dataset, so let's upsample it"
   ]
  },
  {
   "cell_type": "code",
   "execution_count": 627,
   "metadata": {},
   "outputs": [
    {
     "data": {
      "text/plain": [
       "<matplotlib.axes._subplots.AxesSubplot at 0x131bf2400>"
      ]
     },
     "execution_count": 627,
     "metadata": {},
     "output_type": "execute_result"
    },
    {
     "data": {
      "image/png": "[encoded data removed]",
      "text/plain": [
       "<Figure size 432x288 with 1 Axes>"
      ]
     },
     "metadata": {},
     "output_type": "display_data"
    }
   ],
   "source": [
    "train2 = train.copy()\n",
    "max_count = np.max(train2['score'].value_counts())\n",
    "addition = []\n",
    "for cat in range(3):\n",
    "    train2_cat = train2[train2['score'] == cat]\n",
    "    diff = max_count - len(train2_cat)\n",
    "    addition.append(train2_cat.sample(n=diff, replace=True))\n",
    "train2 = train2.append(addition, ignore_index=True).reset_index()\n",
    "train2['score'].value_counts().plot('bar')"
   ]
  },
  {
   "cell_type": "markdown",
   "metadata": {},
   "source": [
    "Try again Naive Bayes"
   ]
  },
  {
   "cell_type": "code",
   "execution_count": 672,
   "metadata": {},
   "outputs": [
    {
     "name": "stdout",
     "output_type": "stream",
     "text": [
      "Train score:  0.9069844422376696\n",
      "Test score:  0.7608024691358025\n",
      "Test precision:  [0.37857143 0.12121212 0.94885177]\n",
      "Test recall: [0.57608696 0.30379747 0.808     ]\n",
      "F1: [0.45689655 0.1732852  0.87277964]\n",
      "F1-macro: 0.5009871316744179\n"
     ]
    },
    {
     "data": {
      "text/plain": [
       "array([[ 53,  21,  18],\n",
       "       [ 24,  24,  31],\n",
       "       [ 63, 153, 909]])"
      ]
     },
     "execution_count": 672,
     "metadata": {},
     "output_type": "execute_result"
    }
   ],
   "source": [
    "nb_p = Pipeline([('vectorizer', TfidfVectorizer(lowercase=False, tokenizer=lambda x: stem(x), vocabulary=vocab)),\n",
    "               ('classifier', MultinomialNB())])\n",
    "nb_p.fit(train2['review_doc'], train2['score'])\n",
    "print_metrics(nb_p, train, test)"
   ]
  },
  {
   "cell_type": "markdown",
   "metadata": {},
   "source": [
    "Try again logistic regression"
   ]
  },
  {
   "cell_type": "code",
   "execution_count": 673,
   "metadata": {},
   "outputs": [
    {
     "name": "stdout",
     "output_type": "stream",
     "text": [
      "Train score:  0.9940417080436942\n",
      "Test score:  0.8395061728395061\n",
      "Test precision:  [0.35643564 0.171875   0.9204244 ]\n",
      "Test recall: [0.39130435 0.13924051 0.92533333]\n",
      "F1: [0.37305699 0.15384615 0.92287234]\n",
      "F1-macro: 0.48325849636344625\n"
     ]
    },
    {
     "data": {
      "text/plain": [
       "array([[  36,    9,   47],\n",
       "       [  25,   11,   43],\n",
       "       [  40,   44, 1041]])"
      ]
     },
     "execution_count": 673,
     "metadata": {},
     "output_type": "execute_result"
    }
   ],
   "source": [
    "lr_p = Pipeline([('vectorizer', CountVectorizer(lowercase=False, tokenizer=lambda x: stem(x), vocabulary=vocab)),\n",
    "                 ('classifier', LogisticRegression())])\n",
    "lr_p.fit(train2['review_doc'], train2['score'])\n",
    "print_metrics(lr_p, train, test)"
   ]
  },
  {
   "cell_type": "markdown",
   "metadata": {},
   "source": [
    "We see nice improvement "
   ]
  }
 ],
 "metadata": {
  "kernelspec": {
   "display_name": "Python 3",
   "language": "python",
   "name": "python3"
  },
  "language_info": {
   "codemirror_mode": {
    "name": "ipython",
    "version": 3
   },
   "file_extension": ".py",
   "mimetype": "text/x-python",
   "name": "python",
   "nbconvert_exporter": "python",
   "pygments_lexer": "ipython3",
   "version": "3.6.0"
  }
 },
 "nbformat": 4,
 "nbformat_minor": 2
}
