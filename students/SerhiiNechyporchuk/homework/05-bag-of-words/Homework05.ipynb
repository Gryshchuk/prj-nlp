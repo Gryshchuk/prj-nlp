{
 "cells": [
  {
   "cell_type": "code",
   "execution_count": 16,
   "metadata": {},
   "outputs": [],
   "source": [
    "%matplotlib inline\n",
    "import pandas as pd\n",
    "import numpy as np\n",
    "import matplotlib.pyplot as plt\n",
    "import json\n",
    "from langdetect import detect\n",
    "import langdetect\n",
    "from sklearn.model_selection import train_test_split,cross_validate, GridSearchCV\n",
    "from sklearn.pipeline import Pipeline\n",
    "from sklearn.feature_extraction.text import CountVectorizer, TfidfVectorizer\n",
    "from sklearn.metrics import accuracy_score, precision_score, recall_score, f1_score, confusion_matrix\n",
    "from sklearn.naive_bayes import MultinomialNB\n",
    "from sklearn.base import BaseEstimator, ClassifierMixin\n",
    "from sklearn.preprocessing import FunctionTransformer\n",
    "import en_core_web_lg\n",
    "from tqdm import tqdm_pandas, tqdm_notebook\n",
    "import tokenize_uk\n",
    "import warnings\n",
    "\n",
    "warnings.filterwarnings(action='ignore')\n",
    "pd.set_option('display.max_colwidth', 100)"
   ]
  },
  {
   "cell_type": "code",
   "execution_count": 3,
   "metadata": {},
   "outputs": [],
   "source": [
    "nlp = en_core_web_lg.load()"
   ]
  },
  {
   "cell_type": "markdown",
   "metadata": {},
   "source": [
    "# Loading data"
   ]
  },
  {
   "cell_type": "code",
   "execution_count": 6,
   "metadata": {
    "scrolled": false
   },
   "outputs": [
    {
     "name": "stdout",
     "output_type": "stream",
     "text": [
      "Rows:  49890\n"
     ]
    },
    {
     "data": {
      "text/html": [
       "<div>\n",
       "<style scoped>\n",
       "    .dataframe tbody tr th:only-of-type {\n",
       "        vertical-align: middle;\n",
       "    }\n",
       "\n",
       "    .dataframe tbody tr th {\n",
       "        vertical-align: top;\n",
       "    }\n",
       "\n",
       "    .dataframe thead th {\n",
       "        text-align: right;\n",
       "    }\n",
       "</style>\n",
       "<table border=\"1\" class=\"dataframe\">\n",
       "  <thead>\n",
       "    <tr style=\"text-align: right;\">\n",
       "      <th></th>\n",
       "      <th>review</th>\n",
       "      <th>id</th>\n",
       "      <th>scores</th>\n",
       "    </tr>\n",
       "  </thead>\n",
       "  <tbody>\n",
       "    <tr>\n",
       "      <th>0</th>\n",
       "      <td>{'_': 'Пришел не рабочий телефон. Самостоятельно выключается. При включении на экране белая поло...</td>\n",
       "      <td>18896982</td>\n",
       "      <td>NaN</td>\n",
       "    </tr>\n",
       "    <tr>\n",
       "      <th>1</th>\n",
       "      <td>{'_': 'Не розумію..... це підробка??? Адже якщо мені не зраджує пам*ять iPhone6 випускався лише ...</td>\n",
       "      <td>18840918</td>\n",
       "      <td>NaN</td>\n",
       "    </tr>\n",
       "    <tr>\n",
       "      <th>2</th>\n",
       "      <td>{'_': 'Чудовий телефон , приємні знижки та якісне обслуговування', 'Переваги:': 'Легкий,швидкий,...</td>\n",
       "      <td>18780426</td>\n",
       "      <td>5.0</td>\n",
       "    </tr>\n",
       "    <tr>\n",
       "      <th>3</th>\n",
       "      <td>{'_': 'Он полностю новий?'}</td>\n",
       "      <td>18736812</td>\n",
       "      <td>5.0</td>\n",
       "    </tr>\n",
       "    <tr>\n",
       "      <th>4</th>\n",
       "      <td>{'_': 'Телефон и правда ещё очень актуальный сам пользуюсь и рад производительности,второй 5s та...</td>\n",
       "      <td>18534645</td>\n",
       "      <td>4.0</td>\n",
       "    </tr>\n",
       "  </tbody>\n",
       "</table>\n",
       "</div>"
      ],
      "text/plain": [
       "                                                                                                review  \\\n",
       "0  {'_': 'Пришел не рабочий телефон. Самостоятельно выключается. При включении на экране белая поло...   \n",
       "1  {'_': 'Не розумію..... це підробка??? Адже якщо мені не зраджує пам*ять iPhone6 випускався лише ...   \n",
       "2  {'_': 'Чудовий телефон , приємні знижки та якісне обслуговування', 'Переваги:': 'Легкий,швидкий,...   \n",
       "3                                                                          {'_': 'Он полностю новий?'}   \n",
       "4  {'_': 'Телефон и правда ещё очень актуальный сам пользуюсь и рад производительности,второй 5s та...   \n",
       "\n",
       "         id  scores  \n",
       "0  18896982     NaN  \n",
       "1  18840918     NaN  \n",
       "2  18780426     5.0  \n",
       "3  18736812     5.0  \n",
       "4  18534645     4.0  "
      ]
     },
     "execution_count": 6,
     "metadata": {},
     "output_type": "execute_result"
    }
   ],
   "source": [
    "df = pd.read_csv('scraper/data-phones.csv.gz', compression='gzip')\n",
    "df['review'] = df['review'].apply(json.loads)\n",
    "#df['scores'] = df['scores'].apply(json.loads)\n",
    "print(\"Rows: \", len(df))\n",
    "df.head()"
   ]
  },
  {
   "cell_type": "markdown",
   "metadata": {},
   "source": [
    "For now just stick with main part of review"
   ]
  },
  {
   "cell_type": "code",
   "execution_count": 314,
   "metadata": {
    "scrolled": true
   },
   "outputs": [
    {
     "data": {
      "text/html": [
       "<div>\n",
       "<style scoped>\n",
       "    .dataframe tbody tr th:only-of-type {\n",
       "        vertical-align: middle;\n",
       "    }\n",
       "\n",
       "    .dataframe tbody tr th {\n",
       "        vertical-align: top;\n",
       "    }\n",
       "\n",
       "    .dataframe thead th {\n",
       "        text-align: right;\n",
       "    }\n",
       "</style>\n",
       "<table border=\"1\" class=\"dataframe\">\n",
       "  <thead>\n",
       "    <tr style=\"text-align: right;\">\n",
       "      <th></th>\n",
       "      <th>review</th>\n",
       "      <th>id</th>\n",
       "      <th>scores</th>\n",
       "      <th>main_review</th>\n",
       "    </tr>\n",
       "  </thead>\n",
       "  <tbody>\n",
       "    <tr>\n",
       "      <th>0</th>\n",
       "      <td>{'_': 'Пришел не рабочий телефон. Самостоятельно выключается. При включении на экране белая поло...</td>\n",
       "      <td>18896982</td>\n",
       "      <td>NaN</td>\n",
       "      <td>Пришел не рабочий телефон. Самостоятельно выключается. При включении на экране белая полоска и з...</td>\n",
       "    </tr>\n",
       "    <tr>\n",
       "      <th>1</th>\n",
       "      <td>{'_': 'Не розумію..... це підробка??? Адже якщо мені не зраджує пам*ять iPhone6 випускався лише ...</td>\n",
       "      <td>18840918</td>\n",
       "      <td>NaN</td>\n",
       "      <td>Не розумію..... це підробка??? Адже якщо мені не зраджує пам*ять iPhone6 випускався лише в трьох...</td>\n",
       "    </tr>\n",
       "    <tr>\n",
       "      <th>2</th>\n",
       "      <td>{'_': 'Чудовий телефон , приємні знижки та якісне обслуговування', 'Переваги:': 'Легкий,швидкий,...</td>\n",
       "      <td>18780426</td>\n",
       "      <td>5.0</td>\n",
       "      <td>Чудовий телефон , приємні знижки та якісне обслуговування</td>\n",
       "    </tr>\n",
       "    <tr>\n",
       "      <th>3</th>\n",
       "      <td>{'_': 'Он полностю новий?'}</td>\n",
       "      <td>18736812</td>\n",
       "      <td>5.0</td>\n",
       "      <td>Он полностю новий?</td>\n",
       "    </tr>\n",
       "    <tr>\n",
       "      <th>4</th>\n",
       "      <td>{'_': 'Телефон и правда ещё очень актуальный сам пользуюсь и рад производительности,второй 5s та...</td>\n",
       "      <td>18534645</td>\n",
       "      <td>4.0</td>\n",
       "      <td>Телефон и правда ещё очень актуальный сам пользуюсь и рад производительности,второй 5s так же пр...</td>\n",
       "    </tr>\n",
       "  </tbody>\n",
       "</table>\n",
       "</div>"
      ],
      "text/plain": [
       "                                                                                                review  \\\n",
       "0  {'_': 'Пришел не рабочий телефон. Самостоятельно выключается. При включении на экране белая поло...   \n",
       "1  {'_': 'Не розумію..... це підробка??? Адже якщо мені не зраджує пам*ять iPhone6 випускався лише ...   \n",
       "2  {'_': 'Чудовий телефон , приємні знижки та якісне обслуговування', 'Переваги:': 'Легкий,швидкий,...   \n",
       "3                                                                          {'_': 'Он полностю новий?'}   \n",
       "4  {'_': 'Телефон и правда ещё очень актуальный сам пользуюсь и рад производительности,второй 5s та...   \n",
       "\n",
       "         id  scores  \\\n",
       "0  18896982     NaN   \n",
       "1  18840918     NaN   \n",
       "2  18780426     5.0   \n",
       "3  18736812     5.0   \n",
       "4  18534645     4.0   \n",
       "\n",
       "                                                                                           main_review  \n",
       "0  Пришел не рабочий телефон. Самостоятельно выключается. При включении на экране белая полоска и з...  \n",
       "1  Не розумію..... це підробка??? Адже якщо мені не зраджує пам*ять iPhone6 випускався лише в трьох...  \n",
       "2                                            Чудовий телефон , приємні знижки та якісне обслуговування  \n",
       "3                                                                                   Он полностю новий?  \n",
       "4  Телефон и правда ещё очень актуальный сам пользуюсь и рад производительности,второй 5s так же пр...  "
      ]
     },
     "execution_count": 314,
     "metadata": {},
     "output_type": "execute_result"
    }
   ],
   "source": [
    "df['main_review'] = df['review'].apply(lambda x: x['_'])\n",
    "df.head()"
   ]
  },
  {
   "cell_type": "markdown",
   "metadata": {},
   "source": [
    "Filter those written in ukrainian"
   ]
  },
  {
   "cell_type": "code",
   "execution_count": 315,
   "metadata": {
    "scrolled": false
   },
   "outputs": [
    {
     "data": {
      "application/vnd.jupyter.widget-view+json": {
       "model_id": "cbcb2c5297dd4db09393c41c8b1e23dc",
       "version_major": 2,
       "version_minor": 0
      },
      "text/plain": [
       "HBox(children=(IntProgress(value=0, max=49890), HTML(value='')))"
      ]
     },
     "metadata": {},
     "output_type": "display_data"
    },
    {
     "name": "stdout",
     "output_type": "stream",
     "text": [
      "\n",
      "Rows:  10231\n"
     ]
    },
    {
     "data": {
      "text/html": [
       "<div>\n",
       "<style scoped>\n",
       "    .dataframe tbody tr th:only-of-type {\n",
       "        vertical-align: middle;\n",
       "    }\n",
       "\n",
       "    .dataframe tbody tr th {\n",
       "        vertical-align: top;\n",
       "    }\n",
       "\n",
       "    .dataframe thead th {\n",
       "        text-align: right;\n",
       "    }\n",
       "</style>\n",
       "<table border=\"1\" class=\"dataframe\">\n",
       "  <thead>\n",
       "    <tr style=\"text-align: right;\">\n",
       "      <th></th>\n",
       "      <th>review</th>\n",
       "      <th>id</th>\n",
       "      <th>scores</th>\n",
       "      <th>main_review</th>\n",
       "    </tr>\n",
       "  </thead>\n",
       "  <tbody>\n",
       "    <tr>\n",
       "      <th>0</th>\n",
       "      <td>{'_': 'Пришел не рабочий телефон. Самостоятельно выключается. При включении на экране белая поло...</td>\n",
       "      <td>18896982</td>\n",
       "      <td>NaN</td>\n",
       "      <td>Пришел не рабочий телефон. Самостоятельно выключается. При включении на экране белая полоска и з...</td>\n",
       "    </tr>\n",
       "    <tr>\n",
       "      <th>1</th>\n",
       "      <td>{'_': 'Не розумію..... це підробка??? Адже якщо мені не зраджує пам*ять iPhone6 випускався лише ...</td>\n",
       "      <td>18840918</td>\n",
       "      <td>NaN</td>\n",
       "      <td>Не розумію..... це підробка??? Адже якщо мені не зраджує пам*ять iPhone6 випускався лише в трьох...</td>\n",
       "    </tr>\n",
       "    <tr>\n",
       "      <th>2</th>\n",
       "      <td>{'_': 'Чудовий телефон , приємні знижки та якісне обслуговування', 'Переваги:': 'Легкий,швидкий,...</td>\n",
       "      <td>18780426</td>\n",
       "      <td>5.0</td>\n",
       "      <td>Чудовий телефон , приємні знижки та якісне обслуговування</td>\n",
       "    </tr>\n",
       "    <tr>\n",
       "      <th>3</th>\n",
       "      <td>{'_': 'Он полностю новий?'}</td>\n",
       "      <td>18736812</td>\n",
       "      <td>5.0</td>\n",
       "      <td>Он полностю новий?</td>\n",
       "    </tr>\n",
       "    <tr>\n",
       "      <th>4</th>\n",
       "      <td>{'_': 'Телефон и правда ещё очень актуальный сам пользуюсь и рад производительности,второй 5s та...</td>\n",
       "      <td>18534645</td>\n",
       "      <td>4.0</td>\n",
       "      <td>Телефон и правда ещё очень актуальный сам пользуюсь и рад производительности,второй 5s так же пр...</td>\n",
       "    </tr>\n",
       "  </tbody>\n",
       "</table>\n",
       "</div>"
      ],
      "text/plain": [
       "                                                                                                review  \\\n",
       "0  {'_': 'Пришел не рабочий телефон. Самостоятельно выключается. При включении на экране белая поло...   \n",
       "1  {'_': 'Не розумію..... це підробка??? Адже якщо мені не зраджує пам*ять iPhone6 випускався лише ...   \n",
       "2  {'_': 'Чудовий телефон , приємні знижки та якісне обслуговування', 'Переваги:': 'Легкий,швидкий,...   \n",
       "3                                                                          {'_': 'Он полностю новий?'}   \n",
       "4  {'_': 'Телефон и правда ещё очень актуальный сам пользуюсь и рад производительности,второй 5s та...   \n",
       "\n",
       "         id  scores  \\\n",
       "0  18896982     NaN   \n",
       "1  18840918     NaN   \n",
       "2  18780426     5.0   \n",
       "3  18736812     5.0   \n",
       "4  18534645     4.0   \n",
       "\n",
       "                                                                                           main_review  \n",
       "0  Пришел не рабочий телефон. Самостоятельно выключается. При включении на экране белая полоска и з...  \n",
       "1  Не розумію..... це підробка??? Адже якщо мені не зраджує пам*ять iPhone6 випускався лише в трьох...  \n",
       "2                                            Чудовий телефон , приємні знижки та якісне обслуговування  \n",
       "3                                                                                   Он полностю новий?  \n",
       "4  Телефон и правда ещё очень актуальный сам пользуюсь и рад производительности,второй 5s так же пр...  "
      ]
     },
     "execution_count": 315,
     "metadata": {},
     "output_type": "execute_result"
    }
   ],
   "source": [
    "def detect_lang(x):\n",
    "    try:\n",
    "        return detect(x)\n",
    "    except langdetect.lang_detect_exception.LangDetectException:\n",
    "        pass\n",
    "        \n",
    "df_uk = df[df['main_review'].progress_apply(detect_lang) == 'uk'].copy()\n",
    "print(\"Rows: \", len(df_uk))\n",
    "df_uk.head()"
   ]
  },
  {
   "cell_type": "markdown",
   "metadata": {},
   "source": [
    "Leave only those with scores"
   ]
  },
  {
   "cell_type": "code",
   "execution_count": 318,
   "metadata": {},
   "outputs": [
    {
     "name": "stdout",
     "output_type": "stream",
     "text": [
      "Rows:  4317\n"
     ]
    },
    {
     "data": {
      "text/html": [
       "<div>\n",
       "<style scoped>\n",
       "    .dataframe tbody tr th:only-of-type {\n",
       "        vertical-align: middle;\n",
       "    }\n",
       "\n",
       "    .dataframe tbody tr th {\n",
       "        vertical-align: top;\n",
       "    }\n",
       "\n",
       "    .dataframe thead th {\n",
       "        text-align: right;\n",
       "    }\n",
       "</style>\n",
       "<table border=\"1\" class=\"dataframe\">\n",
       "  <thead>\n",
       "    <tr style=\"text-align: right;\">\n",
       "      <th></th>\n",
       "      <th>review</th>\n",
       "      <th>id</th>\n",
       "      <th>scores</th>\n",
       "      <th>main_review</th>\n",
       "      <th>score_raw</th>\n",
       "    </tr>\n",
       "  </thead>\n",
       "  <tbody>\n",
       "    <tr>\n",
       "      <th>2</th>\n",
       "      <td>{'_': 'Чудовий телефон , приємні знижки та якісне обслуговування', 'Переваги:': 'Легкий,швидкий,...</td>\n",
       "      <td>18780426</td>\n",
       "      <td>5.0</td>\n",
       "      <td>Чудовий телефон , приємні знижки та якісне обслуговування</td>\n",
       "      <td>5.0</td>\n",
       "    </tr>\n",
       "    <tr>\n",
       "      <th>12</th>\n",
       "      <td>{'_': 'Запитання: чи є в ньому функцію запису телефонної розмови?'}</td>\n",
       "      <td>19373305</td>\n",
       "      <td>4.0</td>\n",
       "      <td>Запитання: чи є в ньому функцію запису телефонної розмови?</td>\n",
       "      <td>4.0</td>\n",
       "    </tr>\n",
       "    <tr>\n",
       "      <th>15</th>\n",
       "      <td>{'_': 'Користуюсь два тижні. Достойний телефон. Працює швидкоі і злагоджено. Дуже зручно зі скан...</td>\n",
       "      <td>21074865</td>\n",
       "      <td>5.0</td>\n",
       "      <td>Користуюсь два тижні. Достойний телефон. Працює швидкоі і злагоджено. Дуже зручно зі сканером, х...</td>\n",
       "      <td>5.0</td>\n",
       "    </tr>\n",
       "    <tr>\n",
       "      <th>22</th>\n",
       "      <td>{'_': 'Підскажи який стоїть Андроїд? І чи є до нього захисне скло і чохол?', 'Недоліки:': '-'}</td>\n",
       "      <td>20476907</td>\n",
       "      <td>5.0</td>\n",
       "      <td>Підскажи який стоїть Андроїд? І чи є до нього захисне скло і чохол?</td>\n",
       "      <td>5.0</td>\n",
       "    </tr>\n",
       "    <tr>\n",
       "      <th>60</th>\n",
       "      <td>{'_': 'Користуюсь вже два місяці, телефон крутий, тільки одна порада не купляйте джет блек, а пр...</td>\n",
       "      <td>16161182</td>\n",
       "      <td>5.0</td>\n",
       "      <td>Користуюсь вже два місяці, телефон крутий, тільки одна порада не купляйте джет блек, а простий ч...</td>\n",
       "      <td>5.0</td>\n",
       "    </tr>\n",
       "  </tbody>\n",
       "</table>\n",
       "</div>"
      ],
      "text/plain": [
       "                                                                                                 review  \\\n",
       "2   {'_': 'Чудовий телефон , приємні знижки та якісне обслуговування', 'Переваги:': 'Легкий,швидкий,...   \n",
       "12                                  {'_': 'Запитання: чи є в ньому функцію запису телефонної розмови?'}   \n",
       "15  {'_': 'Користуюсь два тижні. Достойний телефон. Працює швидкоі і злагоджено. Дуже зручно зі скан...   \n",
       "22       {'_': 'Підскажи який стоїть Андроїд? І чи є до нього захисне скло і чохол?', 'Недоліки:': '-'}   \n",
       "60  {'_': 'Користуюсь вже два місяці, телефон крутий, тільки одна порада не купляйте джет блек, а пр...   \n",
       "\n",
       "          id  scores  \\\n",
       "2   18780426     5.0   \n",
       "12  19373305     4.0   \n",
       "15  21074865     5.0   \n",
       "22  20476907     5.0   \n",
       "60  16161182     5.0   \n",
       "\n",
       "                                                                                            main_review  \\\n",
       "2                                             Чудовий телефон , приємні знижки та якісне обслуговування   \n",
       "12                                           Запитання: чи є в ньому функцію запису телефонної розмови?   \n",
       "15  Користуюсь два тижні. Достойний телефон. Працює швидкоі і злагоджено. Дуже зручно зі сканером, х...   \n",
       "22                                  Підскажи який стоїть Андроїд? І чи є до нього захисне скло і чохол?   \n",
       "60  Користуюсь вже два місяці, телефон крутий, тільки одна порада не купляйте джет блек, а простий ч...   \n",
       "\n",
       "    score_raw  \n",
       "2         5.0  \n",
       "12        4.0  \n",
       "15        5.0  \n",
       "22        5.0  \n",
       "60        5.0  "
      ]
     },
     "execution_count": 318,
     "metadata": {},
     "output_type": "execute_result"
    }
   ],
   "source": [
    "main_key = 'Общее впечатление'\n",
    "taste_key = 'Соответствие вкуса'\n",
    "aroma_key = 'Соответствие аромата'\n",
    "def combine_scores(scores):\n",
    "    if main_key in scores:\n",
    "        main = scores.get(main_key)\n",
    "        taste = scores.get(taste_key)\n",
    "        aroma = scores.get(aroma_key)\n",
    "        raws = list(filter(lambda x: x, [main, taste, aroma]))\n",
    "        return np.mean(raws)\n",
    "df_uk = df_uk.assign(score_raw=df_uk['scores'])\n",
    "df_ws = df_uk[pd.notna(df_uk['score_raw'])].copy()\n",
    "print(\"Rows: \", len(df_ws))\n",
    "df_ws.head()"
   ]
  },
  {
   "cell_type": "code",
   "execution_count": 340,
   "metadata": {},
   "outputs": [
    {
     "data": {
      "text/plain": [
       "(2.333333333333333, 3.666666666666666, 4.999999999999999)"
      ]
     },
     "execution_count": 340,
     "metadata": {},
     "output_type": "execute_result"
    }
   ],
   "source": [
    "1+4/3,1+4/3+4/3,1+4/3+4/3+4/3"
   ]
  },
  {
   "cell_type": "markdown",
   "metadata": {},
   "source": [
    "Digitize scores"
   ]
  },
  {
   "cell_type": "code",
   "execution_count": 349,
   "metadata": {
    "scrolled": true
   },
   "outputs": [
    {
     "data": {
      "text/html": [
       "<div>\n",
       "<style scoped>\n",
       "    .dataframe tbody tr th:only-of-type {\n",
       "        vertical-align: middle;\n",
       "    }\n",
       "\n",
       "    .dataframe tbody tr th {\n",
       "        vertical-align: top;\n",
       "    }\n",
       "\n",
       "    .dataframe thead th {\n",
       "        text-align: right;\n",
       "    }\n",
       "</style>\n",
       "<table border=\"1\" class=\"dataframe\">\n",
       "  <thead>\n",
       "    <tr style=\"text-align: right;\">\n",
       "      <th></th>\n",
       "      <th>review</th>\n",
       "      <th>id</th>\n",
       "      <th>scores</th>\n",
       "      <th>main_review</th>\n",
       "      <th>score_raw</th>\n",
       "      <th>score</th>\n",
       "    </tr>\n",
       "  </thead>\n",
       "  <tbody>\n",
       "    <tr>\n",
       "      <th>2</th>\n",
       "      <td>{'_': 'Чудовий телефон , приємні знижки та якісне обслуговування', 'Переваги:': 'Легкий,швидкий,...</td>\n",
       "      <td>18780426</td>\n",
       "      <td>5.0</td>\n",
       "      <td>Чудовий телефон , приємні знижки та якісне обслуговування</td>\n",
       "      <td>5.0</td>\n",
       "      <td>2</td>\n",
       "    </tr>\n",
       "    <tr>\n",
       "      <th>12</th>\n",
       "      <td>{'_': 'Запитання: чи є в ньому функцію запису телефонної розмови?'}</td>\n",
       "      <td>19373305</td>\n",
       "      <td>4.0</td>\n",
       "      <td>Запитання: чи є в ньому функцію запису телефонної розмови?</td>\n",
       "      <td>4.0</td>\n",
       "      <td>2</td>\n",
       "    </tr>\n",
       "    <tr>\n",
       "      <th>15</th>\n",
       "      <td>{'_': 'Користуюсь два тижні. Достойний телефон. Працює швидкоі і злагоджено. Дуже зручно зі скан...</td>\n",
       "      <td>21074865</td>\n",
       "      <td>5.0</td>\n",
       "      <td>Користуюсь два тижні. Достойний телефон. Працює швидкоі і злагоджено. Дуже зручно зі сканером, х...</td>\n",
       "      <td>5.0</td>\n",
       "      <td>2</td>\n",
       "    </tr>\n",
       "    <tr>\n",
       "      <th>22</th>\n",
       "      <td>{'_': 'Підскажи який стоїть Андроїд? І чи є до нього захисне скло і чохол?', 'Недоліки:': '-'}</td>\n",
       "      <td>20476907</td>\n",
       "      <td>5.0</td>\n",
       "      <td>Підскажи який стоїть Андроїд? І чи є до нього захисне скло і чохол?</td>\n",
       "      <td>5.0</td>\n",
       "      <td>2</td>\n",
       "    </tr>\n",
       "    <tr>\n",
       "      <th>60</th>\n",
       "      <td>{'_': 'Користуюсь вже два місяці, телефон крутий, тільки одна порада не купляйте джет блек, а пр...</td>\n",
       "      <td>16161182</td>\n",
       "      <td>5.0</td>\n",
       "      <td>Користуюсь вже два місяці, телефон крутий, тільки одна порада не купляйте джет блек, а простий ч...</td>\n",
       "      <td>5.0</td>\n",
       "      <td>2</td>\n",
       "    </tr>\n",
       "  </tbody>\n",
       "</table>\n",
       "</div>"
      ],
      "text/plain": [
       "                                                                                                 review  \\\n",
       "2   {'_': 'Чудовий телефон , приємні знижки та якісне обслуговування', 'Переваги:': 'Легкий,швидкий,...   \n",
       "12                                  {'_': 'Запитання: чи є в ньому функцію запису телефонної розмови?'}   \n",
       "15  {'_': 'Користуюсь два тижні. Достойний телефон. Працює швидкоі і злагоджено. Дуже зручно зі скан...   \n",
       "22       {'_': 'Підскажи який стоїть Андроїд? І чи є до нього захисне скло і чохол?', 'Недоліки:': '-'}   \n",
       "60  {'_': 'Користуюсь вже два місяці, телефон крутий, тільки одна порада не купляйте джет блек, а пр...   \n",
       "\n",
       "          id  scores  \\\n",
       "2   18780426     5.0   \n",
       "12  19373305     4.0   \n",
       "15  21074865     5.0   \n",
       "22  20476907     5.0   \n",
       "60  16161182     5.0   \n",
       "\n",
       "                                                                                            main_review  \\\n",
       "2                                             Чудовий телефон , приємні знижки та якісне обслуговування   \n",
       "12                                           Запитання: чи є в ньому функцію запису телефонної розмови?   \n",
       "15  Користуюсь два тижні. Достойний телефон. Працює швидкоі і злагоджено. Дуже зручно зі сканером, х...   \n",
       "22                                  Підскажи який стоїть Андроїд? І чи є до нього захисне скло і чохол?   \n",
       "60  Користуюсь вже два місяці, телефон крутий, тільки одна порада не купляйте джет блек, а простий ч...   \n",
       "\n",
       "    score_raw  score  \n",
       "2         5.0      2  \n",
       "12        4.0      2  \n",
       "15        5.0      2  \n",
       "22        5.0      2  \n",
       "60        5.0      2  "
      ]
     },
     "execution_count": 349,
     "metadata": {},
     "output_type": "execute_result"
    }
   ],
   "source": [
    "def digitize(n):\n",
    "    if (1 <= n) and (n < 3):\n",
    "        return 0\n",
    "    elif (3 <= n) and (n < 4):\n",
    "        return 1\n",
    "    elif (4 <= n) and (n <= 5):\n",
    "        return 2\n",
    "    else:\n",
    "        return None\n",
    "bins = 1+np.array([4/3,2*4/3])\n",
    "df_ws['score'] = np.digitize(df_ws['score_raw'], bins)\n",
    "df_ws.head()"
   ]
  },
  {
   "cell_type": "code",
   "execution_count": 7,
   "metadata": {
    "scrolled": false
   },
   "outputs": [],
   "source": [
    "#train,test = train_test_split(df_ws, test_size=0.3)\n",
    "#train.to_csv('train.phones.csv', index=False)\n",
    "#test.to_csv('test.phones.csv', index=False)\n",
    "train = pd.read_csv('train.phones.csv.gz', compression='gzip')\n",
    "test = pd.read_csv('test.phones.csv.gz', compression='gzip')"
   ]
  },
  {
   "cell_type": "markdown",
   "metadata": {},
   "source": [
    "Load ukranian stemmer (borrowed from https://github.com/Amice13/ukr_stemmer)"
   ]
  },
  {
   "cell_type": "code",
   "execution_count": 8,
   "metadata": {},
   "outputs": [],
   "source": [
    "%run -n ukr_stemmer3.py"
   ]
  },
  {
   "cell_type": "code",
   "execution_count": 9,
   "metadata": {},
   "outputs": [],
   "source": [
    "def stem(xs):\n",
    "    return np.array([UkrainianStemmer(x).stem_word() for x in xs])\n",
    "\n",
    "def stem_all(X):\n",
    "    stem_vec = np.vectorize(stem)\n",
    "    return stem_vec(X)"
   ]
  },
  {
   "cell_type": "code",
   "execution_count": 10,
   "metadata": {},
   "outputs": [],
   "source": [
    "def tokenize(x, lowercase=False):\n",
    "    tokens = tokenize_uk.tokenize_words(x)\n",
    "    if lowercase==True:\n",
    "        return [tok.lower() for tok in tokens]\n",
    "    else:\n",
    "        return tokens"
   ]
  },
  {
   "cell_type": "code",
   "execution_count": 11,
   "metadata": {},
   "outputs": [],
   "source": [
    "train = train.assign(review_doc = train['main_review'].apply(lambda x: stem(tokenize(x, lowercase=True))))\n",
    "test = test.assign(review_doc = test['main_review'].apply(lambda x: stem(tokenize(x, lowercase=True))))"
   ]
  },
  {
   "cell_type": "code",
   "execution_count": 12,
   "metadata": {},
   "outputs": [],
   "source": [
    "vocab = CountVectorizer(tokenizer=lambda x: x, lowercase=False).fit(train['review_doc'], train['score']).vocabulary_\n",
    "idxs, ivocab = zip(*sorted(zip(vocab.values(),vocab.keys())))\n",
    "ivocab = np.array(ivocab)"
   ]
  },
  {
   "cell_type": "code",
   "execution_count": 13,
   "metadata": {
    "scrolled": true
   },
   "outputs": [
    {
     "data": {
      "text/plain": [
       "<matplotlib.axes._subplots.AxesSubplot at 0x13cafaac8>"
      ]
     },
     "execution_count": 13,
     "metadata": {},
     "output_type": "execute_result"
    },
    {
     "data": {
      "image/png": "[encoded data removed]",
      "text/plain": [
       "<Figure size 432x288 with 1 Axes>"
      ]
     },
     "metadata": {},
     "output_type": "display_data"
    }
   ],
   "source": [
    "train['score'].value_counts().plot(kind='bar')"
   ]
  },
  {
   "cell_type": "markdown",
   "metadata": {},
   "source": [
    "# Classification"
   ]
  },
  {
   "cell_type": "markdown",
   "metadata": {},
   "source": [
    "## Baseline"
   ]
  },
  {
   "cell_type": "code",
   "execution_count": 14,
   "metadata": {
    "scrolled": false
   },
   "outputs": [
    {
     "name": "stdout",
     "output_type": "stream",
     "text": [
      "Baseline score: 0.8680555555555556\n"
     ]
    }
   ],
   "source": [
    "print(\"Baseline score:\", accuracy_score(test['score'], np.full(test['score'].shape, 2)))"
   ]
  },
  {
   "cell_type": "markdown",
   "metadata": {},
   "source": [
    "### Metrics\n",
    "This task has 3 classes, so simple f1/prec/rec metrics will not be representative. Also the data is substantially skewed towards the `positive` class. I assume that the end user of this classification will want to find the nagative comments and somehow react to them. He, definitely, will not want to look at enourmous number of positive posts. So our metric will target negative class. In addition, we, really, don't care if some positive class was classified as negative, because it is easy to find such error. On the other side, the cost of not labeling negative comment with negative class is huge, there is just no way for user to find this error in the big pile of positive classes. \n",
    "\n",
    "I have chosen `F2` score measured for negative class. Also we will look at other compound metrics to not make them too bad"
   ]
  },
  {
   "cell_type": "code",
   "execution_count": 63,
   "metadata": {},
   "outputs": [],
   "source": [
    "from sklearn.metrics import fbeta_score, make_scorer\n",
    "\n",
    "f2_score = make_scorer(fbeta_score, beta=2, labels=[0], average=None)\n",
    "\n",
    "def print_metrics(cls, train):\n",
    "    scores = cross_validate(cls, train['review_doc'], \n",
    "                            y=train['score'],\n",
    "                            scoring={'f2_score': f2_score, \n",
    "                                     'f1_macro': 'f1_macro',\n",
    "                                     'accuracy': 'accuracy',\n",
    "                                     'precision_macro': 'precision_macro',\n",
    "                                     'recall_macro': 'recall_macro'}, \n",
    "                            return_train_score=True, \n",
    "                            cv=3)\n",
    "\n",
    "    \n",
    "    df = pd.DataFrame(scores)\n",
    "    print(confusion_matrix(train['score'], cls.predict(train['review_doc'])))\n",
    "#    print(confusion_matrix(train['score']))\n",
    "    print(df[['test_f2_score', 'train_accuracy', 'test_accuracy', 'test_f1_macro', 'test_precision_macro', 'test_recall_macro']].mean())\n",
    "    return df"
   ]
  },
  {
   "cell_type": "markdown",
   "metadata": {},
   "source": [
    "## Originial dataset"
   ]
  },
  {
   "cell_type": "markdown",
   "metadata": {},
   "source": [
    "### Naive Bayes"
   ]
  },
  {
   "cell_type": "code",
   "execution_count": 67,
   "metadata": {
    "scrolled": true
   },
   "outputs": [
    {
     "name": "stdout",
     "output_type": "stream",
     "text": [
      "[[  85    0  109]\n",
      " [   3   43  138]\n",
      " [   4    6 2633]]\n",
      "test_f2_score           0.043795\n",
      "train_accuracy          0.897053\n",
      "test_accuracy           0.870902\n",
      "test_f1_macro           0.332162\n",
      "test_precision_macro    0.412804\n",
      "test_recall_macro       0.342930\n",
      "dtype: float64\n"
     ]
    },
    {
     "data": {
      "text/html": [
       "<div>\n",
       "<style scoped>\n",
       "    .dataframe tbody tr th:only-of-type {\n",
       "        vertical-align: middle;\n",
       "    }\n",
       "\n",
       "    .dataframe tbody tr th {\n",
       "        vertical-align: top;\n",
       "    }\n",
       "\n",
       "    .dataframe thead th {\n",
       "        text-align: right;\n",
       "    }\n",
       "</style>\n",
       "<table border=\"1\" class=\"dataframe\">\n",
       "  <thead>\n",
       "    <tr style=\"text-align: right;\">\n",
       "      <th></th>\n",
       "      <th>fit_time</th>\n",
       "      <th>score_time</th>\n",
       "      <th>test_accuracy</th>\n",
       "      <th>test_f1_macro</th>\n",
       "      <th>test_f2_score</th>\n",
       "      <th>test_precision_macro</th>\n",
       "      <th>test_recall_macro</th>\n",
       "      <th>train_accuracy</th>\n",
       "      <th>train_f1_macro</th>\n",
       "      <th>train_f2_score</th>\n",
       "      <th>train_precision_macro</th>\n",
       "      <th>train_recall_macro</th>\n",
       "    </tr>\n",
       "  </thead>\n",
       "  <tbody>\n",
       "    <tr>\n",
       "      <th>0</th>\n",
       "      <td>0.087929</td>\n",
       "      <td>0.202729</td>\n",
       "      <td>0.873016</td>\n",
       "      <td>0.338997</td>\n",
       "      <td>0.056391</td>\n",
       "      <td>0.459000</td>\n",
       "      <td>0.347205</td>\n",
       "      <td>0.893194</td>\n",
       "      <td>0.482793</td>\n",
       "      <td>0.257353</td>\n",
       "      <td>0.908459</td>\n",
       "      <td>0.432629</td>\n",
       "    </tr>\n",
       "    <tr>\n",
       "      <th>1</th>\n",
       "      <td>0.082737</td>\n",
       "      <td>0.207585</td>\n",
       "      <td>0.870904</td>\n",
       "      <td>0.337783</td>\n",
       "      <td>0.055762</td>\n",
       "      <td>0.404203</td>\n",
       "      <td>0.346069</td>\n",
       "      <td>0.900199</td>\n",
       "      <td>0.536405</td>\n",
       "      <td>0.350719</td>\n",
       "      <td>0.916292</td>\n",
       "      <td>0.471671</td>\n",
       "    </tr>\n",
       "    <tr>\n",
       "      <th>2</th>\n",
       "      <td>0.080257</td>\n",
       "      <td>0.209400</td>\n",
       "      <td>0.868787</td>\n",
       "      <td>0.319708</td>\n",
       "      <td>0.019231</td>\n",
       "      <td>0.375209</td>\n",
       "      <td>0.335515</td>\n",
       "      <td>0.897767</td>\n",
       "      <td>0.521826</td>\n",
       "      <td>0.298373</td>\n",
       "      <td>0.944409</td>\n",
       "      <td>0.458410</td>\n",
       "    </tr>\n",
       "  </tbody>\n",
       "</table>\n",
       "</div>"
      ],
      "text/plain": [
       "   fit_time  score_time  test_accuracy  test_f1_macro  test_f2_score  \\\n",
       "0  0.087929    0.202729       0.873016       0.338997       0.056391   \n",
       "1  0.082737    0.207585       0.870904       0.337783       0.055762   \n",
       "2  0.080257    0.209400       0.868787       0.319708       0.019231   \n",
       "\n",
       "   test_precision_macro  test_recall_macro  train_accuracy  train_f1_macro  \\\n",
       "0              0.459000           0.347205        0.893194        0.482793   \n",
       "1              0.404203           0.346069        0.900199        0.536405   \n",
       "2              0.375209           0.335515        0.897767        0.521826   \n",
       "\n",
       "   train_f2_score  train_precision_macro  train_recall_macro  \n",
       "0        0.257353               0.908459            0.432629  \n",
       "1        0.350719               0.916292            0.471671  \n",
       "2        0.298373               0.944409            0.458410  "
      ]
     },
     "execution_count": 67,
     "metadata": {},
     "output_type": "execute_result"
    }
   ],
   "source": [
    "p1 = Pipeline([('vectorizer', CountVectorizer(lowercase=False, tokenizer=lambda x: x, vocabulary=vocab)),\n",
    "               ('classifier', MultinomialNB())])\n",
    "p1.fit(train['review_doc'], train['score'])\n",
    "print_metrics(p1, train)"
   ]
  },
  {
   "cell_type": "markdown",
   "metadata": {},
   "source": [
    "### Logistic Regression"
   ]
  },
  {
   "cell_type": "code",
   "execution_count": 68,
   "metadata": {
    "scrolled": true
   },
   "outputs": [
    {
     "name": "stdout",
     "output_type": "stream",
     "text": [
      "[[ 173    0   21]\n",
      " [   1  138   45]\n",
      " [   0    0 2643]]\n",
      "test_f2_score           0.260687\n",
      "train_accuracy          0.981628\n",
      "test_accuracy           0.873883\n",
      "test_f1_macro           0.445926\n",
      "test_precision_macro    0.529707\n",
      "test_recall_macro       0.421424\n",
      "dtype: float64\n"
     ]
    },
    {
     "data": {
      "text/html": [
       "<div>\n",
       "<style scoped>\n",
       "    .dataframe tbody tr th:only-of-type {\n",
       "        vertical-align: middle;\n",
       "    }\n",
       "\n",
       "    .dataframe tbody tr th {\n",
       "        vertical-align: top;\n",
       "    }\n",
       "\n",
       "    .dataframe thead th {\n",
       "        text-align: right;\n",
       "    }\n",
       "</style>\n",
       "<table border=\"1\" class=\"dataframe\">\n",
       "  <thead>\n",
       "    <tr style=\"text-align: right;\">\n",
       "      <th></th>\n",
       "      <th>fit_time</th>\n",
       "      <th>score_time</th>\n",
       "      <th>test_accuracy</th>\n",
       "      <th>test_f1_macro</th>\n",
       "      <th>test_f2_score</th>\n",
       "      <th>test_precision_macro</th>\n",
       "      <th>test_recall_macro</th>\n",
       "      <th>train_accuracy</th>\n",
       "      <th>train_f1_macro</th>\n",
       "      <th>train_f2_score</th>\n",
       "      <th>train_precision_macro</th>\n",
       "      <th>train_recall_macro</th>\n",
       "    </tr>\n",
       "  </thead>\n",
       "  <tbody>\n",
       "    <tr>\n",
       "      <th>0</th>\n",
       "      <td>0.150245</td>\n",
       "      <td>0.213937</td>\n",
       "      <td>0.874008</td>\n",
       "      <td>0.440265</td>\n",
       "      <td>0.323129</td>\n",
       "      <td>0.485892</td>\n",
       "      <td>0.423580</td>\n",
       "      <td>0.980626</td>\n",
       "      <td>0.939174</td>\n",
       "      <td>0.911252</td>\n",
       "      <td>0.992782</td>\n",
       "      <td>0.895518</td>\n",
       "    </tr>\n",
       "    <tr>\n",
       "      <th>1</th>\n",
       "      <td>0.159287</td>\n",
       "      <td>0.205268</td>\n",
       "      <td>0.873883</td>\n",
       "      <td>0.454133</td>\n",
       "      <td>0.279720</td>\n",
       "      <td>0.565038</td>\n",
       "      <td>0.424211</td>\n",
       "      <td>0.982622</td>\n",
       "      <td>0.945574</td>\n",
       "      <td>0.937008</td>\n",
       "      <td>0.993508</td>\n",
       "      <td>0.906410</td>\n",
       "    </tr>\n",
       "    <tr>\n",
       "      <th>2</th>\n",
       "      <td>0.157329</td>\n",
       "      <td>0.201299</td>\n",
       "      <td>0.873757</td>\n",
       "      <td>0.443381</td>\n",
       "      <td>0.179211</td>\n",
       "      <td>0.538191</td>\n",
       "      <td>0.416479</td>\n",
       "      <td>0.981638</td>\n",
       "      <td>0.943187</td>\n",
       "      <td>0.911950</td>\n",
       "      <td>0.993144</td>\n",
       "      <td>0.901772</td>\n",
       "    </tr>\n",
       "  </tbody>\n",
       "</table>\n",
       "</div>"
      ],
      "text/plain": [
       "   fit_time  score_time  test_accuracy  test_f1_macro  test_f2_score  \\\n",
       "0  0.150245    0.213937       0.874008       0.440265       0.323129   \n",
       "1  0.159287    0.205268       0.873883       0.454133       0.279720   \n",
       "2  0.157329    0.201299       0.873757       0.443381       0.179211   \n",
       "\n",
       "   test_precision_macro  test_recall_macro  train_accuracy  train_f1_macro  \\\n",
       "0              0.485892           0.423580        0.980626        0.939174   \n",
       "1              0.565038           0.424211        0.982622        0.945574   \n",
       "2              0.538191           0.416479        0.981638        0.943187   \n",
       "\n",
       "   train_f2_score  train_precision_macro  train_recall_macro  \n",
       "0        0.911252               0.992782            0.895518  \n",
       "1        0.937008               0.993508            0.906410  \n",
       "2        0.911950               0.993144            0.901772  "
      ]
     },
     "execution_count": 68,
     "metadata": {},
     "output_type": "execute_result"
    }
   ],
   "source": [
    "from sklearn.linear_model import LogisticRegression\n",
    "\n",
    "lr_p = Pipeline([('vectorizer', CountVectorizer(lowercase=False, tokenizer=lambda x: x, vocabulary=vocab)),\n",
    "                 ('classifier', LogisticRegression())])\n",
    "lr_p.fit(train['review_doc'], train['score'])\n",
    "print_metrics(lr_p, train)"
   ]
  },
  {
   "cell_type": "markdown",
   "metadata": {},
   "source": [
    "### SVM"
   ]
  },
  {
   "cell_type": "code",
   "execution_count": 69,
   "metadata": {},
   "outputs": [
    {
     "name": "stdout",
     "output_type": "stream",
     "text": [
      "[[   0    0  194]\n",
      " [   0    0  184]\n",
      " [   0    0 2643]]\n",
      "test_f2_score           0.000000\n",
      "train_accuracy          0.874876\n",
      "test_accuracy           0.874876\n",
      "test_f1_macro           0.311088\n",
      "test_precision_macro    0.291625\n",
      "test_recall_macro       0.333333\n",
      "dtype: float64\n"
     ]
    },
    {
     "data": {
      "text/html": [
       "<div>\n",
       "<style scoped>\n",
       "    .dataframe tbody tr th:only-of-type {\n",
       "        vertical-align: middle;\n",
       "    }\n",
       "\n",
       "    .dataframe tbody tr th {\n",
       "        vertical-align: top;\n",
       "    }\n",
       "\n",
       "    .dataframe thead th {\n",
       "        text-align: right;\n",
       "    }\n",
       "</style>\n",
       "<table border=\"1\" class=\"dataframe\">\n",
       "  <thead>\n",
       "    <tr style=\"text-align: right;\">\n",
       "      <th></th>\n",
       "      <th>fit_time</th>\n",
       "      <th>score_time</th>\n",
       "      <th>test_accuracy</th>\n",
       "      <th>test_f1_macro</th>\n",
       "      <th>test_f2_score</th>\n",
       "      <th>test_precision_macro</th>\n",
       "      <th>test_recall_macro</th>\n",
       "      <th>train_accuracy</th>\n",
       "      <th>train_f1_macro</th>\n",
       "      <th>train_f2_score</th>\n",
       "      <th>train_precision_macro</th>\n",
       "      <th>train_recall_macro</th>\n",
       "    </tr>\n",
       "  </thead>\n",
       "  <tbody>\n",
       "    <tr>\n",
       "      <th>0</th>\n",
       "      <td>0.365042</td>\n",
       "      <td>0.830554</td>\n",
       "      <td>0.874008</td>\n",
       "      <td>0.310923</td>\n",
       "      <td>0.0</td>\n",
       "      <td>0.291336</td>\n",
       "      <td>0.333333</td>\n",
       "      <td>0.875310</td>\n",
       "      <td>0.311170</td>\n",
       "      <td>0.0</td>\n",
       "      <td>0.291770</td>\n",
       "      <td>0.333333</td>\n",
       "    </tr>\n",
       "    <tr>\n",
       "      <th>1</th>\n",
       "      <td>0.384069</td>\n",
       "      <td>0.847975</td>\n",
       "      <td>0.874876</td>\n",
       "      <td>0.311088</td>\n",
       "      <td>0.0</td>\n",
       "      <td>0.291625</td>\n",
       "      <td>0.333333</td>\n",
       "      <td>0.874876</td>\n",
       "      <td>0.311088</td>\n",
       "      <td>0.0</td>\n",
       "      <td>0.291625</td>\n",
       "      <td>0.333333</td>\n",
       "    </tr>\n",
       "    <tr>\n",
       "      <th>2</th>\n",
       "      <td>0.375449</td>\n",
       "      <td>0.843551</td>\n",
       "      <td>0.875746</td>\n",
       "      <td>0.311252</td>\n",
       "      <td>0.0</td>\n",
       "      <td>0.291915</td>\n",
       "      <td>0.333333</td>\n",
       "      <td>0.874442</td>\n",
       "      <td>0.311005</td>\n",
       "      <td>0.0</td>\n",
       "      <td>0.291481</td>\n",
       "      <td>0.333333</td>\n",
       "    </tr>\n",
       "  </tbody>\n",
       "</table>\n",
       "</div>"
      ],
      "text/plain": [
       "   fit_time  score_time  test_accuracy  test_f1_macro  test_f2_score  \\\n",
       "0  0.365042    0.830554       0.874008       0.310923            0.0   \n",
       "1  0.384069    0.847975       0.874876       0.311088            0.0   \n",
       "2  0.375449    0.843551       0.875746       0.311252            0.0   \n",
       "\n",
       "   test_precision_macro  test_recall_macro  train_accuracy  train_f1_macro  \\\n",
       "0              0.291336           0.333333        0.875310        0.311170   \n",
       "1              0.291625           0.333333        0.874876        0.311088   \n",
       "2              0.291915           0.333333        0.874442        0.311005   \n",
       "\n",
       "   train_f2_score  train_precision_macro  train_recall_macro  \n",
       "0             0.0               0.291770            0.333333  \n",
       "1             0.0               0.291625            0.333333  \n",
       "2             0.0               0.291481            0.333333  "
      ]
     },
     "execution_count": 69,
     "metadata": {},
     "output_type": "execute_result"
    }
   ],
   "source": [
    "from sklearn.svm import SVC\n",
    "\n",
    "svm_p = Pipeline([('vectorizer', TfidfVectorizer(lowercase=False, tokenizer=lambda x: x, vocabulary=vocab)),\n",
    "                 ('classifier', SVC())])\n",
    "svm_p.fit(train['review_doc'], train['score'])\n",
    "print_metrics(svm_p, train)"
   ]
  },
  {
   "cell_type": "markdown",
   "metadata": {},
   "source": [
    "###  Tonal dictionary classifier"
   ]
  },
  {
   "cell_type": "markdown",
   "metadata": {},
   "source": [
    "loading tonal dict"
   ]
  },
  {
   "cell_type": "code",
   "execution_count": 70,
   "metadata": {},
   "outputs": [],
   "source": [
    "tonal_dict = {}\n",
    "with open('tone-dict-uk.tsv') as f:\n",
    "    for line in f.readlines():\n",
    "        word, ts = line.strip().split('\\t')\n",
    "        tonal_dict[UkrainianStemmer(word.lower()).stem_word()] = int(ts)"
   ]
  },
  {
   "cell_type": "code",
   "execution_count": 71,
   "metadata": {},
   "outputs": [],
   "source": [
    "class TonalClassifier(BaseEstimator, ClassifierMixin):\n",
    "    \n",
    "    def __init__(self, vocab, tonal_dict):\n",
    "        self.vocab = vocab\n",
    "        self.tonal_dict = tonal_dict\n",
    "        self.ivocab = np.zeros((len(vocab),))\n",
    "        for w,i in vocab.items():\n",
    "            self.ivocab[i] = tonal_dict.get(w, np.nan)\n",
    "            \n",
    "    def get_params(self, deep):\n",
    "        return {'vocab': self.vocab, 'tonal_dict': self.tonal_dict}\n",
    "    \n",
    "    def set_params(self, **params):\n",
    "        self.vocab = params['vocab']\n",
    "        self.tonal_dict = params['tonal_dict']\n",
    "        \n",
    "    def fit(self, X, y=None):\n",
    "        return self\n",
    "    \n",
    "    def predict(self, X):\n",
    "        res = np.zeros((X.shape[0],))\n",
    "        for i in range(res.shape[0]):\n",
    "            Xi = X[i, :]\n",
    "            scores = self.ivocab[Xi.nonzero()[1]]\n",
    "            if all(np.isnan(scores)):\n",
    "                res[i] = 0\n",
    "            else:\n",
    "                res[i] = np.nanmean(scores)\n",
    "        return np.digitize(res, [-2+4/3,-2+2*4/3])\n",
    "    \n",
    "    def score(self, X, y):\n",
    "        pred = self.predict(X)\n",
    "        matches = pred == y\n",
    "        return np.sum(matches)/len(pred)"
   ]
  },
  {
   "cell_type": "code",
   "execution_count": 72,
   "metadata": {
    "scrolled": true
   },
   "outputs": [
    {
     "name": "stdout",
     "output_type": "stream",
     "text": [
      "[[  39  119   36]\n",
      " [  27  106   51]\n",
      " [ 188 1250 1205]]\n",
      "test_f2_score           0.189515\n",
      "train_accuracy          0.446869\n",
      "test_accuracy           0.446858\n",
      "test_f1_macro           0.304932\n",
      "test_precision_macro    0.386284\n",
      "test_recall_macro       0.410923\n",
      "dtype: float64\n"
     ]
    },
    {
     "data": {
      "text/html": [
       "<div>\n",
       "<style scoped>\n",
       "    .dataframe tbody tr th:only-of-type {\n",
       "        vertical-align: middle;\n",
       "    }\n",
       "\n",
       "    .dataframe tbody tr th {\n",
       "        vertical-align: top;\n",
       "    }\n",
       "\n",
       "    .dataframe thead th {\n",
       "        text-align: right;\n",
       "    }\n",
       "</style>\n",
       "<table border=\"1\" class=\"dataframe\">\n",
       "  <thead>\n",
       "    <tr style=\"text-align: right;\">\n",
       "      <th></th>\n",
       "      <th>fit_time</th>\n",
       "      <th>score_time</th>\n",
       "      <th>test_accuracy</th>\n",
       "      <th>test_f1_macro</th>\n",
       "      <th>test_f2_score</th>\n",
       "      <th>test_precision_macro</th>\n",
       "      <th>test_recall_macro</th>\n",
       "      <th>train_accuracy</th>\n",
       "      <th>train_f1_macro</th>\n",
       "      <th>train_f2_score</th>\n",
       "      <th>train_precision_macro</th>\n",
       "      <th>train_recall_macro</th>\n",
       "    </tr>\n",
       "  </thead>\n",
       "  <tbody>\n",
       "    <tr>\n",
       "      <th>0</th>\n",
       "      <td>0.092615</td>\n",
       "      <td>1.176535</td>\n",
       "      <td>0.476190</td>\n",
       "      <td>0.333361</td>\n",
       "      <td>0.234604</td>\n",
       "      <td>0.407310</td>\n",
       "      <td>0.447533</td>\n",
       "      <td>0.432191</td>\n",
       "      <td>0.290726</td>\n",
       "      <td>0.166909</td>\n",
       "      <td>0.375765</td>\n",
       "      <td>0.392594</td>\n",
       "    </tr>\n",
       "    <tr>\n",
       "      <th>1</th>\n",
       "      <td>0.087839</td>\n",
       "      <td>1.152138</td>\n",
       "      <td>0.428997</td>\n",
       "      <td>0.288694</td>\n",
       "      <td>0.158501</td>\n",
       "      <td>0.375145</td>\n",
       "      <td>0.398799</td>\n",
       "      <td>0.455809</td>\n",
       "      <td>0.312908</td>\n",
       "      <td>0.204978</td>\n",
       "      <td>0.391612</td>\n",
       "      <td>0.417180</td>\n",
       "    </tr>\n",
       "    <tr>\n",
       "      <th>2</th>\n",
       "      <td>0.083255</td>\n",
       "      <td>1.199836</td>\n",
       "      <td>0.435388</td>\n",
       "      <td>0.292741</td>\n",
       "      <td>0.175439</td>\n",
       "      <td>0.376398</td>\n",
       "      <td>0.386436</td>\n",
       "      <td>0.452605</td>\n",
       "      <td>0.310822</td>\n",
       "      <td>0.196221</td>\n",
       "      <td>0.390879</td>\n",
       "      <td>0.423197</td>\n",
       "    </tr>\n",
       "  </tbody>\n",
       "</table>\n",
       "</div>"
      ],
      "text/plain": [
       "   fit_time  score_time  test_accuracy  test_f1_macro  test_f2_score  \\\n",
       "0  0.092615    1.176535       0.476190       0.333361       0.234604   \n",
       "1  0.087839    1.152138       0.428997       0.288694       0.158501   \n",
       "2  0.083255    1.199836       0.435388       0.292741       0.175439   \n",
       "\n",
       "   test_precision_macro  test_recall_macro  train_accuracy  train_f1_macro  \\\n",
       "0              0.407310           0.447533        0.432191        0.290726   \n",
       "1              0.375145           0.398799        0.455809        0.312908   \n",
       "2              0.376398           0.386436        0.452605        0.310822   \n",
       "\n",
       "   train_f2_score  train_precision_macro  train_recall_macro  \n",
       "0        0.166909               0.375765            0.392594  \n",
       "1        0.204978               0.391612            0.417180  \n",
       "2        0.196221               0.390879            0.423197  "
      ]
     },
     "execution_count": 72,
     "metadata": {},
     "output_type": "execute_result"
    }
   ],
   "source": [
    "tonal_p = Pipeline([('vectorizer', CountVectorizer(lowercase=False, tokenizer=lambda x: x, vocabulary=vocab)),\n",
    "              ('classifier', TonalClassifier(vocab, tonal_dict))])\n",
    "tonal_p.fit(train['review_doc'], train['score'])\n",
    "print_metrics(tonal_p, train)"
   ]
  },
  {
   "cell_type": "markdown",
   "metadata": {},
   "source": [
    "We see that classifier that uses only tonal date is pretty low behind the baseline. Let's try an ensemble of this two classifiers"
   ]
  },
  {
   "cell_type": "markdown",
   "metadata": {},
   "source": [
    "### Ensemble"
   ]
  },
  {
   "cell_type": "code",
   "execution_count": 73,
   "metadata": {
    "scrolled": false
   },
   "outputs": [
    {
     "name": "stdout",
     "output_type": "stream",
     "text": [
      "[[ 140    0   54]\n",
      " [  20   82   82]\n",
      " [   0    0 2643]]\n",
      "test_f2_score           0.265577\n",
      "train_accuracy          0.950843\n",
      "test_accuracy           0.875538\n",
      "test_f1_macro           0.441277\n",
      "test_precision_macro    0.536589\n",
      "test_recall_macro       0.418631\n",
      "dtype: float64\n"
     ]
    },
    {
     "data": {
      "text/html": [
       "<div>\n",
       "<style scoped>\n",
       "    .dataframe tbody tr th:only-of-type {\n",
       "        vertical-align: middle;\n",
       "    }\n",
       "\n",
       "    .dataframe tbody tr th {\n",
       "        vertical-align: top;\n",
       "    }\n",
       "\n",
       "    .dataframe thead th {\n",
       "        text-align: right;\n",
       "    }\n",
       "</style>\n",
       "<table border=\"1\" class=\"dataframe\">\n",
       "  <thead>\n",
       "    <tr style=\"text-align: right;\">\n",
       "      <th></th>\n",
       "      <th>fit_time</th>\n",
       "      <th>score_time</th>\n",
       "      <th>test_accuracy</th>\n",
       "      <th>test_f1_macro</th>\n",
       "      <th>test_f2_score</th>\n",
       "      <th>test_precision_macro</th>\n",
       "      <th>test_recall_macro</th>\n",
       "      <th>train_accuracy</th>\n",
       "      <th>train_f1_macro</th>\n",
       "      <th>train_f2_score</th>\n",
       "      <th>train_precision_macro</th>\n",
       "      <th>train_recall_macro</th>\n",
       "    </tr>\n",
       "  </thead>\n",
       "  <tbody>\n",
       "    <tr>\n",
       "      <th>0</th>\n",
       "      <td>0.817264</td>\n",
       "      <td>2.538566</td>\n",
       "      <td>0.877976</td>\n",
       "      <td>0.445890</td>\n",
       "      <td>0.338983</td>\n",
       "      <td>0.489577</td>\n",
       "      <td>0.429844</td>\n",
       "      <td>0.948833</td>\n",
       "      <td>0.796672</td>\n",
       "      <td>0.732689</td>\n",
       "      <td>0.939528</td>\n",
       "      <td>0.724213</td>\n",
       "    </tr>\n",
       "    <tr>\n",
       "      <th>1</th>\n",
       "      <td>0.883357</td>\n",
       "      <td>2.338062</td>\n",
       "      <td>0.870904</td>\n",
       "      <td>0.425859</td>\n",
       "      <td>0.228873</td>\n",
       "      <td>0.528058</td>\n",
       "      <td>0.403740</td>\n",
       "      <td>0.950844</td>\n",
       "      <td>0.802175</td>\n",
       "      <td>0.756369</td>\n",
       "      <td>0.934582</td>\n",
       "      <td>0.735993</td>\n",
       "    </tr>\n",
       "    <tr>\n",
       "      <th>2</th>\n",
       "      <td>0.853303</td>\n",
       "      <td>2.430790</td>\n",
       "      <td>0.877734</td>\n",
       "      <td>0.452083</td>\n",
       "      <td>0.228873</td>\n",
       "      <td>0.592133</td>\n",
       "      <td>0.422310</td>\n",
       "      <td>0.952854</td>\n",
       "      <td>0.818296</td>\n",
       "      <td>0.772293</td>\n",
       "      <td>0.950881</td>\n",
       "      <td>0.747363</td>\n",
       "    </tr>\n",
       "  </tbody>\n",
       "</table>\n",
       "</div>"
      ],
      "text/plain": [
       "   fit_time  score_time  test_accuracy  test_f1_macro  test_f2_score  \\\n",
       "0  0.817264    2.538566       0.877976       0.445890       0.338983   \n",
       "1  0.883357    2.338062       0.870904       0.425859       0.228873   \n",
       "2  0.853303    2.430790       0.877734       0.452083       0.228873   \n",
       "\n",
       "   test_precision_macro  test_recall_macro  train_accuracy  train_f1_macro  \\\n",
       "0              0.489577           0.429844        0.948833        0.796672   \n",
       "1              0.528058           0.403740        0.950844        0.802175   \n",
       "2              0.592133           0.422310        0.952854        0.818296   \n",
       "\n",
       "   train_f2_score  train_precision_macro  train_recall_macro  \n",
       "0        0.732689               0.939528            0.724213  \n",
       "1        0.756369               0.934582            0.735993  \n",
       "2        0.772293               0.950881            0.747363  "
      ]
     },
     "execution_count": 73,
     "metadata": {},
     "output_type": "execute_result"
    }
   ],
   "source": [
    "from sklearn.ensemble import VotingClassifier\n",
    "\n",
    "vcl = VotingClassifier([('svc', svm_p),('tonal', tonal_p), ('lr', lr_p)])\n",
    "vcl.fit(train['review_doc'], train['score'])\n",
    "print_metrics(vcl, train)"
   ]
  },
  {
   "cell_type": "markdown",
   "metadata": {},
   "source": [
    "We see that ansamble with majority voting has lower performance then pure svm"
   ]
  },
  {
   "cell_type": "markdown",
   "metadata": {},
   "source": [
    "## Upsampled data\n",
    "We see that it's really hard to beat the baseline with such skewed dataset, so let's upsample it"
   ]
  },
  {
   "cell_type": "code",
   "execution_count": 75,
   "metadata": {},
   "outputs": [
    {
     "data": {
      "text/plain": [
       "<matplotlib.axes._subplots.AxesSubplot at 0x18441fd30>"
      ]
     },
     "execution_count": 75,
     "metadata": {},
     "output_type": "execute_result"
    },
    {
     "data": {
      "image/png": "[encoded data removed]",
      "text/plain": [
       "<Figure size 432x288 with 1 Axes>"
      ]
     },
     "metadata": {},
     "output_type": "display_data"
    }
   ],
   "source": [
    "train2 = train.copy()\n",
    "max_count = np.max(train2['score'].value_counts())\n",
    "addition = []\n",
    "for cat in range(3):\n",
    "    train2_cat = train2[train2['score'] == cat]\n",
    "    diff = max_count - len(train2_cat)\n",
    "    addition.append(train2_cat.sample(n=diff, replace=True))\n",
    "train2 = train2.append(addition, ignore_index=True).reset_index()\n",
    "train2['score'].value_counts().plot('bar')"
   ]
  },
  {
   "cell_type": "markdown",
   "metadata": {},
   "source": [
    "### Naive Bayes"
   ]
  },
  {
   "cell_type": "code",
   "execution_count": 76,
   "metadata": {
    "scrolled": false
   },
   "outputs": [
    {
     "name": "stdout",
     "output_type": "stream",
     "text": [
      "[[2604   28   11]\n",
      " [  14 2568   61]\n",
      " [  92  178 2373]]\n",
      "test_f2_score           0.975323\n",
      "train_accuracy          0.949363\n",
      "test_accuracy           0.915752\n",
      "test_f1_macro           0.914007\n",
      "test_precision_macro    0.921047\n",
      "test_recall_macro       0.915752\n",
      "dtype: float64\n"
     ]
    },
    {
     "data": {
      "text/html": [
       "<div>\n",
       "<style scoped>\n",
       "    .dataframe tbody tr th:only-of-type {\n",
       "        vertical-align: middle;\n",
       "    }\n",
       "\n",
       "    .dataframe tbody tr th {\n",
       "        vertical-align: top;\n",
       "    }\n",
       "\n",
       "    .dataframe thead th {\n",
       "        text-align: right;\n",
       "    }\n",
       "</style>\n",
       "<table border=\"1\" class=\"dataframe\">\n",
       "  <thead>\n",
       "    <tr style=\"text-align: right;\">\n",
       "      <th></th>\n",
       "      <th>fit_time</th>\n",
       "      <th>score_time</th>\n",
       "      <th>test_accuracy</th>\n",
       "      <th>test_f1_macro</th>\n",
       "      <th>test_f2_score</th>\n",
       "      <th>test_precision_macro</th>\n",
       "      <th>test_recall_macro</th>\n",
       "      <th>train_accuracy</th>\n",
       "      <th>train_f1_macro</th>\n",
       "      <th>train_f2_score</th>\n",
       "      <th>train_precision_macro</th>\n",
       "      <th>train_recall_macro</th>\n",
       "    </tr>\n",
       "  </thead>\n",
       "  <tbody>\n",
       "    <tr>\n",
       "      <th>0</th>\n",
       "      <td>0.231128</td>\n",
       "      <td>0.601653</td>\n",
       "      <td>0.921680</td>\n",
       "      <td>0.920004</td>\n",
       "      <td>0.978480</td>\n",
       "      <td>0.926065</td>\n",
       "      <td>0.921680</td>\n",
       "      <td>0.947787</td>\n",
       "      <td>0.947381</td>\n",
       "      <td>0.982183</td>\n",
       "      <td>0.949186</td>\n",
       "      <td>0.947787</td>\n",
       "    </tr>\n",
       "    <tr>\n",
       "      <th>1</th>\n",
       "      <td>0.241009</td>\n",
       "      <td>0.582140</td>\n",
       "      <td>0.913356</td>\n",
       "      <td>0.911773</td>\n",
       "      <td>0.977723</td>\n",
       "      <td>0.918454</td>\n",
       "      <td>0.913356</td>\n",
       "      <td>0.951003</td>\n",
       "      <td>0.950574</td>\n",
       "      <td>0.983866</td>\n",
       "      <td>0.952242</td>\n",
       "      <td>0.951003</td>\n",
       "    </tr>\n",
       "    <tr>\n",
       "      <th>2</th>\n",
       "      <td>0.226268</td>\n",
       "      <td>0.586689</td>\n",
       "      <td>0.912221</td>\n",
       "      <td>0.910244</td>\n",
       "      <td>0.969765</td>\n",
       "      <td>0.918623</td>\n",
       "      <td>0.912221</td>\n",
       "      <td>0.949300</td>\n",
       "      <td>0.948961</td>\n",
       "      <td>0.980591</td>\n",
       "      <td>0.950396</td>\n",
       "      <td>0.949300</td>\n",
       "    </tr>\n",
       "  </tbody>\n",
       "</table>\n",
       "</div>"
      ],
      "text/plain": [
       "   fit_time  score_time  test_accuracy  test_f1_macro  test_f2_score  \\\n",
       "0  0.231128    0.601653       0.921680       0.920004       0.978480   \n",
       "1  0.241009    0.582140       0.913356       0.911773       0.977723   \n",
       "2  0.226268    0.586689       0.912221       0.910244       0.969765   \n",
       "\n",
       "   test_precision_macro  test_recall_macro  train_accuracy  train_f1_macro  \\\n",
       "0              0.926065           0.921680        0.947787        0.947381   \n",
       "1              0.918454           0.913356        0.951003        0.950574   \n",
       "2              0.918623           0.912221        0.949300        0.948961   \n",
       "\n",
       "   train_f2_score  train_precision_macro  train_recall_macro  \n",
       "0        0.982183               0.949186            0.947787  \n",
       "1        0.983866               0.952242            0.951003  \n",
       "2        0.980591               0.950396            0.949300  "
      ]
     },
     "execution_count": 76,
     "metadata": {},
     "output_type": "execute_result"
    }
   ],
   "source": [
    "nb_p = Pipeline([('vectorizer', TfidfVectorizer(lowercase=False, tokenizer=lambda x: x, vocabulary=vocab)),\n",
    "               ('classifier', MultinomialNB())])\n",
    "nb_p.fit(train2['review_doc'], train2['score'])\n",
    "print_metrics(nb_p, train2)"
   ]
  },
  {
   "cell_type": "markdown",
   "metadata": {},
   "source": [
    "### Logistic Regression"
   ]
  },
  {
   "cell_type": "code",
   "execution_count": 52,
   "metadata": {
    "scrolled": true
   },
   "outputs": [
    {
     "name": "stdout",
     "output_type": "stream",
     "text": [
      "test_f2_score           0.988515\n",
      "train_accuracy          0.977362\n",
      "test_accuracy           0.957372\n",
      "test_f1_macro           0.956882\n",
      "test_precision_macro    0.958264\n",
      "test_recall_macro       0.957372\n",
      "dtype: float64\n"
     ]
    },
    {
     "data": {
      "text/html": [
       "<div>\n",
       "<style scoped>\n",
       "    .dataframe tbody tr th:only-of-type {\n",
       "        vertical-align: middle;\n",
       "    }\n",
       "\n",
       "    .dataframe tbody tr th {\n",
       "        vertical-align: top;\n",
       "    }\n",
       "\n",
       "    .dataframe thead th {\n",
       "        text-align: right;\n",
       "    }\n",
       "</style>\n",
       "<table border=\"1\" class=\"dataframe\">\n",
       "  <thead>\n",
       "    <tr style=\"text-align: right;\">\n",
       "      <th></th>\n",
       "      <th>fit_time</th>\n",
       "      <th>score_time</th>\n",
       "      <th>test_accuracy</th>\n",
       "      <th>test_f1_macro</th>\n",
       "      <th>test_f2_score</th>\n",
       "      <th>test_precision_macro</th>\n",
       "      <th>test_recall_macro</th>\n",
       "      <th>train_accuracy</th>\n",
       "      <th>train_f1_macro</th>\n",
       "      <th>train_f2_score</th>\n",
       "      <th>train_precision_macro</th>\n",
       "      <th>train_recall_macro</th>\n",
       "    </tr>\n",
       "  </thead>\n",
       "  <tbody>\n",
       "    <tr>\n",
       "      <th>0</th>\n",
       "      <td>0.299836</td>\n",
       "      <td>0.587733</td>\n",
       "      <td>0.953840</td>\n",
       "      <td>0.953406</td>\n",
       "      <td>0.982203</td>\n",
       "      <td>0.954108</td>\n",
       "      <td>0.953840</td>\n",
       "      <td>0.977109</td>\n",
       "      <td>0.977010</td>\n",
       "      <td>0.993553</td>\n",
       "      <td>0.977169</td>\n",
       "      <td>0.977109</td>\n",
       "    </tr>\n",
       "    <tr>\n",
       "      <th>1</th>\n",
       "      <td>0.294726</td>\n",
       "      <td>0.589707</td>\n",
       "      <td>0.959137</td>\n",
       "      <td>0.958527</td>\n",
       "      <td>0.991670</td>\n",
       "      <td>0.961082</td>\n",
       "      <td>0.959137</td>\n",
       "      <td>0.978623</td>\n",
       "      <td>0.978508</td>\n",
       "      <td>0.995480</td>\n",
       "      <td>0.978777</td>\n",
       "      <td>0.978623</td>\n",
       "    </tr>\n",
       "    <tr>\n",
       "      <th>2</th>\n",
       "      <td>0.299142</td>\n",
       "      <td>0.604936</td>\n",
       "      <td>0.959137</td>\n",
       "      <td>0.958714</td>\n",
       "      <td>0.991670</td>\n",
       "      <td>0.959601</td>\n",
       "      <td>0.959137</td>\n",
       "      <td>0.976353</td>\n",
       "      <td>0.976234</td>\n",
       "      <td>0.995480</td>\n",
       "      <td>0.976422</td>\n",
       "      <td>0.976353</td>\n",
       "    </tr>\n",
       "  </tbody>\n",
       "</table>\n",
       "</div>"
      ],
      "text/plain": [
       "   fit_time  score_time  test_accuracy  test_f1_macro  test_f2_score  \\\n",
       "0  0.299836    0.587733       0.953840       0.953406       0.982203   \n",
       "1  0.294726    0.589707       0.959137       0.958527       0.991670   \n",
       "2  0.299142    0.604936       0.959137       0.958714       0.991670   \n",
       "\n",
       "   test_precision_macro  test_recall_macro  train_accuracy  train_f1_macro  \\\n",
       "0              0.954108           0.953840        0.977109        0.977010   \n",
       "1              0.961082           0.959137        0.978623        0.978508   \n",
       "2              0.959601           0.959137        0.976353        0.976234   \n",
       "\n",
       "   train_f2_score  train_precision_macro  train_recall_macro  \n",
       "0        0.993553               0.977169            0.977109  \n",
       "1        0.995480               0.978777            0.978623  \n",
       "2        0.995480               0.976422            0.976353  "
      ]
     },
     "execution_count": 52,
     "metadata": {},
     "output_type": "execute_result"
    }
   ],
   "source": [
    "lr_p = Pipeline([('vectorizer', TfidfVectorizer(lowercase=False, tokenizer=lambda x: x, vocabulary=vocab)),\n",
    "                 ('classifier', LogisticRegression())])\n",
    "lr_p.fit(train2['review_doc'], train2['score'])\n",
    "print_metrics(lr_p, train2)"
   ]
  },
  {
   "cell_type": "markdown",
   "metadata": {},
   "source": [
    "### SVM"
   ]
  },
  {
   "cell_type": "code",
   "execution_count": 53,
   "metadata": {},
   "outputs": [
    {
     "name": "stdout",
     "output_type": "stream",
     "text": [
      "test_f2_score           0.884912\n",
      "train_accuracy          0.793543\n",
      "test_accuracy           0.769454\n",
      "test_f1_macro           0.764099\n",
      "test_precision_macro    0.779255\n",
      "test_recall_macro       0.769454\n",
      "dtype: float64\n"
     ]
    },
    {
     "data": {
      "text/html": [
       "<div>\n",
       "<style scoped>\n",
       "    .dataframe tbody tr th:only-of-type {\n",
       "        vertical-align: middle;\n",
       "    }\n",
       "\n",
       "    .dataframe tbody tr th {\n",
       "        vertical-align: top;\n",
       "    }\n",
       "\n",
       "    .dataframe thead th {\n",
       "        text-align: right;\n",
       "    }\n",
       "</style>\n",
       "<table border=\"1\" class=\"dataframe\">\n",
       "  <thead>\n",
       "    <tr style=\"text-align: right;\">\n",
       "      <th></th>\n",
       "      <th>fit_time</th>\n",
       "      <th>score_time</th>\n",
       "      <th>test_accuracy</th>\n",
       "      <th>test_f1_macro</th>\n",
       "      <th>test_f2_score</th>\n",
       "      <th>test_precision_macro</th>\n",
       "      <th>test_recall_macro</th>\n",
       "      <th>train_accuracy</th>\n",
       "      <th>train_f1_macro</th>\n",
       "      <th>train_f2_score</th>\n",
       "      <th>train_precision_macro</th>\n",
       "      <th>train_recall_macro</th>\n",
       "    </tr>\n",
       "  </thead>\n",
       "  <tbody>\n",
       "    <tr>\n",
       "      <th>0</th>\n",
       "      <td>9.934569</td>\n",
       "      <td>18.947560</td>\n",
       "      <td>0.777526</td>\n",
       "      <td>0.773680</td>\n",
       "      <td>0.878657</td>\n",
       "      <td>0.790391</td>\n",
       "      <td>0.777526</td>\n",
       "      <td>0.790957</td>\n",
       "      <td>0.784819</td>\n",
       "      <td>0.907225</td>\n",
       "      <td>0.806055</td>\n",
       "      <td>0.790957</td>\n",
       "    </tr>\n",
       "    <tr>\n",
       "      <th>1</th>\n",
       "      <td>9.921907</td>\n",
       "      <td>19.895204</td>\n",
       "      <td>0.781309</td>\n",
       "      <td>0.776670</td>\n",
       "      <td>0.896934</td>\n",
       "      <td>0.788828</td>\n",
       "      <td>0.781309</td>\n",
       "      <td>0.806092</td>\n",
       "      <td>0.802664</td>\n",
       "      <td>0.904470</td>\n",
       "      <td>0.812017</td>\n",
       "      <td>0.806092</td>\n",
       "    </tr>\n",
       "    <tr>\n",
       "      <th>2</th>\n",
       "      <td>10.073770</td>\n",
       "      <td>19.390655</td>\n",
       "      <td>0.749527</td>\n",
       "      <td>0.741945</td>\n",
       "      <td>0.879144</td>\n",
       "      <td>0.758545</td>\n",
       "      <td>0.749527</td>\n",
       "      <td>0.783579</td>\n",
       "      <td>0.777397</td>\n",
       "      <td>0.902599</td>\n",
       "      <td>0.794670</td>\n",
       "      <td>0.783579</td>\n",
       "    </tr>\n",
       "  </tbody>\n",
       "</table>\n",
       "</div>"
      ],
      "text/plain": [
       "    fit_time  score_time  test_accuracy  test_f1_macro  test_f2_score  \\\n",
       "0   9.934569   18.947560       0.777526       0.773680       0.878657   \n",
       "1   9.921907   19.895204       0.781309       0.776670       0.896934   \n",
       "2  10.073770   19.390655       0.749527       0.741945       0.879144   \n",
       "\n",
       "   test_precision_macro  test_recall_macro  train_accuracy  train_f1_macro  \\\n",
       "0              0.790391           0.777526        0.790957        0.784819   \n",
       "1              0.788828           0.781309        0.806092        0.802664   \n",
       "2              0.758545           0.749527        0.783579        0.777397   \n",
       "\n",
       "   train_f2_score  train_precision_macro  train_recall_macro  \n",
       "0        0.907225               0.806055            0.790957  \n",
       "1        0.904470               0.812017            0.806092  \n",
       "2        0.902599               0.794670            0.783579  "
      ]
     },
     "execution_count": 53,
     "metadata": {},
     "output_type": "execute_result"
    }
   ],
   "source": [
    "from sklearn.svm import SVC\n",
    "\n",
    "svm_p = Pipeline([('vectorizer', TfidfVectorizer(lowercase=False, tokenizer=lambda x: x, vocabulary=vocab)),\n",
    "                 ('classifier', SVC())])\n",
    "svm_p.fit(train2['review_doc'], train2['score'])\n",
    "print_metrics(svm_p, train2)"
   ]
  },
  {
   "cell_type": "markdown",
   "metadata": {},
   "source": [
    "### Ensemble"
   ]
  },
  {
   "cell_type": "code",
   "execution_count": 54,
   "metadata": {
    "scrolled": true
   },
   "outputs": [
    {
     "name": "stdout",
     "output_type": "stream",
     "text": [
      "test_f2_score           0.928553\n",
      "train_accuracy          0.877349\n",
      "test_accuracy           0.856855\n",
      "test_f1_macro           0.854436\n",
      "test_precision_macro    0.864709\n",
      "test_recall_macro       0.856855\n",
      "dtype: float64\n"
     ]
    },
    {
     "data": {
      "text/html": [
       "<div>\n",
       "<style scoped>\n",
       "    .dataframe tbody tr th:only-of-type {\n",
       "        vertical-align: middle;\n",
       "    }\n",
       "\n",
       "    .dataframe tbody tr th {\n",
       "        vertical-align: top;\n",
       "    }\n",
       "\n",
       "    .dataframe thead th {\n",
       "        text-align: right;\n",
       "    }\n",
       "</style>\n",
       "<table border=\"1\" class=\"dataframe\">\n",
       "  <thead>\n",
       "    <tr style=\"text-align: right;\">\n",
       "      <th></th>\n",
       "      <th>fit_time</th>\n",
       "      <th>score_time</th>\n",
       "      <th>test_accuracy</th>\n",
       "      <th>test_f1_macro</th>\n",
       "      <th>test_f2_score</th>\n",
       "      <th>test_precision_macro</th>\n",
       "      <th>test_recall_macro</th>\n",
       "      <th>train_accuracy</th>\n",
       "      <th>train_f1_macro</th>\n",
       "      <th>train_f2_score</th>\n",
       "      <th>train_precision_macro</th>\n",
       "      <th>train_recall_macro</th>\n",
       "    </tr>\n",
       "  </thead>\n",
       "  <tbody>\n",
       "    <tr>\n",
       "      <th>0</th>\n",
       "      <td>10.841213</td>\n",
       "      <td>24.156115</td>\n",
       "      <td>0.867575</td>\n",
       "      <td>0.865950</td>\n",
       "      <td>0.929565</td>\n",
       "      <td>0.874892</td>\n",
       "      <td>0.867575</td>\n",
       "      <td>0.874953</td>\n",
       "      <td>0.872663</td>\n",
       "      <td>0.942524</td>\n",
       "      <td>0.883477</td>\n",
       "      <td>0.874953</td>\n",
       "    </tr>\n",
       "    <tr>\n",
       "      <th>1</th>\n",
       "      <td>11.198159</td>\n",
       "      <td>24.070605</td>\n",
       "      <td>0.855089</td>\n",
       "      <td>0.852891</td>\n",
       "      <td>0.929643</td>\n",
       "      <td>0.862664</td>\n",
       "      <td>0.855089</td>\n",
       "      <td>0.883655</td>\n",
       "      <td>0.882533</td>\n",
       "      <td>0.938088</td>\n",
       "      <td>0.888875</td>\n",
       "      <td>0.883655</td>\n",
       "    </tr>\n",
       "    <tr>\n",
       "      <th>2</th>\n",
       "      <td>10.716918</td>\n",
       "      <td>23.221519</td>\n",
       "      <td>0.847900</td>\n",
       "      <td>0.844468</td>\n",
       "      <td>0.926451</td>\n",
       "      <td>0.856571</td>\n",
       "      <td>0.847900</td>\n",
       "      <td>0.873439</td>\n",
       "      <td>0.871258</td>\n",
       "      <td>0.941862</td>\n",
       "      <td>0.880257</td>\n",
       "      <td>0.873439</td>\n",
       "    </tr>\n",
       "  </tbody>\n",
       "</table>\n",
       "</div>"
      ],
      "text/plain": [
       "    fit_time  score_time  test_accuracy  test_f1_macro  test_f2_score  \\\n",
       "0  10.841213   24.156115       0.867575       0.865950       0.929565   \n",
       "1  11.198159   24.070605       0.855089       0.852891       0.929643   \n",
       "2  10.716918   23.221519       0.847900       0.844468       0.926451   \n",
       "\n",
       "   test_precision_macro  test_recall_macro  train_accuracy  train_f1_macro  \\\n",
       "0              0.874892           0.867575        0.874953        0.872663   \n",
       "1              0.862664           0.855089        0.883655        0.882533   \n",
       "2              0.856571           0.847900        0.873439        0.871258   \n",
       "\n",
       "   train_f2_score  train_precision_macro  train_recall_macro  \n",
       "0        0.942524               0.883477            0.874953  \n",
       "1        0.938088               0.888875            0.883655  \n",
       "2        0.941862               0.880257            0.873439  "
      ]
     },
     "execution_count": 54,
     "metadata": {},
     "output_type": "execute_result"
    }
   ],
   "source": [
    "from sklearn.ensemble import VotingClassifier\n",
    "\n",
    "vcl = VotingClassifier([('svc', svm_p),('tonal', tonal_p), ('lr', lr_p)])\n",
    "vcl.fit(train2['review_doc'], train2['score'])\n",
    "print_metrics(vcl, train2)"
   ]
  },
  {
   "cell_type": "markdown",
   "metadata": {},
   "source": [
    "### Conclusions\n",
    "Here we see a huge boost in the f2 metric, but if wee look closely at confustion matrix we see that really there is no gain in performance. It's just that number of examples "
   ]
  },
  {
   "cell_type": "markdown",
   "metadata": {},
   "source": [
    "We see that results improved, especially Logistic Regression have the best f1"
   ]
  },
  {
   "cell_type": "markdown",
   "metadata": {},
   "source": [
    "## Downsampled data"
   ]
  },
  {
   "cell_type": "code",
   "execution_count": 55,
   "metadata": {
    "scrolled": true
   },
   "outputs": [
    {
     "data": {
      "text/plain": [
       "<matplotlib.axes._subplots.AxesSubplot at 0x1194a3c88>"
      ]
     },
     "execution_count": 55,
     "metadata": {},
     "output_type": "execute_result"
    },
    {
     "data": {
      "image/png": "[encoded data removed]",
      "text/plain": [
       "<Figure size 432x288 with 1 Axes>"
      ]
     },
     "metadata": {},
     "output_type": "display_data"
    }
   ],
   "source": [
    "train3 = train.copy()\n",
    "min_count = np.min(train3['score'].value_counts())\n",
    "train3_comps = []\n",
    "for cat in range(3):\n",
    "    train3_cat = train3[train3['score'] == cat]\n",
    "    train3_comps.append(train3_cat.sample(n=min_count, replace=True))\n",
    "train3 = pd.concat(train3_comps, ignore_index=True).reset_index()\n",
    "train3 = train3.sample(n=len(train3))\n",
    "train3['score'].value_counts().plot('bar')"
   ]
  },
  {
   "cell_type": "markdown",
   "metadata": {},
   "source": [
    "### Naive Bayes"
   ]
  },
  {
   "cell_type": "code",
   "execution_count": 64,
   "metadata": {},
   "outputs": [
    {
     "name": "stdout",
     "output_type": "stream",
     "text": [
      "[[179   5   0]\n",
      " [  0 181   3]\n",
      " [  2  12 170]]\n",
      "test_f2_score           0.722671\n",
      "train_accuracy          0.974655\n",
      "test_accuracy           0.669898\n",
      "test_f1_macro           0.671457\n",
      "test_precision_macro    0.692475\n",
      "test_recall_macro       0.669898\n",
      "dtype: float64\n"
     ]
    },
    {
     "data": {
      "text/html": [
       "<div>\n",
       "<style scoped>\n",
       "    .dataframe tbody tr th:only-of-type {\n",
       "        vertical-align: middle;\n",
       "    }\n",
       "\n",
       "    .dataframe tbody tr th {\n",
       "        vertical-align: top;\n",
       "    }\n",
       "\n",
       "    .dataframe thead th {\n",
       "        text-align: right;\n",
       "    }\n",
       "</style>\n",
       "<table border=\"1\" class=\"dataframe\">\n",
       "  <thead>\n",
       "    <tr style=\"text-align: right;\">\n",
       "      <th></th>\n",
       "      <th>fit_time</th>\n",
       "      <th>score_time</th>\n",
       "      <th>test_accuracy</th>\n",
       "      <th>test_f1_macro</th>\n",
       "      <th>test_f2_score</th>\n",
       "      <th>test_precision_macro</th>\n",
       "      <th>test_recall_macro</th>\n",
       "      <th>train_accuracy</th>\n",
       "      <th>train_f1_macro</th>\n",
       "      <th>train_f2_score</th>\n",
       "      <th>train_precision_macro</th>\n",
       "      <th>train_recall_macro</th>\n",
       "    </tr>\n",
       "  </thead>\n",
       "  <tbody>\n",
       "    <tr>\n",
       "      <th>0</th>\n",
       "      <td>0.024284</td>\n",
       "      <td>0.042361</td>\n",
       "      <td>0.741935</td>\n",
       "      <td>0.742494</td>\n",
       "      <td>0.803859</td>\n",
       "      <td>0.784261</td>\n",
       "      <td>0.741935</td>\n",
       "      <td>0.980874</td>\n",
       "      <td>0.980871</td>\n",
       "      <td>1.000000</td>\n",
       "      <td>0.981064</td>\n",
       "      <td>0.980874</td>\n",
       "    </tr>\n",
       "    <tr>\n",
       "      <th>1</th>\n",
       "      <td>0.020732</td>\n",
       "      <td>0.043866</td>\n",
       "      <td>0.677596</td>\n",
       "      <td>0.680046</td>\n",
       "      <td>0.695364</td>\n",
       "      <td>0.686954</td>\n",
       "      <td>0.677596</td>\n",
       "      <td>0.978320</td>\n",
       "      <td>0.978393</td>\n",
       "      <td>0.985342</td>\n",
       "      <td>0.978742</td>\n",
       "      <td>0.978320</td>\n",
       "    </tr>\n",
       "    <tr>\n",
       "      <th>2</th>\n",
       "      <td>0.019290</td>\n",
       "      <td>0.047403</td>\n",
       "      <td>0.590164</td>\n",
       "      <td>0.591830</td>\n",
       "      <td>0.668790</td>\n",
       "      <td>0.606209</td>\n",
       "      <td>0.590164</td>\n",
       "      <td>0.964770</td>\n",
       "      <td>0.964621</td>\n",
       "      <td>0.991935</td>\n",
       "      <td>0.964872</td>\n",
       "      <td>0.964770</td>\n",
       "    </tr>\n",
       "  </tbody>\n",
       "</table>\n",
       "</div>"
      ],
      "text/plain": [
       "   fit_time  score_time  test_accuracy  test_f1_macro  test_f2_score  \\\n",
       "0  0.024284    0.042361       0.741935       0.742494       0.803859   \n",
       "1  0.020732    0.043866       0.677596       0.680046       0.695364   \n",
       "2  0.019290    0.047403       0.590164       0.591830       0.668790   \n",
       "\n",
       "   test_precision_macro  test_recall_macro  train_accuracy  train_f1_macro  \\\n",
       "0              0.784261           0.741935        0.980874        0.980871   \n",
       "1              0.686954           0.677596        0.978320        0.978393   \n",
       "2              0.606209           0.590164        0.964770        0.964621   \n",
       "\n",
       "   train_f2_score  train_precision_macro  train_recall_macro  \n",
       "0        1.000000               0.981064            0.980874  \n",
       "1        0.985342               0.978742            0.978320  \n",
       "2        0.991935               0.964872            0.964770  "
      ]
     },
     "execution_count": 64,
     "metadata": {},
     "output_type": "execute_result"
    }
   ],
   "source": [
    "nb_p = Pipeline([('vectorizer', TfidfVectorizer(lowercase=False, tokenizer=lambda x: x, vocabulary=vocab)),\n",
    "                 ('classifier', MultinomialNB())])\n",
    "nb_p.fit(train3['review_doc'], train3['score'])\n",
    "print_metrics(nb_p, train3)"
   ]
  },
  {
   "cell_type": "markdown",
   "metadata": {},
   "source": [
    "### Logistic Regression"
   ]
  },
  {
   "cell_type": "code",
   "execution_count": 65,
   "metadata": {
    "scrolled": true
   },
   "outputs": [
    {
     "name": "stdout",
     "output_type": "stream",
     "text": [
      "[[183   0   1]\n",
      " [  0 182   2]\n",
      " [  0   0 184]]\n",
      "test_f2_score           0.710669\n",
      "train_accuracy          0.992751\n",
      "test_accuracy           0.704507\n",
      "test_f1_macro           0.700739\n",
      "test_precision_macro    0.706169\n",
      "test_recall_macro       0.704507\n",
      "dtype: float64\n"
     ]
    },
    {
     "data": {
      "text/html": [
       "<div>\n",
       "<style scoped>\n",
       "    .dataframe tbody tr th:only-of-type {\n",
       "        vertical-align: middle;\n",
       "    }\n",
       "\n",
       "    .dataframe tbody tr th {\n",
       "        vertical-align: top;\n",
       "    }\n",
       "\n",
       "    .dataframe thead th {\n",
       "        text-align: right;\n",
       "    }\n",
       "</style>\n",
       "<table border=\"1\" class=\"dataframe\">\n",
       "  <thead>\n",
       "    <tr style=\"text-align: right;\">\n",
       "      <th></th>\n",
       "      <th>fit_time</th>\n",
       "      <th>score_time</th>\n",
       "      <th>test_accuracy</th>\n",
       "      <th>test_f1_macro</th>\n",
       "      <th>test_f2_score</th>\n",
       "      <th>test_precision_macro</th>\n",
       "      <th>test_recall_macro</th>\n",
       "      <th>train_accuracy</th>\n",
       "      <th>train_f1_macro</th>\n",
       "      <th>train_f2_score</th>\n",
       "      <th>train_precision_macro</th>\n",
       "      <th>train_recall_macro</th>\n",
       "    </tr>\n",
       "  </thead>\n",
       "  <tbody>\n",
       "    <tr>\n",
       "      <th>0</th>\n",
       "      <td>0.035170</td>\n",
       "      <td>0.046904</td>\n",
       "      <td>0.741935</td>\n",
       "      <td>0.741005</td>\n",
       "      <td>0.801282</td>\n",
       "      <td>0.740841</td>\n",
       "      <td>0.741935</td>\n",
       "      <td>0.991803</td>\n",
       "      <td>0.991825</td>\n",
       "      <td>0.993432</td>\n",
       "      <td>0.992000</td>\n",
       "      <td>0.991803</td>\n",
       "    </tr>\n",
       "    <tr>\n",
       "      <th>1</th>\n",
       "      <td>0.033348</td>\n",
       "      <td>0.047169</td>\n",
       "      <td>0.683060</td>\n",
       "      <td>0.677943</td>\n",
       "      <td>0.616438</td>\n",
       "      <td>0.693621</td>\n",
       "      <td>0.683060</td>\n",
       "      <td>0.991870</td>\n",
       "      <td>0.991891</td>\n",
       "      <td>0.993485</td>\n",
       "      <td>0.992063</td>\n",
       "      <td>0.991870</td>\n",
       "    </tr>\n",
       "    <tr>\n",
       "      <th>2</th>\n",
       "      <td>0.032253</td>\n",
       "      <td>0.045992</td>\n",
       "      <td>0.688525</td>\n",
       "      <td>0.683269</td>\n",
       "      <td>0.714286</td>\n",
       "      <td>0.684046</td>\n",
       "      <td>0.688525</td>\n",
       "      <td>0.994580</td>\n",
       "      <td>0.994580</td>\n",
       "      <td>1.000000</td>\n",
       "      <td>0.994667</td>\n",
       "      <td>0.994580</td>\n",
       "    </tr>\n",
       "  </tbody>\n",
       "</table>\n",
       "</div>"
      ],
      "text/plain": [
       "   fit_time  score_time  test_accuracy  test_f1_macro  test_f2_score  \\\n",
       "0  0.035170    0.046904       0.741935       0.741005       0.801282   \n",
       "1  0.033348    0.047169       0.683060       0.677943       0.616438   \n",
       "2  0.032253    0.045992       0.688525       0.683269       0.714286   \n",
       "\n",
       "   test_precision_macro  test_recall_macro  train_accuracy  train_f1_macro  \\\n",
       "0              0.740841           0.741935        0.991803        0.991825   \n",
       "1              0.693621           0.683060        0.991870        0.991891   \n",
       "2              0.684046           0.688525        0.994580        0.994580   \n",
       "\n",
       "   train_f2_score  train_precision_macro  train_recall_macro  \n",
       "0        0.993432               0.992000            0.991803  \n",
       "1        0.993485               0.992063            0.991870  \n",
       "2        1.000000               0.994667            0.994580  "
      ]
     },
     "execution_count": 65,
     "metadata": {},
     "output_type": "execute_result"
    }
   ],
   "source": [
    "from sklearn.linear_model import LogisticRegression\n",
    "\n",
    "lr_p = Pipeline([('vectorizer', CountVectorizer(lowercase=False, tokenizer=lambda x: x, vocabulary=vocab)),\n",
    "                 ('classifier', LogisticRegression())])\n",
    "lr_p.fit(train3['review_doc'], train3['score'])\n",
    "print_metrics(lr_p, train3)"
   ]
  },
  {
   "cell_type": "markdown",
   "metadata": {},
   "source": [
    "### SVM"
   ]
  },
  {
   "cell_type": "code",
   "execution_count": 66,
   "metadata": {},
   "outputs": [
    {
     "name": "stdout",
     "output_type": "stream",
     "text": [
      "[[179   5   0]\n",
      " [ 14 166   4]\n",
      " [ 23  45 116]]\n",
      "test_f2_score           0.701843\n",
      "train_accuracy          0.876664\n",
      "test_accuracy           0.617692\n",
      "test_f1_macro           0.610187\n",
      "test_precision_macro    0.668332\n",
      "test_recall_macro       0.617692\n",
      "dtype: float64\n"
     ]
    },
    {
     "data": {
      "text/html": [
       "<div>\n",
       "<style scoped>\n",
       "    .dataframe tbody tr th:only-of-type {\n",
       "        vertical-align: middle;\n",
       "    }\n",
       "\n",
       "    .dataframe tbody tr th {\n",
       "        vertical-align: top;\n",
       "    }\n",
       "\n",
       "    .dataframe thead th {\n",
       "        text-align: right;\n",
       "    }\n",
       "</style>\n",
       "<table border=\"1\" class=\"dataframe\">\n",
       "  <thead>\n",
       "    <tr style=\"text-align: right;\">\n",
       "      <th></th>\n",
       "      <th>fit_time</th>\n",
       "      <th>score_time</th>\n",
       "      <th>test_accuracy</th>\n",
       "      <th>test_f1_macro</th>\n",
       "      <th>test_f2_score</th>\n",
       "      <th>test_precision_macro</th>\n",
       "      <th>test_recall_macro</th>\n",
       "      <th>train_accuracy</th>\n",
       "      <th>train_f1_macro</th>\n",
       "      <th>train_f2_score</th>\n",
       "      <th>train_precision_macro</th>\n",
       "      <th>train_recall_macro</th>\n",
       "    </tr>\n",
       "  </thead>\n",
       "  <tbody>\n",
       "    <tr>\n",
       "      <th>0</th>\n",
       "      <td>0.079648</td>\n",
       "      <td>0.143731</td>\n",
       "      <td>0.629032</td>\n",
       "      <td>0.613438</td>\n",
       "      <td>0.659164</td>\n",
       "      <td>0.715772</td>\n",
       "      <td>0.629032</td>\n",
       "      <td>0.822404</td>\n",
       "      <td>0.817058</td>\n",
       "      <td>0.849359</td>\n",
       "      <td>0.840658</td>\n",
       "      <td>0.822404</td>\n",
       "    </tr>\n",
       "    <tr>\n",
       "      <th>1</th>\n",
       "      <td>0.072477</td>\n",
       "      <td>0.135470</td>\n",
       "      <td>0.622951</td>\n",
       "      <td>0.627939</td>\n",
       "      <td>0.665584</td>\n",
       "      <td>0.656631</td>\n",
       "      <td>0.622951</td>\n",
       "      <td>0.918699</td>\n",
       "      <td>0.918595</td>\n",
       "      <td>0.969305</td>\n",
       "      <td>0.925633</td>\n",
       "      <td>0.918699</td>\n",
       "    </tr>\n",
       "    <tr>\n",
       "      <th>2</th>\n",
       "      <td>0.065047</td>\n",
       "      <td>0.141134</td>\n",
       "      <td>0.601093</td>\n",
       "      <td>0.589184</td>\n",
       "      <td>0.780781</td>\n",
       "      <td>0.632593</td>\n",
       "      <td>0.601093</td>\n",
       "      <td>0.888889</td>\n",
       "      <td>0.886495</td>\n",
       "      <td>0.965190</td>\n",
       "      <td>0.895417</td>\n",
       "      <td>0.888889</td>\n",
       "    </tr>\n",
       "  </tbody>\n",
       "</table>\n",
       "</div>"
      ],
      "text/plain": [
       "   fit_time  score_time  test_accuracy  test_f1_macro  test_f2_score  \\\n",
       "0  0.079648    0.143731       0.629032       0.613438       0.659164   \n",
       "1  0.072477    0.135470       0.622951       0.627939       0.665584   \n",
       "2  0.065047    0.141134       0.601093       0.589184       0.780781   \n",
       "\n",
       "   test_precision_macro  test_recall_macro  train_accuracy  train_f1_macro  \\\n",
       "0              0.715772           0.629032        0.822404        0.817058   \n",
       "1              0.656631           0.622951        0.918699        0.918595   \n",
       "2              0.632593           0.601093        0.888889        0.886495   \n",
       "\n",
       "   train_f2_score  train_precision_macro  train_recall_macro  \n",
       "0        0.849359               0.840658            0.822404  \n",
       "1        0.969305               0.925633            0.918699  \n",
       "2        0.965190               0.895417            0.888889  "
      ]
     },
     "execution_count": 66,
     "metadata": {},
     "output_type": "execute_result"
    }
   ],
   "source": [
    "from sklearn.svm import SVC\n",
    "\n",
    "svm_p = Pipeline([('vectorizer', TfidfVectorizer(lowercase=False, tokenizer=lambda x: x, vocabulary=vocab)),\n",
    "                 ('classifier', SVC(C=0.8))])\n",
    "svm_p.fit(train3['review_doc'], train3['score'])\n",
    "print_metrics(svm_p, train3)\n"
   ]
  },
  {
   "cell_type": "markdown",
   "metadata": {},
   "source": [
    "Let's stick with linear regression and use more features with upsamped dataset"
   ]
  },
  {
   "cell_type": "markdown",
   "metadata": {},
   "source": [
    "### Linear Regression"
   ]
  },
  {
   "cell_type": "markdown",
   "metadata": {},
   "source": [
    "#### tf-idf"
   ]
  },
  {
   "cell_type": "markdown",
   "metadata": {},
   "source": [
    "#### Regularization"
   ]
  },
  {
   "cell_type": "code",
   "execution_count": 29,
   "metadata": {},
   "outputs": [
    {
     "data": {
      "text/html": [
       "<div>\n",
       "<style scoped>\n",
       "    .dataframe tbody tr th:only-of-type {\n",
       "        vertical-align: middle;\n",
       "    }\n",
       "\n",
       "    .dataframe tbody tr th {\n",
       "        vertical-align: top;\n",
       "    }\n",
       "\n",
       "    .dataframe thead th {\n",
       "        text-align: right;\n",
       "    }\n",
       "</style>\n",
       "<table border=\"1\" class=\"dataframe\">\n",
       "  <thead>\n",
       "    <tr style=\"text-align: right;\">\n",
       "      <th></th>\n",
       "      <th>mean_fit_time</th>\n",
       "      <th>mean_score_time</th>\n",
       "      <th>mean_test_score</th>\n",
       "      <th>mean_train_score</th>\n",
       "      <th>param_classifier__C</th>\n",
       "      <th>params</th>\n",
       "      <th>rank_test_score</th>\n",
       "      <th>split0_test_score</th>\n",
       "      <th>split0_train_score</th>\n",
       "      <th>split10_test_score</th>\n",
       "      <th>...</th>\n",
       "      <th>split7_test_score</th>\n",
       "      <th>split7_train_score</th>\n",
       "      <th>split8_test_score</th>\n",
       "      <th>split8_train_score</th>\n",
       "      <th>split9_test_score</th>\n",
       "      <th>split9_train_score</th>\n",
       "      <th>std_fit_time</th>\n",
       "      <th>std_score_time</th>\n",
       "      <th>std_test_score</th>\n",
       "      <th>std_train_score</th>\n",
       "    </tr>\n",
       "  </thead>\n",
       "  <tbody>\n",
       "    <tr>\n",
       "      <th>7</th>\n",
       "      <td>0.488409</td>\n",
       "      <td>0.036420</td>\n",
       "      <td>0.982880</td>\n",
       "      <td>0.997490</td>\n",
       "      <td>30</td>\n",
       "      <td>{'classifier__C': 30}</td>\n",
       "      <td>1</td>\n",
       "      <td>0.976364</td>\n",
       "      <td>0.997641</td>\n",
       "      <td>0.986038</td>\n",
       "      <td>...</td>\n",
       "      <td>0.986046</td>\n",
       "      <td>0.997364</td>\n",
       "      <td>0.984679</td>\n",
       "      <td>0.997503</td>\n",
       "      <td>0.984649</td>\n",
       "      <td>0.997503</td>\n",
       "      <td>0.039212</td>\n",
       "      <td>0.007770</td>\n",
       "      <td>0.004645</td>\n",
       "      <td>0.000172</td>\n",
       "    </tr>\n",
       "    <tr>\n",
       "      <th>6</th>\n",
       "      <td>0.448051</td>\n",
       "      <td>0.032365</td>\n",
       "      <td>0.980336</td>\n",
       "      <td>0.996670</td>\n",
       "      <td>10</td>\n",
       "      <td>{'classifier__C': 10}</td>\n",
       "      <td>2</td>\n",
       "      <td>0.974967</td>\n",
       "      <td>0.997363</td>\n",
       "      <td>0.984630</td>\n",
       "      <td>...</td>\n",
       "      <td>0.977707</td>\n",
       "      <td>0.995977</td>\n",
       "      <td>0.981859</td>\n",
       "      <td>0.996809</td>\n",
       "      <td>0.983248</td>\n",
       "      <td>0.996531</td>\n",
       "      <td>0.007190</td>\n",
       "      <td>0.001251</td>\n",
       "      <td>0.004549</td>\n",
       "      <td>0.000374</td>\n",
       "    </tr>\n",
       "    <tr>\n",
       "      <th>5</th>\n",
       "      <td>0.415743</td>\n",
       "      <td>0.032976</td>\n",
       "      <td>0.974073</td>\n",
       "      <td>0.990930</td>\n",
       "      <td>3</td>\n",
       "      <td>{'classifier__C': 3}</td>\n",
       "      <td>3</td>\n",
       "      <td>0.969392</td>\n",
       "      <td>0.991383</td>\n",
       "      <td>0.979018</td>\n",
       "      <td>...</td>\n",
       "      <td>0.976300</td>\n",
       "      <td>0.991386</td>\n",
       "      <td>0.979038</td>\n",
       "      <td>0.990831</td>\n",
       "      <td>0.974804</td>\n",
       "      <td>0.990274</td>\n",
       "      <td>0.007277</td>\n",
       "      <td>0.002048</td>\n",
       "      <td>0.004583</td>\n",
       "      <td>0.000750</td>\n",
       "    </tr>\n",
       "    <tr>\n",
       "      <th>4</th>\n",
       "      <td>0.400973</td>\n",
       "      <td>0.033115</td>\n",
       "      <td>0.964587</td>\n",
       "      <td>0.979992</td>\n",
       "      <td>1</td>\n",
       "      <td>{'classifier__C': 1}</td>\n",
       "      <td>4</td>\n",
       "      <td>0.948274</td>\n",
       "      <td>0.979236</td>\n",
       "      <td>0.970620</td>\n",
       "      <td>...</td>\n",
       "      <td>0.970671</td>\n",
       "      <td>0.981592</td>\n",
       "      <td>0.972055</td>\n",
       "      <td>0.979233</td>\n",
       "      <td>0.964931</td>\n",
       "      <td>0.979648</td>\n",
       "      <td>0.009194</td>\n",
       "      <td>0.002035</td>\n",
       "      <td>0.007259</td>\n",
       "      <td>0.000800</td>\n",
       "    </tr>\n",
       "    <tr>\n",
       "      <th>3</th>\n",
       "      <td>0.388820</td>\n",
       "      <td>0.032674</td>\n",
       "      <td>0.943141</td>\n",
       "      <td>0.958087</td>\n",
       "      <td>0.3</td>\n",
       "      <td>{'classifier__C': 0.3}</td>\n",
       "      <td>5</td>\n",
       "      <td>0.938657</td>\n",
       "      <td>0.957804</td>\n",
       "      <td>0.942509</td>\n",
       "      <td>...</td>\n",
       "      <td>0.943827</td>\n",
       "      <td>0.958050</td>\n",
       "      <td>0.941280</td>\n",
       "      <td>0.956257</td>\n",
       "      <td>0.949540</td>\n",
       "      <td>0.959035</td>\n",
       "      <td>0.007003</td>\n",
       "      <td>0.001420</td>\n",
       "      <td>0.003293</td>\n",
       "      <td>0.000889</td>\n",
       "    </tr>\n",
       "  </tbody>\n",
       "</table>\n",
       "<p>5 rows × 33 columns</p>\n",
       "</div>"
      ],
      "text/plain": [
       "   mean_fit_time  mean_score_time  mean_test_score  mean_train_score  \\\n",
       "7       0.488409         0.036420         0.982880          0.997490   \n",
       "6       0.448051         0.032365         0.980336          0.996670   \n",
       "5       0.415743         0.032976         0.974073          0.990930   \n",
       "4       0.400973         0.033115         0.964587          0.979992   \n",
       "3       0.388820         0.032674         0.943141          0.958087   \n",
       "\n",
       "  param_classifier__C                  params  rank_test_score  \\\n",
       "7                  30   {'classifier__C': 30}                1   \n",
       "6                  10   {'classifier__C': 10}                2   \n",
       "5                   3    {'classifier__C': 3}                3   \n",
       "4                   1    {'classifier__C': 1}                4   \n",
       "3                 0.3  {'classifier__C': 0.3}                5   \n",
       "\n",
       "   split0_test_score  split0_train_score  split10_test_score       ...         \\\n",
       "7           0.976364            0.997641            0.986038       ...          \n",
       "6           0.974967            0.997363            0.984630       ...          \n",
       "5           0.969392            0.991383            0.979018       ...          \n",
       "4           0.948274            0.979236            0.970620       ...          \n",
       "3           0.938657            0.957804            0.942509       ...          \n",
       "\n",
       "   split7_test_score  split7_train_score  split8_test_score  \\\n",
       "7           0.986046            0.997364           0.984679   \n",
       "6           0.977707            0.995977           0.981859   \n",
       "5           0.976300            0.991386           0.979038   \n",
       "4           0.970671            0.981592           0.972055   \n",
       "3           0.943827            0.958050           0.941280   \n",
       "\n",
       "   split8_train_score  split9_test_score  split9_train_score  std_fit_time  \\\n",
       "7            0.997503           0.984649            0.997503      0.039212   \n",
       "6            0.996809           0.983248            0.996531      0.007190   \n",
       "5            0.990831           0.974804            0.990274      0.007277   \n",
       "4            0.979233           0.964931            0.979648      0.009194   \n",
       "3            0.956257           0.949540            0.959035      0.007003   \n",
       "\n",
       "   std_score_time  std_test_score  std_train_score  \n",
       "7        0.007770        0.004645         0.000172  \n",
       "6        0.001251        0.004549         0.000374  \n",
       "5        0.002048        0.004583         0.000750  \n",
       "4        0.002035        0.007259         0.000800  \n",
       "3        0.001420        0.003293         0.000889  \n",
       "\n",
       "[5 rows x 33 columns]"
      ]
     },
     "execution_count": 29,
     "metadata": {},
     "output_type": "execute_result"
    }
   ],
   "source": [
    "gs = GridSearchCV(lr_p, {'classifier__C': [0.01,0.03,0.1,0.3,1,3,10,30]}, scoring='f1_macro', cv=11)\n",
    "gs.fit(train2['review_doc'],train2['score'])\n",
    "pd.DataFrame(gs.cv_results_).sort_values('mean_test_score', ascending=False).head()"
   ]
  },
  {
   "cell_type": "code",
   "execution_count": 799,
   "metadata": {},
   "outputs": [
    {
     "data": {
      "text/plain": [
       "array([0. , 0.1, 0.2, 0.3, 0.4, 0.5, 0.6, 0.7, 0.8, 0.9])"
      ]
     },
     "execution_count": 799,
     "metadata": {},
     "output_type": "execute_result"
    }
   ],
   "source": [
    "np.arange(0,1.0,0.1)"
   ]
  },
  {
   "cell_type": "code",
   "execution_count": null,
   "metadata": {},
   "outputs": [],
   "source": []
  }
 ],
 "metadata": {
  "kernelspec": {
   "display_name": "Python 3",
   "language": "python",
   "name": "python3"
  },
  "language_info": {
   "codemirror_mode": {
    "name": "ipython",
    "version": 3
   },
   "file_extension": ".py",
   "mimetype": "text/x-python",
   "name": "python",
   "nbconvert_exporter": "python",
   "pygments_lexer": "ipython3",
   "version": "3.6.1"
  }
 },
 "nbformat": 4,
 "nbformat_minor": 2
}
