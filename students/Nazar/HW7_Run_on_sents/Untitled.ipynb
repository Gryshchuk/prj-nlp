{
 "cells": [
  {
   "cell_type": "code",
   "execution_count": 158,
   "metadata": {},
   "outputs": [],
   "source": [
    "import json\n",
    "import pandas as pd\n",
    "\n",
    "def transform_test_set(path_to_json='test.json'):\n",
    "    data = json.load(open(path_to_json))\n",
    "    values = []\n",
    "    for i in range(len(data)):\n",
    "        for w in data[i]:\n",
    "            values.append({'sentense_id':i, \"word\": w[0], 'value': w[1]})            \n",
    "    \n",
    "    df = pd.DataFrame(values)\n",
    "    df['id']=df.index.values\n",
    "    df['value']=True #predict all words as the end of the sentense\n",
    "    df[['id','value']].to_csv('sample.csv', index=False, encoding='utf8')\n",
    "    \n",
    "transform_test_set()"
   ]
  },
  {
   "cell_type": "code",
   "execution_count": 159,
   "metadata": {},
   "outputs": [],
   "source": [
    "data = json.load(open('test.json'))"
   ]
  },
  {
   "cell_type": "code",
   "execution_count": 161,
   "metadata": {},
   "outputs": [],
   "source": [
    "rows=[]\n",
    "for row in data:\n",
    "    sents = []\n",
    "    sent =[]\n",
    "    for word in row:\n",
    "        sent.append(word[0])\n",
    "        if word[1]==True:\n",
    "            sents.append(' '.join(sent))\n",
    "            sent=[]\n",
    "    sents.append(' '.join(sent))\n",
    "    rows.append(sents)"
   ]
  },
  {
   "cell_type": "markdown",
   "metadata": {},
   "source": [
    "# How the run on test data looks like:"
   ]
  },
  {
   "cell_type": "code",
   "execution_count": 164,
   "metadata": {},
   "outputs": [
    {
     "name": "stdout",
     "output_type": "stream",
     "text": [
      "['I think the magnitude of a benefit and error rates that were chosen were reasonable', 'They were standard from our learning .']\n",
      "----------------------------------\n",
      "['Economists on both the left and right broadly agree that the need for stimulative government spending is necessary to prevent a further collapse of the global economic system - just as the New Deal and the deficit spending of World War II restored the health of the global economy in the last century .']\n",
      "----------------------------------\n",
      "['I may be there some time', 'it looks like a nice place to chill out and walk around for a few hours .']\n",
      "----------------------------------\n",
      "['Due to this , the new art was based on real events occurring in Europe and represented in decadent culture with a moral character', 'The art incorporated both political and social roles as the movement evolved .']\n",
      "----------------------------------\n",
      "['It is not necessary to make the conflict because of various teaching styles', 'Teachers could seek common points while reserving difference and also it is a good way to avoid conflict .']\n",
      "----------------------------------\n",
      "['Many people suffer from anxiety and mental stress', 'yoga is here to save the day !']\n",
      "----------------------------------\n",
      "['It was a sunny day', 'there was not a cloud in the sky .']\n",
      "----------------------------------\n",
      "[\"I 'm very excited work with you\", 'Jason has always said such great things about you .']\n",
      "----------------------------------\n",
      "['I made a lot of mistakes', 'I wished I could sink into the floor', 'It was very hard and I was very tired .']\n",
      "----------------------------------\n",
      "['The Montagues and the Capulets play an enormous role in what happens , but it is Friar Lawrence that came up with the plan to let them be together', 'That is why I chose him as the character with the most influence .']\n",
      "----------------------------------\n",
      "['Now , they say they believe that will likely happen during the current April-to-June period .']\n",
      "----------------------------------\n",
      "['Thank you for your interest in our services', 'it means the world to us .']\n",
      "----------------------------------\n",
      "['I found the developmental stages that you had in your powerpoint to be interesting and thought-provoking', 'The magical thinking that occurs in the younger ages is something that I would like to learn more about .']\n",
      "----------------------------------\n",
      "['My favorite karaoke songs are by Seiko Matsuda', 'Her songs have good rhythms , are easy to sing , and popular .']\n",
      "----------------------------------\n",
      "['By contrast , John McCain and his wife kneel and gently , somberly , place their roses down at the foot of the 9/11 tribute', 'tons of you e-mailed me about this .']\n",
      "----------------------------------\n",
      "['Ground truth is quite expensive', 'Meanwhile , I am deeply impressed by many great works that you have done in the past few years .']\n",
      "----------------------------------\n",
      "['We all in America will benefit from competition', \"there 's no reason for Big 3 not to be competitive .\"]\n",
      "----------------------------------\n",
      "['Read a new article online', 'it is about weight loss .']\n",
      "----------------------------------\n",
      "[\"The problem persists and we do n't know how to solve it\", 'The option of installing these fixings on-site is out of the question .']\n",
      "----------------------------------\n",
      "[\"That slot is n't available I 'm afraid as we already have an advertiser on there .\"]\n",
      "----------------------------------\n",
      "['God has given us the spirit of love and forgiveness', 'this is our key to total praise do to him along with prayer .']\n",
      "----------------------------------\n",
      "['Hopper when asked usually replied there was no story ; the painting just was what it was .']\n",
      "----------------------------------\n",
      "['But the plan succeeded in 1992 -- as Bill Clinton lost seven of the first nine contests , but still won the nomination', 'this points out a critical difference between Bill and Hillary .']\n",
      "----------------------------------\n",
      "[\"The drop in opium production may bring a new wave of atrocities in Afghanistan 's agricultural areas\", 'hopefully , NATO has prepared themselves to deal with that situation .']\n",
      "----------------------------------\n",
      "['Officers said over the last 28 days there were over 60 emergency calls placed to their dispatch .']\n",
      "----------------------------------\n",
      "['McCain reasoned that banning the interrogation techniques by the military is different than telling our intelligence agencies how to do their job .']\n",
      "----------------------------------\n",
      "['\"Hold your horses', 'I \\'m almost ready , \" I said .']\n",
      "----------------------------------\n",
      "['Spending tokens directly at the shops can get you out of paying capital income tax also , so you can stay in crypto instead of having to convert to paper money printed by a central government .']\n",
      "----------------------------------\n",
      "['I wanted to share our latest blog post', 'it is about the 50th anniversary of our city .']\n",
      "----------------------------------\n",
      "['I hope you get hired', \"It 's a great opportunity .\"]\n",
      "----------------------------------\n",
      "['Our unions are being busted', 'Our water , soil , and the very air we breathe are being poisoned .']\n",
      "----------------------------------\n",
      "[\"For background , Prairie View A&M is one of Texas ' historically Black universities\", 'it has a very different demographic feel than the rest of the county .']\n",
      "----------------------------------\n",
      "[\"We ca n't have a cat in the current apartment but my wife had one when she was in Kyushu\", \"the cat 's name is Rin and now she lives at my wife 's parents ' house\", \"she is afraid of everybody except my wife 's parents .\"]\n",
      "----------------------------------\n",
      "['I think I need to be more patient and tolerant towards everything I will be facing in the future', 'the only person who can change yourself is you .']\n",
      "----------------------------------\n",
      "['I used to R at the beginning of my master about Data Science , because before to start it I studied a course about statisticians for data science and R is a perfect tool for this .']\n",
      "----------------------------------\n",
      "[\"It 's difficult to find as although it 's marked correctly on Google Maps , it 's unclear how to get there .\"]\n",
      "----------------------------------\n",
      "['In essence , there are three different types of metaphors', 'They are structural , orientational / oriental and ontological .']\n",
      "----------------------------------\n",
      "['And in an environment that is still generally hostile , averse , and inhospitable to homosexuality this process of self-discovery is overwhelmingly daunting , to say the least .']\n",
      "----------------------------------\n",
      "['I love it', 'my writing has improved and the summaries sent to tell me where I make the most mistakes is excellent .']\n",
      "----------------------------------\n",
      "['She tasted salty tears on her lips', 'Liz wanted her to have a good cry .']\n",
      "----------------------------------\n",
      "[\"Jake either did n't say what he said , or he did n't mean what he said\", 'life is so simple sometimes ...']\n",
      "----------------------------------\n",
      "['I agree with you', 'The health outcomes from aid are in dire need due to insufficient numbers of healthcare workers to provide care .']\n",
      "----------------------------------\n",
      "['One of the best ways to play soccer is on very flat field', 'you need at least three players .']\n",
      "----------------------------------\n",
      "['I agree with you', 'the presentation was very interesting .']\n",
      "----------------------------------\n",
      "['After looking in the side mirror , turning down Maple Street carefully , he was unprepared for the patrol car to stop him', 'the light had turned red when he was not looking .']\n",
      "----------------------------------\n",
      "['I have seen floods on the news', 'it sounds scary .']\n",
      "----------------------------------\n",
      "['Northerners and atheists who vilify Southern evangelicals are throwing out nurturers of useful virtue with the bathwater of obnoxious political opinions .']\n",
      "----------------------------------\n",
      "['With gender numbers like that , her support among Hispanics and even senior citizens becomes irrelevant .']\n",
      "----------------------------------\n",
      "['The El Ray was the main bordello when I was growing up in Searchlight .']\n",
      "----------------------------------\n",
      "[\"It adds such a fun personal touch to decor , and if nothing else it 's a great way to spend an evening with the bestie .\"]\n",
      "----------------------------------\n",
      "['Mary enjoyed the bouquet of tulips John gave her on prom night', 'however , she prefers roses .']\n",
      "----------------------------------\n",
      "[\"I 'm a single woman and live by myself\", 'My parents , brother , and sister live in Tokyo .']\n",
      "----------------------------------\n",
      "['Thank you so much for your incredibly quick response', 'We will take a look at this and make the changes with your suggestions .']\n",
      "----------------------------------\n",
      "['John is a sweet boy', 'he loves animals .']\n",
      "----------------------------------\n",
      "['Chris stroked her hand in circles with his thumb', 'the gesture reassured her .']\n",
      "----------------------------------\n",
      "['Tears began to stream down his pale yet tan face', 'Why is it always me ?']\n",
      "----------------------------------\n",
      "['I urged them to move at least 3 people to uncommitted , which would at least make it mathematically possible for us to reach the 22 we needed for viability .']\n",
      "----------------------------------\n",
      "[\"I think with youtube and fast pace entertainment being at its peak , it 's exciting to sit in the theatre and watch the audience reactions and people of all ages really enjoy meeting beauty through the film .\"]\n",
      "----------------------------------\n",
      "[\"I do n't know what will become of all this\", \"all the candidates say they will close Guantanamo so I guess that 's something .\"]\n",
      "----------------------------------\n",
      "['Yesterday was very cold', 'today is less cold than yesterday .']\n",
      "----------------------------------\n",
      "['My name is Adam Milton', 'I am a salesman here at Family Fund Company .']\n",
      "----------------------------------\n",
      "['In order to apply for oil rig jobs , you must be at least 18 years old', \"otherwise , oil rig company would n't consider your application for Entry level oil rig jobs .\"]\n",
      "----------------------------------\n",
      "['Due to listening to the same songs over 100 times repeatedly , I memorized them perfectly', \"Now , I do n't need the sheet music any more .\"]\n",
      "----------------------------------\n",
      "['Some skills I would gain from my education would be community relation which is to maintain a trust with the community', 'this allows the community to work together with officials .']\n",
      "----------------------------------\n",
      "['I view life as an adventure full of exciting possibilities and opportunities', 'I consider myself very thoughtful , considerate and finely attuned to the needs of others .']\n",
      "----------------------------------\n",
      "['I can not believe there are so many spiteful people in this world .']\n",
      "----------------------------------\n",
      "['I saw a news on Yahoo yesterday', 'it reported that Chien - Ming Wang cut his hair and had a new hair style .']\n",
      "----------------------------------\n",
      "['I love to write papers', 'I would write one everyday if I had the time .']\n",
      "----------------------------------\n",
      "[\"With the world focused on Tibetan independence , the IOC could n't have predicted the massive protests that its Olympic torch procession would encourage ?\"]\n",
      "----------------------------------\n",
      "['I am interested in the position you have open', 'I have 15 years of Higher Ed experience as reflected in my resume', 'I look forward to meeting with you to discuss my experience .']\n",
      "----------------------------------\n",
      "['My favorite Mediterranean spread is hummus', 'it is very garlicky .']\n",
      "----------------------------------\n",
      "['He also compared himself to the Duke lacrosse players who were falsely accused of rape , lamenting that people were rushing to \" unfounded conclusions . \"']\n",
      "----------------------------------\n",
      "['Probably not', 'there are lots of good reasons why that would be problematic .']\n",
      "----------------------------------\n",
      "['How are you', 'I appreciate all that you do for helping me with my English language', \"you 're the best !\"]\n",
      "----------------------------------\n",
      "['I do not believe that it is impossible to beat it back , but we have to be clear eyed about the forces that are being gathered to defeat this .']\n",
      "----------------------------------\n",
      "['They had a beautiful red hair woman working there', 'She was so awesome .']\n",
      "----------------------------------\n",
      "['The eyes of the world are on you', 'you have to find a way to get this done .']\n",
      "----------------------------------\n",
      "['I remember to always look at people in the way God sees them', 'It drew me closer to God and I learned how He wants us to be kind and loving to one another .']\n",
      "----------------------------------\n",
      "['I did not hear about these changes', 'As such , I have not been billing according to the new standard for today or last Friday .']\n",
      "----------------------------------\n",
      "['This is evidenced by results of a public polling exercise', 'Most of the cities are not willing to risk the lives of its residents in order to save the climate .']\n",
      "----------------------------------\n",
      "['The field of composition studies has not yet examined the relationship between gender and dispositions , and based on my research I am able to reject the null hypothesis and state that there is a relationship between the two .']\n",
      "----------------------------------\n",
      "['She lives with her family', 'I know her because she went to Bangkok to study .']\n",
      "----------------------------------\n",
      "['As he moved , the T-shirt clung to his board chest and flat stomach', 'she could just make out an outline of his six-pack abs as the shirt tucked into his jeans .']\n",
      "----------------------------------\n",
      "['Hearing footsteps , she looked down the hallway', 'barreling towards her was a tall , muscular man with shoulder length light blonde hair .']\n",
      "----------------------------------\n",
      "['But it did not', 'If you travel five thousand miles due west from the ghost forest , you reach the northeast coast of Japan .']\n",
      "----------------------------------\n",
      "['Do you ever lie in bed and wonder about your life', 'What am I meant to do in this world ?']\n",
      "----------------------------------\n",
      "[\"This Sunday , I plan to go to my closest friend 's birthday party\", 'she invited me to visit her , and I think I will be happy to go .']\n",
      "----------------------------------\n",
      "['I found my book', 'I gave it to Mark last week .']\n",
      "----------------------------------\n",
      "[\"Then there 's the victory , and there 's a famous shot of Bush and McCain shaking hands in the Oval Office .\"]\n",
      "----------------------------------\n",
      "['I watch the premier league with my son', 'he is a big fan of Liverpool .']\n",
      "----------------------------------\n",
      "[\"It 's hard\", \"I 'm so proud of how we 've managed to balance and sacrifice .\"]\n",
      "----------------------------------\n",
      "['We made contact with a lot of farmers whom we guided from the planting phase right through to the end product', 'This was to ensure that they met the high quality requirements and European regulations .']\n",
      "----------------------------------\n",
      "['I did not understand this', 'Why are you marking that my issue has been resolved ?']\n",
      "----------------------------------\n",
      "['Sample images were analyzed with a microscope imaging program that maps the quantity and density of voids found in the image', 'The quantitative analysis of the samples consisted of the identification and measurement of the area of voids and their density .']\n",
      "----------------------------------\n",
      "['The first step is to gather information and do some planning', 'the second step is to gain an understanding of the existing internal control structure .']\n",
      "----------------------------------\n",
      "[\"Ms. Smith 's employer installed a telephone in her car so he could always reach her\", 'however she rarely answers the ring .']\n",
      "----------------------------------\n",
      "[\"But , if this sounds like something you 'd be open to exploring with us further , I 'd really like to have a call this week to discuss .\"]\n",
      "----------------------------------\n",
      "[\"Yes , let 's do it\", 'I have sent you the invite .']\n",
      "----------------------------------\n",
      "[\"He did n't do a very jood job\", 'His last semester was a total disaster .']\n",
      "----------------------------------\n",
      "['So how to solve the problem of excessive spending when the political process will not yield any cuts of a magnitude capable of making a difference ?']\n",
      "----------------------------------\n",
      "['The fact that they are doing all those strategic reviews reveals we are suffering the symptom of the same [ foreign policy ] problems [ of the past ] : no one is sure what our objectives are and what we should do now . \"']\n",
      "----------------------------------\n",
      "['It takes one hour from the airport to central Tokyo even if you take an expensive superexpress', 'moreover , Tokyo is a very crowded city .']\n",
      "----------------------------------\n",
      "['The range of evidence helps us understand what happened in the past events', \"People did n't agree on the nature of the war .\"]\n",
      "----------------------------------\n",
      "['His stare was hypnotic', \"she could n't look away .\"]\n",
      "----------------------------------\n",
      "['Today the most famous fireworks festival was held in Omagari , Akita Prefecture in Japan', \"I could n't go to Akita to enjoy it but I watched it on TV .\"]\n",
      "----------------------------------\n",
      "['My target date for this is this summer', 'this goal is important to me because it shows my children that no matter your age you can always achieve you dreams and goals .']\n",
      "----------------------------------\n",
      "['She did not have a security clearance', 'she did not attend meetings in the Situation Room .']\n",
      "----------------------------------\n",
      "['She backed into a corner of the room biting her lip', 'she was helpless to save her dear friend .']\n",
      "----------------------------------\n",
      "['She stated the farmers in the town were the ones that built the school', 'There were different schools for the high school students which for her started in eighth grade .']\n",
      "----------------------------------\n",
      "['I want to go home', 'She wants to go home .']\n",
      "----------------------------------\n",
      "[\"I have a feeling we 'd find a few more top level terrorists in that part of Waziristan if we ever got the opportunity to look .\"]\n",
      "----------------------------------\n",
      "['Obama received his undergraduate degree from Columbia', 'he did not participate in ROTC .']\n",
      "----------------------------------\n",
      "['I talked to the saleswoman and listened to her carefully', 'Her honesty and professionalism were really impressive .']\n",
      "----------------------------------\n",
      "[\"I doubt that it fully explains the ongoing divide between the two parties but I think there 's something to it .\"]\n",
      "----------------------------------\n",
      "['That is helping him eat deeply into double-digit leads she held in polls just weeks ago .']\n",
      "----------------------------------\n",
      "['That being said , David Obey has no standing whatsoever to scold anyone on pork .']\n",
      "----------------------------------\n",
      "[\"I just want to do God 's will .\"]\n",
      "----------------------------------\n",
      "['As a visiting lecturer , I teach International business focused on India at the Foster School of Business , University of Washington .']\n",
      "----------------------------------\n",
      "['We are not yet here to stay', \"the progressive organizations , the advocacy groups , even the blogosphere may be ephemeral if it does n't sustain itself .\"]\n",
      "----------------------------------\n",
      "[\"Millennials , as many would call the young adults of today 's day and age , are often open-minded and seek to change the world and its views on many problematic controversies today , while the older generation , such as their parents and grandparents , are usually glued to their high standards and beliefs .\"]\n",
      "----------------------------------\n",
      "['But then it started', 'there were wails and cries from the audience .']\n",
      "----------------------------------\n",
      "['Mr. Green celebrated his sixty-second birthday with a square dance', 'all who attended had a wonderful time .']\n",
      "----------------------------------\n",
      "[\"We 're certainly hopeful it will avert the crisis out there\", \"when we stood up and blocked the so-called deal last week , we did so because we did n't think taxpayers were being protected .\"]\n",
      "----------------------------------\n",
      "['I had run out of time', 'the wolves had found me .']\n",
      "----------------------------------\n",
      "['Bacteria must be grown at dark , moist , room temperature', 'There are types of media used for specific reasons : differential , selective and nutrient media .']\n",
      "----------------------------------\n",
      "['We realized that was a hacker who stole my account and my money', 'after that I decided to not open any online account for any bank .']\n",
      "----------------------------------\n",
      "['I knew something went wrong', \"that 's why I called you and asked .\"]\n",
      "----------------------------------\n",
      "['Obviously enrolling back into school is the first part of reliving my educational goal', 'there are many programs that off help for struggling individuals & many great teachers will help their students succeed .']\n",
      "----------------------------------\n",
      "['After 10 days , we will take an exam about english', 'it is called College English Test Band Four ( CET4 ) .']\n",
      "----------------------------------\n",
      "['I saw a cat in the store window', 'it hissed at me .']\n",
      "----------------------------------\n",
      "['Alienation eventually gave way to resentment and distress', \"Many people â€” poets , mullahs â€” lamented what they saw as Iran 's increasing economic and cultural dependence on foreign powers .\"]\n",
      "----------------------------------\n",
      "['This family partner visited the Grand Hotel at 9:00 am this morning and remained here', 'tomorrow they have a meeting at 11:00 .']\n",
      "----------------------------------\n",
      "['Look , President Bill Clinton has spent his entire public and private life repairing the breach in this country', 'Both his Presidency and his post-presidency career have focused on unity , not division .']\n",
      "----------------------------------\n",
      "['The year of 1906 as the start date for the second movement is probably the result of the film The Birth of a Nation being released ; the film glorified the BuzzFeed .']\n",
      "----------------------------------\n",
      "['The person is surrounded by native language speakers of the second language', 'The learner uses language to get things done using functional communication with native speakers of the L2 .']\n",
      "----------------------------------\n",
      "['But what this report shows is that global warming advocates do not have a monopoly on wisdom or knowledge .']\n",
      "----------------------------------\n",
      "['What are you confused about', 'we can help you with any of your issues and guide you through it .']\n",
      "----------------------------------\n",
      "['The SCSM said he received information that I was belittling Soldiers in the Troop , and the morale was low .']\n",
      "----------------------------------\n",
      "['Obama is Dino , cool and smooth as silk', 'John Edwards is Sammy , the all around entertainer .']\n",
      "----------------------------------\n",
      "['Thank you for your interest in our cleaning service', 'We have been in business for over 30 years .']\n",
      "----------------------------------\n",
      "['The wave had no discernible origin', 'When scientists began studying it , they called it an orphan tsunami .']\n",
      "----------------------------------\n",
      "['It will take new leadership in Washington', 'It will take a real change in the policies and politics of the last eight years .']\n",
      "----------------------------------\n",
      "['We have backup recording', 'We apologize for any inconveniences and appreciate your understandings .']\n",
      "----------------------------------\n",
      "['Kids will learn that God had a plan to restore the relationship He knew we would break from the beginning .']\n",
      "----------------------------------\n",
      "['My family goes to library every other week', 'we can each borrow up to 10 books']\n",
      "----------------------------------\n",
      "['This is why social research is important and necessary', 'we are examining social patterns and their meanings', 'without it the world would be a free for all , no allowance , repect for diversity , integrity to others opinions for policing and keeping people safe and healthy .']\n",
      "----------------------------------\n",
      "['Berman puts ads everywhere from buses to the back page of U.S. News & World Report shouting that the other side is trying to scare eaters , drinkers and workers into submission .']\n",
      "----------------------------------\n",
      "['Second , as a part of that oversight , there must be a path for taxpayers to recover the money that is put into this fund', 'one trillion dollars is an unprecedented sum .']\n",
      "----------------------------------\n",
      "['Every child is an artist', 'The problem is how to remain an artist once he grows up ...']\n",
      "----------------------------------\n",
      "['I am not feeling well at all', 'I feel very sick .']\n",
      "----------------------------------\n",
      "[\"I do understand in order to live alone I 'm going basically throw my whole check at the apartment .\"]\n",
      "----------------------------------\n",
      "['Thanks , Sam', 'have a great day .']\n",
      "----------------------------------\n",
      "['There are many way to advertise this position but using the social media has given Microsoft the winning edge as to how to get the word out and get a quick response and to be able to start the hiring process which will lead to hiring the best candidate for the job opening .']\n",
      "----------------------------------\n",
      "['I dreamed about her the night before yesterday', 'I dreamed that I found her just sitting by my side when I awoke .']\n",
      "----------------------------------\n",
      "['When will conservatives start to remember that Armitage is good buddies with John McCain and a top adviser to his campaign', \"this is n't even a matter of policy .\"]\n",
      "----------------------------------\n",
      "[\"But it was in Rufus 's voice\", \"It was in his father 's voice .\"]\n",
      "----------------------------------\n",
      "[\"Few incidents have since occurred that are attributed to the company 's operations\", 'an example of such an incident is the Niger delta incident .']\n",
      "----------------------------------\n",
      "['There were some people who spoke and hearing their stories was very motivational', 'I know I cried .']\n",
      "----------------------------------\n",
      "['Fats spreads and olis are next on the list', 'It is important to use as little as possible .']\n",
      "----------------------------------\n",
      "[\"This week is still a bit busy for me , but next week I 'm free on Wednesday 14th and Thursday 15th .\"]\n",
      "----------------------------------\n",
      "['National Review Online has a symposium on this question', 'it is worth reading .']\n",
      "----------------------------------\n",
      "[\"It 's frightening to think there are many people as neurotic as I am in the world .\"]\n",
      "----------------------------------\n",
      "['Very nice shampoo and conditioner', 'This shampoo and conditioner smell great .']\n",
      "----------------------------------\n",
      "['This test is performed by taking cells from the placenta', 'This test has a slightly higher risk of having a miscarriage after the procedure .']\n",
      "----------------------------------\n",
      "['Made myself something to eat and went to bed', 'I had class tomorrow and I would not let anything distract me from my current thoughts .']\n",
      "----------------------------------\n",
      "['He placed the bow on his back and slung the animal over his shoulder', 'its body moved like a doll .']\n",
      "----------------------------------\n",
      "['The correct balance of width and depth of your reading is essential', 'Both ways have their merits and disadvantages .']\n",
      "----------------------------------\n",
      "['Remember , insulin resistance is not this simple , but to help us understand insulin resistance I used the model of excess fat storage causing insulin resistance .']\n",
      "----------------------------------\n",
      "[\"The method is an effective rehabilitative taping technique that is designed for the body 's natural healing process\", \"it will provide support and stability to muscles and joints without restricting the body 's range of motion .\"]\n",
      "----------------------------------\n",
      "['Nancy Pelosi and other Democrats have confidently announced that our counterinsurgency strategy in Iraq has failed and its time to bring the troops home .']\n",
      "----------------------------------\n",
      "[\"I do n't play golf well\", 'I have a weak swing .']\n",
      "----------------------------------\n",
      "['Researchers suggest the biggest share of demand is from the Asian market', 'the demand in the Asian market will only proceed to grow by 60 % .']\n",
      "----------------------------------\n",
      "['There is a big difference between what is ideal and realistic', \"it 's not easy to shorten the long distance between them .\"]\n",
      "----------------------------------\n",
      "['This class meets Monday , Tuesday , Wednesday , and Thursdays', 'This class lasts for 3 weeks .']\n",
      "----------------------------------\n",
      "['\" Charlie , hurry up', 'you \\'re going to miss the bus , \" Mom said .']\n",
      "----------------------------------\n",
      "['The first person who comes to mind is my Grandma', 'My mother committed suicide when I was only one year old and since my father worked in a town far , far away , I was raised by my Grandma .']\n",
      "----------------------------------\n",
      "['Surely not', 'what heresy is this ?']\n",
      "----------------------------------\n",
      "['Many ethical theories attempt to convey moral behavior one', 'such theory is prima face duties presented by Dr Ross in the article \" What Makes Right Acts Right ? \"']\n",
      "----------------------------------\n",
      "['Hello , class , my name is Will Murray', 'I am originally from Canada .']\n",
      "----------------------------------\n",
      "['Please double-check all the changes , and if anything is incorrect , let us know as soon as possible .']\n",
      "----------------------------------\n",
      "['I realized that injections actually have a purpose , to make you feel better and to accelerate the process of healing', 'Then , I realized that the professional career is called nursing .']\n",
      "----------------------------------\n",
      "[\"I 'm currently working of mimicking different kinds of neural networks using optical domain capability\", 'Our goal is developing a new optical computing platform based on adaptive reservoir computing to harness the unprecedented computation performed in a nonlinear optical dynamical system for realization of complex computing functionalities .']\n",
      "----------------------------------\n",
      "['No need to fuss over my arrangements', \"that 's already done .\"]\n",
      "----------------------------------\n",
      "[\"I do n't remember seeing this\", 'When did it appear ?']\n",
      "----------------------------------\n",
      "['They removed the tank occupants and much to our surprise , the occupants surrender fairly easy .']\n",
      "----------------------------------\n",
      "[\"I do n't have good ears , so I had to listen to the CD again and again in order to copy phrases and write it on music sheets\", 'It took a long time to finish one song .']\n",
      "----------------------------------\n",
      "[\"Today is the Asia Champion League 's first match\", 'my team will play in Kuwait at 10 PM , Kuwait time .']\n",
      "----------------------------------\n",
      "['I decided how I could make the whole situation an example of how easily things can go wrong .']\n",
      "----------------------------------\n",
      "['I am aware of the skills that are required for the position ; working for you I would need to be organised , committed , and interact well with others .']\n",
      "----------------------------------\n",
      "[\"This is n't some dystopian future we 're talking about\", \"it 's already here .\"]\n",
      "----------------------------------\n",
      "['Maybe if you were capable of doing any real work you might smell a little and it would be good for you', 'you , sir , are the one who stinks .']\n",
      "----------------------------------\n",
      "['Today we know the government was wrong', 'the surge has succeeded .']\n",
      "----------------------------------\n",
      "[\"I do n't think so\", 'growing up before computers , we relied on board games as staples of play .']\n",
      "----------------------------------\n",
      "['The association has a diversified revenue from operations stream divided among its pillar program areas Health , Fitness , and recreation , Family , and Childhood Development programming .']\n",
      "----------------------------------\n",
      "[\"The only possible way she can win now is to puncture Obama 's balloon .\"]\n",
      "----------------------------------\n",
      "[\"With the practical collapse of mortgage giants Fannie Mae and Freddie Mac upon us , a good measure of the political bias of the media is who they 're claiming is responsible .\"]\n",
      "----------------------------------\n",
      "['The best time to plant a tree was 20 years ago', 'The second best time is now .']\n",
      "----------------------------------\n",
      "['The conference was wrapping up for the day', 'She was thinking about sushi .']\n",
      "----------------------------------\n",
      "[\"It 's the last full day of classes we\", \"do n't need them .\"]\n",
      "----------------------------------\n",
      "['Warren , after all , is the only preacher giving the invocation', 'he will not share the stage with a rabbi , an imam , a monk , and an episcopalian .']\n",
      "----------------------------------\n"
     ]
    }
   ],
   "source": [
    "for row in rows:\n",
    "    print(row)\n",
    "    print('----------------------------------')"
   ]
  },
  {
   "cell_type": "code",
   "execution_count": null,
   "metadata": {},
   "outputs": [],
   "source": [
    "preprocessing and data collectiong\n",
    "    Need to find some short conversation, probably twitter or sms, something like that\n",
    "    check is tokenization work in the same way as in the test\n",
    "\n",
    "Features:\n",
    "    \n",
    "    lematized end word and next word of splitting\n",
    "    is the first character uppercase\n",
    "    pos of the word\n",
    "    dependensy path \n",
    "    length of the first word\n",
    "    is it popular 2gram 0-1 of end and next word start\n",
    "    "
   ]
  },
  {
   "cell_type": "code",
   "execution_count": 1,
   "metadata": {},
   "outputs": [],
   "source": [
    "# source https://drive.google.com/open?id=13jXBNgZhLKg95JjyArKm-muoXSoP33TG\n",
    "import pandas as pd\n",
    "tweets= pd.read_csv('tweets.csv', encoding=\"cp1252\")\n",
    "tweets.columns= ['index','q','d','n','a', 'text']\n",
    "tweets=tweets[['text']]"
   ]
  },
  {
   "cell_type": "code",
   "execution_count": 2,
   "metadata": {},
   "outputs": [
    {
     "data": {
      "text/plain": [
       "1599998"
      ]
     },
     "execution_count": 2,
     "metadata": {},
     "output_type": "execute_result"
    }
   ],
   "source": [
    "len(tweets)"
   ]
  },
  {
   "cell_type": "code",
   "execution_count": 3,
   "metadata": {},
   "outputs": [
    {
     "data": {
      "text/plain": [
       "array([['@Kenichan I dived many times for the ball. Managed to save 50%  The rest go out of bounds'],\n",
       "       ['my whole body feels itchy and like its on fire '],\n",
       "       [\"@nationwideclass no, it's not behaving at all. i'm mad. why am i here? because I can't see you all over there. \"],\n",
       "       ['@Kwesidei not the whole crew '],\n",
       "       ['Need a hug ']], dtype=object)"
      ]
     },
     "execution_count": 3,
     "metadata": {},
     "output_type": "execute_result"
    }
   ],
   "source": [
    "tweets[:5].values"
   ]
  },
  {
   "cell_type": "markdown",
   "metadata": {},
   "source": [
    "# preprocessing replace all the @name on name or hi , shi ,it, name"
   ]
  },
  {
   "cell_type": "code",
   "execution_count": 6,
   "metadata": {},
   "outputs": [
    {
     "data": {
      "text/plain": [
       "'He I dived many times for the ball. Managed to save 50%  The rest go out of bounds'"
      ]
     },
     "execution_count": 6,
     "metadata": {},
     "output_type": "execute_result"
    }
   ],
   "source": [
    "import random\n",
    "import re\n",
    "\n",
    "def replace_twitter_name_with_normal_one(text):\n",
    "    names_list=['He','he','she', 'She', 'It', 'we', 'We', 'they', 'i','I', 'you', 'u', 'You', 'Tom', 'Bill' , 'Mazar', 'Mike', 'nazar']\n",
    "    index = random.randint(0, len(names_list)-1)\n",
    "    new_name=names_list[index]\n",
    "    return re.sub(r'@[a-z0-9A-Z]*', new_name, text.strip())\n",
    "\n",
    "replace_twitter_name_with_normal_one('@Kenichan I dived many times for the ball. Managed to save 50%  The rest go out of bounds')"
   ]
  },
  {
   "cell_type": "code",
   "execution_count": 7,
   "metadata": {},
   "outputs": [],
   "source": [
    "tweets['text'] = tweets['text'].apply(replace_twitter_name_with_normal_one)"
   ]
  },
  {
   "cell_type": "code",
   "execution_count": 8,
   "metadata": {},
   "outputs": [
    {
     "data": {
      "text/plain": [
       "array(['they I dived many times for the ball. Managed to save 50%  The rest go out of bounds',\n",
       "       'my whole body feels itchy and like its on fire',\n",
       "       \"Mike no, it's not behaving at all. i'm mad. why am i here? because I can't see you all over there.\",\n",
       "       'She not the whole crew', 'Need a hug'], dtype=object)"
      ]
     },
     "execution_count": 8,
     "metadata": {},
     "output_type": "execute_result"
    }
   ],
   "source": [
    "tweets['text'][:5].values"
   ]
  },
  {
   "cell_type": "markdown",
   "metadata": {},
   "source": [
    "# Prepare training data"
   ]
  },
  {
   "cell_type": "raw",
   "metadata": {},
   "source": [
    "do sentens splitting\n",
    "put last word in not last sentens as True, all other False\n",
    "Save in to same format as test data"
   ]
  },
  {
   "cell_type": "code",
   "execution_count": null,
   "metadata": {},
   "outputs": [],
   "source": []
  },
  {
   "cell_type": "code",
   "execution_count": 9,
   "metadata": {},
   "outputs": [
    {
     "data": {
      "text/plain": [
       "['Tom I dived many times for the ball.',\n",
       " 'Managed to save 50%  The rest go out of bounds']"
      ]
     },
     "execution_count": 9,
     "metadata": {},
     "output_type": "execute_result"
    }
   ],
   "source": [
    "from nltk import tokenize\n",
    "tokenize.sent_tokenize('Tom I dived many times for the ball. Managed to save 50%  The rest go out of bounds')"
   ]
  },
  {
   "cell_type": "code",
   "execution_count": 10,
   "metadata": {},
   "outputs": [
    {
     "data": {
      "text/plain": [
       "\"lob:»Ÿ“%¸¼µ}BQ*X›HOjeq‘wm¯0/¢„VR˜.'(¨uFž¤°N‹¿UÂaDh½s\\xad8k|¦{fˆ–1†^5=]ƒg—·\\\\3[z?¬!´Š³…W©t™i±$62TP¾GE¥”#¹c`S®C€Y_A)Ã4Ž‡9š’œZŒ£nI§¡•‰M,;pKxrL~‚vy«-²¶Jº7+dª\""
      ]
     },
     "execution_count": 10,
     "metadata": {},
     "output_type": "execute_result"
    }
   ],
   "source": [
    "#get all last characters of the sentense\n",
    "last_chars=set()\n",
    "for text in tweets['text'].values:\n",
    "    sentenses = tokenize.sent_tokenize(text)\n",
    "    for sentense in sentenses:\n",
    "        last_chars.add(sentense[-1])\n",
    "        \n",
    "''.join(list(last_chars))"
   ]
  },
  {
   "cell_type": "code",
   "execution_count": null,
   "metadata": {},
   "outputs": [],
   "source": []
  },
  {
   "cell_type": "code",
   "execution_count": 46,
   "metadata": {},
   "outputs": [],
   "source": [
    "import numpy as np\n",
    "import tqdm\n",
    "\n",
    "def transform_tweets_to_train_format(texts):\n",
    "    train_data=[]\n",
    "    for text_index in tqdm.tqdm(range(len(texts))):\n",
    "        labeled_words=[]\n",
    "        sentenses = tokenize.sent_tokenize(texts[text_index])\n",
    "        for sentens_index, sentense in enumerate(sentenses): \n",
    "            if len(sentense)<2:\n",
    "                continue\n",
    "            words = tokenize.word_tokenize(sentense if sentense[-1] not in \"?!;.¸‚\" else sentense[:-1])\n",
    "            values = [False]*len(words)\n",
    "            try:\n",
    "                values[-1]=len(sentenses)>(sentens_index+1)\n",
    "            except:\n",
    "                print('Data:' ,texts[text_index])\n",
    "                raise ValueError('A very specific bad thing happened.')\n",
    "            labeled_words.append(list(zip(words,values)))\n",
    "            \n",
    "        if len(labeled_words)>0:\n",
    "            train_data.append(np.concatenate(labeled_words))\n",
    "    return train_data"
   ]
  },
  {
   "cell_type": "code",
   "execution_count": null,
   "metadata": {},
   "outputs": [],
   "source": [
    "#lower case of next sentense posibli will be needed"
   ]
  },
  {
   "cell_type": "code",
   "execution_count": 47,
   "metadata": {},
   "outputs": [
    {
     "name": "stderr",
     "output_type": "stream",
     "text": [
      "\n",
      "  0%|          | 0/1 [00:00<?, ?it/s]\n",
      "100%|██████████| 1/1 [00:00<00:00, 666.82it/s]"
     ]
    },
    {
     "data": {
      "text/plain": [
       "[array([['Tom', 'False'],\n",
       "        ['I', 'False'],\n",
       "        ['dived', 'False'],\n",
       "        ['many', 'False'],\n",
       "        ['times', 'False'],\n",
       "        ['for', 'False'],\n",
       "        ['the', 'False'],\n",
       "        ['ball', 'True'],\n",
       "        ['Managed', 'False'],\n",
       "        ['to', 'False'],\n",
       "        ['save', 'False'],\n",
       "        ['50', 'False'],\n",
       "        ['%', 'False'],\n",
       "        ['The', 'False'],\n",
       "        ['rest', 'False'],\n",
       "        ['go', 'False'],\n",
       "        ['out', 'False'],\n",
       "        ['of', 'False'],\n",
       "        ['bounds', 'False']], dtype='<U7')]"
      ]
     },
     "execution_count": 47,
     "metadata": {},
     "output_type": "execute_result"
    }
   ],
   "source": [
    "transform_tweets_to_train_format(['Tom I dived many times for the ball. Managed to save 50%  The rest go out of bounds'])"
   ]
  },
  {
   "cell_type": "code",
   "execution_count": 48,
   "metadata": {},
   "outputs": [
    {
     "name": "stderr",
     "output_type": "stream",
     "text": [
      "\n",
      "  0%|          | 0/1599998 [00:00<?, ?it/s]\n",
      "  0%|          | 383/1599998 [00:00<07:30, 3547.49it/s]\n",
      "  0%|          | 774/1599998 [00:00<07:09, 3720.60it/s]\n",
      "  0%|          | 1228/1599998 [00:00<07:01, 3795.38it/s]\n",
      "  0%|          | 1575/1599998 [00:00<07:11, 3704.33it/s]\n",
      "  0%|          | 1941/1599998 [00:00<07:12, 3695.68it/s]\n",
      "  0%|          | 2273/1599998 [00:00<07:20, 3629.67it/s]\n",
      "  0%|          | 2597/1599998 [00:00<07:26, 3575.81it/s]\n",
      "  0%|          | 3027/1599998 [00:00<07:22, 3607.02it/s]\n",
      "  0%|          | 3443/1599998 [00:00<07:21, 3614.16it/s]\n",
      "  0%|          | 3801/1599998 [00:01<07:22, 3605.09it/s]\n",
      "  0%|          | 4189/1599998 [00:01<07:19, 3627.68it/s]\n",
      "  0%|          | 4547/1599998 [00:01<07:21, 3614.18it/s]\n",
      "  0%|          | 4906/1599998 [00:01<07:21, 3611.92it/s]\n",
      "  0%|          | 5264/1599998 [00:01<07:23, 3596.97it/s]\n",
      "  0%|          | 5619/1599998 [00:01<07:23, 3595.03it/s]\n",
      "  0%|          | 5995/1599998 [00:01<07:22, 3604.84it/s]\n",
      "  0%|          | 6396/1599998 [00:01<07:19, 3626.22it/s]\n",
      "  0%|          | 6767/1599998 [00:01<07:20, 3614.18it/s]\n",
      "Exception in thread Thread-6:\n",
      "Traceback (most recent call last):\n",
      "  File \"Z:\\anaconda\\envs\\py_36\\lib\\threading.py\", line 916, in _bootstrap_inner\n",
      "    self.run()\n",
      "  File \"Z:\\anaconda\\envs\\py_36\\lib\\site-packages\\tqdm\\_tqdm.py\", line 144, in run\n",
      "    for instance in self.tqdm_cls._instances:\n",
      "  File \"Z:\\anaconda\\envs\\py_36\\lib\\_weakrefset.py\", line 60, in __iter__\n",
      "    for itemref in self.data:\n",
      "RuntimeError: Set changed size during iteration\n",
      "\n",
      "100%|██████████| 1599998/1599998 [07:03<00:00, 3781.42it/s]\n"
     ]
    }
   ],
   "source": [
    "train = transform_tweets_to_train_format(tweets['text'].values)"
   ]
  },
  {
   "cell_type": "code",
   "execution_count": 57,
   "metadata": {},
   "outputs": [
    {
     "data": {
      "text/plain": [
       "[array([['they', 'False'],\n",
       "        ['I', 'False'],\n",
       "        ['dived', 'False'],\n",
       "        ['many', 'False'],\n",
       "        ['times', 'False'],\n",
       "        ['for', 'False'],\n",
       "        ['the', 'False'],\n",
       "        ['ball', 'True'],\n",
       "        ['Managed', 'False'],\n",
       "        ['to', 'False'],\n",
       "        ['save', 'False'],\n",
       "        ['50', 'False'],\n",
       "        ['%', 'False'],\n",
       "        ['The', 'False'],\n",
       "        ['rest', 'False'],\n",
       "        ['go', 'False'],\n",
       "        ['out', 'False'],\n",
       "        ['of', 'False'],\n",
       "        ['bounds', 'False']], dtype='<U7'), array([['my', 'False'],\n",
       "        ['whole', 'False'],\n",
       "        ['body', 'False'],\n",
       "        ['feels', 'False'],\n",
       "        ['itchy', 'False'],\n",
       "        ['and', 'False'],\n",
       "        ['like', 'False'],\n",
       "        ['its', 'False'],\n",
       "        ['on', 'False'],\n",
       "        ['fire', 'False']], dtype='<U5')]"
      ]
     },
     "execution_count": 57,
     "metadata": {},
     "output_type": "execute_result"
    }
   ],
   "source": [
    "train[:2]"
   ]
  },
  {
   "cell_type": "code",
   "execution_count": 58,
   "metadata": {},
   "outputs": [
    {
     "ename": "AttributeError",
     "evalue": "'list' object has no attribute 'save'",
     "output_type": "error",
     "traceback": [
      "\u001b[1;31m---------------------------------------------------------------------------\u001b[0m",
      "\u001b[1;31mAttributeError\u001b[0m                            Traceback (most recent call last)",
      "\u001b[1;32m<ipython-input-58-27e131baf078>\u001b[0m in \u001b[0;36m<module>\u001b[1;34m()\u001b[0m\n\u001b[1;32m----> 1\u001b[1;33m \u001b[0mtrain\u001b[0m\u001b[1;33m.\u001b[0m\u001b[0msave\u001b[0m\u001b[1;33m(\u001b[0m\u001b[1;34m'train.txt'\u001b[0m\u001b[1;33m)\u001b[0m\u001b[1;33m\u001b[0m\u001b[0m\n\u001b[0m",
      "\u001b[1;31mAttributeError\u001b[0m: 'list' object has no attribute 'save'"
     ]
    }
   ],
   "source": [
    "train.save('train.txt')"
   ]
  },
  {
   "cell_type": "code",
   "execution_count": 56,
   "metadata": {},
   "outputs": [
    {
     "ename": "TypeError",
     "evalue": "Object of type 'ndarray' is not JSON serializable",
     "output_type": "error",
     "traceback": [
      "\u001b[1;31m---------------------------------------------------------------------------\u001b[0m",
      "\u001b[1;31mTypeError\u001b[0m                                 Traceback (most recent call last)",
      "\u001b[1;32m<ipython-input-56-37d94311c55d>\u001b[0m in \u001b[0;36m<module>\u001b[1;34m()\u001b[0m\n\u001b[0;32m      1\u001b[0m \u001b[1;32mimport\u001b[0m \u001b[0mjson\u001b[0m\u001b[1;33m\u001b[0m\u001b[0m\n\u001b[0;32m      2\u001b[0m \u001b[1;32mwith\u001b[0m \u001b[0mopen\u001b[0m\u001b[1;33m(\u001b[0m\u001b[1;34m'train.json'\u001b[0m\u001b[1;33m,\u001b[0m \u001b[1;34m'w'\u001b[0m\u001b[1;33m)\u001b[0m \u001b[1;32mas\u001b[0m \u001b[0moutfile\u001b[0m\u001b[1;33m:\u001b[0m\u001b[1;33m\u001b[0m\u001b[0m\n\u001b[1;32m----> 3\u001b[1;33m     \u001b[0mjson\u001b[0m\u001b[1;33m.\u001b[0m\u001b[0mdump\u001b[0m\u001b[1;33m(\u001b[0m\u001b[0mtrain\u001b[0m\u001b[1;33m,\u001b[0m \u001b[0moutfile\u001b[0m\u001b[1;33m)\u001b[0m\u001b[1;33m\u001b[0m\u001b[0m\n\u001b[0m",
      "\u001b[1;32mZ:\\anaconda\\envs\\py_36\\lib\\json\\__init__.py\u001b[0m in \u001b[0;36mdump\u001b[1;34m(obj, fp, skipkeys, ensure_ascii, check_circular, allow_nan, cls, indent, separators, default, sort_keys, **kw)\u001b[0m\n\u001b[0;32m    177\u001b[0m     \u001b[1;31m# could accelerate with writelines in some versions of Python, at\u001b[0m\u001b[1;33m\u001b[0m\u001b[1;33m\u001b[0m\u001b[0m\n\u001b[0;32m    178\u001b[0m     \u001b[1;31m# a debuggability cost\u001b[0m\u001b[1;33m\u001b[0m\u001b[1;33m\u001b[0m\u001b[0m\n\u001b[1;32m--> 179\u001b[1;33m     \u001b[1;32mfor\u001b[0m \u001b[0mchunk\u001b[0m \u001b[1;32min\u001b[0m \u001b[0miterable\u001b[0m\u001b[1;33m:\u001b[0m\u001b[1;33m\u001b[0m\u001b[0m\n\u001b[0m\u001b[0;32m    180\u001b[0m         \u001b[0mfp\u001b[0m\u001b[1;33m.\u001b[0m\u001b[0mwrite\u001b[0m\u001b[1;33m(\u001b[0m\u001b[0mchunk\u001b[0m\u001b[1;33m)\u001b[0m\u001b[1;33m\u001b[0m\u001b[0m\n\u001b[0;32m    181\u001b[0m \u001b[1;33m\u001b[0m\u001b[0m\n",
      "\u001b[1;32mZ:\\anaconda\\envs\\py_36\\lib\\json\\encoder.py\u001b[0m in \u001b[0;36m_iterencode\u001b[1;34m(o, _current_indent_level)\u001b[0m\n\u001b[0;32m    426\u001b[0m             \u001b[1;32myield\u001b[0m \u001b[0m_floatstr\u001b[0m\u001b[1;33m(\u001b[0m\u001b[0mo\u001b[0m\u001b[1;33m)\u001b[0m\u001b[1;33m\u001b[0m\u001b[0m\n\u001b[0;32m    427\u001b[0m         \u001b[1;32melif\u001b[0m \u001b[0misinstance\u001b[0m\u001b[1;33m(\u001b[0m\u001b[0mo\u001b[0m\u001b[1;33m,\u001b[0m \u001b[1;33m(\u001b[0m\u001b[0mlist\u001b[0m\u001b[1;33m,\u001b[0m \u001b[0mtuple\u001b[0m\u001b[1;33m)\u001b[0m\u001b[1;33m)\u001b[0m\u001b[1;33m:\u001b[0m\u001b[1;33m\u001b[0m\u001b[0m\n\u001b[1;32m--> 428\u001b[1;33m             \u001b[1;32myield\u001b[0m \u001b[1;32mfrom\u001b[0m \u001b[0m_iterencode_list\u001b[0m\u001b[1;33m(\u001b[0m\u001b[0mo\u001b[0m\u001b[1;33m,\u001b[0m \u001b[0m_current_indent_level\u001b[0m\u001b[1;33m)\u001b[0m\u001b[1;33m\u001b[0m\u001b[0m\n\u001b[0m\u001b[0;32m    429\u001b[0m         \u001b[1;32melif\u001b[0m \u001b[0misinstance\u001b[0m\u001b[1;33m(\u001b[0m\u001b[0mo\u001b[0m\u001b[1;33m,\u001b[0m \u001b[0mdict\u001b[0m\u001b[1;33m)\u001b[0m\u001b[1;33m:\u001b[0m\u001b[1;33m\u001b[0m\u001b[0m\n\u001b[0;32m    430\u001b[0m             \u001b[1;32myield\u001b[0m \u001b[1;32mfrom\u001b[0m \u001b[0m_iterencode_dict\u001b[0m\u001b[1;33m(\u001b[0m\u001b[0mo\u001b[0m\u001b[1;33m,\u001b[0m \u001b[0m_current_indent_level\u001b[0m\u001b[1;33m)\u001b[0m\u001b[1;33m\u001b[0m\u001b[0m\n",
      "\u001b[1;32mZ:\\anaconda\\envs\\py_36\\lib\\json\\encoder.py\u001b[0m in \u001b[0;36m_iterencode_list\u001b[1;34m(lst, _current_indent_level)\u001b[0m\n\u001b[0;32m    323\u001b[0m                 \u001b[1;32melse\u001b[0m\u001b[1;33m:\u001b[0m\u001b[1;33m\u001b[0m\u001b[0m\n\u001b[0;32m    324\u001b[0m                     \u001b[0mchunks\u001b[0m \u001b[1;33m=\u001b[0m \u001b[0m_iterencode\u001b[0m\u001b[1;33m(\u001b[0m\u001b[0mvalue\u001b[0m\u001b[1;33m,\u001b[0m \u001b[0m_current_indent_level\u001b[0m\u001b[1;33m)\u001b[0m\u001b[1;33m\u001b[0m\u001b[0m\n\u001b[1;32m--> 325\u001b[1;33m                 \u001b[1;32myield\u001b[0m \u001b[1;32mfrom\u001b[0m \u001b[0mchunks\u001b[0m\u001b[1;33m\u001b[0m\u001b[0m\n\u001b[0m\u001b[0;32m    326\u001b[0m         \u001b[1;32mif\u001b[0m \u001b[0mnewline_indent\u001b[0m \u001b[1;32mis\u001b[0m \u001b[1;32mnot\u001b[0m \u001b[1;32mNone\u001b[0m\u001b[1;33m:\u001b[0m\u001b[1;33m\u001b[0m\u001b[0m\n\u001b[0;32m    327\u001b[0m             \u001b[0m_current_indent_level\u001b[0m \u001b[1;33m-=\u001b[0m \u001b[1;36m1\u001b[0m\u001b[1;33m\u001b[0m\u001b[0m\n",
      "\u001b[1;32mZ:\\anaconda\\envs\\py_36\\lib\\json\\encoder.py\u001b[0m in \u001b[0;36m_iterencode\u001b[1;34m(o, _current_indent_level)\u001b[0m\n\u001b[0;32m    435\u001b[0m                     \u001b[1;32mraise\u001b[0m \u001b[0mValueError\u001b[0m\u001b[1;33m(\u001b[0m\u001b[1;34m\"Circular reference detected\"\u001b[0m\u001b[1;33m)\u001b[0m\u001b[1;33m\u001b[0m\u001b[0m\n\u001b[0;32m    436\u001b[0m                 \u001b[0mmarkers\u001b[0m\u001b[1;33m[\u001b[0m\u001b[0mmarkerid\u001b[0m\u001b[1;33m]\u001b[0m \u001b[1;33m=\u001b[0m \u001b[0mo\u001b[0m\u001b[1;33m\u001b[0m\u001b[0m\n\u001b[1;32m--> 437\u001b[1;33m             \u001b[0mo\u001b[0m \u001b[1;33m=\u001b[0m \u001b[0m_default\u001b[0m\u001b[1;33m(\u001b[0m\u001b[0mo\u001b[0m\u001b[1;33m)\u001b[0m\u001b[1;33m\u001b[0m\u001b[0m\n\u001b[0m\u001b[0;32m    438\u001b[0m             \u001b[1;32myield\u001b[0m \u001b[1;32mfrom\u001b[0m \u001b[0m_iterencode\u001b[0m\u001b[1;33m(\u001b[0m\u001b[0mo\u001b[0m\u001b[1;33m,\u001b[0m \u001b[0m_current_indent_level\u001b[0m\u001b[1;33m)\u001b[0m\u001b[1;33m\u001b[0m\u001b[0m\n\u001b[0;32m    439\u001b[0m             \u001b[1;32mif\u001b[0m \u001b[0mmarkers\u001b[0m \u001b[1;32mis\u001b[0m \u001b[1;32mnot\u001b[0m \u001b[1;32mNone\u001b[0m\u001b[1;33m:\u001b[0m\u001b[1;33m\u001b[0m\u001b[0m\n",
      "\u001b[1;32mZ:\\anaconda\\envs\\py_36\\lib\\json\\encoder.py\u001b[0m in \u001b[0;36mdefault\u001b[1;34m(self, o)\u001b[0m\n\u001b[0;32m    178\u001b[0m         \"\"\"\n\u001b[0;32m    179\u001b[0m         raise TypeError(\"Object of type '%s' is not JSON serializable\" %\n\u001b[1;32m--> 180\u001b[1;33m                         o.__class__.__name__)\n\u001b[0m\u001b[0;32m    181\u001b[0m \u001b[1;33m\u001b[0m\u001b[0m\n\u001b[0;32m    182\u001b[0m     \u001b[1;32mdef\u001b[0m \u001b[0mencode\u001b[0m\u001b[1;33m(\u001b[0m\u001b[0mself\u001b[0m\u001b[1;33m,\u001b[0m \u001b[0mo\u001b[0m\u001b[1;33m)\u001b[0m\u001b[1;33m:\u001b[0m\u001b[1;33m\u001b[0m\u001b[0m\n",
      "\u001b[1;31mTypeError\u001b[0m: Object of type 'ndarray' is not JSON serializable"
     ]
    }
   ],
   "source": [
    "import json\n",
    "with open('train.json', 'w') as outfile:\n",
    "    json.dump(train, outfile)"
   ]
  },
  {
   "cell_type": "code",
   "execution_count": null,
   "metadata": {},
   "outputs": [],
   "source": []
  }
 ],
 "metadata": {
  "kernelspec": {
   "display_name": "Python 3",
   "language": "python",
   "name": "python3"
  },
  "language_info": {
   "codemirror_mode": {
    "name": "ipython",
    "version": 3
   },
   "file_extension": ".py",
   "mimetype": "text/x-python",
   "name": "python",
   "nbconvert_exporter": "python",
   "pygments_lexer": "ipython3",
   "version": "3.6.4"
  }
 },
 "nbformat": 4,
 "nbformat_minor": 2
}
