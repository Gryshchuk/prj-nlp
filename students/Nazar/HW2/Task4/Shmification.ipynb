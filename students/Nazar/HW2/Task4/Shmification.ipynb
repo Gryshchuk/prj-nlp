{
 "cells": [
  {
   "cell_type": "raw",
   "metadata": {},
   "source": [
    "Shm-reduplication is used to indicate irony, sarcasm, skepticism, or disinterest about the discussed object. It is typically formed by the following rules:\n",
    "\n",
    "1 a consonant cluster at sentence start is replaced with shm- (\"table-shmable\", \"breakfast-shmeakfast\")\n",
    "a vowel cluster at sentence start doesn't change (\"apple-shmapple\")\n",
    "when speaking two words, usually only the second word is shm-reduplicated (\"Jimmy Hendriks-Jimmy Shmendriks\", \"data science-data shmience\")\n",
    "no change is needed if a word already begins with shm- (\"shmaltz-shmaltz\", \"schmuck-schmuck\")\n",
    "2use sm- instead of shm- with words that contain a sh (\"Ashmont-Smashmont\", not \"Shmashmont\").\n",
    "Your task is to write a script that can shmificate any word properly. You can write the program for any natural language (English, Ukrainian, German, etc.).\n",
    "\n",
    "You can read more about shm-reduplication in Metalinguistic, shmetalinguistic: the phonology of shm-reduplication."
   ]
  },
  {
   "cell_type": "code",
   "execution_count": 35,
   "metadata": {},
   "outputs": [],
   "source": [
    "import regex\n",
    "class Shmepper:\n",
    "    def consonant_cluster_rule(self, text):\n",
    "        s=r'(?=[b-df-hj-np-tv-xz])(.)(?!\\1)(?<!\\1\\1)'\n",
    "        return regex.search(s, text).start()==0\n",
    "\n",
    "    def sh_rule(self, word):\n",
    "        return 'sh' in word\n",
    "\n",
    "    def shm_rule(self, word):\n",
    "        return word.startswith('shm') or word.startswith('sch')\n",
    "\n",
    "    #only last word if ther is many words\n",
    "    def shmafle_word(self, word):\n",
    "        tmp_word=word.lower()\n",
    "        if self.shm_rule(tmp_word):\n",
    "            return word\n",
    "        shmefix='shm'\n",
    "        replacement_word=tmp_word\n",
    "        if self.sh_rule(tmp_word):\n",
    "            shmefix='sm'\n",
    "        if self.consonant_cluster_rule(tmp_word):\n",
    "            replacement_word=replacement_word[1:]\n",
    "        if word[0]==word[0].upper():\n",
    "            shmefix=shmefix[0].upper()+shmefix[1:]\n",
    "        return shmefix+replacement_word\n",
    "\n",
    "    def shmafle(self, text):\n",
    "        words = text.split(' ')\n",
    "        if len(words)==1:\n",
    "            return self.shmafle_word(text)\n",
    "        words[len(words)-1]=self.shmafle_word(words[-1])\n",
    "        return ' '.join(words)"
   ]
  },
  {
   "cell_type": "code",
   "execution_count": 36,
   "metadata": {},
   "outputs": [
    {
     "name": "stdout",
     "output_type": "stream",
     "text": [
      "table-shmable\n",
      "breakfast-shmreakfast\n",
      "apple-shmapple\n",
      "Jimmy Hendriks-Jimmy Shmendriks\n",
      "data science-data shmcience\n",
      "shmaltz-shmaltz\n",
      "schmuck-schmuck\n",
      "Ashmont-Smashmont\n"
     ]
    }
   ],
   "source": [
    "shmepper=Shmepper()\n",
    "\n",
    "print(\"table-{0}\".format(shmepper.shmafle('table')))\n",
    "print(\"breakfast-{0}\".format(shmepper.shmafle('breakfast')))\n",
    "print(\"apple-{0}\".format(shmepper.shmafle('apple')))\n",
    "print(\"Jimmy Hendriks-{0}\".format(shmepper.shmafle('Jimmy Hendriks')))\n",
    "print(\"data science-{0}\".format(shmepper.shmafle('data science')))\n",
    "print(\"shmaltz-{0}\".format(shmepper.shmafle('shmaltz')))\n",
    "print(\"schmuck-{0}\".format(shmepper.shmafle('schmuck')))\n",
    "print(\"Ashmont-{0}\".format(shmepper.shmafle('Ashmont')))"
   ]
  },
  {
   "cell_type": "code",
   "execution_count": null,
   "metadata": {},
   "outputs": [],
   "source": []
  }
 ],
 "metadata": {
  "kernelspec": {
   "display_name": "Python 3",
   "language": "python",
   "name": "python3"
  },
  "language_info": {
   "codemirror_mode": {
    "name": "ipython",
    "version": 3
   },
   "file_extension": ".py",
   "mimetype": "text/x-python",
   "name": "python",
   "nbconvert_exporter": "python",
   "pygments_lexer": "ipython3",
   "version": "3.6.4"
  }
 },
 "nbformat": 4,
 "nbformat_minor": 2
}
