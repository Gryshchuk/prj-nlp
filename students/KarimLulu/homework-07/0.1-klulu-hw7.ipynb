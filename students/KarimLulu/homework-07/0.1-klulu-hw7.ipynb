{
 "cells": [
  {
   "cell_type": "code",
   "execution_count": 1,
   "metadata": {},
   "outputs": [],
   "source": [
    "%load_ext autoreload\n",
    "%autoreload 1"
   ]
  },
  {
   "cell_type": "code",
   "execution_count": 673,
   "metadata": {},
   "outputs": [],
   "source": [
    "import json\n",
    "import pandas as pd\n",
    "import numpy as np\n",
    "from collections import Counter\n",
    "from pathlib import Path\n",
    "import bz2\n",
    "import re\n",
    "import string\n",
    "import spacy\n",
    "import random"
   ]
  },
  {
   "cell_type": "code",
   "execution_count": 3,
   "metadata": {},
   "outputs": [],
   "source": [
    "%aimport config\n",
    "from config import REPO"
   ]
  },
  {
   "cell_type": "markdown",
   "metadata": {},
   "source": [
    "#### Read the data"
   ]
  },
  {
   "cell_type": "code",
   "execution_count": 27,
   "metadata": {},
   "outputs": [],
   "source": [
    "file_test = \"run-on-test.json\"\n",
    "with open(file_test) as f:\n",
    "    test_data = json.load(f)"
   ]
  },
  {
   "cell_type": "code",
   "execution_count": 28,
   "metadata": {},
   "outputs": [],
   "source": [
    "def sum_true(x):\n",
    "    return sum([el[-1] for el in x])"
   ]
  },
  {
   "cell_type": "code",
   "execution_count": 29,
   "metadata": {},
   "outputs": [
    {
     "name": "stdout",
     "output_type": "stream",
     "text": [
      "Run-ons: 1\n",
      "frq: 145, percentage: 72.5%\n",
      "Run-ons: 0\n",
      "frq: 50, percentage: 25.0%\n",
      "Run-ons: 2\n",
      "frq: 5, percentage: 2.5%\n"
     ]
    }
   ],
   "source": [
    "frq = Counter([sum_true(el) for el in test_data])\n",
    "for key, value in frq.most_common():\n",
    "    print(f\"Run-ons: {key}\\nfrq: {value}, percentage: {value*100/len(test_data):.1f}%\")"
   ]
  },
  {
   "cell_type": "code",
   "execution_count": 5,
   "metadata": {},
   "outputs": [],
   "source": [
    "def build_df(data):\n",
    "    output = []\n",
    "    for k,record in enumerate(data):\n",
    "        temp = [{\"id\": k, \"word\": word, \"label\": label} for word, label in record]\n",
    "        output.extend(temp)\n",
    "    return pd.DataFrame(output)"
   ]
  },
  {
   "cell_type": "code",
   "execution_count": 6,
   "metadata": {},
   "outputs": [
    {
     "data": {
      "text/html": [
       "<div>\n",
       "<style scoped>\n",
       "    .dataframe tbody tr th:only-of-type {\n",
       "        vertical-align: middle;\n",
       "    }\n",
       "\n",
       "    .dataframe tbody tr th {\n",
       "        vertical-align: top;\n",
       "    }\n",
       "\n",
       "    .dataframe thead th {\n",
       "        text-align: right;\n",
       "    }\n",
       "</style>\n",
       "<table border=\"1\" class=\"dataframe\">\n",
       "  <thead>\n",
       "    <tr style=\"text-align: right;\">\n",
       "      <th></th>\n",
       "      <th>id</th>\n",
       "      <th>label</th>\n",
       "      <th>word</th>\n",
       "    </tr>\n",
       "  </thead>\n",
       "  <tbody>\n",
       "    <tr>\n",
       "      <th>2853</th>\n",
       "      <td>120</td>\n",
       "      <td>False</td>\n",
       "      <td>But</td>\n",
       "    </tr>\n",
       "    <tr>\n",
       "      <th>2854</th>\n",
       "      <td>120</td>\n",
       "      <td>False</td>\n",
       "      <td>then</td>\n",
       "    </tr>\n",
       "    <tr>\n",
       "      <th>2855</th>\n",
       "      <td>120</td>\n",
       "      <td>False</td>\n",
       "      <td>it</td>\n",
       "    </tr>\n",
       "    <tr>\n",
       "      <th>2856</th>\n",
       "      <td>120</td>\n",
       "      <td>True</td>\n",
       "      <td>started</td>\n",
       "    </tr>\n",
       "    <tr>\n",
       "      <th>2857</th>\n",
       "      <td>120</td>\n",
       "      <td>False</td>\n",
       "      <td>there</td>\n",
       "    </tr>\n",
       "    <tr>\n",
       "      <th>2858</th>\n",
       "      <td>120</td>\n",
       "      <td>False</td>\n",
       "      <td>were</td>\n",
       "    </tr>\n",
       "    <tr>\n",
       "      <th>2859</th>\n",
       "      <td>120</td>\n",
       "      <td>False</td>\n",
       "      <td>wails</td>\n",
       "    </tr>\n",
       "    <tr>\n",
       "      <th>2860</th>\n",
       "      <td>120</td>\n",
       "      <td>False</td>\n",
       "      <td>and</td>\n",
       "    </tr>\n",
       "    <tr>\n",
       "      <th>2861</th>\n",
       "      <td>120</td>\n",
       "      <td>False</td>\n",
       "      <td>cries</td>\n",
       "    </tr>\n",
       "    <tr>\n",
       "      <th>2862</th>\n",
       "      <td>120</td>\n",
       "      <td>False</td>\n",
       "      <td>from</td>\n",
       "    </tr>\n",
       "    <tr>\n",
       "      <th>2863</th>\n",
       "      <td>120</td>\n",
       "      <td>False</td>\n",
       "      <td>the</td>\n",
       "    </tr>\n",
       "    <tr>\n",
       "      <th>2864</th>\n",
       "      <td>120</td>\n",
       "      <td>False</td>\n",
       "      <td>audience</td>\n",
       "    </tr>\n",
       "    <tr>\n",
       "      <th>2865</th>\n",
       "      <td>120</td>\n",
       "      <td>False</td>\n",
       "      <td>.</td>\n",
       "    </tr>\n",
       "  </tbody>\n",
       "</table>\n",
       "</div>"
      ],
      "text/plain": [
       "       id  label      word\n",
       "2853  120  False       But\n",
       "2854  120  False      then\n",
       "2855  120  False        it\n",
       "2856  120   True   started\n",
       "2857  120  False     there\n",
       "2858  120  False      were\n",
       "2859  120  False     wails\n",
       "2860  120  False       and\n",
       "2861  120  False     cries\n",
       "2862  120  False      from\n",
       "2863  120  False       the\n",
       "2864  120  False  audience\n",
       "2865  120  False         ."
      ]
     },
     "execution_count": 6,
     "metadata": {},
     "output_type": "execute_result"
    }
   ],
   "source": [
    "test_df = build_df(test_data)\n",
    "test_df.loc[test_df.id==120]"
   ]
  },
  {
   "cell_type": "code",
   "execution_count": 7,
   "metadata": {},
   "outputs": [
    {
     "data": {
      "text/plain": [
       "False    96.700021\n",
       "True      3.299979\n",
       "Name: label, dtype: float64"
      ]
     },
     "execution_count": 7,
     "metadata": {},
     "output_type": "execute_result"
    }
   ],
   "source": [
    "# Check class imbalance\n",
    "test_df.label.value_counts(normalize=True) * 100"
   ]
  },
  {
   "cell_type": "markdown",
   "metadata": {},
   "source": [
    "#### Generate training data. Use Reddit posts"
   ]
  },
  {
   "cell_type": "markdown",
   "metadata": {},
   "source": [
    "##### Clean and prepare data"
   ]
  },
  {
   "cell_type": "code",
   "execution_count": 152,
   "metadata": {},
   "outputs": [],
   "source": [
    "folder = REPO / \"cmv\" / \"all\"\n",
    "filename = \"heldout_period_data.jsonlist.bz2\"\n",
    "with bz2.open(folder / filename, mode=\"rt\") as f:\n",
    "    lines = f.readlines()\n",
    "    data = [json.loads(line) for line in lines]"
   ]
  },
  {
   "cell_type": "code",
   "execution_count": 104,
   "metadata": {},
   "outputs": [],
   "source": [
    "def check_comment(comment):\n",
    "    text = comment.get(\"body\", \"\")\n",
    "    patt = r\"Confirmed:.*awarded.*|This delta is currently disallowed.*|You cannot award OP a delta as.*\"\n",
    "    match = re.search(patt, text)\n",
    "    if not text or text == \"[deleted]\" or match:\n",
    "        return False\n",
    "    return True"
   ]
  },
  {
   "cell_type": "code",
   "execution_count": 101,
   "metadata": {},
   "outputs": [],
   "source": [
    "def custom_replacement(m):\n",
    "    if not m.group(1):\n",
    "        return \". \"\n",
    "    else:\n",
    "        return m.group(1)+\" \""
   ]
  },
  {
   "cell_type": "code",
   "execution_count": 140,
   "metadata": {},
   "outputs": [],
   "source": [
    "GRUBER_URLINTEXT_PAT = re.compile(r'(?i)\\b((?:https?://|www\\d{0,3}[.]|[a-z0-9.\\-]+[.][a-z]{2,4}/)(?:[^\\s()<>]|\\(([^\\s()<>]+|(\\([^\\s()<>]+\\)))*\\))+(?:\\(([^\\s()<>]+|(\\([^\\s()<>]+\\)))*\\)|[^\\s`!()\\[\\]{};:\\'\".,<>?\\xab\\xbb\\u201c\\u201d\\u2018\\u2019]))')"
   ]
  },
  {
   "cell_type": "code",
   "execution_count": 141,
   "metadata": {},
   "outputs": [],
   "source": [
    "def process_comment(comment, patt_code=r\"&amp;#(\\d+);\"):\n",
    "    text = comment.get(\"body\", \"\")\n",
    "    text = re.sub(r\"\\[(.*?)\\](\\s*)\\((http(s?):/)?/.*?\\)\", r\"\\1\", text)\n",
    "    text = re.sub(r\"([.!?:])?\\s*[\\n|\\r]+\\s*\", custom_replacement, text)\n",
    "    if re.search(patt_code, text):\n",
    "        text = re.sub(patt_code, lambda x: chr(int(x.group(1), 10)), text)\n",
    "    text = re.sub(r\"&gt;|#(\\d+);(\\.)?|&lt;|&amp;nbsp;(\\.)?\", \"\", text)\n",
    "    text = re.sub(r\"&amp;\", \"and\", text)\n",
    "    text = GRUBER_URLINTEXT_PAT.sub(\"\", text)\n",
    "    text = text.strip()\n",
    "    return text"
   ]
  },
  {
   "cell_type": "code",
   "execution_count": 154,
   "metadata": {},
   "outputs": [],
   "source": [
    "comments = []\n",
    "k = 0\n",
    "N = 10000\n",
    "for el in data:\n",
    "    for comment in el[\"comments\"]:\n",
    "        if k > N:\n",
    "            break\n",
    "        if check_comment(comment):\n",
    "            comments.append(process_comment(comment)+\"\\n\")\n",
    "            k += 1"
   ]
  },
  {
   "cell_type": "code",
   "execution_count": 155,
   "metadata": {},
   "outputs": [],
   "source": [
    "with open(\"data.txt\", \"w+\") as f:\n",
    "    f.writelines(comments)"
   ]
  },
  {
   "cell_type": "markdown",
   "metadata": {},
   "source": [
    "##### Generate Run-on sentences"
   ]
  },
  {
   "cell_type": "code",
   "execution_count": 8,
   "metadata": {},
   "outputs": [],
   "source": [
    "with open(\"data.txt\", \"r\") as f:\n",
    "    comments = f.read().splitlines()"
   ]
  },
  {
   "cell_type": "code",
   "execution_count": 9,
   "metadata": {},
   "outputs": [],
   "source": [
    "nlp = spacy.load(\"en\", disable=[\"ner\", \"textcat\"])"
   ]
  },
  {
   "cell_type": "code",
   "execution_count": 13,
   "metadata": {},
   "outputs": [],
   "source": [
    "doc = nlp(comments[5])\n",
    "sentences = [sent for sent in doc.sents]"
   ]
  },
  {
   "cell_type": "code",
   "execution_count": 25,
   "metadata": {},
   "outputs": [
    {
     "data": {
      "text/plain": [
       "'PUNCT'"
      ]
     },
     "execution_count": 25,
     "metadata": {},
     "output_type": "execute_result"
    }
   ],
   "source": [
    "sentences[0][-1].pos_"
   ]
  },
  {
   "cell_type": "code",
   "execution_count": 94,
   "metadata": {},
   "outputs": [
    {
     "data": {
      "text/plain": [
       "[In the event that the President is either killed or resigns, the Vice President is a horrible choice to take over office.,\n",
       " Seriously, stop with the hyperbole.,\n",
       " Say this with a straight face \"Teddy Roosevelt was a horrible President.\",\n",
       " Or \"Harry Truman was a horrible President.\".  ,\n",
       " I'm willing to bet that John Boehner would have an easier time dealing with Congress as President than Joe Biden would due to his constant interaction with it.,\n",
       " Do you think that could have *anything* to do with the fact that Boehner is a Republican, and Congress is controlled by Republicans?  ,\n",
       " That argument has much less to do with the individuals than it does with the current party in control.]"
      ]
     },
     "execution_count": 94,
     "metadata": {},
     "output_type": "execute_result"
    }
   ],
   "source": [
    "sentences"
   ]
  },
  {
   "cell_type": "code",
   "execution_count": 432,
   "metadata": {},
   "outputs": [],
   "source": [
    "sentences = list(\"abcdefg\")"
   ]
  },
  {
   "cell_type": "code",
   "execution_count": 804,
   "metadata": {},
   "outputs": [],
   "source": [
    "idx = []\n",
    "k = 0\n",
    "counter = 0\n",
    "LIMIT = 2\n",
    "for i in range(len(sentences)):\n",
    "    if random.random() <= 0.2 and not counter:\n",
    "        k += 1\n",
    "        idx.append(k)\n",
    "    else:\n",
    "        idx.append(k)\n",
    "        counter += 1\n",
    "        if random.random() <= 0.025 and counter < LIMIT:\n",
    "            continue\n",
    "        else:\n",
    "            counter = 0\n",
    "            k += 1"
   ]
  },
  {
   "cell_type": "code",
   "execution_count": 805,
   "metadata": {},
   "outputs": [
    {
     "data": {
      "text/plain": [
       "[0, 1, 3, 3, 5, 5, 7]"
      ]
     },
     "execution_count": 805,
     "metadata": {},
     "output_type": "execute_result"
    }
   ],
   "source": [
    "idx"
   ]
  }
 ],
 "metadata": {
  "kernelspec": {
   "display_name": "Python 3",
   "language": "python",
   "name": "python3"
  },
  "language_info": {
   "codemirror_mode": {
    "name": "ipython",
    "version": 3
   },
   "file_extension": ".py",
   "mimetype": "text/x-python",
   "name": "python",
   "nbconvert_exporter": "python",
   "pygments_lexer": "ipython3",
   "version": "3.6.0"
  }
 },
 "nbformat": 4,
 "nbformat_minor": 2
}
