{
 "cells": [
  {
   "cell_type": "code",
   "execution_count": 53,
   "metadata": {},
   "outputs": [
    {
     "name": "stdout",
     "output_type": "stream",
     "text": [
      "The autoreload extension is already loaded. To reload it, use:\n",
      "  %reload_ext autoreload\n"
     ]
    }
   ],
   "source": [
    "%load_ext autoreload\n",
    "%autoreload 1"
   ]
  },
  {
   "cell_type": "code",
   "execution_count": 108,
   "metadata": {},
   "outputs": [],
   "source": [
    "import json\n",
    "import pandas as pd\n",
    "import numpy as np\n",
    "from collections import Counter\n",
    "from pathlib import Path\n",
    "import bz2\n",
    "import re\n",
    "import string\n",
    "from pyparsing import Forward, Word, ZeroOrMore, alphanums, Suppress"
   ]
  },
  {
   "cell_type": "code",
   "execution_count": 55,
   "metadata": {},
   "outputs": [],
   "source": [
    "%aimport config\n",
    "from config import REPO"
   ]
  },
  {
   "cell_type": "markdown",
   "metadata": {},
   "source": [
    "#### Read the data"
   ]
  },
  {
   "cell_type": "code",
   "execution_count": 39,
   "metadata": {},
   "outputs": [],
   "source": [
    "file_test = \"run-on-test.json\"\n",
    "with open(file_test) as f:\n",
    "    test_data = json.load(f)"
   ]
  },
  {
   "cell_type": "code",
   "execution_count": 40,
   "metadata": {},
   "outputs": [],
   "source": [
    "def sum_true(x):\n",
    "    return sum([el[-1] for el in x])"
   ]
  },
  {
   "cell_type": "code",
   "execution_count": 55,
   "metadata": {},
   "outputs": [
    {
     "name": "stdout",
     "output_type": "stream",
     "text": [
      "Run-ons: 1\n",
      "frq: 145, percentage: 72.5%\n",
      "Run-ons: 0\n",
      "frq: 50, percentage: 25.0%\n",
      "Run-ons: 2\n",
      "frq: 5, percentage: 2.5%\n"
     ]
    }
   ],
   "source": [
    "frq = Counter([sum_true(el) for el in test_data])\n",
    "for key, value in frq.most_common():\n",
    "    print(f\"Run-ons: {key}\\nfrq: {value}, percentage: {value*100/len(test_data):.1f}%\")"
   ]
  },
  {
   "cell_type": "code",
   "execution_count": 60,
   "metadata": {},
   "outputs": [],
   "source": [
    "def build_df(data):\n",
    "    output = []\n",
    "    for k,record in enumerate(data):\n",
    "        temp = [{\"id\": k, \"word\": word, \"label\": label} for word, label in record]\n",
    "        output.extend(temp)\n",
    "    return pd.DataFrame(output)"
   ]
  },
  {
   "cell_type": "code",
   "execution_count": 221,
   "metadata": {},
   "outputs": [
    {
     "data": {
      "text/html": [
       "<div>\n",
       "<style scoped>\n",
       "    .dataframe tbody tr th:only-of-type {\n",
       "        vertical-align: middle;\n",
       "    }\n",
       "\n",
       "    .dataframe tbody tr th {\n",
       "        vertical-align: top;\n",
       "    }\n",
       "\n",
       "    .dataframe thead th {\n",
       "        text-align: right;\n",
       "    }\n",
       "</style>\n",
       "<table border=\"1\" class=\"dataframe\">\n",
       "  <thead>\n",
       "    <tr style=\"text-align: right;\">\n",
       "      <th></th>\n",
       "      <th>id</th>\n",
       "      <th>label</th>\n",
       "      <th>word</th>\n",
       "    </tr>\n",
       "  </thead>\n",
       "  <tbody>\n",
       "    <tr>\n",
       "      <th>1856</th>\n",
       "      <td>79</td>\n",
       "      <td>False</td>\n",
       "      <td>This</td>\n",
       "    </tr>\n",
       "    <tr>\n",
       "      <th>1857</th>\n",
       "      <td>79</td>\n",
       "      <td>False</td>\n",
       "      <td>is</td>\n",
       "    </tr>\n",
       "    <tr>\n",
       "      <th>1858</th>\n",
       "      <td>79</td>\n",
       "      <td>False</td>\n",
       "      <td>evidenced</td>\n",
       "    </tr>\n",
       "    <tr>\n",
       "      <th>1859</th>\n",
       "      <td>79</td>\n",
       "      <td>False</td>\n",
       "      <td>by</td>\n",
       "    </tr>\n",
       "    <tr>\n",
       "      <th>1860</th>\n",
       "      <td>79</td>\n",
       "      <td>False</td>\n",
       "      <td>results</td>\n",
       "    </tr>\n",
       "    <tr>\n",
       "      <th>1861</th>\n",
       "      <td>79</td>\n",
       "      <td>False</td>\n",
       "      <td>of</td>\n",
       "    </tr>\n",
       "    <tr>\n",
       "      <th>1862</th>\n",
       "      <td>79</td>\n",
       "      <td>False</td>\n",
       "      <td>a</td>\n",
       "    </tr>\n",
       "    <tr>\n",
       "      <th>1863</th>\n",
       "      <td>79</td>\n",
       "      <td>False</td>\n",
       "      <td>public</td>\n",
       "    </tr>\n",
       "    <tr>\n",
       "      <th>1864</th>\n",
       "      <td>79</td>\n",
       "      <td>False</td>\n",
       "      <td>polling</td>\n",
       "    </tr>\n",
       "    <tr>\n",
       "      <th>1865</th>\n",
       "      <td>79</td>\n",
       "      <td>True</td>\n",
       "      <td>exercise</td>\n",
       "    </tr>\n",
       "    <tr>\n",
       "      <th>1866</th>\n",
       "      <td>79</td>\n",
       "      <td>False</td>\n",
       "      <td>Most</td>\n",
       "    </tr>\n",
       "    <tr>\n",
       "      <th>1867</th>\n",
       "      <td>79</td>\n",
       "      <td>False</td>\n",
       "      <td>of</td>\n",
       "    </tr>\n",
       "    <tr>\n",
       "      <th>1868</th>\n",
       "      <td>79</td>\n",
       "      <td>False</td>\n",
       "      <td>the</td>\n",
       "    </tr>\n",
       "    <tr>\n",
       "      <th>1869</th>\n",
       "      <td>79</td>\n",
       "      <td>False</td>\n",
       "      <td>cities</td>\n",
       "    </tr>\n",
       "    <tr>\n",
       "      <th>1870</th>\n",
       "      <td>79</td>\n",
       "      <td>False</td>\n",
       "      <td>are</td>\n",
       "    </tr>\n",
       "    <tr>\n",
       "      <th>1871</th>\n",
       "      <td>79</td>\n",
       "      <td>False</td>\n",
       "      <td>not</td>\n",
       "    </tr>\n",
       "    <tr>\n",
       "      <th>1872</th>\n",
       "      <td>79</td>\n",
       "      <td>False</td>\n",
       "      <td>willing</td>\n",
       "    </tr>\n",
       "    <tr>\n",
       "      <th>1873</th>\n",
       "      <td>79</td>\n",
       "      <td>False</td>\n",
       "      <td>to</td>\n",
       "    </tr>\n",
       "    <tr>\n",
       "      <th>1874</th>\n",
       "      <td>79</td>\n",
       "      <td>False</td>\n",
       "      <td>risk</td>\n",
       "    </tr>\n",
       "    <tr>\n",
       "      <th>1875</th>\n",
       "      <td>79</td>\n",
       "      <td>False</td>\n",
       "      <td>the</td>\n",
       "    </tr>\n",
       "    <tr>\n",
       "      <th>1876</th>\n",
       "      <td>79</td>\n",
       "      <td>False</td>\n",
       "      <td>lives</td>\n",
       "    </tr>\n",
       "    <tr>\n",
       "      <th>1877</th>\n",
       "      <td>79</td>\n",
       "      <td>False</td>\n",
       "      <td>of</td>\n",
       "    </tr>\n",
       "    <tr>\n",
       "      <th>1878</th>\n",
       "      <td>79</td>\n",
       "      <td>False</td>\n",
       "      <td>its</td>\n",
       "    </tr>\n",
       "    <tr>\n",
       "      <th>1879</th>\n",
       "      <td>79</td>\n",
       "      <td>False</td>\n",
       "      <td>residents</td>\n",
       "    </tr>\n",
       "    <tr>\n",
       "      <th>1880</th>\n",
       "      <td>79</td>\n",
       "      <td>False</td>\n",
       "      <td>in</td>\n",
       "    </tr>\n",
       "    <tr>\n",
       "      <th>1881</th>\n",
       "      <td>79</td>\n",
       "      <td>False</td>\n",
       "      <td>order</td>\n",
       "    </tr>\n",
       "    <tr>\n",
       "      <th>1882</th>\n",
       "      <td>79</td>\n",
       "      <td>False</td>\n",
       "      <td>to</td>\n",
       "    </tr>\n",
       "    <tr>\n",
       "      <th>1883</th>\n",
       "      <td>79</td>\n",
       "      <td>False</td>\n",
       "      <td>save</td>\n",
       "    </tr>\n",
       "    <tr>\n",
       "      <th>1884</th>\n",
       "      <td>79</td>\n",
       "      <td>False</td>\n",
       "      <td>the</td>\n",
       "    </tr>\n",
       "    <tr>\n",
       "      <th>1885</th>\n",
       "      <td>79</td>\n",
       "      <td>False</td>\n",
       "      <td>climate</td>\n",
       "    </tr>\n",
       "    <tr>\n",
       "      <th>1886</th>\n",
       "      <td>79</td>\n",
       "      <td>False</td>\n",
       "      <td>.</td>\n",
       "    </tr>\n",
       "  </tbody>\n",
       "</table>\n",
       "</div>"
      ],
      "text/plain": [
       "      id  label       word\n",
       "1856  79  False       This\n",
       "1857  79  False         is\n",
       "1858  79  False  evidenced\n",
       "1859  79  False         by\n",
       "1860  79  False    results\n",
       "1861  79  False         of\n",
       "1862  79  False          a\n",
       "1863  79  False     public\n",
       "1864  79  False    polling\n",
       "1865  79   True   exercise\n",
       "1866  79  False       Most\n",
       "1867  79  False         of\n",
       "1868  79  False        the\n",
       "1869  79  False     cities\n",
       "1870  79  False        are\n",
       "1871  79  False        not\n",
       "1872  79  False    willing\n",
       "1873  79  False         to\n",
       "1874  79  False       risk\n",
       "1875  79  False        the\n",
       "1876  79  False      lives\n",
       "1877  79  False         of\n",
       "1878  79  False        its\n",
       "1879  79  False  residents\n",
       "1880  79  False         in\n",
       "1881  79  False      order\n",
       "1882  79  False         to\n",
       "1883  79  False       save\n",
       "1884  79  False        the\n",
       "1885  79  False    climate\n",
       "1886  79  False          ."
      ]
     },
     "execution_count": 221,
     "metadata": {},
     "output_type": "execute_result"
    }
   ],
   "source": [
    "test_df = build_df(test_data)\n",
    "test_df.loc[test_df.id==79]"
   ]
  },
  {
   "cell_type": "code",
   "execution_count": 77,
   "metadata": {},
   "outputs": [
    {
     "data": {
      "text/plain": [
       "False    96.700021\n",
       "True      3.299979\n",
       "Name: label, dtype: float64"
      ]
     },
     "execution_count": 77,
     "metadata": {},
     "output_type": "execute_result"
    }
   ],
   "source": [
    "# Check class imbalance\n",
    "test_df.label.value_counts(normalize=True) * 100"
   ]
  },
  {
   "cell_type": "markdown",
   "metadata": {},
   "source": [
    "#### Generate training data. Use Reddit data"
   ]
  },
  {
   "cell_type": "code",
   "execution_count": 63,
   "metadata": {},
   "outputs": [],
   "source": [
    "folder = REPO / \"cmv\" / \"all\"\n",
    "filename = \"heldout_period_data.jsonlist.bz2\"\n",
    "with bz2.open(folder / filename, mode=\"rt\") as f:\n",
    "    lines = f.readlines()\n",
    "    data = [json.loads(line) for line in lines]"
   ]
  },
  {
   "cell_type": "code",
   "execution_count": 79,
   "metadata": {},
   "outputs": [],
   "source": [
    "def check_comment(comment):\n",
    "    text = comment.get(\"body\", \"\")\n",
    "    if not text or text == \"[deleted]\":\n",
    "        return False\n",
    "    return True"
   ]
  },
  {
   "cell_type": "code",
   "execution_count": 137,
   "metadata": {},
   "outputs": [],
   "source": [
    "def process_comment(comment):\n",
    "    text = comment.get(\"body\", \"\")\n",
    "    text = re.sub(r\"\\(.*?\\)\", \"\", text)\n",
    "    text = re.sub(r\"[\\n|\\r]+\", \"\", text)\n",
    "    return text"
   ]
  },
  {
   "cell_type": "code",
   "execution_count": 145,
   "metadata": {},
   "outputs": [],
   "source": [
    "comments = [process_comment(comment)+\"\\n\" for el in data for comment in el[\"comments\"] \n",
    "            if check_comment(comment)]\n",
    "N = 10000\n",
    "with open(\"data.txt\", \"w+\") as f:\n",
    "    f.writelines(comments[:N])"
   ]
  }
 ],
 "metadata": {
  "kernelspec": {
   "display_name": "Python 3",
   "language": "python",
   "name": "python3"
  },
  "language_info": {
   "codemirror_mode": {
    "name": "ipython",
    "version": 3
   },
   "file_extension": ".py",
   "mimetype": "text/x-python",
   "name": "python",
   "nbconvert_exporter": "python",
   "pygments_lexer": "ipython3",
   "version": "3.6.3"
  }
 },
 "nbformat": 4,
 "nbformat_minor": 2
}
