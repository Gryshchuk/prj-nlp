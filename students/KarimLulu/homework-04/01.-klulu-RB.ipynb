{
 "cells": [
  {
   "cell_type": "code",
   "execution_count": 48,
   "metadata": {},
   "outputs": [],
   "source": [
    "import spacy\n",
    "from spacy import displacy\n",
    "import requests\n",
    "import wikipedia\n",
    "from bs4 import BeautifulSoup\n",
    "import wikipediaapi"
   ]
  },
  {
   "cell_type": "code",
   "execution_count": 2,
   "metadata": {},
   "outputs": [],
   "source": [
    "nlp = spacy.load('en_core_web_lg')"
   ]
  },
  {
   "cell_type": "code",
   "execution_count": 3,
   "metadata": {},
   "outputs": [],
   "source": [
    "s = \"\"\"Between 1507 and 1511 Dürer worked on some of his most celebrated paintings: \n",
    "Adam and Eve (1507), The Martyrdom of the Ten Thousand (1508, for Frederick of Saxony), \n",
    "Virgin with the Iris (1508), the altarpiece Assumption of the Virgin \n",
    "(1509, for Jacob Heller of Frankfurt), and Adoration of the Trinity (1511, for Matthaeus Landauer).\"\"\""
   ]
  },
  {
   "cell_type": "code",
   "execution_count": 4,
   "metadata": {},
   "outputs": [],
   "source": [
    "doc = nlp(s)"
   ]
  },
  {
   "cell_type": "code",
   "execution_count": 5,
   "metadata": {},
   "outputs": [
    {
     "name": "stdout",
     "output_type": "stream",
     "text": [
      "1507 ORG\n",
      "Dürer PERSON\n",
      "\n",
      "Adam PERSON\n",
      "Eve PERSON\n",
      "1507 ORG\n",
      "The Martyrdom of the Ten Thousand WORK_OF_ART\n",
      "Frederick of Saxony ORG\n",
      "\n",
      "Virgin PERSON\n",
      "Iris NORP\n",
      "1509 DATE\n",
      "Jacob Heller PERSON\n",
      "Frankfurt GPE\n",
      "Trinity ORG\n",
      "Matthaeus Landauer PERSON\n"
     ]
    }
   ],
   "source": [
    "for x in doc.ents:\n",
    "    print(x, x.label_)  "
   ]
  },
  {
   "cell_type": "code",
   "execution_count": 10,
   "metadata": {},
   "outputs": [],
   "source": [
    "# options = {'compact': True, 'bg': '#09a3d5',\n",
    "#            'color': 'white', 'font': 'Source Sans Pro'}\n",
    "#displacy.render(doc, style='dep', options=options, jupyter=True)"
   ]
  },
  {
   "cell_type": "code",
   "execution_count": 42,
   "metadata": {},
   "outputs": [],
   "source": [
    "title = \"Albrecht_Dürer\"\n",
    "p = wikipedia.page(title)"
   ]
  },
  {
   "cell_type": "code",
   "execution_count": 46,
   "metadata": {},
   "outputs": [
    {
     "data": {
      "text/plain": [
       "[]"
      ]
     },
     "execution_count": 46,
     "metadata": {},
     "output_type": "execute_result"
    }
   ],
   "source": [
    "p.sections"
   ]
  },
  {
   "cell_type": "code",
   "execution_count": 39,
   "metadata": {},
   "outputs": [],
   "source": [
    "url = \"https://en.wikipedia.org/w/api.php\"\n",
    "params = {\"action\": \"parse\",\n",
    "          \"format\": \"json\"}\n",
    "params[\"page\"] = title\n",
    "r = requests.get(url, params=params)"
   ]
  },
  {
   "cell_type": "code",
   "execution_count": 40,
   "metadata": {},
   "outputs": [],
   "source": [
    "raw_text = r.json()[\"parse\"][\"text\"][\"*\"]\n",
    "soup = BeautifulSoup(raw_text, \"html5lib\")\n",
    "text = soup.get_text()"
   ]
  },
  {
   "cell_type": "code",
   "execution_count": 49,
   "metadata": {},
   "outputs": [],
   "source": [
    "wiki_wiki = wikipediaapi.Wikipedia('en')"
   ]
  },
  {
   "cell_type": "code",
   "execution_count": 50,
   "metadata": {},
   "outputs": [],
   "source": [
    "page = wiki_wiki.page(title)"
   ]
  },
  {
   "cell_type": "code",
   "execution_count": 60,
   "metadata": {},
   "outputs": [
    {
     "name": "stdout",
     "output_type": "stream",
     "text": [
      "Early life (1471–1490) []\n",
      "Wanderjahre and marriage (1490–1494) []\n",
      "First journey to Italy (1494–1495) []\n",
      "Return to Nuremberg (1495–1505) []\n",
      "Second journey to Italy (1505–1507) []\n",
      "Nuremberg and the masterworks (1507–1520) ['Patronage of Maximilian I']\n",
      "Journey to the Netherlands (1520–1521) []\n",
      "Final years in Nuremberg (1521–1528) ['Dürer and the Reformation']\n",
      "Legacy and influence []\n",
      "Theoretical works ['Four Books on Measurement', 'Four Books on Human Proportion']\n",
      "Gallery []\n",
      "List of works []\n",
      "Notes []\n",
      "References []\n",
      "Further reading []\n",
      "External links []\n"
     ]
    }
   ],
   "source": [
    "for s in page.sections:\n",
    "    print(s.title, [s1.title for s1 in s.sections])"
   ]
  }
 ],
 "metadata": {
  "kernelspec": {
   "display_name": "Python 3",
   "language": "python",
   "name": "python3"
  },
  "language_info": {
   "codemirror_mode": {
    "name": "ipython",
    "version": 3
   },
   "file_extension": ".py",
   "mimetype": "text/x-python",
   "name": "python",
   "nbconvert_exporter": "python",
   "pygments_lexer": "ipython3",
   "version": "3.6.3"
  }
 },
 "nbformat": 4,
 "nbformat_minor": 2
}
