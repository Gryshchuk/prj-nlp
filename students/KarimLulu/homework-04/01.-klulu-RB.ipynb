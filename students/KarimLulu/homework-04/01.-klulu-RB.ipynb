{
 "cells": [
  {
   "cell_type": "code",
   "execution_count": 98,
   "metadata": {},
   "outputs": [],
   "source": [
    "import spacy\n",
    "from spacy import displacy\n",
    "import requests\n",
    "import wikipedia\n",
    "from bs4 import BeautifulSoup\n",
    "import wikipediaapi\n",
    "from wikipediaapi.wikipedia import WikipediaPage, WikipediaPageSection\n",
    "from uuid import uuid4\n",
    "import hashlib\n",
    "from itertools import zip_longest"
   ]
  },
  {
   "cell_type": "code",
   "execution_count": 2,
   "metadata": {},
   "outputs": [],
   "source": [
    "nlp = spacy.load('en_core_web_lg')"
   ]
  },
  {
   "cell_type": "code",
   "execution_count": 3,
   "metadata": {},
   "outputs": [],
   "source": [
    "s = \"\"\"Between 1507 and 1511 Dürer worked on some of his most celebrated paintings: \n",
    "Adam and Eve (1507), The Martyrdom of the Ten Thousand (1508, for Frederick of Saxony), \n",
    "Virgin with the Iris (1508), the altarpiece Assumption of the Virgin \n",
    "(1509, for Jacob Heller of Frankfurt), and Adoration of the Trinity (1511, for Matthaeus Landauer).\"\"\""
   ]
  },
  {
   "cell_type": "code",
   "execution_count": 4,
   "metadata": {},
   "outputs": [],
   "source": [
    "doc = nlp(s)"
   ]
  },
  {
   "cell_type": "code",
   "execution_count": 5,
   "metadata": {},
   "outputs": [
    {
     "name": "stdout",
     "output_type": "stream",
     "text": [
      "1507 ORG\n",
      "Dürer PERSON\n",
      "\n",
      "Adam PERSON\n",
      "Eve PERSON\n",
      "1507 ORG\n",
      "The Martyrdom of the Ten Thousand WORK_OF_ART\n",
      "Frederick of Saxony ORG\n",
      "\n",
      "Virgin PERSON\n",
      "Iris NORP\n",
      "1509 DATE\n",
      "Jacob Heller PERSON\n",
      "Frankfurt GPE\n",
      "Trinity ORG\n",
      "Matthaeus Landauer PERSON\n"
     ]
    }
   ],
   "source": [
    "for x in doc.ents:\n",
    "    print(x, x.label_)  "
   ]
  },
  {
   "cell_type": "code",
   "execution_count": 10,
   "metadata": {},
   "outputs": [],
   "source": [
    "# options = {'compact': True, 'bg': '#09a3d5',\n",
    "#            'color': 'white', 'font': 'Source Sans Pro'}\n",
    "#displacy.render(doc, style='dep', options=options, jupyter=True)"
   ]
  },
  {
   "cell_type": "code",
   "execution_count": 2,
   "metadata": {},
   "outputs": [],
   "source": []
  },
  {
   "cell_type": "code",
   "execution_count": 39,
   "metadata": {},
   "outputs": [],
   "source": [
    "url = \"https://en.wikipedia.org/w/api.php\"\n",
    "params = {\"action\": \"parse\",\n",
    "          \"format\": \"json\"}\n",
    "params[\"page\"] = title\n",
    "r = requests.get(url, params=params)"
   ]
  },
  {
   "cell_type": "code",
   "execution_count": 40,
   "metadata": {},
   "outputs": [],
   "source": [
    "raw_text = r.json()[\"parse\"][\"text\"][\"*\"]\n",
    "soup = BeautifulSoup(raw_text, \"html5lib\")\n",
    "text = soup.get_text()"
   ]
  },
  {
   "cell_type": "code",
   "execution_count": 61,
   "metadata": {},
   "outputs": [],
   "source": [
    "title = \"Albrecht_Dürer\"\n",
    "page = wiki_wiki.page(title)"
   ]
  },
  {
   "cell_type": "code",
   "execution_count": 144,
   "metadata": {},
   "outputs": [],
   "source": [
    "def add_section(section=None, path=None, page=None, parent=\"\", output={}):\n",
    "    if isinstance(section, (WikipediaPage, WikipediaPageSection)):\n",
    "        title = section.title\n",
    "        text = section.text\n",
    "        level = section.level\n",
    "    else:  \n",
    "        title = \"summary\"\n",
    "        text = section\n",
    "        level = 1\n",
    "    new_path = f\"{path}/{title}\"\n",
    "    start = page.index(text)\n",
    "    end = start + len(text)\n",
    "    hash_value = hashlib.md5(new_path.encode()).hexdigest()\n",
    "    output[hash_value] = {\"parent\": parent, \n",
    "                          \"level\": level, \n",
    "                          \"start\": start,\n",
    "                          \"end\": end,\n",
    "                          \"title\": title,\n",
    "                          \"path\": new_path}\n",
    "    return output, new_path"
   ]
  },
  {
   "cell_type": "code",
   "execution_count": 142,
   "metadata": {},
   "outputs": [],
   "source": [
    "def parse_sections(data, page=None, output=None, parent=\"\", path=\"\"):\n",
    "    if output is None:\n",
    "        output = {}\n",
    "    if isinstance(data, WikipediaPage):\n",
    "        output, _ = add_section(data.summary, path, page, parent, output=output)\n",
    "    for s in data.sections:\n",
    "        output, new_path = add_section(s, path, page, parent, output=output)\n",
    "        if s.sections:\n",
    "            parse_sections(s, parent=s.title, output=output, path=new_path, page=page)\n",
    "    return output"
   ]
  },
  {
   "cell_type": "code",
   "execution_count": 145,
   "metadata": {},
   "outputs": [],
   "source": [
    "d = parse_sections(page, page=page.text)"
   ]
  },
  {
   "cell_type": "code",
   "execution_count": 150,
   "metadata": {},
   "outputs": [],
   "source": [
    "# for key, value in d.items():\n",
    "#     print(value[\"title\"])\n",
    "#     print(value[\"start\"], value[\"end\"])\n",
    "#     print(page.text[value[\"start\"]:value[\"end\"]])"
   ]
  },
  {
   "cell_type": "code",
   "execution_count": null,
   "metadata": {},
   "outputs": [],
   "source": []
  }
 ],
 "metadata": {
  "kernelspec": {
   "display_name": "Python 3",
   "language": "python",
   "name": "python3"
  },
  "language_info": {
   "codemirror_mode": {
    "name": "ipython",
    "version": 3
   },
   "file_extension": ".py",
   "mimetype": "text/x-python",
   "name": "python",
   "nbconvert_exporter": "python",
   "pygments_lexer": "ipython3",
   "version": "3.6.0"
  }
 },
 "nbformat": 4,
 "nbformat_minor": 2
}
