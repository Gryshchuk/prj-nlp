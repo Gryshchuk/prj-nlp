{
 "cells": [
  {
   "cell_type": "code",
   "execution_count": 2,
   "metadata": {},
   "outputs": [
    {
     "data": {
      "text/markdown": [
       "## News Headlines\n",
       "\n",
       "### 1. Formating\n",
       "\n",
       "[The Associated Press Stylebook](https://www.amazon.com/Associated-Press-Stylebook-2017-Briefing/dp/0465093043/) is a style guide widely used among American journalists. It enforces the following rules for capitalization of news headlines:\n",
       "\n",
       "1. Capitalize nouns, pronouns, adjectives, verbs, adverbs, and subordinate conjunctions. If a word is hyphenated, every part of the word should be capitalized (e.g., \"Self-Reflection\" not \"Self-reflection\").\n",
       "2. Capitalize the first and the last word.\n",
       "3. Lowercase all other parts of speech: articles, coordinating conjunctions, prepositions, particles, interjections.\n",
       "\n",
       "Write a program that formats a headline according to the rules above. Use any programming language and any NLP toolkit.\n",
       "\n",
       "When done, run your program on [the corpus of headlines from The Examiner](examiner-headlines.txt) and submit your program and a file with corrected headlines to your directory. Output statistics: how many titles were properly formatted?\n",
       "\n",
       "### 2. Catch catchy headlines\n",
       "\n",
       "The paper on [Automatic Extraction of News Values from Headline Text](http://www.aclweb.org/anthology/E17-4007) defines that a catchy headline has the following features:\n",
       "1. Prominence\n",
       "2. Sentiment\n",
       "3. Superlativeness\n",
       "4. Proximity\n",
       "5. Surprise\n",
       "6. Uniqueness\n",
       "\n",
       "Write a program that analyzes a headline for prominence (a.k.a, named entities), sentiment, and superlativeness. For sentiment, check if the average sentiment for the top 5 meanings of word+POS in [SentiWordNet](http://sentiwordnet.isti.cnr.it/) is above 0.5.\n",
       "\n",
       "When done, run your program on [the corpus of headlines](examiner-headlines.txt), extract the headlines that have at least one of the described features, and submit your program and a file with catchy headlines to your directory.\n",
       "\n",
       "### Additional notes\n",
       "\n",
       "The data set was borrowed from https://www.kaggle.com/therohk/examine-the-examiner.\n"
      ],
      "text/plain": [
       "<IPython.core.display.Markdown object>"
      ]
     },
     "metadata": {},
     "output_type": "display_data"
    }
   ],
   "source": [
    "task_dir = '../../../../tasks/02-structural-linguistics/'\n",
    "\n",
    "from IPython.display import display, Markdown\n",
    "\n",
    "with open(task_dir + '2-headlines.md', 'r') as fh:\n",
    "    content = fh.read()\n",
    "\n",
    "display(Markdown(content))"
   ]
  },
  {
   "cell_type": "code",
   "execution_count": 3,
   "metadata": {},
   "outputs": [],
   "source": [
    "with open(task_dir + 'examiner-headlines.txt', 'r') as f:\n",
    "    headers = f.readlines()\n",
    "    headers = [h.strip() for h in headers]"
   ]
  },
  {
   "cell_type": "markdown",
   "metadata": {},
   "source": [
    "# I. Formatting"
   ]
  },
  {
   "cell_type": "code",
   "execution_count": 3,
   "metadata": {},
   "outputs": [],
   "source": [
    "import spacy\n",
    "import regex as re\n",
    "from spacy.tokenizer import Tokenizer\n",
    "\n",
    "infix_re = re.compile(r'''[~]''')\n",
    "# Overriding splitting on hyphen\n",
    "def custom_tokenizer(nlp):\n",
    "    return Tokenizer(nlp.vocab, infix_finditer=infix_re.finditer)\n",
    "\n",
    "nlp = spacy.load('en_core_web_md')\n",
    "nlp.tokenizer = custom_tokenizer(nlp)"
   ]
  },
  {
   "cell_type": "code",
   "execution_count": 4,
   "metadata": {},
   "outputs": [
    {
     "name": "stdout",
     "output_type": "stream",
     "text": [
      "['Halep enters Rogers Cup final in straight sets win over Errani', \"The phantoms of St. Mary's\", \"Talladega turmoil could spell trouble for NASCAR's Chase field\"]\n"
     ]
    }
   ],
   "source": [
    "print(headers[0:3])"
   ]
  },
  {
   "cell_type": "code",
   "execution_count": 5,
   "metadata": {},
   "outputs": [],
   "source": [
    "def format(headline):\n",
    "    doc = nlp(headline);\n",
    "    tks = [token for token in doc]\n",
    "    needs_capitalization = [False for tk in tks]\n",
    "    # Capitalize nouns, pronouns, adjectives, verbs, adverbs, and subordinate conjunctions.\n",
    "    to_capitalize = [\"PROPN\", \"NOUN\", \"PRON\", \"ADJ\", \"VERB\", \"ADV\", \"SCONJ\"]\n",
    "\n",
    "    for index, token in enumerate(doc):\n",
    "        if (token.pos_ in to_capitalize):\n",
    "            needs_capitalization[index] = True\n",
    "        # Capitalize the first and the last word.\n",
    "        needs_capitalization[0] = True\n",
    "        needs_capitalization[-1] = True\n",
    "    res = \"\"\n",
    "    for index, token in enumerate(doc):\n",
    "        if (needs_capitalization[index]):\n",
    "            res += token.text.title() + ' ' \n",
    "        else:\n",
    "            res += token.text.lower() + ' ' \n",
    "    return res.strip()"
   ]
  },
  {
   "cell_type": "code",
   "execution_count": 6,
   "metadata": {},
   "outputs": [],
   "source": [
    "fixed_headlines = [format(h) for h in headers]"
   ]
  },
  {
   "cell_type": "code",
   "execution_count": 7,
   "metadata": {},
   "outputs": [
    {
     "name": "stdout",
     "output_type": "stream",
     "text": [
      "Output saved to format_output.txt\n"
     ]
    }
   ],
   "source": [
    "f = open('format_output.txt','w')\n",
    "f.write(\"\\n\".join(fixed_headlines))\n",
    "f.close()\n",
    "print(\"Output saved to format_output.txt\")"
   ]
  },
  {
   "cell_type": "code",
   "execution_count": 8,
   "metadata": {},
   "outputs": [
    {
     "name": "stdout",
     "output_type": "stream",
     "text": [
      "Fixed 4541 of total 5000 (90.82000000000001 %)\n"
     ]
    }
   ],
   "source": [
    "total_count = 0\n",
    "fixed_count = 0\n",
    "for original, fixed in zip(headers, fixed_headlines):\n",
    "    total_count += 1\n",
    "    if not original == fixed:\n",
    "        fixed_count += 1\n",
    "print(\"Fixed %s of total %s (%s %%)\" % (fixed_count, total_count, fixed_count / total_count * 100))"
   ]
  },
  {
   "cell_type": "markdown",
   "metadata": {},
   "source": [
    "# II Catch catchy headlines"
   ]
  },
  {
   "cell_type": "code",
   "execution_count": 4,
   "metadata": {},
   "outputs": [],
   "source": [
    "import spacy\n",
    "from nltk.corpus import sentiwordnet as swn\n",
    "from nltk.corpus import wordnet as wn"
   ]
  },
  {
   "cell_type": "code",
   "execution_count": 5,
   "metadata": {},
   "outputs": [],
   "source": [
    "nlp = spacy.load('en_core_web_md')"
   ]
  },
  {
   "cell_type": "code",
   "execution_count": 6,
   "metadata": {},
   "outputs": [],
   "source": [
    "def senti_pos(pos):\n",
    "    if (pos == 'VERB'):\n",
    "        return wn.VERB\n",
    "    if (pos == 'NOUN'):\n",
    "        return wn.NOUN\n",
    "    if (pos == 'ADJ'):\n",
    "        return wn.ADJ\n",
    "    if (pos == 'ADV'):\n",
    "        return wn.ADV\n",
    "    return None\n",
    "def get_avg_sent(word, pos = None):\n",
    "    synset = list(swn.senti_synsets(word, senti_pos(pos)))[0:5]\n",
    "    count = len(synset)\n",
    "    if (count == 0):\n",
    "        return 0\n",
    "    total_pos = 0\n",
    "    total_neg = 0\n",
    "    for syn in synset:\n",
    "        total_pos += syn.pos_score()\n",
    "        total_neg += syn.neg_score()\n",
    "    return (total_pos - total_neg) / count"
   ]
  },
  {
   "cell_type": "code",
   "execution_count": 13,
   "metadata": {},
   "outputs": [],
   "source": [
    "def is_prominent(headline):\n",
    "    doc = nlp(headline);\n",
    "    if (len(doc.ents) > 0):\n",
    "        return True\n",
    "    tks = [token for token in doc]\n",
    "    sent = 0\n",
    "    for token in tks:\n",
    "        if token.tag_ in ['JJS', 'RBS']:\n",
    "            return True\n",
    "        sent += get_avg_sent(str(token), token.pos_)\n",
    "    if (sent / len(tks)) > 0.5:\n",
    "        return True\n",
    "    return False"
   ]
  },
  {
   "cell_type": "code",
   "execution_count": 14,
   "metadata": {},
   "outputs": [
    {
     "name": "stdout",
     "output_type": "stream",
     "text": [
      "Done writing in catchy_output.txt\n"
     ]
    }
   ],
   "source": [
    "with open('catchy_output.txt', 'w') as out:\n",
    "    for  header in headers:\n",
    "        if (is_prominent(header)):\n",
    "            out.write(header)\n",
    "            out.write(\"\\n\")\n",
    "print('Done writing in catchy_output.txt')"
   ]
  },
  {
   "cell_type": "code",
   "execution_count": null,
   "metadata": {},
   "outputs": [],
   "source": []
  }
 ],
 "metadata": {
  "kernelspec": {
   "display_name": "Python 3",
   "language": "python",
   "name": "python3"
  },
  "language_info": {
   "codemirror_mode": {
    "name": "ipython",
    "version": 3
   },
   "file_extension": ".py",
   "mimetype": "text/x-python",
   "name": "python",
   "nbconvert_exporter": "python",
   "pygments_lexer": "ipython3",
   "version": "3.6.4"
  }
 },
 "nbformat": 4,
 "nbformat_minor": 2
}
