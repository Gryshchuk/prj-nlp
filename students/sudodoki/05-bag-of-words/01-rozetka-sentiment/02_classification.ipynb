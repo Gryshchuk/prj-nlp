{
 "cells": [
  {
   "cell_type": "code",
   "execution_count": 8,
   "metadata": {},
   "outputs": [],
   "source": [
    "import pandas as pd\n",
    "import re\n",
    "from sklearn.linear_model import LogisticRegression\n",
    "import sklearn.feature_extraction.text as sktext\n",
    "from sklearn.model_selection import train_test_split\n",
    "from sklearn import metrics"
   ]
  },
  {
   "cell_type": "code",
   "execution_count": 9,
   "metadata": {},
   "outputs": [
    {
     "data": {
      "text/html": [
       "<div>\n",
       "<style scoped>\n",
       "    .dataframe tbody tr th:only-of-type {\n",
       "        vertical-align: middle;\n",
       "    }\n",
       "\n",
       "    .dataframe tbody tr th {\n",
       "        vertical-align: top;\n",
       "    }\n",
       "\n",
       "    .dataframe thead th {\n",
       "        text-align: right;\n",
       "    }\n",
       "</style>\n",
       "<table border=\"1\" class=\"dataframe\">\n",
       "  <thead>\n",
       "    <tr style=\"text-align: right;\">\n",
       "      <th></th>\n",
       "      <th>class</th>\n",
       "      <th>review_markup</th>\n",
       "    </tr>\n",
       "  </thead>\n",
       "  <tbody>\n",
       "    <tr>\n",
       "      <th>0</th>\n",
       "      <td>neutral</td>\n",
       "      <td>Холодильником користуюсь близько трьох тижнів,...</td>\n",
       "    </tr>\n",
       "    <tr>\n",
       "      <th>1</th>\n",
       "      <td>positive</td>\n",
       "      <td>Любителям класики пораджу придбання двокамерно...</td>\n",
       "    </tr>\n",
       "    <tr>\n",
       "      <th>2</th>\n",
       "      <td>positive</td>\n",
       "      <td>Місяць вже як користуюся холодильником Купувал...</td>\n",
       "    </tr>\n",
       "    <tr>\n",
       "      <th>3</th>\n",
       "      <td>positive</td>\n",
       "      <td>Все чудово працює..стильний і гарна ціна!</td>\n",
       "    </tr>\n",
       "    <tr>\n",
       "      <th>4</th>\n",
       "      <td>positive</td>\n",
       "      <td>Питання до користувачів цим холодильником або ...</td>\n",
       "    </tr>\n",
       "  </tbody>\n",
       "</table>\n",
       "</div>"
      ],
      "text/plain": [
       "      class                                      review_markup\n",
       "0   neutral  Холодильником користуюсь близько трьох тижнів,...\n",
       "1  positive  Любителям класики пораджу придбання двокамерно...\n",
       "2  positive  Місяць вже як користуюся холодильником Купувал...\n",
       "3  positive          Все чудово працює..стильний і гарна ціна!\n",
       "4  positive  Питання до користувачів цим холодильником або ..."
      ]
     },
     "execution_count": 9,
     "metadata": {},
     "output_type": "execute_result"
    }
   ],
   "source": [
    "restored = pd.read_json('cleaned_data.json.gz')\n",
    "restored.head(5)"
   ]
  },
  {
   "cell_type": "code",
   "execution_count": 7,
   "metadata": {},
   "outputs": [],
   "source": [
    "X_train, X_test, y_train, y_test = train_test_split(restored['review_markup'], restored['class'], test_size=0.25, random_state=42, stratify=restored['class'])"
   ]
  },
  {
   "cell_type": "code",
   "execution_count": 15,
   "metadata": {},
   "outputs": [],
   "source": [
    "X_train.name = 'train'\n",
    "X_test.name = 'test'"
   ]
  },
  {
   "cell_type": "code",
   "execution_count": 11,
   "metadata": {},
   "outputs": [],
   "source": [
    "def preprocess(text):\n",
    "    return text\n",
    "dictionary_counter = sktext.CountVectorizer(preprocessor=preprocess, analyzer='char', ngram_range=(1, 4))\n",
    "dictionary_counter.fit_transform(X_train)\n",
    "def to_features(text):\n",
    "    return dictionary_counter.transform(text)"
   ]
  },
  {
   "cell_type": "code",
   "execution_count": 12,
   "metadata": {},
   "outputs": [],
   "source": [
    "def create_predictor(X_train, y_train):\n",
    "    predictor = LogisticRegression()\n",
    "    predictor.fit(to_features(X_train), y_train)\n",
    "    return predictor"
   ]
  },
  {
   "cell_type": "code",
   "execution_count": 13,
   "metadata": {},
   "outputs": [],
   "source": [
    "def predict(predictor, X):\n",
    "    return predictor.predict(to_features(X))"
   ]
  },
  {
   "cell_type": "code",
   "execution_count": 17,
   "metadata": {},
   "outputs": [
    {
     "data": {
      "text/plain": [
       "382     positive\n",
       "492     positive\n",
       "63      positive\n",
       "757     negative\n",
       "991     positive\n",
       "1156    positive\n",
       "739     positive\n",
       "1125    positive\n",
       "619     positive\n",
       "891     positive\n",
       "356     positive\n",
       "1012    positive\n",
       "940     positive\n",
       "1053    positive\n",
       "72      positive\n",
       "930     positive\n",
       "1296    negative\n",
       "89      positive\n",
       "1129    positive\n",
       "827     positive\n",
       "650      neutral\n",
       "1263    positive\n",
       "290     positive\n",
       "1229    positive\n",
       "1305    positive\n",
       "1085    positive\n",
       "1101    positive\n",
       "1037    positive\n",
       "175     positive\n",
       "1312    positive\n",
       "          ...   \n",
       "96      positive\n",
       "1088    positive\n",
       "137     positive\n",
       "551     positive\n",
       "500     positive\n",
       "380     positive\n",
       "1213    positive\n",
       "328     positive\n",
       "145     positive\n",
       "10      positive\n",
       "1093    positive\n",
       "227     positive\n",
       "1002    negative\n",
       "423     positive\n",
       "126     positive\n",
       "723     positive\n",
       "737     positive\n",
       "887     negative\n",
       "367      neutral\n",
       "94      positive\n",
       "243     positive\n",
       "1104    positive\n",
       "86      positive\n",
       "123     positive\n",
       "270      neutral\n",
       "211     positive\n",
       "705     positive\n",
       "569     negative\n",
       "1224    positive\n",
       "981     positive\n",
       "Name: class, Length: 1003, dtype: object"
      ]
     },
     "execution_count": 17,
     "metadata": {},
     "output_type": "execute_result"
    }
   ],
   "source": [
    "y_train"
   ]
  },
  {
   "cell_type": "code",
   "execution_count": 25,
   "metadata": {},
   "outputs": [],
   "source": [
    "def evaluate(label, predictor, X, y):\n",
    "    print(\"{}. Evaluating on {}.\".format(label, X.name))\n",
    "    y_pred = predict(predictor, X)\n",
    "    accuracy = metrics.accuracy_score(y, y_pred)\n",
    "    print(metrics.confusion_matrix(y, y_pred, labels=['positive', 'negative', 'neutral']))\n",
    "    print(\"Accuracy: {}\".format(accuracy))\n",
    "    return accuracy"
   ]
  },
  {
   "cell_type": "code",
   "execution_count": 26,
   "metadata": {},
   "outputs": [
    {
     "name": "stdout",
     "output_type": "stream",
     "text": [
      "Vanilla Logistic Regression, no preprocessing, default char ngrams 1-4. Evaluating on train.\n",
      "[[873   0   0]\n",
      " [  0  87   0]\n",
      " [  0   0  43]]\n",
      "Accuracy: 1.0\n",
      "Vanilla Logistic Regression, no preprocessing, default char ngrams 1-4. Evaluating on test.\n",
      "[[289   2   0]\n",
      " [ 15  14   0]\n",
      " [  4   3   8]]\n",
      "Accuracy: 0.9283582089552239\n"
     ]
    },
    {
     "data": {
      "text/plain": [
       "0.9283582089552239"
      ]
     },
     "execution_count": 26,
     "metadata": {},
     "output_type": "execute_result"
    }
   ],
   "source": [
    "predictor = create_predictor(X_train, y_train)\n",
    "evaluate(\"Vanilla Logistic Regression, no preprocessing, default char ngrams 1-4\", predictor, X_train, y_train)\n",
    "evaluate(\"Vanilla Logistic Regression, no preprocessing, default char ngrams 1-4\", predictor, X_test, y_test)"
   ]
  },
  {
   "cell_type": "markdown",
   "metadata": {},
   "source": [
    "TODO:\n",
    "    - кросвалідація замість тестової виборки\n",
    "    - використайте тональний словник для покращення якості класифікатора; поміряйте якість на тестовій вибірці\n",
    "    - спробуйте покращити якість роботи класифікатора іншими способами (фільтрування стоп-слів, використання лем слів, ваші варіанти)\n",
    "    - висновки"
   ]
  },
  {
   "cell_type": "code",
   "execution_count": null,
   "metadata": {},
   "outputs": [],
   "source": []
  }
 ],
 "metadata": {
  "kernelspec": {
   "display_name": "Python 3",
   "language": "python",
   "name": "python3"
  },
  "language_info": {
   "codemirror_mode": {
    "name": "ipython",
    "version": 3
   },
   "file_extension": ".py",
   "mimetype": "text/x-python",
   "name": "python",
   "nbconvert_exporter": "python",
   "pygments_lexer": "ipython3",
   "version": "3.6.4"
  }
 },
 "nbformat": 4,
 "nbformat_minor": 2
}
