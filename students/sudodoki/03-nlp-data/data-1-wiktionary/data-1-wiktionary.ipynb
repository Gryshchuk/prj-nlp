{
 "cells": [
  {
   "cell_type": "markdown",
   "metadata": {},
   "source": [
    "1. Process Wiktionary dump to extract synonym relations for a random language (not English, Ukrainian or Russian :) - requires application of XML SAX parsing"
   ]
  },
  {
   "cell_type": "code",
   "execution_count": 1,
   "metadata": {},
   "outputs": [
    {
     "name": "stdout",
     "output_type": "stream",
     "text": [
      "--2018-03-19 10:42:11--  https://dumps.wikimedia.org/bgwiktionary/20180301/bgwiktionary-20180301-pages-articles-multistream.xml.bz2\n",
      "Resolving dumps.wikimedia.org (dumps.wikimedia.org)... 208.80.154.11\n",
      "Connecting to dumps.wikimedia.org (dumps.wikimedia.org)|208.80.154.11|:443... connected.\n",
      "HTTP request sent, awaiting response... 200 OK\n",
      "Length: 42317925 (40M) [application/octet-stream]\n",
      "Saving to: ‘wiktionary.xml.bz2’\n",
      "\n",
      "wiktionary.xml.bz2  100%[===================>]  40.36M  2.33MB/s    in 32s     \n",
      "\n",
      "2018-03-19 10:42:44 (1.25 MB/s) - ‘wiktionary.xml.bz2’ saved [42317925/42317925]\n",
      "\n"
     ]
    }
   ],
   "source": [
    "!wget -O wiktionary.xml.bz2 https://dumps.wikimedia.org/bgwiktionary/20180301/bgwiktionary-20180301-pages-articles-multistream.xml.bz2 "
   ]
  },
  {
   "cell_type": "code",
   "execution_count": 1,
   "metadata": {},
   "outputs": [],
   "source": [
    "from lxml import etree\n",
    "import bz2\n",
    "import re"
   ]
  },
  {
   "cell_type": "code",
   "execution_count": 2,
   "metadata": {},
   "outputs": [],
   "source": [
    "header_re = re.compile(r\"===\\s*Синоними\\s*===\", re.M | re.UNICODE)\n",
    "extra_re = re.compile(r\"'''Синоними:?'''\", re.M | re.UNICODE)\n",
    "bullets_re = re.compile(r\"^\\s*\\*\", re.M | re.UNICODE)\n",
    "content_re = re.compile(r\"\\[\\[?([\\w\\-\\s\\(\\),':]*)\\]?\\]?\", re.M | re.UNICODE)\n",
    "extra_keys_re = re.compile(r\"[А-Я ]+\\s*=[\\s\\n]*\", re.M | re.UNICODE)\n",
    "def cleanup_syns_list(raw_string):\n",
    "    raw_string = re.sub(header_re, \"\", raw_string)\n",
    "    raw_string = re.sub(extra_re, \"\", raw_string)\n",
    "    raw_string = re.sub(bullets_re, \", \", raw_string)\n",
    "    raw_string = re.sub(content_re, r'\\1', raw_string)\n",
    "    raw_string = re.sub(extra_keys_re, \"\", raw_string)\n",
    "    return re.sub(r\"\\s+,\\s+\", \", \", \" \".join(raw_string.split(\"\\n\")).strip(\", \"))\n",
    "\n",
    "word_re = re.compile(r\"ID\\s+=\\s+(\\w+)\", re.M | re.UNICODE)\n",
    "syns_re = re.compile(r\"\\| (?:СИНОНИМИ|СРОДНИ\\s+ДУМИ|ДРУГИ) = ([^\\|\\}]+)\", re.M | re.UNICODE | re.I)\n",
    "syns_list_re = re.compile(r\"===\\s*Синоними\\s*===\\n(\\s*\\*[^\\n]*\\n)*\", re.M | re.UNICODE | re.I)\n",
    "def extract_word_and_syns(raw_text):\n",
    "    result = word_re.search(text)\n",
    "    word = result and result.group(1)\n",
    "    syns = None\n",
    "    if word:\n",
    "        if \"СИНОНИМИ\" in text or \"СРОДНИ ДУМИ\" in text or \"ДРУГИ\" in text:\n",
    "            result = syns_re.search(text)\n",
    "            if (result and result.group(1).strip()):\n",
    "                syns = cleanup_syns_list(result.group(1).strip())\n",
    "        if \"Синоними\" in text:\n",
    "            result = syns_list_re.search(text)\n",
    "            if result and result.group(0).strip():\n",
    "                syns = cleanup_syns_list(result.group(0).strip())\n",
    "    return (word, syns)"
   ]
  },
  {
   "cell_type": "code",
   "execution_count": 12,
   "metadata": {
    "scrolled": true
   },
   "outputs": [
    {
     "name": "stdout",
     "output_type": "stream",
     "text": [
      ".....................Of 787273 total articles, 20969 were in bulgarian and only 18253 had synonyms\n"
     ]
    }
   ],
   "source": [
    "waiting_ns = False\n",
    "waiting_text = False\n",
    "text = ''\n",
    "title = None\n",
    "all_count = 0\n",
    "bg_count = 0\n",
    "syn_count = 0\n",
    "lang_re = re.compile(r\"\\{\\{-bg-\\}\\}|ЕЗИК\\s*=\\s*bg|ЕЗИК\\s*=\\s*български\", re.M | re.UNICODE)\n",
    "with open('bg_wiktionary_syns.txt', 'w') as output_file:\n",
    "    for (event, elem) in etree.iterparse(bz2.open(\"wiktionary.xml.bz2\"), events=['start', 'end']):\n",
    "        if (event == 'start' and elem.tag[-4:] == 'page'):\n",
    "            waiting_ns = True\n",
    "            continue\n",
    "        if (event == 'end' and elem.tag[-4:] == 'page'):\n",
    "            waiting_ns = False\n",
    "            waiting_text = False\n",
    "            title = None\n",
    "            continue\n",
    "        if (event == 'end' and waiting_ns and elem.tag[-5:] == 'title'):\n",
    "            title = elem.text\n",
    "            continue\n",
    "        if (waiting_ns and event == 'end' and 'ns' == elem.tag[-2:]):\n",
    "            if elem.text.strip() == '0':\n",
    "                waiting_text = True\n",
    "            continue\n",
    "        if (waiting_text and event == 'end' and 'text' == elem.tag[-4:]):\n",
    "            text = elem.text\n",
    "            if not text:\n",
    "                continue\n",
    "            all_count += 1\n",
    "            if not lang_re.search(text):\n",
    "                continue\n",
    "            bg_count += 1\n",
    "            if bg_count % 1000 == 1:\n",
    "                print('.', end='')\n",
    "            (word, syns) = extract_word_and_syns(text)\n",
    "            if not syns:\n",
    "                continue\n",
    "            syn_count += 1\n",
    "            output_file.write(\"{} (https://bg.wiktionary.org/wiki/{}): {}\\n\".format(word, title, syns))\n",
    "            continue\n",
    "print('Of {} total articles, {} were in bulgarian and only {} had synonyms'.format(all_count, bg_count, syn_count))"
   ]
  }
 ],
 "metadata": {
  "kernelspec": {
   "display_name": "Python 3",
   "language": "python",
   "name": "python3"
  },
  "language_info": {
   "codemirror_mode": {
    "name": "ipython",
    "version": 3
   },
   "file_extension": ".py",
   "mimetype": "text/x-python",
   "name": "python",
   "nbconvert_exporter": "python",
   "pygments_lexer": "ipython3",
   "version": "3.6.4"
  }
 },
 "nbformat": 4,
 "nbformat_minor": 2
}
